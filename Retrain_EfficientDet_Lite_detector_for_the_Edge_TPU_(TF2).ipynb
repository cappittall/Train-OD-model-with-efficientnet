{
  "cells": [
    {
      "cell_type": "markdown",
      "metadata": {
        "id": "license"
      },
      "source": [
        "##### *Copyright 2021 Google LLC*\n",
        "*Licensed under the Apache License, Version 2.0 (the \"License\")*"
      ]
    },
    {
      "cell_type": "code",
      "execution_count": 1,
      "metadata": {
        "cellView": "both",
        "id": "rKwqeqWBXANA"
      },
      "outputs": [],
      "source": [
        "# Licensed under the Apache License, Version 2.0 (the \"License\");\n",
        "# you may not use this file except in compliance with the License.\n",
        "# You may obtain a copy of the License at\n",
        "#\n",
        "# https://www.apache.org/licenses/LICENSE-2.0\n",
        "#\n",
        "# Unless required by applicable law or agreed to in writing, software\n",
        "# distributed under the License is distributed on an \"AS IS\" BASIS,\n",
        "# WITHOUT WARRANTIES OR CONDITIONS OF ANY KIND, either express or implied.\n",
        "# See the License for the specific language governing permissions and\n",
        "# limitations under the License."
      ]
    },
    {
      "cell_type": "markdown",
      "metadata": {
        "id": "Gb7qyhNL1yWt"
      },
      "source": [
        "# Retrain EfficientDet for the Edge TPU with TensorFlow Lite Model Maker"
      ]
    },
    {
      "cell_type": "markdown",
      "metadata": {
        "id": "sr3q-gvm3cI8"
      },
      "source": [
        "In this tutorial, we'll retrain the EfficientDet-Lite object detection model (derived from [EfficientDet](https://ai.googleblog.com/2020/04/efficientdet-towards-scalable-and.html)) using the [TensorFlow Lite Model Maker library](https://www.tensorflow.org/lite/guide/model_maker), and then compile it to run on the [Coral Edge TPU](https://www.coral.ai/products/). All in about 30 minutes.\n",
        "\n",
        "By default, we'll retrain the model using a publicly available dataset of salad photos, teaching the model to recognize a salad and some of the ingredients. But we've also provided code so you can upload your own training dataset in the Pascal VOC XML format.\n",
        "\n",
        "Here's an example of the salad training results:\n",
        "\n",
        "<img src=\"https://storage.googleapis.com/site_and_emails_static_assets/Images/efficientdet-salads.png?\" width=\"400\" hspace=\"0\">\n",
        "\n",
        "\n"
      ]
    },
    {
      "cell_type": "markdown",
      "metadata": {
        "id": "zHZyMPbMsAns"
      },
      "source": [
        "<a href=\"https://colab.research.google.com/github/google-coral/tutorials/blob/master/retrain_efficientdet_model_maker_tf2.ipynb\" target=\"_parent\"><img src=\"https://colab.research.google.com/assets/colab-badge.svg\" alt=\"Open in Colab\"></a>\n",
        "&nbsp;&nbsp;&nbsp;&nbsp;\n",
        "<a href=\"https://github.com/google-coral/tutorials/blob/master/retrain_efficientdet_model_maker_tf2.ipynb\" target=\"_parent\"><img src=\"https://img.shields.io/static/v1?logo=GitHub&label=&color=333333&style=flat&message=View%20on%20GitHub\" alt=\"View in GitHub\"></a>\n"
      ]
    },
    {
      "cell_type": "markdown",
      "metadata": {
        "id": "PzoNZRp4sVxK"
      },
      "source": [
        "If you want to run the notebook with the salad dataset, you can run the whole thing now by clicking **Runtime > Run all** in the Colab toolbar. But if you want to use your own dataset, then continue down to [Load the training data](#scrollTo=H0XM-oIfhgQ7) and follow the instructions there.\n",
        "\n",
        "**Note:** If using a custom dataset, beware that if your dataset includes more than 20 classes, you'll probably have slower inference speeds compared to if you have fewer classes. This is due to an aspect of the EfficientDet architecture in which a certain layer cannot compile for the Edge TPU when it carries more than 20 classes."
      ]
    },
    {
      "cell_type": "code",
      "execution_count": null,
      "metadata": {},
      "outputs": [],
      "source": [
        "!conda update -n base -c defaults conda -y\n",
        "!conda create -n new_env python=3.9 -y\n",
        "!conda activate new_env -y"
      ]
    },
    {
      "cell_type": "code",
      "execution_count": 1,
      "metadata": {},
      "outputs": [
        {
          "name": "stdout",
          "output_type": "stream",
          "text": [
            "Reading package lists... 0%\r"
          ]
        },
        {
          "name": "stdout",
          "output_type": "stream",
          "text": [
            "Reading package lists... Done\n",
            "Building dependency tree       \n",
            "Reading state information... Done\n",
            "libusb-1.0-0 is already the newest version (2:1.0.23-2build1).\n",
            "0 upgraded, 0 newly installed, 0 to remove and 7 not upgraded.\n",
            "Collecting pycocotools\n",
            "  Obtaining dependency information for pycocotools from https://files.pythonhosted.org/packages/ba/64/0451cf41a00fd5ac4501de4ea0e395b7d909e09d665e56890b5d3809ae26/pycocotools-2.0.7-cp310-cp310-manylinux_2_17_x86_64.manylinux2014_x86_64.whl.metadata\n",
            "  Downloading pycocotools-2.0.7-cp310-cp310-manylinux_2_17_x86_64.manylinux2014_x86_64.whl.metadata (1.1 kB)\n",
            "Requirement already satisfied: matplotlib>=2.1.0 in /usr/local/python/3.10.8/lib/python3.10/site-packages (from pycocotools) (3.7.0)\n",
            "Requirement already satisfied: numpy in /usr/local/python/3.10.8/lib/python3.10/site-packages (from pycocotools) (1.24.2)\n",
            "Requirement already satisfied: contourpy>=1.0.1 in /home/codespace/.local/lib/python3.10/site-packages (from matplotlib>=2.1.0->pycocotools) (1.1.0)\n",
            "Requirement already satisfied: cycler>=0.10 in /home/codespace/.local/lib/python3.10/site-packages (from matplotlib>=2.1.0->pycocotools) (0.11.0)\n",
            "Requirement already satisfied: fonttools>=4.22.0 in /home/codespace/.local/lib/python3.10/site-packages (from matplotlib>=2.1.0->pycocotools) (4.42.1)\n",
            "Requirement already satisfied: kiwisolver>=1.0.1 in /home/codespace/.local/lib/python3.10/site-packages (from matplotlib>=2.1.0->pycocotools) (1.4.5)\n",
            "Requirement already satisfied: packaging>=20.0 in /home/codespace/.local/lib/python3.10/site-packages (from matplotlib>=2.1.0->pycocotools) (23.1)\n",
            "Requirement already satisfied: pillow>=6.2.0 in /home/codespace/.local/lib/python3.10/site-packages (from matplotlib>=2.1.0->pycocotools) (10.0.0)\n",
            "Requirement already satisfied: pyparsing>=2.3.1 in /home/codespace/.local/lib/python3.10/site-packages (from matplotlib>=2.1.0->pycocotools) (3.0.9)\n",
            "Requirement already satisfied: python-dateutil>=2.7 in /home/codespace/.local/lib/python3.10/site-packages (from matplotlib>=2.1.0->pycocotools) (2.8.2)\n",
            "Requirement already satisfied: six>=1.5 in /home/codespace/.local/lib/python3.10/site-packages (from python-dateutil>=2.7->matplotlib>=2.1.0->pycocotools) (1.16.0)\n",
            "Downloading pycocotools-2.0.7-cp310-cp310-manylinux_2_17_x86_64.manylinux2014_x86_64.whl (426 kB)\n",
            "\u001b[2K   \u001b[90m━━━━━━━━━━━━━━━━━━━━━━━━━━━━━━━━━━━━━━━━\u001b[0m \u001b[32m426.2/426.2 kB\u001b[0m \u001b[31m12.9 MB/s\u001b[0m eta \u001b[36m0:00:00\u001b[0m\n",
            "\u001b[?25hInstalling collected packages: pycocotools\n",
            "Successfully installed pycocotools-2.0.7\n",
            "Requirement already satisfied: tqdm in /usr/local/python/3.10.8/lib/python3.10/site-packages (4.64.0)\n",
            "Reading package lists... Done\n",
            "Building dependency tree       \n",
            "Reading state information... Done\n",
            "libgl1 is already the newest version (1.3.2-1~ubuntu0.20.04.2).\n",
            "0 upgraded, 0 newly installed, 0 to remove and 7 not upgraded.\n"
          ]
        }
      ],
      "source": [
        "!sudo apt-get install libusb-1.0-0\n",
        "!pip install pycocotools\n",
        "!pip install tqdm\n",
        "!sudo apt-get install libgl1 -y\n"
      ]
    },
    {
      "cell_type": "code",
      "execution_count": 3,
      "metadata": {},
      "outputs": [
        {
          "name": "stdout",
          "output_type": "stream",
          "text": [
            "Python 3.10.8\n"
          ]
        }
      ],
      "source": [
        "!python --version"
      ]
    },
    {
      "cell_type": "code",
      "execution_count": 2,
      "metadata": {},
      "outputs": [
        {
          "name": "stdout",
          "output_type": "stream",
          "text": [
            "^C\n",
            "\u001b[31mERROR: Operation cancelled by user\u001b[0m\u001b[31m\n",
            "\u001b[0m"
          ]
        }
      ],
      "source": [
        "!pip install tflite-model-maker"
      ]
    },
    {
      "cell_type": "code",
      "execution_count": 4,
      "metadata": {},
      "outputs": [
        {
          "name": "stdout",
          "output_type": "stream",
          "text": [
            "Collecting numba\n",
            "  Obtaining dependency information for numba from https://files.pythonhosted.org/packages/a1/d2/e3d9752c53244a5cc7abb0c156e0a13bae3dfd99946f9793872963d946af/numba-0.58.0-cp39-cp39-manylinux2014_x86_64.manylinux_2_17_x86_64.whl.metadata\n",
            "  Using cached numba-0.58.0-cp39-cp39-manylinux2014_x86_64.manylinux_2_17_x86_64.whl.metadata (2.7 kB)\n",
            "Collecting llvmlite<0.42,>=0.41.0dev0 (from numba)\n",
            "  Obtaining dependency information for llvmlite<0.42,>=0.41.0dev0 from https://files.pythonhosted.org/packages/0f/7a/f2b4d0ed163197dbc9be054492218b96acef6fffb82bb164e815ef7d781e/llvmlite-0.41.0-cp39-cp39-manylinux_2_17_x86_64.manylinux2014_x86_64.whl.metadata\n",
            "  Using cached llvmlite-0.41.0-cp39-cp39-manylinux_2_17_x86_64.manylinux2014_x86_64.whl.metadata (4.8 kB)\n",
            "Collecting numpy<1.26,>=1.21 (from numba)\n",
            "  Obtaining dependency information for numpy<1.26,>=1.21 from https://files.pythonhosted.org/packages/69/1f/c95b1108a9972a52d7b1b63ed8ca70466b59b8c1811bd121f1e667cc45d8/numpy-1.25.2-cp39-cp39-manylinux_2_17_x86_64.manylinux2014_x86_64.whl.metadata\n",
            "  Using cached numpy-1.25.2-cp39-cp39-manylinux_2_17_x86_64.manylinux2014_x86_64.whl.metadata (5.6 kB)\n",
            "Using cached numba-0.58.0-cp39-cp39-manylinux2014_x86_64.manylinux_2_17_x86_64.whl (3.6 MB)\n",
            "Using cached llvmlite-0.41.0-cp39-cp39-manylinux_2_17_x86_64.manylinux2014_x86_64.whl (43.6 MB)\n",
            "Using cached numpy-1.25.2-cp39-cp39-manylinux_2_17_x86_64.manylinux2014_x86_64.whl (18.3 MB)\n",
            "Installing collected packages: numpy, llvmlite, numba\n",
            "  Attempting uninstall: numpy\n",
            "    Found existing installation: numpy 1.25.2\n",
            "    Uninstalling numpy-1.25.2:\n",
            "      Successfully uninstalled numpy-1.25.2\n",
            "  Attempting uninstall: llvmlite\n",
            "    Found existing installation: llvmlite 0.36.0\n",
            "    Uninstalling llvmlite-0.36.0:\n",
            "      Successfully uninstalled llvmlite-0.36.0\n",
            "  Attempting uninstall: numba\n",
            "    Found existing installation: numba 0.53.0\n",
            "    Uninstalling numba-0.53.0:\n",
            "      Successfully uninstalled numba-0.53.0\n",
            "\u001b[31mERROR: pip's dependency resolver does not currently take into account all the packages that are installed. This behaviour is the source of the following dependency conflicts.\n",
            "roboflow 1.1.6 requires urllib3>=1.26.6, but you have urllib3 1.25.11 which is incompatible.\n",
            "supervision 0.14.0 requires matplotlib<4.0.0,>=3.7.1, but you have matplotlib 3.4.3 which is incompatible.\n",
            "tflite-model-maker 0.4.2 requires numba==0.53, but you have numba 0.58.0 which is incompatible.\n",
            "tflite-model-maker-nightly 0.4.3.dev202307110517 requires numba==0.53, but you have numba 0.58.0 which is incompatible.\u001b[0m\u001b[31m\n",
            "\u001b[0mSuccessfully installed llvmlite-0.41.0 numba-0.58.0 numpy-1.25.2\n"
          ]
        }
      ],
      "source": [
        "!pip install --upgrade --force-reinstall numba"
      ]
    },
    {
      "cell_type": "markdown",
      "metadata": {
        "id": "2vvAObmTqglq"
      },
      "source": [
        "## Import the required packages"
      ]
    },
    {
      "cell_type": "code",
      "execution_count": 2,
      "metadata": {
        "id": "XtxiUeZEiXpt"
      },
      "outputs": [],
      "source": [
        "import numpy as np\n",
        "import os\n",
        "np.object = object\n",
        "np.bool = bool\n",
        "np.complex = complex\n",
        "#np.uint8\n",
        "#np.uint16\n",
        "from tflite_model_maker.config import ExportFormat\n",
        "from tflite_model_maker import model_spec\n",
        "from tflite_model_maker import object_detector\n",
        "\n",
        "import tensorflow as tf\n",
        "assert tf.__version__.startswith('2')\n",
        "\n",
        "tf.get_logger().setLevel('ERROR')\n",
        "from absl import logging\n",
        "logging.set_verbosity(logging.ERROR)\n",
        "\n"
      ]
    },
    {
      "cell_type": "code",
      "execution_count": 7,
      "metadata": {},
      "outputs": [
        {
          "name": "stdout",
          "output_type": "stream",
          "text": [
            "765\n"
          ]
        }
      ],
      "source": [
        "ls dataset/images/*.jpg | wc -l"
      ]
    },
    {
      "cell_type": "markdown",
      "metadata": {
        "id": "H0XM-oIfhgQ7"
      },
      "source": [
        "## Load the training data\n"
      ]
    },
    {
      "cell_type": "markdown",
      "metadata": {
        "id": "QusnAYjwM3uq"
      },
      "source": [
        "To use the default salad training dataset, just run all the code below as-is.\n",
        "\n",
        "But if you want to train with your own image dataset, follow these steps:\n",
        "\n",
        "1. Be sure your dataset is annotated in Pascal VOC XML (various tools can help create VOC annotations, such as [LabelImg](https://github.com/tzutalin/labelImg#labelimg)). Then create a ZIP file with all your JPG images and XML files (JPG and XML files can all be in one directory or in separate directories).\n",
        "2. Click the **Files** tab in the left panel and just drag-drop your ZIP file there to upload it.\n",
        "3. Use the following drop-down option to set **`use_custom_dataset`** to True.\n",
        "4. If your dataset is already split into separate directories for training, validation, and testing, also set **`dataset_is_split`** to True. (If your dataset is not split, leave it False and we'll split it below.)\n",
        "5. Then skip to [Load your own Pascal VOC dataset](#scrollTo=ZljJ25RAnj5x) and follow the rest of the instructions there.\n",
        "\n",
        "\n"
      ]
    },
    {
      "cell_type": "code",
      "execution_count": 3,
      "metadata": {
        "cellView": "form",
        "id": "wVQ2VQu7MuQa"
      },
      "outputs": [],
      "source": [
        "use_custom_dataset = True #@param [\"False\", \"True\"] {type:\"raw\"}\n",
        "\n",
        "dataset_is_split = False #@param [\"False\", \"True\"] {type:\"raw\"}"
      ]
    },
    {
      "cell_type": "markdown",
      "metadata": {
        "id": "-9VoZ_Rud2V3"
      },
      "source": [
        "### Load the salads CSV dataset"
      ]
    },
    {
      "cell_type": "markdown",
      "metadata": {
        "id": "BRd13bfetO7B"
      },
      "source": [
        "\n",
        "\n",
        "Model Maker requires that we load our dataset using the [`DataLoader`](https://www.tensorflow.org/lite/api_docs/python/tflite_model_maker/object_detector/DataLoader) API. So in this case, we'll load it from a CSV file that defines 175 images for training, 25 images for validation, and 25 images for testing.\n",
        "\n",
        "\n"
      ]
    },
    {
      "cell_type": "code",
      "execution_count": 4,
      "metadata": {
        "id": "04ObtdneqvP5"
      },
      "outputs": [],
      "source": [
        "if not use_custom_dataset:\n",
        "  train_data, validation_data, test_data = object_detector.DataLoader.from_csv('gs://cloud-ml-data/img/openimage/csv/salads_ml_use.csv')"
      ]
    },
    {
      "cell_type": "markdown",
      "metadata": {
        "id": "7W0Njyxoq0gH"
      },
      "source": [
        "If you want to load your own dataset as a CSV file, you can learn more about the format in [Formatting a training data CSV](https://cloud.google.com/vision/automl/object-detection/docs/csv-format). You can load your CSV either from [Cloud Storage](https://cloud.google.com/storage) (as shown above) or from a local path.\n",
        "\n",
        "[`DataLoader`](https://www.tensorflow.org/lite/api_docs/python/tflite_model_maker/object_detector/DataLoader) can also load your dataset in other formats, such as from a set of TFRecord files or from a local directory using the Pascal VOC format (shown below for a custom dataset)."
      ]
    },
    {
      "cell_type": "markdown",
      "metadata": {
        "id": "ZljJ25RAnj5x"
      },
      "source": [
        "### (Optional) Load your own Pascal VOC dataset"
      ]
    },
    {
      "cell_type": "markdown",
      "metadata": {
        "id": "Ei5BahmPn_wR"
      },
      "source": [
        "To use your custom dataset, you need to modify a few variables here, such as your ZIP filename, your label map, and the path to your images/annotations:"
      ]
    },
    {
      "cell_type": "code",
      "execution_count": 5,
      "metadata": {},
      "outputs": [
        {
          "name": "stdout",
          "output_type": "stream",
          "text": [
            "Requirement already satisfied: roboflow in /opt/conda/envs/py3.9/lib/python3.9/site-packages (1.1.6)\n",
            "Requirement already satisfied: certifi==2022.12.7 in /opt/conda/envs/py3.9/lib/python3.9/site-packages (from roboflow) (2022.12.7)\n",
            "Requirement already satisfied: chardet==4.0.0 in /opt/conda/envs/py3.9/lib/python3.9/site-packages (from roboflow) (4.0.0)\n",
            "Requirement already satisfied: cycler==0.10.0 in /opt/conda/envs/py3.9/lib/python3.9/site-packages (from roboflow) (0.10.0)\n",
            "Requirement already satisfied: idna==2.10 in /opt/conda/envs/py3.9/lib/python3.9/site-packages (from roboflow) (2.10)\n",
            "Requirement already satisfied: kiwisolver>=1.3.1 in /opt/conda/envs/py3.9/lib/python3.9/site-packages (from roboflow) (1.4.5)\n",
            "Requirement already satisfied: matplotlib in /opt/conda/envs/py3.9/lib/python3.9/site-packages (from roboflow) (3.4.3)\n",
            "Requirement already satisfied: numpy>=1.18.5 in /opt/conda/envs/py3.9/lib/python3.9/site-packages (from roboflow) (1.25.2)\n",
            "Requirement already satisfied: opencv-python-headless==4.8.0.74 in /opt/conda/envs/py3.9/lib/python3.9/site-packages (from roboflow) (4.8.0.74)\n",
            "Requirement already satisfied: Pillow>=7.1.2 in /opt/conda/envs/py3.9/lib/python3.9/site-packages (from roboflow) (9.5.0)\n",
            "Requirement already satisfied: pyparsing==2.4.7 in /opt/conda/envs/py3.9/lib/python3.9/site-packages (from roboflow) (2.4.7)\n",
            "Requirement already satisfied: python-dateutil in /opt/conda/envs/py3.9/lib/python3.9/site-packages (from roboflow) (2.8.2)\n",
            "Requirement already satisfied: python-dotenv in /opt/conda/envs/py3.9/lib/python3.9/site-packages (from roboflow) (1.0.0)\n",
            "Requirement already satisfied: requests in /opt/conda/envs/py3.9/lib/python3.9/site-packages (from roboflow) (2.31.0)\n",
            "Requirement already satisfied: six in /opt/conda/envs/py3.9/lib/python3.9/site-packages (from roboflow) (1.16.0)\n",
            "Requirement already satisfied: supervision in /opt/conda/envs/py3.9/lib/python3.9/site-packages (from roboflow) (0.14.0)\n",
            "Collecting urllib3>=1.26.6 (from roboflow)\n",
            "  Obtaining dependency information for urllib3>=1.26.6 from https://files.pythonhosted.org/packages/37/dc/399e63f5d1d96bb643404ee830657f4dfcf8503f5ba8fa3c6d465d0c57fe/urllib3-2.0.5-py3-none-any.whl.metadata\n",
            "  Using cached urllib3-2.0.5-py3-none-any.whl.metadata (6.6 kB)\n",
            "Requirement already satisfied: tqdm>=4.41.0 in /opt/conda/envs/py3.9/lib/python3.9/site-packages (from roboflow) (4.66.1)\n",
            "Requirement already satisfied: PyYAML>=5.3.1 in /opt/conda/envs/py3.9/lib/python3.9/site-packages (from roboflow) (6.0.1)\n",
            "Requirement already satisfied: requests-toolbelt in /opt/conda/envs/py3.9/lib/python3.9/site-packages (from roboflow) (1.0.0)\n",
            "Requirement already satisfied: charset-normalizer<4,>=2 in /opt/conda/envs/py3.9/lib/python3.9/site-packages (from requests->roboflow) (3.2.0)\n",
            "Collecting matplotlib (from roboflow)\n",
            "  Obtaining dependency information for matplotlib from https://files.pythonhosted.org/packages/e0/8b/b62bc50b01bb2d4af96bc0045c39d60209e2701e172789ceace20a0866b2/matplotlib-3.8.0-cp39-cp39-manylinux_2_17_x86_64.manylinux2014_x86_64.whl.metadata\n",
            "  Using cached matplotlib-3.8.0-cp39-cp39-manylinux_2_17_x86_64.manylinux2014_x86_64.whl.metadata (5.8 kB)\n",
            "Requirement already satisfied: scipy<2.0.0,>=1.9.0 in /opt/conda/envs/py3.9/lib/python3.9/site-packages (from supervision->roboflow) (1.11.2)\n",
            "Requirement already satisfied: contourpy>=1.0.1 in /opt/conda/envs/py3.9/lib/python3.9/site-packages (from matplotlib->roboflow) (1.1.1)\n",
            "Requirement already satisfied: fonttools>=4.22.0 in /opt/conda/envs/py3.9/lib/python3.9/site-packages (from matplotlib->roboflow) (4.42.1)\n",
            "Requirement already satisfied: packaging>=20.0 in /opt/conda/envs/py3.9/lib/python3.9/site-packages (from matplotlib->roboflow) (20.9)\n",
            "Requirement already satisfied: importlib-resources>=3.2.0 in /opt/conda/envs/py3.9/lib/python3.9/site-packages (from matplotlib->roboflow) (6.1.0)\n",
            "Requirement already satisfied: zipp>=3.1.0 in /opt/conda/envs/py3.9/lib/python3.9/site-packages (from importlib-resources>=3.2.0->matplotlib->roboflow) (3.11.0)\n",
            "Using cached urllib3-2.0.5-py3-none-any.whl (123 kB)\n",
            "Using cached matplotlib-3.8.0-cp39-cp39-manylinux_2_17_x86_64.manylinux2014_x86_64.whl (11.6 MB)\n",
            "Installing collected packages: urllib3, matplotlib\n",
            "  Attempting uninstall: urllib3\n",
            "    Found existing installation: urllib3 1.25.11\n",
            "    Uninstalling urllib3-1.25.11:\n",
            "      Successfully uninstalled urllib3-1.25.11\n",
            "  Attempting uninstall: matplotlib\n",
            "    Found existing installation: matplotlib 3.4.3\n",
            "    Uninstalling matplotlib-3.4.3:\n",
            "      Successfully uninstalled matplotlib-3.4.3\n",
            "\u001b[31mERROR: pip's dependency resolver does not currently take into account all the packages that are installed. This behaviour is the source of the following dependency conflicts.\n",
            "google-auth 2.23.0 requires urllib3<2.0, but you have urllib3 2.0.5 which is incompatible.\n",
            "tflite-model-maker 0.4.2 requires matplotlib<3.5.0,>=3.0.3, but you have matplotlib 3.8.0 which is incompatible.\n",
            "tflite-model-maker 0.4.2 requires numba==0.53, but you have numba 0.58.0 which is incompatible.\n",
            "tflite-model-maker 0.4.2 requires urllib3!=1.25.0,!=1.25.1,<1.26,>=1.21.1, but you have urllib3 2.0.5 which is incompatible.\n",
            "tflite-model-maker-nightly 0.4.3.dev202307110517 requires matplotlib<3.5.0,>=3.0.3, but you have matplotlib 3.8.0 which is incompatible.\n",
            "tflite-model-maker-nightly 0.4.3.dev202307110517 requires numba==0.53, but you have numba 0.58.0 which is incompatible.\n",
            "tflite-model-maker-nightly 0.4.3.dev202307110517 requires urllib3!=1.25.0,!=1.25.1,<1.26,>=1.21.1, but you have urllib3 2.0.5 which is incompatible.\u001b[0m\u001b[31m\n",
            "\u001b[0mSuccessfully installed matplotlib-3.8.0 urllib3-2.0.5\n",
            "loading Roboflow workspace...\n",
            "loading Roboflow project...\n"
          ]
        },
        {
          "name": "stderr",
          "output_type": "stream",
          "text": [
            "Downloading Dataset Version Zip in x-ray-detection-1 to voc:: 100%|██████████| 17578/17578 [00:01<00:00, 15849.99it/s]"
          ]
        },
        {
          "name": "stdout",
          "output_type": "stream",
          "text": [
            "\n"
          ]
        },
        {
          "name": "stderr",
          "output_type": "stream",
          "text": [
            "\n",
            "Extracting Dataset Version Zip to x-ray-detection-1 in voc:: 100%|██████████| 1535/1535 [00:00<00:00, 8537.44it/s]\n"
          ]
        }
      ],
      "source": [
        "!pip install roboflow\n",
        "\n",
        "from roboflow import Roboflow\n",
        "rf = Roboflow(api_key=\"0rYY2EVntRmFW7qAAlYa\")\n",
        "project = rf.workspace(\"hakan-etin\").project(\"x-ray-detection-gapqm\")\n",
        "dataset = project.version(1).download(\"voc\")"
      ]
    },
    {
      "cell_type": "code",
      "execution_count": 6,
      "metadata": {},
      "outputs": [],
      "source": [
        "!mkdir -p dataset/images\n",
        "!mkdir -p dataset/annotations\n",
        "\n",
        "!mv temp/train/*.xml dataset/annotations/\n",
        "!mv temp/train/*.jpg dataset/images/\n",
        "\n",
        "!mv temp/test/*.xml dataset/annotations/\n",
        "!mv temp/test/*.jpg dataset/images/\n",
        "\n",
        "!mv temp/valid/*.xml dataset/annotations/\n",
        "!mv temp/valid/*.jpg dataset/images/"
      ]
    },
    {
      "cell_type": "code",
      "execution_count": 8,
      "metadata": {
        "id": "mz_suhWiqc7A"
      },
      "outputs": [
        {
          "name": "stdout",
          "output_type": "stream",
          "text": [
            "{1: 'YM'}\n"
          ]
        }
      ],
      "source": [
        "if use_custom_dataset:\n",
        "\n",
        "  # The ZIP file you uploaded:\n",
        "  #!unzip dataset.zip\n",
        "\n",
        "  # Your labels map as a dictionary (zero is reserved):\n",
        "  label_map = {1: 'YM'}\n",
        "  print(label_map)\n",
        "\n",
        "  if dataset_is_split:\n",
        "    # If your dataset is already split, specify each path:\n",
        "    train_images_dir = 'dataset/train/images'\n",
        "    train_annotations_dir = 'dataset/train/annotations'\n",
        "    val_images_dir = 'dataset/validation/images'\n",
        "    val_annotations_dir = 'dataset/validation/annotations'\n",
        "    test_images_dir = 'dataset/test/images'\n",
        "    test_annotations_dir = 'dataset/test/annotations'\n",
        "  else:\n",
        "    # If it's NOT split yet, specify the path to all images and annotations\n",
        "    images_in = 'dataset/images'\n",
        "    annotations_in = 'dataset/annotations'\n"
      ]
    },
    {
      "cell_type": "markdown",
      "metadata": {
        "id": "d8Rh3IWRb0xw"
      },
      "source": [
        "Now you're ready to train the model with your custom dataset. But before you run the notebook, you should also skip to the [Export to TensorFlow Lite](#scrollTo=_yB_XMpqGlLs) section and change the `TFLITE_FILENAME` and `LABLES_FILENAME` for your exported files.\n",
        "\n",
        "Then run the whole notebook by clicking **Runtime > Run all**."
      ]
    },
    {
      "cell_type": "code",
      "execution_count": 9,
      "metadata": {
        "cellView": "form",
        "id": "C35meprE8xzf"
      },
      "outputs": [],
      "source": [
        "#@markdown Be sure you run this cell. It's hiding the `split_dataset()` function used in the next code block.\n",
        "\n",
        "import os\n",
        "import random\n",
        "import shutil\n",
        "\n",
        "def split_dataset(images_path, annotations_path, val_split, test_split, out_path):\n",
        "  \"\"\"Splits a directory of sorted images/annotations into training, validation, and test sets.\n",
        "\n",
        "  Args:\n",
        "    images_path: Path to the directory with your images (JPGs).\n",
        "    annotations_path: Path to a directory with your VOC XML annotation files,\n",
        "      with filenames corresponding to image filenames. This may be the same path\n",
        "      used for images_path.\n",
        "    val_split: Fraction of data to reserve for validation (float between 0 and 1).\n",
        "    test_split: Fraction of data to reserve for test (float between 0 and 1).\n",
        "  Returns:\n",
        "    The paths for the split images/annotations (train_dir, val_dir, test_dir)\n",
        "  \"\"\"\n",
        "  _, dirs, _ = next(os.walk(images_path))\n",
        "\n",
        "  train_dir = os.path.join(out_path, 'train')\n",
        "  val_dir = os.path.join(out_path, 'validation')\n",
        "  test_dir = os.path.join(out_path, 'test')\n",
        "\n",
        "  IMAGES_TRAIN_DIR = os.path.join(train_dir, 'images')\n",
        "  IMAGES_VAL_DIR = os.path.join(val_dir, 'images')\n",
        "  IMAGES_TEST_DIR = os.path.join(test_dir, 'images')\n",
        "  os.makedirs(IMAGES_TRAIN_DIR, exist_ok=True)\n",
        "  os.makedirs(IMAGES_VAL_DIR, exist_ok=True)\n",
        "  os.makedirs(IMAGES_TEST_DIR, exist_ok=True)\n",
        "\n",
        "  ANNOT_TRAIN_DIR = os.path.join(train_dir, 'annotations')\n",
        "  ANNOT_VAL_DIR = os.path.join(val_dir, 'annotations')\n",
        "  ANNOT_TEST_DIR = os.path.join(test_dir, 'annotations')\n",
        "  os.makedirs(ANNOT_TRAIN_DIR, exist_ok=True)\n",
        "  os.makedirs(ANNOT_VAL_DIR, exist_ok=True)\n",
        "  os.makedirs(ANNOT_TEST_DIR, exist_ok=True)\n",
        "\n",
        "  # Get all filenames for this dir, filtered by filetype\n",
        "  filenames = os.listdir(os.path.join(images_path))\n",
        "  filenames = [os.path.join(images_path, f) for f in filenames if (f.endswith('.jpg'))]\n",
        "  # Shuffle the files, deterministically\n",
        "  filenames.sort()\n",
        "  random.seed(42)\n",
        "  random.shuffle(filenames)\n",
        "  # Get exact number of images for validation and test; the rest is for training\n",
        "  val_count = int(len(filenames) * val_split)\n",
        "  test_count = int(len(filenames) * test_split)\n",
        "  for i, file in enumerate(filenames):\n",
        "    source_dir, filename = os.path.split(file)\n",
        "    annot_file = os.path.join(annotations_path, filename.replace(\".jpg\", \".xml\"))\n",
        "    if i < val_count:\n",
        "      shutil.copy(file, IMAGES_VAL_DIR)\n",
        "      shutil.copy(annot_file, ANNOT_VAL_DIR)\n",
        "    elif i < val_count + test_count:\n",
        "      shutil.copy(file, IMAGES_TEST_DIR)\n",
        "      shutil.copy(annot_file, ANNOT_TEST_DIR)\n",
        "    else:\n",
        "      shutil.copy(file, IMAGES_TRAIN_DIR)\n",
        "      shutil.copy(annot_file, ANNOT_TRAIN_DIR)\n",
        "  return (train_dir, val_dir, test_dir)"
      ]
    },
    {
      "cell_type": "code",
      "execution_count": 10,
      "metadata": {
        "id": "KWROlVNA54xZ"
      },
      "outputs": [
        {
          "name": "stdout",
          "output_type": "stream",
          "text": [
            "{1: 'YM'}\n"
          ]
        },
        {
          "name": "stdout",
          "output_type": "stream",
          "text": [
            "train count: 459\n",
            "validation count: 153\n",
            "test count: 153\n"
          ]
        }
      ],
      "source": [
        "print(label_map)\n",
        "# We need to instantiate a separate DataLoader for each split dataset\n",
        "if use_custom_dataset:\n",
        "  if dataset_is_split:\n",
        "    train_data = object_detector.DataLoader.from_pascal_voc(\n",
        "        train_images_dir, train_annotations_dir, label_map=label_map)\n",
        "    validation_data = object_detector.DataLoader.from_pascal_voc(\n",
        "        val_images_dir, val_annotations_dir, label_map=label_map)\n",
        "    test_data = object_detector.DataLoader.from_pascal_voc(\n",
        "        test_images_dir, test_annotations_dir, label_map=label_map)\n",
        "  else:\n",
        "    train_dir, val_dir, test_dir = split_dataset(images_in, annotations_in,\n",
        "                                                 val_split=0.2, test_split=0.2,\n",
        "                                                 out_path='split-dataset')\n",
        "    train_data = object_detector.DataLoader.from_pascal_voc(\n",
        "        os.path.join(train_dir, 'images'),\n",
        "        os.path.join(train_dir, 'annotations'), label_map=label_map)\n",
        "    validation_data = object_detector.DataLoader.from_pascal_voc(\n",
        "        os.path.join(val_dir, 'images'),\n",
        "        os.path.join(val_dir, 'annotations'), label_map=label_map)\n",
        "    test_data = object_detector.DataLoader.from_pascal_voc(\n",
        "        os.path.join(test_dir, 'images'),\n",
        "        os.path.join(test_dir, 'annotations'), label_map=label_map)\n",
        "\n",
        "  print(f'train count: {len(train_data)}')\n",
        "  print(f'validation count: {len(validation_data)}')\n",
        "  print(f'test count: {len(test_data)}')"
      ]
    },
    {
      "cell_type": "markdown",
      "metadata": {
        "id": "S8clx0KPutCM"
      },
      "source": [
        "## Select the model spec"
      ]
    },
    {
      "cell_type": "markdown",
      "metadata": {
        "id": "vn61LJ9QbOPi"
      },
      "source": [
        "Model Maker supports the EfficientDet-Lite family of object detection models that are compatible with the Edge TPU. (EfficientDet-Lite is derived from [EfficientDet](https://ai.googleblog.com/2020/04/efficientdet-towards-scalable-and.html), which offers state-of-the-art accuracy in a small model size). There are several model sizes you can choose from:\n",
        "\n",
        "|| Model architecture | Size(MB)* | Latency(ms)** | Average Precision*** |\n",
        "|-|--------------------|-----------|---------------|----------------------|\n",
        "|| EfficientDet-Lite0 | 5.7       | 37.4            | 30.4%               |\n",
        "|| EfficientDet-Lite1 | 7.6       | 56.3            | 34.3%               |\n",
        "|| EfficientDet-Lite2 | 10.2      | 104.6           | 36.0%               |\n",
        "|| EfficientDet-Lite3 | 14.4      | 107.6           | 39.4%               |\n",
        "| <td colspan=4><br><i>* File size of the compiled Edge TPU models. <br/>** Latency measured on a desktop CPU with a Coral USB Accelerator. <br/>*** Average Precision is the mAP (mean Average Precision) on the COCO 2017 validation dataset.</i></td> |\n",
        "\n",
        "Beware that the Lite2 and Lite3 models do not fit onto the Edge TPU's onboard memory, so you'll see even greater latency when using those, due to the cost of fetching data from the host system memory. Maybe this extra latency is okay for your application, but if it's not and you require the precision of the larger models, then you can [pipeline the model across multiple Edge TPUs](https://coral.ai/docs/edgetpu/pipeline/) (more about this when we compile the model below).\n",
        "\n",
        "For this tutorial, we'll use Lite0:"
      ]
    },
    {
      "cell_type": "code",
      "execution_count": 11,
      "metadata": {
        "id": "SM9gePHw9Jv1"
      },
      "outputs": [
        {
          "name": "stderr",
          "output_type": "stream",
          "text": [
            "2023-09-25 05:33:43.426210: W tensorflow/stream_executor/platform/default/dso_loader.cc:64] Could not load dynamic library 'libcuda.so.1'; dlerror: libcuda.so.1: cannot open shared object file: No such file or directory; LD_LIBRARY_PATH: /opt/conda/envs/py3.9/lib/python3.9/site-packages/cv2/../../lib64:\n",
            "2023-09-25 05:33:43.426238: W tensorflow/stream_executor/cuda/cuda_driver.cc:269] failed call to cuInit: UNKNOWN ERROR (303)\n",
            "2023-09-25 05:33:43.426256: I tensorflow/stream_executor/cuda/cuda_diagnostics.cc:156] kernel driver does not appear to be running on this host (codespaces-4fce10): /proc/driver/nvidia/version does not exist\n",
            "2023-09-25 05:33:43.439978: I tensorflow/core/platform/cpu_feature_guard.cc:151] This TensorFlow binary is optimized with oneAPI Deep Neural Network Library (oneDNN) to use the following CPU instructions in performance-critical operations:  AVX2 FMA\n",
            "To enable them in other operations, rebuild TensorFlow with the appropriate compiler flags.\n"
          ]
        }
      ],
      "source": [
        "spec = object_detector.EfficientDetLite2Spec()"
      ]
    },
    {
      "cell_type": "markdown",
      "metadata": {
        "id": "rnCzdzs0-Rbo"
      },
      "source": [
        "The [`EfficientDetLite0Spec`](https://www.tensorflow.org/lite/api_docs/python/tflite_model_maker/object_detector/EfficientDetLite0Spec) constructor also supports several arguments that specify training options, such as the max number of detections (default is 25 for the TF Lite model) and whether to use Cloud TPUs for training. You can also use the constructor to specify the number of training epochs and the batch size, but you can also specify those in the next step."
      ]
    },
    {
      "cell_type": "markdown",
      "metadata": {
        "id": "5qjq2UEHCLUi"
      },
      "source": [
        "## Create and train the model"
      ]
    },
    {
      "cell_type": "markdown",
      "metadata": {
        "id": "2uZkLR6N6gDR"
      },
      "source": [
        "Now we need to create our model according to the model spec, load our dataset into the model, specify training parameters, and begin training.\n",
        "\n",
        "Using Model Maker, we accomplished all of that with [`create()`](https://www.tensorflow.org/lite/api_docs/python/tflite_model_maker/object_detector/create):"
      ]
    },
    {
      "cell_type": "code",
      "execution_count": 12,
      "metadata": {
        "id": "kwlYdTcg63xy"
      },
      "outputs": [
        {
          "name": "stdout",
          "output_type": "stream",
          "text": [
            "Epoch 1/100\n"
          ]
        },
        {
          "name": "stderr",
          "output_type": "stream",
          "text": [
            "2023-09-25 05:34:08.044225: W tensorflow/core/framework/dataset.cc:768] Input of GeneratorDatasetOp::Dataset will not be optimized because the dataset does not implement the AsGraphDefInternal() method needed to apply optimizations.\n"
          ]
        },
        {
          "name": "stdout",
          "output_type": "stream",
          "text": [
            "57/57 [==============================] - ETA: 0s - det_loss: 2.1530 - cls_loss: 1.0380 - box_loss: 0.0223 - reg_l2_loss: 0.0760 - loss: 2.2290 - learning_rate: 0.0090 - gradient_norm: 6.3557"
          ]
        },
        {
          "name": "stderr",
          "output_type": "stream",
          "text": [
            "2023-09-25 05:37:51.223491: W tensorflow/core/framework/dataset.cc:768] Input of GeneratorDatasetOp::Dataset will not be optimized because the dataset does not implement the AsGraphDefInternal() method needed to apply optimizations.\n"
          ]
        },
        {
          "name": "stdout",
          "output_type": "stream",
          "text": [
            "57/57 [==============================] - 246s 4s/step - det_loss: 2.1464 - cls_loss: 1.0349 - box_loss: 0.0222 - reg_l2_loss: 0.0760 - loss: 2.2223 - learning_rate: 0.0090 - gradient_norm: 6.4185 - val_det_loss: 1.6669 - val_cls_loss: 0.7869 - val_box_loss: 0.0176 - val_reg_l2_loss: 0.0762 - val_loss: 1.7430\n",
            "Epoch 2/100\n",
            "57/57 [==============================] - ETA: 0s - det_loss: 1.4171 - cls_loss: 0.5981 - box_loss: 0.0164 - reg_l2_loss: 0.0765 - loss: 1.4937 - learning_rate: 0.0100 - gradient_norm: 8.3105"
          ]
        },
        {
          "name": "stderr",
          "output_type": "stream",
          "text": [
            "2023-09-25 05:41:29.063532: W tensorflow/core/framework/dataset.cc:768] Input of GeneratorDatasetOp::Dataset will not be optimized because the dataset does not implement the AsGraphDefInternal() method needed to apply optimizations.\n"
          ]
        },
        {
          "name": "stdout",
          "output_type": "stream",
          "text": [
            "57/57 [==============================] - 209s 4s/step - det_loss: 1.4094 - cls_loss: 0.5944 - box_loss: 0.0163 - reg_l2_loss: 0.0766 - loss: 1.4859 - learning_rate: 0.0100 - gradient_norm: 8.2227 - val_det_loss: 2.4521 - val_cls_loss: 0.9805 - val_box_loss: 0.0294 - val_reg_l2_loss: 0.0769 - val_loss: 2.5290\n",
            "Epoch 3/100\n",
            "57/57 [==============================] - ETA: 0s - det_loss: 1.2487 - cls_loss: 0.5219 - box_loss: 0.0145 - reg_l2_loss: 0.0772 - loss: 1.3259 - learning_rate: 0.0100 - gradient_norm: 6.9520"
          ]
        },
        {
          "name": "stderr",
          "output_type": "stream",
          "text": [
            "2023-09-25 05:44:57.011215: W tensorflow/core/framework/dataset.cc:768] Input of GeneratorDatasetOp::Dataset will not be optimized because the dataset does not implement the AsGraphDefInternal() method needed to apply optimizations.\n"
          ]
        },
        {
          "name": "stdout",
          "output_type": "stream",
          "text": [
            "57/57 [==============================] - 209s 4s/step - det_loss: 1.2454 - cls_loss: 0.5224 - box_loss: 0.0145 - reg_l2_loss: 0.0772 - loss: 1.3227 - learning_rate: 0.0100 - gradient_norm: 6.9495 - val_det_loss: 1.6746 - val_cls_loss: 0.7374 - val_box_loss: 0.0187 - val_reg_l2_loss: 0.0774 - val_loss: 1.7520\n",
            "Epoch 4/100\n",
            "57/57 [==============================] - ETA: 0s - det_loss: 1.2489 - cls_loss: 0.5258 - box_loss: 0.0145 - reg_l2_loss: 0.0777 - loss: 1.3265 - learning_rate: 0.0100 - gradient_norm: 6.7523"
          ]
        },
        {
          "name": "stderr",
          "output_type": "stream",
          "text": [
            "2023-09-25 05:48:22.417096: W tensorflow/core/framework/dataset.cc:768] Input of GeneratorDatasetOp::Dataset will not be optimized because the dataset does not implement the AsGraphDefInternal() method needed to apply optimizations.\n"
          ]
        },
        {
          "name": "stdout",
          "output_type": "stream",
          "text": [
            "57/57 [==============================] - 212s 4s/step - det_loss: 1.2408 - cls_loss: 0.5236 - box_loss: 0.0143 - reg_l2_loss: 0.0777 - loss: 1.3185 - learning_rate: 0.0100 - gradient_norm: 6.7128 - val_det_loss: 2.2681 - val_cls_loss: 1.1097 - val_box_loss: 0.0232 - val_reg_l2_loss: 0.0779 - val_loss: 2.3460\n",
            "Epoch 5/100\n",
            "57/57 [==============================] - ETA: 0s - det_loss: 1.1674 - cls_loss: 0.5002 - box_loss: 0.0133 - reg_l2_loss: 0.0781 - loss: 1.2455 - learning_rate: 0.0099 - gradient_norm: 6.4704"
          ]
        },
        {
          "name": "stderr",
          "output_type": "stream",
          "text": [
            "2023-09-25 05:51:54.783081: W tensorflow/core/framework/dataset.cc:768] Input of GeneratorDatasetOp::Dataset will not be optimized because the dataset does not implement the AsGraphDefInternal() method needed to apply optimizations.\n"
          ]
        },
        {
          "name": "stdout",
          "output_type": "stream",
          "text": [
            "57/57 [==============================] - 224s 4s/step - det_loss: 1.1723 - cls_loss: 0.5025 - box_loss: 0.0134 - reg_l2_loss: 0.0781 - loss: 1.2505 - learning_rate: 0.0099 - gradient_norm: 6.5313 - val_det_loss: 2.2653 - val_cls_loss: 1.3126 - val_box_loss: 0.0191 - val_reg_l2_loss: 0.0784 - val_loss: 2.3436\n",
            "Epoch 6/100\n",
            "57/57 [==============================] - ETA: 0s - det_loss: 1.0113 - cls_loss: 0.4479 - box_loss: 0.0113 - reg_l2_loss: 0.0785 - loss: 1.0898 - learning_rate: 0.0099 - gradient_norm: 5.0839"
          ]
        },
        {
          "name": "stderr",
          "output_type": "stream",
          "text": [
            "2023-09-25 05:55:38.660086: W tensorflow/core/framework/dataset.cc:768] Input of GeneratorDatasetOp::Dataset will not be optimized because the dataset does not implement the AsGraphDefInternal() method needed to apply optimizations.\n"
          ]
        },
        {
          "name": "stdout",
          "output_type": "stream",
          "text": [
            "57/57 [==============================] - 213s 4s/step - det_loss: 1.0046 - cls_loss: 0.4461 - box_loss: 0.0112 - reg_l2_loss: 0.0785 - loss: 1.0831 - learning_rate: 0.0099 - gradient_norm: 5.0460 - val_det_loss: 0.8063 - val_cls_loss: 0.4389 - val_box_loss: 0.0073 - val_reg_l2_loss: 0.0786 - val_loss: 0.8850\n",
            "Epoch 7/100\n",
            "57/57 [==============================] - ETA: 0s - det_loss: 0.9571 - cls_loss: 0.4138 - box_loss: 0.0109 - reg_l2_loss: 0.0787 - loss: 1.0358 - learning_rate: 0.0099 - gradient_norm: 4.5372"
          ]
        },
        {
          "name": "stderr",
          "output_type": "stream",
          "text": [
            "2023-09-25 05:59:10.810098: W tensorflow/core/framework/dataset.cc:768] Input of GeneratorDatasetOp::Dataset will not be optimized because the dataset does not implement the AsGraphDefInternal() method needed to apply optimizations.\n"
          ]
        },
        {
          "name": "stdout",
          "output_type": "stream",
          "text": [
            "57/57 [==============================] - 212s 4s/step - det_loss: 0.9546 - cls_loss: 0.4133 - box_loss: 0.0108 - reg_l2_loss: 0.0787 - loss: 1.0333 - learning_rate: 0.0099 - gradient_norm: 4.5092 - val_det_loss: 1.7263 - val_cls_loss: 0.7671 - val_box_loss: 0.0192 - val_reg_l2_loss: 0.0788 - val_loss: 1.8051\n",
            "Epoch 8/100\n",
            "57/57 [==============================] - ETA: 0s - det_loss: 0.9701 - cls_loss: 0.4310 - box_loss: 0.0108 - reg_l2_loss: 0.0789 - loss: 1.0490 - learning_rate: 0.0099 - gradient_norm: 4.8605"
          ]
        },
        {
          "name": "stderr",
          "output_type": "stream",
          "text": [
            "2023-09-25 06:02:47.818580: W tensorflow/core/framework/dataset.cc:768] Input of GeneratorDatasetOp::Dataset will not be optimized because the dataset does not implement the AsGraphDefInternal() method needed to apply optimizations.\n"
          ]
        },
        {
          "name": "stdout",
          "output_type": "stream",
          "text": [
            "57/57 [==============================] - 217s 4s/step - det_loss: 0.9708 - cls_loss: 0.4315 - box_loss: 0.0108 - reg_l2_loss: 0.0789 - loss: 1.0497 - learning_rate: 0.0099 - gradient_norm: 4.8703 - val_det_loss: 1.4642 - val_cls_loss: 0.6783 - val_box_loss: 0.0157 - val_reg_l2_loss: 0.0790 - val_loss: 1.5432\n",
            "Epoch 9/100\n",
            "57/57 [==============================] - ETA: 0s - det_loss: 0.9302 - cls_loss: 0.4025 - box_loss: 0.0106 - reg_l2_loss: 0.0792 - loss: 1.0093 - learning_rate: 0.0098 - gradient_norm: 4.9087"
          ]
        },
        {
          "name": "stderr",
          "output_type": "stream",
          "text": [
            "2023-09-25 06:06:23.935466: W tensorflow/core/framework/dataset.cc:768] Input of GeneratorDatasetOp::Dataset will not be optimized because the dataset does not implement the AsGraphDefInternal() method needed to apply optimizations.\n"
          ]
        },
        {
          "name": "stdout",
          "output_type": "stream",
          "text": [
            "57/57 [==============================] - 210s 4s/step - det_loss: 0.9247 - cls_loss: 0.4008 - box_loss: 0.0105 - reg_l2_loss: 0.0792 - loss: 1.0038 - learning_rate: 0.0098 - gradient_norm: 4.8760 - val_det_loss: 0.7191 - val_cls_loss: 0.3905 - val_box_loss: 0.0066 - val_reg_l2_loss: 0.0793 - val_loss: 0.7984\n",
            "Epoch 10/100\n",
            "57/57 [==============================] - ETA: 0s - det_loss: 0.8846 - cls_loss: 0.4009 - box_loss: 0.0097 - reg_l2_loss: 0.0794 - loss: 0.9640 - learning_rate: 0.0098 - gradient_norm: 4.5306"
          ]
        },
        {
          "name": "stderr",
          "output_type": "stream",
          "text": [
            "2023-09-25 06:09:51.668648: W tensorflow/core/framework/dataset.cc:768] Input of GeneratorDatasetOp::Dataset will not be optimized because the dataset does not implement the AsGraphDefInternal() method needed to apply optimizations.\n"
          ]
        },
        {
          "name": "stdout",
          "output_type": "stream",
          "text": [
            "57/57 [==============================] - 229s 4s/step - det_loss: 0.8787 - cls_loss: 0.3991 - box_loss: 0.0096 - reg_l2_loss: 0.0794 - loss: 0.9581 - learning_rate: 0.0098 - gradient_norm: 4.5163 - val_det_loss: 1.5569 - val_cls_loss: 0.6837 - val_box_loss: 0.0175 - val_reg_l2_loss: 0.0795 - val_loss: 1.6363\n",
            "Epoch 11/100\n",
            "57/57 [==============================] - ETA: 0s - det_loss: 0.8344 - cls_loss: 0.3688 - box_loss: 0.0093 - reg_l2_loss: 0.0795 - loss: 0.9139 - learning_rate: 0.0097 - gradient_norm: 4.1917"
          ]
        },
        {
          "name": "stderr",
          "output_type": "stream",
          "text": [
            "2023-09-25 06:13:39.064122: W tensorflow/core/framework/dataset.cc:768] Input of GeneratorDatasetOp::Dataset will not be optimized because the dataset does not implement the AsGraphDefInternal() method needed to apply optimizations.\n"
          ]
        },
        {
          "name": "stdout",
          "output_type": "stream",
          "text": [
            "57/57 [==============================] - 213s 4s/step - det_loss: 0.8339 - cls_loss: 0.3686 - box_loss: 0.0093 - reg_l2_loss: 0.0795 - loss: 0.9135 - learning_rate: 0.0097 - gradient_norm: 4.1991 - val_det_loss: 0.7600 - val_cls_loss: 0.4172 - val_box_loss: 0.0069 - val_reg_l2_loss: 0.0796 - val_loss: 0.8396\n",
            "Epoch 12/100\n",
            "57/57 [==============================] - ETA: 0s - det_loss: 0.8941 - cls_loss: 0.3775 - box_loss: 0.0103 - reg_l2_loss: 0.0797 - loss: 0.9738 - learning_rate: 0.0097 - gradient_norm: 4.3233"
          ]
        },
        {
          "name": "stderr",
          "output_type": "stream",
          "text": [
            "2023-09-25 06:17:12.599570: W tensorflow/core/framework/dataset.cc:768] Input of GeneratorDatasetOp::Dataset will not be optimized because the dataset does not implement the AsGraphDefInternal() method needed to apply optimizations.\n"
          ]
        },
        {
          "name": "stdout",
          "output_type": "stream",
          "text": [
            "57/57 [==============================] - 207s 4s/step - det_loss: 0.8922 - cls_loss: 0.3777 - box_loss: 0.0103 - reg_l2_loss: 0.0797 - loss: 0.9719 - learning_rate: 0.0097 - gradient_norm: 4.3209 - val_det_loss: 1.1514 - val_cls_loss: 0.6422 - val_box_loss: 0.0102 - val_reg_l2_loss: 0.0797 - val_loss: 1.2311\n",
            "Epoch 13/100\n",
            "57/57 [==============================] - ETA: 0s - det_loss: 0.9012 - cls_loss: 0.4140 - box_loss: 0.0097 - reg_l2_loss: 0.0798 - loss: 0.9810 - learning_rate: 0.0096 - gradient_norm: 4.7552"
          ]
        },
        {
          "name": "stderr",
          "output_type": "stream",
          "text": [
            "2023-09-25 06:20:40.057094: W tensorflow/core/framework/dataset.cc:768] Input of GeneratorDatasetOp::Dataset will not be optimized because the dataset does not implement the AsGraphDefInternal() method needed to apply optimizations.\n"
          ]
        },
        {
          "name": "stdout",
          "output_type": "stream",
          "text": [
            "57/57 [==============================] - 214s 4s/step - det_loss: 0.9018 - cls_loss: 0.4159 - box_loss: 0.0097 - reg_l2_loss: 0.0798 - loss: 0.9816 - learning_rate: 0.0096 - gradient_norm: 4.7394 - val_det_loss: 0.9267 - val_cls_loss: 0.5202 - val_box_loss: 0.0081 - val_reg_l2_loss: 0.0799 - val_loss: 1.0067\n",
            "Epoch 14/100\n",
            "57/57 [==============================] - ETA: 0s - det_loss: 0.8766 - cls_loss: 0.3806 - box_loss: 0.0099 - reg_l2_loss: 0.0800 - loss: 0.9565 - learning_rate: 0.0095 - gradient_norm: 4.2216"
          ]
        },
        {
          "name": "stderr",
          "output_type": "stream",
          "text": [
            "2023-09-25 06:24:13.769113: W tensorflow/core/framework/dataset.cc:768] Input of GeneratorDatasetOp::Dataset will not be optimized because the dataset does not implement the AsGraphDefInternal() method needed to apply optimizations.\n"
          ]
        },
        {
          "name": "stdout",
          "output_type": "stream",
          "text": [
            "57/57 [==============================] - 207s 4s/step - det_loss: 0.8780 - cls_loss: 0.3819 - box_loss: 0.0099 - reg_l2_loss: 0.0800 - loss: 0.9580 - learning_rate: 0.0095 - gradient_norm: 4.2403 - val_det_loss: 1.0333 - val_cls_loss: 0.5206 - val_box_loss: 0.0103 - val_reg_l2_loss: 0.0801 - val_loss: 1.1133\n",
            "Epoch 15/100\n",
            "57/57 [==============================] - ETA: 0s - det_loss: 0.9409 - cls_loss: 0.3803 - box_loss: 0.0112 - reg_l2_loss: 0.0802 - loss: 1.0211 - learning_rate: 0.0095 - gradient_norm: 4.3244"
          ]
        },
        {
          "name": "stderr",
          "output_type": "stream",
          "text": [
            "2023-09-25 06:27:40.184115: W tensorflow/core/framework/dataset.cc:768] Input of GeneratorDatasetOp::Dataset will not be optimized because the dataset does not implement the AsGraphDefInternal() method needed to apply optimizations.\n"
          ]
        },
        {
          "name": "stdout",
          "output_type": "stream",
          "text": [
            "57/57 [==============================] - 228s 4s/step - det_loss: 0.9406 - cls_loss: 0.3797 - box_loss: 0.0112 - reg_l2_loss: 0.0802 - loss: 1.0207 - learning_rate: 0.0095 - gradient_norm: 4.2973 - val_det_loss: 0.7469 - val_cls_loss: 0.3708 - val_box_loss: 0.0075 - val_reg_l2_loss: 0.0803 - val_loss: 0.8271\n",
            "Epoch 16/100\n",
            "57/57 [==============================] - ETA: 0s - det_loss: 0.8068 - cls_loss: 0.3581 - box_loss: 0.0090 - reg_l2_loss: 0.0803 - loss: 0.8871 - learning_rate: 0.0094 - gradient_norm: 3.8180"
          ]
        },
        {
          "name": "stderr",
          "output_type": "stream",
          "text": [
            "2023-09-25 06:31:27.263605: W tensorflow/core/framework/dataset.cc:768] Input of GeneratorDatasetOp::Dataset will not be optimized because the dataset does not implement the AsGraphDefInternal() method needed to apply optimizations.\n"
          ]
        },
        {
          "name": "stdout",
          "output_type": "stream",
          "text": [
            "57/57 [==============================] - 206s 4s/step - det_loss: 0.8019 - cls_loss: 0.3564 - box_loss: 0.0089 - reg_l2_loss: 0.0803 - loss: 0.8822 - learning_rate: 0.0094 - gradient_norm: 3.8105 - val_det_loss: 0.8515 - val_cls_loss: 0.4756 - val_box_loss: 0.0075 - val_reg_l2_loss: 0.0804 - val_loss: 0.9319\n",
            "Epoch 17/100\n",
            "57/57 [==============================] - ETA: 0s - det_loss: 0.8232 - cls_loss: 0.3597 - box_loss: 0.0093 - reg_l2_loss: 0.0804 - loss: 0.9036 - learning_rate: 0.0093 - gradient_norm: 4.1127"
          ]
        },
        {
          "name": "stderr",
          "output_type": "stream",
          "text": [
            "2023-09-25 06:34:53.176482: W tensorflow/core/framework/dataset.cc:768] Input of GeneratorDatasetOp::Dataset will not be optimized because the dataset does not implement the AsGraphDefInternal() method needed to apply optimizations.\n"
          ]
        },
        {
          "name": "stdout",
          "output_type": "stream",
          "text": [
            "57/57 [==============================] - 212s 4s/step - det_loss: 0.8311 - cls_loss: 0.3608 - box_loss: 0.0094 - reg_l2_loss: 0.0804 - loss: 0.9115 - learning_rate: 0.0093 - gradient_norm: 4.1529 - val_det_loss: 1.3123 - val_cls_loss: 0.6151 - val_box_loss: 0.0139 - val_reg_l2_loss: 0.0805 - val_loss: 1.3927\n",
            "Epoch 18/100\n",
            "57/57 [==============================] - ETA: 0s - det_loss: 0.8249 - cls_loss: 0.3398 - box_loss: 0.0097 - reg_l2_loss: 0.0805 - loss: 0.9055 - learning_rate: 0.0092 - gradient_norm: 3.7746"
          ]
        },
        {
          "name": "stderr",
          "output_type": "stream",
          "text": [
            "2023-09-25 06:38:25.694882: W tensorflow/core/framework/dataset.cc:768] Input of GeneratorDatasetOp::Dataset will not be optimized because the dataset does not implement the AsGraphDefInternal() method needed to apply optimizations.\n"
          ]
        },
        {
          "name": "stdout",
          "output_type": "stream",
          "text": [
            "57/57 [==============================] - 205s 4s/step - det_loss: 0.8256 - cls_loss: 0.3404 - box_loss: 0.0097 - reg_l2_loss: 0.0805 - loss: 0.9061 - learning_rate: 0.0092 - gradient_norm: 3.8386 - val_det_loss: 0.7447 - val_cls_loss: 0.3295 - val_box_loss: 0.0083 - val_reg_l2_loss: 0.0806 - val_loss: 0.8253\n",
            "Epoch 19/100\n",
            "57/57 [==============================] - ETA: 0s - det_loss: 0.7646 - cls_loss: 0.3350 - box_loss: 0.0086 - reg_l2_loss: 0.0806 - loss: 0.8452 - learning_rate: 0.0092 - gradient_norm: 3.9367"
          ]
        },
        {
          "name": "stderr",
          "output_type": "stream",
          "text": [
            "2023-09-25 06:41:51.297306: W tensorflow/core/framework/dataset.cc:768] Input of GeneratorDatasetOp::Dataset will not be optimized because the dataset does not implement the AsGraphDefInternal() method needed to apply optimizations.\n"
          ]
        },
        {
          "name": "stdout",
          "output_type": "stream",
          "text": [
            "57/57 [==============================] - 206s 4s/step - det_loss: 0.7639 - cls_loss: 0.3356 - box_loss: 0.0086 - reg_l2_loss: 0.0806 - loss: 0.8445 - learning_rate: 0.0092 - gradient_norm: 3.9085 - val_det_loss: 1.1528 - val_cls_loss: 0.7405 - val_box_loss: 0.0082 - val_reg_l2_loss: 0.0807 - val_loss: 1.2334\n",
            "Epoch 20/100\n",
            "57/57 [==============================] - ETA: 0s - det_loss: 0.7485 - cls_loss: 0.3299 - box_loss: 0.0084 - reg_l2_loss: 0.0807 - loss: 0.8292 - learning_rate: 0.0091 - gradient_norm: 3.5500"
          ]
        },
        {
          "name": "stderr",
          "output_type": "stream",
          "text": [
            "2023-09-25 06:45:18.087545: W tensorflow/core/framework/dataset.cc:768] Input of GeneratorDatasetOp::Dataset will not be optimized because the dataset does not implement the AsGraphDefInternal() method needed to apply optimizations.\n"
          ]
        },
        {
          "name": "stdout",
          "output_type": "stream",
          "text": [
            "57/57 [==============================] - 221s 4s/step - det_loss: 0.7453 - cls_loss: 0.3292 - box_loss: 0.0083 - reg_l2_loss: 0.0807 - loss: 0.8261 - learning_rate: 0.0091 - gradient_norm: 3.5689 - val_det_loss: 0.5829 - val_cls_loss: 0.2977 - val_box_loss: 0.0057 - val_reg_l2_loss: 0.0808 - val_loss: 0.6637\n",
            "Epoch 21/100\n",
            "57/57 [==============================] - ETA: 0s - det_loss: 0.7619 - cls_loss: 0.3208 - box_loss: 0.0088 - reg_l2_loss: 0.0808 - loss: 0.8427 - learning_rate: 0.0090 - gradient_norm: 3.5897"
          ]
        },
        {
          "name": "stderr",
          "output_type": "stream",
          "text": [
            "2023-09-25 06:48:57.904840: W tensorflow/core/framework/dataset.cc:768] Input of GeneratorDatasetOp::Dataset will not be optimized because the dataset does not implement the AsGraphDefInternal() method needed to apply optimizations.\n"
          ]
        },
        {
          "name": "stdout",
          "output_type": "stream",
          "text": [
            "57/57 [==============================] - 212s 4s/step - det_loss: 0.7570 - cls_loss: 0.3198 - box_loss: 0.0087 - reg_l2_loss: 0.0808 - loss: 0.8378 - learning_rate: 0.0090 - gradient_norm: 3.5728 - val_det_loss: 1.0012 - val_cls_loss: 0.5115 - val_box_loss: 0.0098 - val_reg_l2_loss: 0.0808 - val_loss: 1.0820\n",
            "Epoch 22/100\n",
            "57/57 [==============================] - ETA: 0s - det_loss: 0.7266 - cls_loss: 0.3282 - box_loss: 0.0080 - reg_l2_loss: 0.0809 - loss: 0.8075 - learning_rate: 0.0089 - gradient_norm: 3.5389"
          ]
        },
        {
          "name": "stderr",
          "output_type": "stream",
          "text": [
            "2023-09-25 06:52:29.493017: W tensorflow/core/framework/dataset.cc:768] Input of GeneratorDatasetOp::Dataset will not be optimized because the dataset does not implement the AsGraphDefInternal() method needed to apply optimizations.\n"
          ]
        },
        {
          "name": "stdout",
          "output_type": "stream",
          "text": [
            "57/57 [==============================] - 204s 4s/step - det_loss: 0.7240 - cls_loss: 0.3260 - box_loss: 0.0080 - reg_l2_loss: 0.0809 - loss: 0.8049 - learning_rate: 0.0089 - gradient_norm: 3.5163 - val_det_loss: 0.6500 - val_cls_loss: 0.3562 - val_box_loss: 0.0059 - val_reg_l2_loss: 0.0809 - val_loss: 0.7309\n",
            "Epoch 23/100\n",
            "57/57 [==============================] - ETA: 0s - det_loss: 0.7068 - cls_loss: 0.3051 - box_loss: 0.0080 - reg_l2_loss: 0.0809 - loss: 0.7878 - learning_rate: 0.0088 - gradient_norm: 3.2314"
          ]
        },
        {
          "name": "stderr",
          "output_type": "stream",
          "text": [
            "2023-09-25 06:55:53.366719: W tensorflow/core/framework/dataset.cc:768] Input of GeneratorDatasetOp::Dataset will not be optimized because the dataset does not implement the AsGraphDefInternal() method needed to apply optimizations.\n"
          ]
        },
        {
          "name": "stdout",
          "output_type": "stream",
          "text": [
            "57/57 [==============================] - 204s 4s/step - det_loss: 0.7055 - cls_loss: 0.3064 - box_loss: 0.0080 - reg_l2_loss: 0.0809 - loss: 0.7865 - learning_rate: 0.0088 - gradient_norm: 3.2216 - val_det_loss: 0.6403 - val_cls_loss: 0.3296 - val_box_loss: 0.0062 - val_reg_l2_loss: 0.0810 - val_loss: 0.7213\n",
            "Epoch 24/100\n",
            "57/57 [==============================] - ETA: 0s - det_loss: 0.6902 - cls_loss: 0.3168 - box_loss: 0.0075 - reg_l2_loss: 0.0810 - loss: 0.7712 - learning_rate: 0.0087 - gradient_norm: 3.5483"
          ]
        },
        {
          "name": "stderr",
          "output_type": "stream",
          "text": [
            "2023-09-25 06:59:18.536168: W tensorflow/core/framework/dataset.cc:768] Input of GeneratorDatasetOp::Dataset will not be optimized because the dataset does not implement the AsGraphDefInternal() method needed to apply optimizations.\n"
          ]
        },
        {
          "name": "stdout",
          "output_type": "stream",
          "text": [
            "57/57 [==============================] - 205s 4s/step - det_loss: 0.6878 - cls_loss: 0.3161 - box_loss: 0.0074 - reg_l2_loss: 0.0810 - loss: 0.7688 - learning_rate: 0.0087 - gradient_norm: 3.5467 - val_det_loss: 0.5870 - val_cls_loss: 0.3554 - val_box_loss: 0.0046 - val_reg_l2_loss: 0.0810 - val_loss: 0.6680\n",
            "Epoch 25/100\n",
            "57/57 [==============================] - ETA: 0s - det_loss: 0.7019 - cls_loss: 0.3126 - box_loss: 0.0078 - reg_l2_loss: 0.0811 - loss: 0.7830 - learning_rate: 0.0086 - gradient_norm: 3.5462"
          ]
        },
        {
          "name": "stderr",
          "output_type": "stream",
          "text": [
            "2023-09-25 07:02:43.770757: W tensorflow/core/framework/dataset.cc:768] Input of GeneratorDatasetOp::Dataset will not be optimized because the dataset does not implement the AsGraphDefInternal() method needed to apply optimizations.\n"
          ]
        },
        {
          "name": "stdout",
          "output_type": "stream",
          "text": [
            "57/57 [==============================] - 220s 4s/step - det_loss: 0.7038 - cls_loss: 0.3128 - box_loss: 0.0078 - reg_l2_loss: 0.0811 - loss: 0.7849 - learning_rate: 0.0086 - gradient_norm: 3.5424 - val_det_loss: 0.8263 - val_cls_loss: 0.5009 - val_box_loss: 0.0065 - val_reg_l2_loss: 0.0811 - val_loss: 0.9074\n",
            "Epoch 26/100\n",
            "57/57 [==============================] - ETA: 0s - det_loss: 0.6886 - cls_loss: 0.2903 - box_loss: 0.0080 - reg_l2_loss: 0.0811 - loss: 0.7697 - learning_rate: 0.0085 - gradient_norm: 3.3498"
          ]
        },
        {
          "name": "stderr",
          "output_type": "stream",
          "text": [
            "2023-09-25 07:06:26.297182: W tensorflow/core/framework/dataset.cc:768] Input of GeneratorDatasetOp::Dataset will not be optimized because the dataset does not implement the AsGraphDefInternal() method needed to apply optimizations.\n"
          ]
        },
        {
          "name": "stdout",
          "output_type": "stream",
          "text": [
            "57/57 [==============================] - 216s 4s/step - det_loss: 0.6872 - cls_loss: 0.2900 - box_loss: 0.0079 - reg_l2_loss: 0.0811 - loss: 0.7683 - learning_rate: 0.0085 - gradient_norm: 3.3299 - val_det_loss: 0.6154 - val_cls_loss: 0.3143 - val_box_loss: 0.0060 - val_reg_l2_loss: 0.0812 - val_loss: 0.6966\n",
            "Epoch 27/100\n",
            "57/57 [==============================] - ETA: 0s - det_loss: 0.6978 - cls_loss: 0.2986 - box_loss: 0.0080 - reg_l2_loss: 0.0812 - loss: 0.7791 - learning_rate: 0.0083 - gradient_norm: 3.4606"
          ]
        },
        {
          "name": "stderr",
          "output_type": "stream",
          "text": [
            "2023-09-25 07:10:00.067700: W tensorflow/core/framework/dataset.cc:768] Input of GeneratorDatasetOp::Dataset will not be optimized because the dataset does not implement the AsGraphDefInternal() method needed to apply optimizations.\n"
          ]
        },
        {
          "name": "stdout",
          "output_type": "stream",
          "text": [
            "57/57 [==============================] - 213s 4s/step - det_loss: 0.6926 - cls_loss: 0.2967 - box_loss: 0.0079 - reg_l2_loss: 0.0812 - loss: 0.7738 - learning_rate: 0.0083 - gradient_norm: 3.4408 - val_det_loss: 0.6470 - val_cls_loss: 0.3092 - val_box_loss: 0.0068 - val_reg_l2_loss: 0.0812 - val_loss: 0.7282\n",
            "Epoch 28/100\n",
            "57/57 [==============================] - ETA: 0s - det_loss: 0.6845 - cls_loss: 0.2968 - box_loss: 0.0078 - reg_l2_loss: 0.0813 - loss: 0.7658 - learning_rate: 0.0082 - gradient_norm: 3.6095"
          ]
        },
        {
          "name": "stderr",
          "output_type": "stream",
          "text": [
            "2023-09-25 07:13:33.151485: W tensorflow/core/framework/dataset.cc:768] Input of GeneratorDatasetOp::Dataset will not be optimized because the dataset does not implement the AsGraphDefInternal() method needed to apply optimizations.\n"
          ]
        },
        {
          "name": "stdout",
          "output_type": "stream",
          "text": [
            "57/57 [==============================] - 206s 4s/step - det_loss: 0.6831 - cls_loss: 0.2951 - box_loss: 0.0078 - reg_l2_loss: 0.0813 - loss: 0.7644 - learning_rate: 0.0082 - gradient_norm: 3.6202 - val_det_loss: 0.5217 - val_cls_loss: 0.2685 - val_box_loss: 0.0051 - val_reg_l2_loss: 0.0813 - val_loss: 0.6030\n",
            "Epoch 29/100\n",
            "57/57 [==============================] - ETA: 0s - det_loss: 0.5955 - cls_loss: 0.2768 - box_loss: 0.0064 - reg_l2_loss: 0.0813 - loss: 0.6768 - learning_rate: 0.0081 - gradient_norm: 3.2438"
          ]
        },
        {
          "name": "stderr",
          "output_type": "stream",
          "text": [
            "2023-09-25 07:17:00.932752: W tensorflow/core/framework/dataset.cc:768] Input of GeneratorDatasetOp::Dataset will not be optimized because the dataset does not implement the AsGraphDefInternal() method needed to apply optimizations.\n"
          ]
        },
        {
          "name": "stdout",
          "output_type": "stream",
          "text": [
            "57/57 [==============================] - 208s 4s/step - det_loss: 0.5978 - cls_loss: 0.2771 - box_loss: 0.0064 - reg_l2_loss: 0.0813 - loss: 0.6791 - learning_rate: 0.0081 - gradient_norm: 3.2551 - val_det_loss: 0.6899 - val_cls_loss: 0.3495 - val_box_loss: 0.0068 - val_reg_l2_loss: 0.0813 - val_loss: 0.7713\n",
            "Epoch 30/100\n",
            "57/57 [==============================] - ETA: 0s - det_loss: 0.6503 - cls_loss: 0.2887 - box_loss: 0.0072 - reg_l2_loss: 0.0814 - loss: 0.7317 - learning_rate: 0.0080 - gradient_norm: 3.2525"
          ]
        },
        {
          "name": "stderr",
          "output_type": "stream",
          "text": [
            "2023-09-25 07:20:28.502341: W tensorflow/core/framework/dataset.cc:768] Input of GeneratorDatasetOp::Dataset will not be optimized because the dataset does not implement the AsGraphDefInternal() method needed to apply optimizations.\n"
          ]
        },
        {
          "name": "stdout",
          "output_type": "stream",
          "text": [
            "57/57 [==============================] - 229s 4s/step - det_loss: 0.6467 - cls_loss: 0.2879 - box_loss: 0.0072 - reg_l2_loss: 0.0814 - loss: 0.7280 - learning_rate: 0.0080 - gradient_norm: 3.2357 - val_det_loss: 0.5663 - val_cls_loss: 0.2518 - val_box_loss: 0.0063 - val_reg_l2_loss: 0.0814 - val_loss: 0.6477\n",
            "Epoch 31/100\n",
            "57/57 [==============================] - ETA: 0s - det_loss: 0.6344 - cls_loss: 0.2988 - box_loss: 0.0067 - reg_l2_loss: 0.0814 - loss: 0.7158 - learning_rate: 0.0078 - gradient_norm: 3.4065"
          ]
        },
        {
          "name": "stderr",
          "output_type": "stream",
          "text": [
            "2023-09-25 07:24:14.774608: W tensorflow/core/framework/dataset.cc:768] Input of GeneratorDatasetOp::Dataset will not be optimized because the dataset does not implement the AsGraphDefInternal() method needed to apply optimizations.\n"
          ]
        },
        {
          "name": "stdout",
          "output_type": "stream",
          "text": [
            "57/57 [==============================] - 205s 4s/step - det_loss: 0.6297 - cls_loss: 0.2968 - box_loss: 0.0067 - reg_l2_loss: 0.0814 - loss: 0.7111 - learning_rate: 0.0078 - gradient_norm: 3.3666 - val_det_loss: 0.4156 - val_cls_loss: 0.2243 - val_box_loss: 0.0038 - val_reg_l2_loss: 0.0814 - val_loss: 0.4970\n",
            "Epoch 32/100\n",
            "57/57 [==============================] - ETA: 0s - det_loss: 0.6292 - cls_loss: 0.2871 - box_loss: 0.0068 - reg_l2_loss: 0.0815 - loss: 0.7107 - learning_rate: 0.0077 - gradient_norm: 3.3997"
          ]
        },
        {
          "name": "stderr",
          "output_type": "stream",
          "text": [
            "2023-09-25 07:27:40.994152: W tensorflow/core/framework/dataset.cc:768] Input of GeneratorDatasetOp::Dataset will not be optimized because the dataset does not implement the AsGraphDefInternal() method needed to apply optimizations.\n"
          ]
        },
        {
          "name": "stdout",
          "output_type": "stream",
          "text": [
            "57/57 [==============================] - 213s 4s/step - det_loss: 0.6274 - cls_loss: 0.2866 - box_loss: 0.0068 - reg_l2_loss: 0.0815 - loss: 0.7089 - learning_rate: 0.0077 - gradient_norm: 3.3853 - val_det_loss: 1.1517 - val_cls_loss: 0.6141 - val_box_loss: 0.0108 - val_reg_l2_loss: 0.0815 - val_loss: 1.2332\n",
            "Epoch 33/100\n",
            "57/57 [==============================] - ETA: 0s - det_loss: 0.5825 - cls_loss: 0.2648 - box_loss: 0.0064 - reg_l2_loss: 0.0815 - loss: 0.6640 - learning_rate: 0.0076 - gradient_norm: 3.1481"
          ]
        },
        {
          "name": "stderr",
          "output_type": "stream",
          "text": [
            "2023-09-25 07:31:13.359290: W tensorflow/core/framework/dataset.cc:768] Input of GeneratorDatasetOp::Dataset will not be optimized because the dataset does not implement the AsGraphDefInternal() method needed to apply optimizations.\n"
          ]
        },
        {
          "name": "stdout",
          "output_type": "stream",
          "text": [
            "57/57 [==============================] - 213s 4s/step - det_loss: 0.5776 - cls_loss: 0.2626 - box_loss: 0.0063 - reg_l2_loss: 0.0815 - loss: 0.6591 - learning_rate: 0.0076 - gradient_norm: 3.1208 - val_det_loss: 0.4904 - val_cls_loss: 0.2283 - val_box_loss: 0.0052 - val_reg_l2_loss: 0.0815 - val_loss: 0.5719\n",
            "Epoch 34/100\n",
            "57/57 [==============================] - ETA: 0s - det_loss: 0.6065 - cls_loss: 0.2791 - box_loss: 0.0065 - reg_l2_loss: 0.0815 - loss: 0.6881 - learning_rate: 0.0074 - gradient_norm: 3.1779"
          ]
        },
        {
          "name": "stderr",
          "output_type": "stream",
          "text": [
            "2023-09-25 07:34:46.846688: W tensorflow/core/framework/dataset.cc:768] Input of GeneratorDatasetOp::Dataset will not be optimized because the dataset does not implement the AsGraphDefInternal() method needed to apply optimizations.\n"
          ]
        },
        {
          "name": "stdout",
          "output_type": "stream",
          "text": [
            "57/57 [==============================] - 213s 4s/step - det_loss: 0.6079 - cls_loss: 0.2791 - box_loss: 0.0066 - reg_l2_loss: 0.0815 - loss: 0.6894 - learning_rate: 0.0074 - gradient_norm: 3.1652 - val_det_loss: 0.5076 - val_cls_loss: 0.2922 - val_box_loss: 0.0043 - val_reg_l2_loss: 0.0816 - val_loss: 0.5892\n",
            "Epoch 35/100\n",
            "57/57 [==============================] - ETA: 0s - det_loss: 0.6437 - cls_loss: 0.2869 - box_loss: 0.0071 - reg_l2_loss: 0.0816 - loss: 0.7253 - learning_rate: 0.0073 - gradient_norm: 3.3282"
          ]
        },
        {
          "name": "stderr",
          "output_type": "stream",
          "text": [
            "2023-09-25 07:38:18.609090: W tensorflow/core/framework/dataset.cc:768] Input of GeneratorDatasetOp::Dataset will not be optimized because the dataset does not implement the AsGraphDefInternal() method needed to apply optimizations.\n"
          ]
        },
        {
          "name": "stdout",
          "output_type": "stream",
          "text": [
            "57/57 [==============================] - 219s 4s/step - det_loss: 0.6404 - cls_loss: 0.2854 - box_loss: 0.0071 - reg_l2_loss: 0.0816 - loss: 0.7220 - learning_rate: 0.0073 - gradient_norm: 3.3084 - val_det_loss: 0.6240 - val_cls_loss: 0.2962 - val_box_loss: 0.0066 - val_reg_l2_loss: 0.0816 - val_loss: 0.7056\n",
            "Epoch 36/100\n",
            "57/57 [==============================] - ETA: 0s - det_loss: 0.6293 - cls_loss: 0.2773 - box_loss: 0.0070 - reg_l2_loss: 0.0816 - loss: 0.7109 - learning_rate: 0.0072 - gradient_norm: 3.2302"
          ]
        },
        {
          "name": "stderr",
          "output_type": "stream",
          "text": [
            "2023-09-25 07:41:58.782214: W tensorflow/core/framework/dataset.cc:768] Input of GeneratorDatasetOp::Dataset will not be optimized because the dataset does not implement the AsGraphDefInternal() method needed to apply optimizations.\n"
          ]
        },
        {
          "name": "stdout",
          "output_type": "stream",
          "text": [
            "57/57 [==============================] - 206s 4s/step - det_loss: 0.6333 - cls_loss: 0.2792 - box_loss: 0.0071 - reg_l2_loss: 0.0816 - loss: 0.7149 - learning_rate: 0.0071 - gradient_norm: 3.2422 - val_det_loss: 0.4684 - val_cls_loss: 0.2528 - val_box_loss: 0.0043 - val_reg_l2_loss: 0.0816 - val_loss: 0.5500\n",
            "Epoch 37/100\n",
            "57/57 [==============================] - ETA: 0s - det_loss: 0.6572 - cls_loss: 0.2875 - box_loss: 0.0074 - reg_l2_loss: 0.0816 - loss: 0.7389 - learning_rate: 0.0070 - gradient_norm: 3.5765"
          ]
        },
        {
          "name": "stderr",
          "output_type": "stream",
          "text": [
            "2023-09-25 07:45:24.065334: W tensorflow/core/framework/dataset.cc:768] Input of GeneratorDatasetOp::Dataset will not be optimized because the dataset does not implement the AsGraphDefInternal() method needed to apply optimizations.\n"
          ]
        },
        {
          "name": "stdout",
          "output_type": "stream",
          "text": [
            "57/57 [==============================] - 205s 4s/step - det_loss: 0.6566 - cls_loss: 0.2868 - box_loss: 0.0074 - reg_l2_loss: 0.0816 - loss: 0.7383 - learning_rate: 0.0070 - gradient_norm: 3.5883 - val_det_loss: 0.6693 - val_cls_loss: 0.3997 - val_box_loss: 0.0054 - val_reg_l2_loss: 0.0817 - val_loss: 0.7509\n",
            "Epoch 38/100\n",
            "57/57 [==============================] - ETA: 0s - det_loss: 0.5630 - cls_loss: 0.2606 - box_loss: 0.0060 - reg_l2_loss: 0.0817 - loss: 0.6447 - learning_rate: 0.0069 - gradient_norm: 3.3145"
          ]
        },
        {
          "name": "stderr",
          "output_type": "stream",
          "text": [
            "2023-09-25 07:48:49.500185: W tensorflow/core/framework/dataset.cc:768] Input of GeneratorDatasetOp::Dataset will not be optimized because the dataset does not implement the AsGraphDefInternal() method needed to apply optimizations.\n"
          ]
        },
        {
          "name": "stdout",
          "output_type": "stream",
          "text": [
            "57/57 [==============================] - 206s 4s/step - det_loss: 0.5614 - cls_loss: 0.2600 - box_loss: 0.0060 - reg_l2_loss: 0.0817 - loss: 0.6431 - learning_rate: 0.0069 - gradient_norm: 3.2918 - val_det_loss: 0.4885 - val_cls_loss: 0.2644 - val_box_loss: 0.0045 - val_reg_l2_loss: 0.0817 - val_loss: 0.5702\n",
            "Epoch 39/100\n",
            "57/57 [==============================] - ETA: 0s - det_loss: 0.6493 - cls_loss: 0.2938 - box_loss: 0.0071 - reg_l2_loss: 0.0817 - loss: 0.7310 - learning_rate: 0.0067 - gradient_norm: 3.6259"
          ]
        },
        {
          "name": "stderr",
          "output_type": "stream",
          "text": [
            "2023-09-25 07:52:15.167927: W tensorflow/core/framework/dataset.cc:768] Input of GeneratorDatasetOp::Dataset will not be optimized because the dataset does not implement the AsGraphDefInternal() method needed to apply optimizations.\n"
          ]
        },
        {
          "name": "stdout",
          "output_type": "stream",
          "text": [
            "57/57 [==============================] - 206s 4s/step - det_loss: 0.6454 - cls_loss: 0.2925 - box_loss: 0.0071 - reg_l2_loss: 0.0817 - loss: 0.7271 - learning_rate: 0.0067 - gradient_norm: 3.6033 - val_det_loss: 0.6411 - val_cls_loss: 0.3680 - val_box_loss: 0.0055 - val_reg_l2_loss: 0.0817 - val_loss: 0.7228\n",
            "Epoch 40/100\n",
            "57/57 [==============================] - ETA: 0s - det_loss: 0.6319 - cls_loss: 0.2714 - box_loss: 0.0072 - reg_l2_loss: 0.0818 - loss: 0.7137 - learning_rate: 0.0066 - gradient_norm: 3.5733"
          ]
        },
        {
          "name": "stderr",
          "output_type": "stream",
          "text": [
            "2023-09-25 07:55:40.348682: W tensorflow/core/framework/dataset.cc:768] Input of GeneratorDatasetOp::Dataset will not be optimized because the dataset does not implement the AsGraphDefInternal() method needed to apply optimizations.\n"
          ]
        },
        {
          "name": "stdout",
          "output_type": "stream",
          "text": [
            "57/57 [==============================] - 226s 4s/step - det_loss: 0.6392 - cls_loss: 0.2731 - box_loss: 0.0073 - reg_l2_loss: 0.0818 - loss: 0.7210 - learning_rate: 0.0066 - gradient_norm: 3.6046 - val_det_loss: 0.4296 - val_cls_loss: 0.2267 - val_box_loss: 0.0041 - val_reg_l2_loss: 0.0818 - val_loss: 0.5114\n",
            "Epoch 41/100\n",
            "57/57 [==============================] - ETA: 0s - det_loss: 0.6075 - cls_loss: 0.2696 - box_loss: 0.0068 - reg_l2_loss: 0.0818 - loss: 0.6893 - learning_rate: 0.0064 - gradient_norm: 3.2634"
          ]
        },
        {
          "name": "stderr",
          "output_type": "stream",
          "text": [
            "2023-09-25 07:59:25.866150: W tensorflow/core/framework/dataset.cc:768] Input of GeneratorDatasetOp::Dataset will not be optimized because the dataset does not implement the AsGraphDefInternal() method needed to apply optimizations.\n"
          ]
        },
        {
          "name": "stdout",
          "output_type": "stream",
          "text": [
            "57/57 [==============================] - 211s 4s/step - det_loss: 0.6077 - cls_loss: 0.2700 - box_loss: 0.0068 - reg_l2_loss: 0.0818 - loss: 0.6895 - learning_rate: 0.0064 - gradient_norm: 3.2557 - val_det_loss: 0.4565 - val_cls_loss: 0.2354 - val_box_loss: 0.0044 - val_reg_l2_loss: 0.0818 - val_loss: 0.5383\n",
            "Epoch 42/100\n",
            "57/57 [==============================] - ETA: 0s - det_loss: 0.6171 - cls_loss: 0.2855 - box_loss: 0.0066 - reg_l2_loss: 0.0818 - loss: 0.6989 - learning_rate: 0.0063 - gradient_norm: 3.5836"
          ]
        },
        {
          "name": "stderr",
          "output_type": "stream",
          "text": [
            "2023-09-25 08:02:58.114995: W tensorflow/core/framework/dataset.cc:768] Input of GeneratorDatasetOp::Dataset will not be optimized because the dataset does not implement the AsGraphDefInternal() method needed to apply optimizations.\n"
          ]
        },
        {
          "name": "stdout",
          "output_type": "stream",
          "text": [
            "57/57 [==============================] - 212s 4s/step - det_loss: 0.6204 - cls_loss: 0.2894 - box_loss: 0.0066 - reg_l2_loss: 0.0818 - loss: 0.7022 - learning_rate: 0.0063 - gradient_norm: 3.6160 - val_det_loss: 0.4200 - val_cls_loss: 0.2311 - val_box_loss: 0.0038 - val_reg_l2_loss: 0.0818 - val_loss: 0.5018\n",
            "Epoch 43/100\n",
            "57/57 [==============================] - ETA: 0s - det_loss: 0.5905 - cls_loss: 0.2715 - box_loss: 0.0064 - reg_l2_loss: 0.0818 - loss: 0.6724 - learning_rate: 0.0061 - gradient_norm: 3.1904"
          ]
        },
        {
          "name": "stderr",
          "output_type": "stream",
          "text": [
            "2023-09-25 08:06:30.076377: W tensorflow/core/framework/dataset.cc:768] Input of GeneratorDatasetOp::Dataset will not be optimized because the dataset does not implement the AsGraphDefInternal() method needed to apply optimizations.\n"
          ]
        },
        {
          "name": "stdout",
          "output_type": "stream",
          "text": [
            "57/57 [==============================] - 206s 4s/step - det_loss: 0.5858 - cls_loss: 0.2696 - box_loss: 0.0063 - reg_l2_loss: 0.0818 - loss: 0.6677 - learning_rate: 0.0061 - gradient_norm: 3.1615 - val_det_loss: 0.3818 - val_cls_loss: 0.1878 - val_box_loss: 0.0039 - val_reg_l2_loss: 0.0819 - val_loss: 0.4637\n",
            "Epoch 44/100\n",
            "57/57 [==============================] - ETA: 0s - det_loss: 0.5806 - cls_loss: 0.2758 - box_loss: 0.0061 - reg_l2_loss: 0.0819 - loss: 0.6625 - learning_rate: 0.0059 - gradient_norm: 3.4265"
          ]
        },
        {
          "name": "stderr",
          "output_type": "stream",
          "text": [
            "2023-09-25 08:09:54.958754: W tensorflow/core/framework/dataset.cc:768] Input of GeneratorDatasetOp::Dataset will not be optimized because the dataset does not implement the AsGraphDefInternal() method needed to apply optimizations.\n"
          ]
        },
        {
          "name": "stdout",
          "output_type": "stream",
          "text": [
            "57/57 [==============================] - 211s 4s/step - det_loss: 0.5783 - cls_loss: 0.2746 - box_loss: 0.0061 - reg_l2_loss: 0.0819 - loss: 0.6602 - learning_rate: 0.0059 - gradient_norm: 3.4165 - val_det_loss: 0.4668 - val_cls_loss: 0.2421 - val_box_loss: 0.0045 - val_reg_l2_loss: 0.0819 - val_loss: 0.5487\n",
            "Epoch 45/100\n",
            "57/57 [==============================] - ETA: 0s - det_loss: 0.6013 - cls_loss: 0.2636 - box_loss: 0.0068 - reg_l2_loss: 0.0819 - loss: 0.6832 - learning_rate: 0.0058 - gradient_norm: 3.4047"
          ]
        },
        {
          "name": "stderr",
          "output_type": "stream",
          "text": [
            "2023-09-25 08:13:24.200364: W tensorflow/core/framework/dataset.cc:768] Input of GeneratorDatasetOp::Dataset will not be optimized because the dataset does not implement the AsGraphDefInternal() method needed to apply optimizations.\n"
          ]
        },
        {
          "name": "stdout",
          "output_type": "stream",
          "text": [
            "57/57 [==============================] - 216s 4s/step - det_loss: 0.6004 - cls_loss: 0.2628 - box_loss: 0.0068 - reg_l2_loss: 0.0819 - loss: 0.6823 - learning_rate: 0.0058 - gradient_norm: 3.3892 - val_det_loss: 0.5254 - val_cls_loss: 0.2461 - val_box_loss: 0.0056 - val_reg_l2_loss: 0.0819 - val_loss: 0.6073\n",
            "Epoch 46/100\n",
            "57/57 [==============================] - ETA: 0s - det_loss: 0.5246 - cls_loss: 0.2425 - box_loss: 0.0056 - reg_l2_loss: 0.0819 - loss: 0.6066 - learning_rate: 0.0056 - gradient_norm: 3.0442"
          ]
        },
        {
          "name": "stderr",
          "output_type": "stream",
          "text": [
            "2023-09-25 08:17:00.822210: W tensorflow/core/framework/dataset.cc:768] Input of GeneratorDatasetOp::Dataset will not be optimized because the dataset does not implement the AsGraphDefInternal() method needed to apply optimizations.\n"
          ]
        },
        {
          "name": "stdout",
          "output_type": "stream",
          "text": [
            "57/57 [==============================] - 203s 4s/step - det_loss: 0.5247 - cls_loss: 0.2423 - box_loss: 0.0056 - reg_l2_loss: 0.0819 - loss: 0.6066 - learning_rate: 0.0056 - gradient_norm: 3.0333 - val_det_loss: 0.4213 - val_cls_loss: 0.2036 - val_box_loss: 0.0044 - val_reg_l2_loss: 0.0819 - val_loss: 0.5032\n",
            "Epoch 47/100\n",
            "57/57 [==============================] - ETA: 0s - det_loss: 0.5457 - cls_loss: 0.2473 - box_loss: 0.0060 - reg_l2_loss: 0.0819 - loss: 0.6276 - learning_rate: 0.0055 - gradient_norm: 3.0114"
          ]
        },
        {
          "name": "stderr",
          "output_type": "stream",
          "text": [
            "2023-09-25 08:20:25.094731: W tensorflow/core/framework/dataset.cc:768] Input of GeneratorDatasetOp::Dataset will not be optimized because the dataset does not implement the AsGraphDefInternal() method needed to apply optimizations.\n"
          ]
        },
        {
          "name": "stdout",
          "output_type": "stream",
          "text": [
            "57/57 [==============================] - 204s 4s/step - det_loss: 0.5502 - cls_loss: 0.2484 - box_loss: 0.0060 - reg_l2_loss: 0.0819 - loss: 0.6321 - learning_rate: 0.0055 - gradient_norm: 3.0282 - val_det_loss: 0.3995 - val_cls_loss: 0.2248 - val_box_loss: 0.0035 - val_reg_l2_loss: 0.0819 - val_loss: 0.4814\n",
            "Epoch 48/100\n",
            " 8/57 [===>..........................] - ETA: 2:42 - det_loss: 0.5169 - cls_loss: 0.2504 - box_loss: 0.0053 - reg_l2_loss: 0.0819 - loss: 0.5988 - learning_rate: 0.0054 - gradient_norm: 2.9342"
          ]
        }
      ],
      "source": [
        "model = object_detector.create(train_data=train_data,\n",
        "                               model_spec=spec,\n",
        "                               validation_data=validation_data,\n",
        "                               epochs=100,\n",
        "                               batch_size=8,\n",
        "                               train_whole_model=True)"
      ]
    },
    {
      "cell_type": "markdown",
      "metadata": {
        "id": "3n5-o3vvGfnJ"
      },
      "source": [
        "## Evaluate the model"
      ]
    },
    {
      "cell_type": "markdown",
      "metadata": {
        "id": "-BzCHLWJ6h7q"
      },
      "source": [
        "Now we'll use the test dataset to evaluate how well the model performs with data it has never seen before.\n",
        "\n",
        "The [`evaluate()`](https://www.tensorflow.org/lite/api_docs/python/tflite_model_maker/object_detector/ObjectDetector#evaluate) method provides output in the style of [COCO evaluation metrics](https://cocodataset.org/#detection-eval):"
      ]
    },
    {
      "cell_type": "code",
      "execution_count": 10,
      "metadata": {
        "id": "8xmnl6Yy7ARn"
      },
      "outputs": [
        {
          "name": "stderr",
          "output_type": "stream",
          "text": [
            "2023-09-22 21:22:42.921593: W tensorflow/core/framework/cpu_allocator_impl.cc:82] Allocation of 209715200 exceeds 10% of free system memory.\n",
            "2023-09-22 21:22:43.009361: W tensorflow/core/framework/cpu_allocator_impl.cc:82] Allocation of 209715200 exceeds 10% of free system memory.\n",
            "2023-09-22 21:22:43.095692: W tensorflow/core/framework/cpu_allocator_impl.cc:82] Allocation of 209715200 exceeds 10% of free system memory.\n",
            "2023-09-22 21:22:43.155758: W tensorflow/core/framework/cpu_allocator_impl.cc:82] Allocation of 629145600 exceeds 10% of free system memory.\n",
            "2023-09-22 21:22:43.351998: W tensorflow/core/framework/cpu_allocator_impl.cc:82] Allocation of 235929600 exceeds 10% of free system memory.\n"
          ]
        },
        {
          "name": "stdout",
          "output_type": "stream",
          "text": [
            "6/6 [==============================] - 18s 2s/step\n",
            "\n"
          ]
        },
        {
          "data": {
            "text/plain": [
              "{'AP': 0.19150518,\n",
              " 'AP50': 0.5571936,\n",
              " 'AP75': 0.080263086,\n",
              " 'APs': 0.15670604,\n",
              " 'APm': 0.40038162,\n",
              " 'APl': 0.6990099,\n",
              " 'ARmax1': 0.18688525,\n",
              " 'ARmax10': 0.3138599,\n",
              " 'ARmax100': 0.3453055,\n",
              " 'ARs': 0.30731708,\n",
              " 'ARm': 0.5648936,\n",
              " 'ARl': 0.73333335,\n",
              " 'AP_/YM': 0.19150518}"
            ]
          },
          "execution_count": 10,
          "metadata": {},
          "output_type": "execute_result"
        }
      ],
      "source": [
        "model.evaluate(test_data)"
      ]
    },
    {
      "cell_type": "markdown",
      "metadata": {
        "id": "PEon9xd2BDS_"
      },
      "source": [
        "Because the default batch size for [EfficientDetLite models](https://www.tensorflow.org/lite/api_docs/python/tflite_model_maker/object_detector/EfficientDetSpec) is 64, this needs only 1 step to go through all 25 images in the salad test set. You can also specify the `batch_size` argument when you call [`evaluate()`](https://www.tensorflow.org/lite/api_docs/python/tflite_model_maker/object_detector/ObjectDetector#evaluate)."
      ]
    },
    {
      "cell_type": "markdown",
      "metadata": {
        "id": "_yB_XMpqGlLs"
      },
      "source": [
        "## Export to TensorFlow Lite"
      ]
    },
    {
      "cell_type": "markdown",
      "metadata": {
        "id": "CgCDMe0e6jlT"
      },
      "source": [
        "Next, we'll export the model to the TensorFlow Lite format. By default, the [`export()`](https://www.tensorflow.org/lite/api_docs/python/tflite_model_maker/object_detector/ObjectDetector#export) method performs [full integer post-training quantization](https://www.tensorflow.org/lite/performance/post_training_quantization#full_integer_quantization), which is exactly what we need for compatibility with the Edge TPU. (Model Maker uses the same dataset we gave to our model spec as a representative dataset, which is required for full-int quantization.)\n",
        "\n",
        "We just need to specify the export directory and format. By default, it exports to TF Lite, but we also want a labels file, so we declare both:"
      ]
    },
    {
      "cell_type": "code",
      "execution_count": 11,
      "metadata": {
        "id": "2Cu9cxX5Qu-e"
      },
      "outputs": [],
      "source": [
        "TFLITE_FILENAME = 'x-ray-effi0-v1.tflite'\n",
        "LABELS_FILENAME = 'labels.txt'"
      ]
    },
    {
      "cell_type": "code",
      "execution_count": null,
      "metadata": {
        "id": "rKd6qk7TbxYO"
      },
      "outputs": [
        {
          "name": "stderr",
          "output_type": "stream",
          "text": [
            "2023-09-12 03:08:38.248877: W tensorflow/python/util/util.cc:368] Sets are not currently considered sequences, but this may change in the future, so consider avoiding using them.\n",
            "2023-09-12 03:09:02.583575: W tensorflow/core/common_runtime/graph_constructor.cc:803] Node 'resample_p7/PartitionedCall' has 1 outputs but the _output_shapes attribute specifies shapes for 3 outputs. Output shapes may be inaccurate.\n",
            "2023-09-12 03:09:09.451483: W tensorflow/compiler/mlir/lite/python/tf_tfl_flatbuffer_helpers.cc:357] Ignored output_format.\n",
            "2023-09-12 03:09:09.451524: W tensorflow/compiler/mlir/lite/python/tf_tfl_flatbuffer_helpers.cc:360] Ignored drop_control_dependency.\n",
            "2023-09-12 03:09:09.469197: I tensorflow/cc/saved_model/reader.cc:43] Reading SavedModel from: /tmp/tmpy20nee_q\n",
            "2023-09-12 03:09:09.582631: I tensorflow/cc/saved_model/reader.cc:78] Reading meta graph with tags { serve }\n",
            "2023-09-12 03:09:09.582684: I tensorflow/cc/saved_model/reader.cc:119] Reading SavedModel debug info (if present) from: /tmp/tmpy20nee_q\n",
            "2023-09-12 03:09:09.937275: I tensorflow/cc/saved_model/loader.cc:228] Restoring SavedModel bundle.\n",
            "2023-09-12 03:09:11.801846: I tensorflow/cc/saved_model/loader.cc:212] Running initialization op on SavedModel bundle at path: /tmp/tmpy20nee_q\n",
            "2023-09-12 03:09:12.644636: I tensorflow/cc/saved_model/loader.cc:301] SavedModel load for tags { serve }; Status: success: OK. Took 3175443 microseconds.\n",
            "2023-09-12 03:09:14.421724: I tensorflow/compiler/mlir/tensorflow/utils/dump_mlir_util.cc:237] disabling MLIR crash reproducer, set env var `MLIR_CRASH_REPRODUCER_DIRECTORY` to enable.\n",
            "2023-09-12 03:09:16.824664: I tensorflow/compiler/mlir/lite/flatbuffer_export.cc:1963] Estimated count of arithmetic ops: 6.066 G  ops, equivalently 3.033 G  MACs\n",
            "\n"
          ]
        },
        {
          "name": "stdout",
          "output_type": "stream",
          "text": [
            "Estimated count of arithmetic ops: 6.066 G  ops, equivalently 3.033 G  MACs\n"
          ]
        },
        {
          "name": "stderr",
          "output_type": "stream",
          "text": [
            "fully_quantize: 0, inference_type: 6, input_inference_type: 3, output_inference_type: 0\n",
            "2023-09-12 03:13:59.572554: I tensorflow/compiler/mlir/lite/flatbuffer_export.cc:1963] Estimated count of arithmetic ops: 6.066 G  ops, equivalently 3.033 G  MACs\n",
            "\n"
          ]
        },
        {
          "name": "stdout",
          "output_type": "stream",
          "text": [
            "Estimated count of arithmetic ops: 6.066 G  ops, equivalently 3.033 G  MACs\n"
          ]
        }
      ],
      "source": [
        "model.export(export_dir='.', tflite_filename=TFLITE_FILENAME, label_filename=LABELS_FILENAME,\n",
        "             export_format=[ExportFormat.TFLITE, ExportFormat.LABEL])"
      ]
    },
    {
      "cell_type": "markdown",
      "metadata": {
        "id": "b94hZ-exOCRB"
      },
      "source": [
        "### Evaluate the TF Lite model"
      ]
    },
    {
      "cell_type": "markdown",
      "metadata": {
        "id": "ZQpahAIBqBPp"
      },
      "source": [
        "Exporting the model to TensorFlow Lite can affect the model accuracy, due to the reduced numerical precision from quantization and because the original TensorFlow model uses per-class [non-max supression (NMS)](https://www.coursera.org/lecture/convolutional-neural-networks/non-max-suppression-dvrjH) for post-processing, while the TF Lite model uses global NMS, which is faster but less accurate.\n",
        "\n",
        "Therefore you should always evaluate the exported TF Lite model and be sure it still meets your requirements:"
      ]
    },
    {
      "cell_type": "code",
      "execution_count": 12,
      "metadata": {
        "id": "RS3Ell_lqH4e"
      },
      "outputs": [
        {
          "ename": "ValueError",
          "evalue": "Could not open 'x-ray-effi0-v1.tflite'.",
          "output_type": "error",
          "traceback": [
            "\u001b[0;31m---------------------------------------------------------------------------\u001b[0m",
            "\u001b[0;31mValueError\u001b[0m                                Traceback (most recent call last)",
            "\u001b[1;32m/workspaces/codespaces-jupyter/Retrain_EfficientDet_Lite_detector_for_the_Edge_TPU_(TF2).ipynb Cell 45\u001b[0m line \u001b[0;36m1\n\u001b[0;32m----> <a href='vscode-notebook-cell://codespaces%2Bpotential-journey-q7476jxwr7ph9x99/workspaces/codespaces-jupyter/Retrain_EfficientDet_Lite_detector_for_the_Edge_TPU_%28TF2%29.ipynb#X62sdnNjb2RlLXJlbW90ZQ%3D%3D?line=0'>1</a>\u001b[0m model\u001b[39m.\u001b[39;49mevaluate_tflite(TFLITE_FILENAME, test_data)\n",
            "File \u001b[0;32m/workspaces/codespaces-jupyter/.conda/lib/python3.9/site-packages/tensorflow_examples/lite/model_maker/core/task/object_detector.py:155\u001b[0m, in \u001b[0;36mObjectDetector.evaluate_tflite\u001b[0;34m(self, tflite_filepath, data)\u001b[0m\n\u001b[1;32m    153\u001b[0m \u001b[39m\u001b[39m\u001b[39m\"\"\"Evaluate the TFLite model.\"\"\"\u001b[39;00m\n\u001b[1;32m    154\u001b[0m ds \u001b[39m=\u001b[39m data\u001b[39m.\u001b[39mgen_dataset(\u001b[39mself\u001b[39m\u001b[39m.\u001b[39mmodel_spec, batch_size\u001b[39m=\u001b[39m\u001b[39m1\u001b[39m, is_training\u001b[39m=\u001b[39m\u001b[39mFalse\u001b[39;00m)\n\u001b[0;32m--> 155\u001b[0m \u001b[39mreturn\u001b[39;00m \u001b[39mself\u001b[39;49m\u001b[39m.\u001b[39;49mmodel_spec\u001b[39m.\u001b[39;49mevaluate_tflite(tflite_filepath, ds, \u001b[39mlen\u001b[39;49m(data),\n\u001b[1;32m    156\u001b[0m                                        data\u001b[39m.\u001b[39;49mannotations_json_file)\n",
            "File \u001b[0;32m/workspaces/codespaces-jupyter/.conda/lib/python3.9/site-packages/tensorflow_examples/lite/model_maker/core/task/model_spec/object_detector_spec.py:373\u001b[0m, in \u001b[0;36mEfficientDetModelSpec.evaluate_tflite\u001b[0;34m(self, tflite_filepath, dataset, steps, json_file)\u001b[0m\n\u001b[1;32m    370\u001b[0m evaluator, label_map \u001b[39m=\u001b[39m \u001b[39mself\u001b[39m\u001b[39m.\u001b[39m_get_evaluator_and_label_map(json_file)\n\u001b[1;32m    371\u001b[0m dataset \u001b[39m=\u001b[39m dataset\u001b[39m.\u001b[39mtake(steps)\n\u001b[0;32m--> 373\u001b[0m lite_runner \u001b[39m=\u001b[39m eval_tflite\u001b[39m.\u001b[39;49mLiteRunner(tflite_filepath, only_network\u001b[39m=\u001b[39;49m\u001b[39mFalse\u001b[39;49;00m)\n\u001b[1;32m    374\u001b[0m progbar \u001b[39m=\u001b[39m tf\u001b[39m.\u001b[39mkeras\u001b[39m.\u001b[39mutils\u001b[39m.\u001b[39mProgbar(steps)\n\u001b[1;32m    375\u001b[0m \u001b[39mfor\u001b[39;00m i, (images, labels) \u001b[39min\u001b[39;00m \u001b[39menumerate\u001b[39m(dataset):\n\u001b[1;32m    376\u001b[0m   \u001b[39m# Get the output result after post-processing NMS op.\u001b[39;00m\n",
            "File \u001b[0;32m/workspaces/codespaces-jupyter/.conda/lib/python3.9/site-packages/tensorflow_examples/lite/model_maker/third_party/efficientdet/keras/eval_tflite.py:67\u001b[0m, in \u001b[0;36mLiteRunner.__init__\u001b[0;34m(self, tflite_model_path, only_network)\u001b[0m\n\u001b[1;32m     58\u001b[0m \u001b[39mdef\u001b[39;00m \u001b[39m__init__\u001b[39m(\u001b[39mself\u001b[39m, tflite_model_path, only_network\u001b[39m=\u001b[39m\u001b[39mFalse\u001b[39;00m):\n\u001b[1;32m     59\u001b[0m \u001b[39m  \u001b[39m\u001b[39m\"\"\"Initializes Lite runner with tflite model file.\u001b[39;00m\n\u001b[1;32m     60\u001b[0m \n\u001b[1;32m     61\u001b[0m \u001b[39m  Args:\u001b[39;00m\n\u001b[0;32m   (...)\u001b[0m\n\u001b[1;32m     65\u001b[0m \u001b[39m      NMS op.\u001b[39;00m\n\u001b[1;32m     66\u001b[0m \u001b[39m  \"\"\"\u001b[39;00m\n\u001b[0;32m---> 67\u001b[0m   \u001b[39mself\u001b[39m\u001b[39m.\u001b[39minterpreter \u001b[39m=\u001b[39m tf\u001b[39m.\u001b[39;49mlite\u001b[39m.\u001b[39;49mInterpreter(tflite_model_path)\n\u001b[1;32m     68\u001b[0m   \u001b[39mself\u001b[39m\u001b[39m.\u001b[39minterpreter\u001b[39m.\u001b[39mallocate_tensors()\n\u001b[1;32m     69\u001b[0m   \u001b[39m# Get input and output tensors.\u001b[39;00m\n",
            "File \u001b[0;32m/workspaces/codespaces-jupyter/.conda/lib/python3.9/site-packages/tensorflow/lite/python/interpreter.py:456\u001b[0m, in \u001b[0;36mInterpreter.__init__\u001b[0;34m(self, model_path, model_content, experimental_delegates, num_threads, experimental_op_resolver_type, experimental_preserve_all_tensors)\u001b[0m\n\u001b[1;32m    449\u001b[0m custom_op_registerers_by_name \u001b[39m=\u001b[39m [\n\u001b[1;32m    450\u001b[0m     x \u001b[39mfor\u001b[39;00m x \u001b[39min\u001b[39;00m \u001b[39mself\u001b[39m\u001b[39m.\u001b[39m_custom_op_registerers \u001b[39mif\u001b[39;00m \u001b[39misinstance\u001b[39m(x, \u001b[39mstr\u001b[39m)\n\u001b[1;32m    451\u001b[0m ]\n\u001b[1;32m    452\u001b[0m custom_op_registerers_by_func \u001b[39m=\u001b[39m [\n\u001b[1;32m    453\u001b[0m     x \u001b[39mfor\u001b[39;00m x \u001b[39min\u001b[39;00m \u001b[39mself\u001b[39m\u001b[39m.\u001b[39m_custom_op_registerers \u001b[39mif\u001b[39;00m \u001b[39mnot\u001b[39;00m \u001b[39misinstance\u001b[39m(x, \u001b[39mstr\u001b[39m)\n\u001b[1;32m    454\u001b[0m ]\n\u001b[1;32m    455\u001b[0m \u001b[39mself\u001b[39m\u001b[39m.\u001b[39m_interpreter \u001b[39m=\u001b[39m (\n\u001b[0;32m--> 456\u001b[0m     _interpreter_wrapper\u001b[39m.\u001b[39;49mCreateWrapperFromFile(\n\u001b[1;32m    457\u001b[0m         model_path, op_resolver_id, custom_op_registerers_by_name,\n\u001b[1;32m    458\u001b[0m         custom_op_registerers_by_func, experimental_preserve_all_tensors))\n\u001b[1;32m    459\u001b[0m \u001b[39mif\u001b[39;00m \u001b[39mnot\u001b[39;00m \u001b[39mself\u001b[39m\u001b[39m.\u001b[39m_interpreter:\n\u001b[1;32m    460\u001b[0m   \u001b[39mraise\u001b[39;00m \u001b[39mValueError\u001b[39;00m(\u001b[39m'\u001b[39m\u001b[39mFailed to open \u001b[39m\u001b[39m{}\u001b[39;00m\u001b[39m'\u001b[39m\u001b[39m.\u001b[39mformat(model_path))\n",
            "\u001b[0;31mValueError\u001b[0m: Could not open 'x-ray-effi0-v1.tflite'."
          ]
        }
      ],
      "source": [
        "model.evaluate_tflite(TFLITE_FILENAME, test_data)"
      ]
    },
    {
      "cell_type": "markdown",
      "metadata": {
        "id": "Ph88z7PdOeX7"
      },
      "source": [
        "### Try the TFLite model"
      ]
    },
    {
      "cell_type": "markdown",
      "metadata": {
        "id": "me6_RwPZqNhX"
      },
      "source": [
        "Just to be sure of things, let's run the model ourselves with an image from the test set."
      ]
    },
    {
      "cell_type": "code",
      "execution_count": null,
      "metadata": {
        "id": "eag7jTOASGFW"
      },
      "outputs": [
        {
          "ename": "NameError",
          "evalue": "name 'use_custom_dataset' is not defined",
          "output_type": "error",
          "traceback": [
            "\u001b[0;31m---------------------------------------------------------------------------\u001b[0m",
            "\u001b[0;31mNameError\u001b[0m                                 Traceback (most recent call last)",
            "\u001b[1;32m/workspaces/codespaces-jupyter/Retrain_EfficientDet_Lite_detector_for_the_Edge_TPU_(TF2).ipynb Cell 46\u001b[0m line \u001b[0;36m4\n\u001b[1;32m      <a href='vscode-notebook-cell://codespaces%2Bpotential-journey-q7476jxwr7ph9x99/workspaces/codespaces-jupyter/Retrain_EfficientDet_Lite_detector_for_the_Edge_TPU_%28TF2%29.ipynb#X63sdnNjb2RlLXJlbW90ZQ%3D%3D?line=0'>1</a>\u001b[0m \u001b[39mimport\u001b[39;00m \u001b[39mrandom\u001b[39;00m\n\u001b[1;32m      <a href='vscode-notebook-cell://codespaces%2Bpotential-journey-q7476jxwr7ph9x99/workspaces/codespaces-jupyter/Retrain_EfficientDet_Lite_detector_for_the_Edge_TPU_%28TF2%29.ipynb#X63sdnNjb2RlLXJlbW90ZQ%3D%3D?line=2'>3</a>\u001b[0m \u001b[39m# If you're using a custom dataset, we take a random image from the test set:\u001b[39;00m\n\u001b[0;32m----> <a href='vscode-notebook-cell://codespaces%2Bpotential-journey-q7476jxwr7ph9x99/workspaces/codespaces-jupyter/Retrain_EfficientDet_Lite_detector_for_the_Edge_TPU_%28TF2%29.ipynb#X63sdnNjb2RlLXJlbW90ZQ%3D%3D?line=3'>4</a>\u001b[0m \u001b[39mif\u001b[39;00m use_custom_dataset:\n\u001b[1;32m      <a href='vscode-notebook-cell://codespaces%2Bpotential-journey-q7476jxwr7ph9x99/workspaces/codespaces-jupyter/Retrain_EfficientDet_Lite_detector_for_the_Edge_TPU_%28TF2%29.ipynb#X63sdnNjb2RlLXJlbW90ZQ%3D%3D?line=4'>5</a>\u001b[0m   images_path \u001b[39m=\u001b[39m test_images_dir \u001b[39mif\u001b[39;00m dataset_is_split \u001b[39melse\u001b[39;00m os\u001b[39m.\u001b[39mpath\u001b[39m.\u001b[39mjoin(test_dir, \u001b[39m\"\u001b[39m\u001b[39mimages\u001b[39m\u001b[39m\"\u001b[39m)\n\u001b[1;32m      <a href='vscode-notebook-cell://codespaces%2Bpotential-journey-q7476jxwr7ph9x99/workspaces/codespaces-jupyter/Retrain_EfficientDet_Lite_detector_for_the_Edge_TPU_%28TF2%29.ipynb#X63sdnNjb2RlLXJlbW90ZQ%3D%3D?line=5'>6</a>\u001b[0m   filenames \u001b[39m=\u001b[39m os\u001b[39m.\u001b[39mlistdir(os\u001b[39m.\u001b[39mpath\u001b[39m.\u001b[39mjoin(images_path))\n",
            "\u001b[0;31mNameError\u001b[0m: name 'use_custom_dataset' is not defined"
          ]
        }
      ],
      "source": [
        "import random\n",
        "\n",
        "# If you're using a custom dataset, we take a random image from the test set:\n",
        "if use_custom_dataset:\n",
        "  images_path = test_images_dir if dataset_is_split else os.path.join(test_dir, \"images\")\n",
        "  filenames = os.listdir(os.path.join(images_path))\n",
        "  random_index = random.randint(0,len(filenames)-1)\n",
        "  INPUT_IMAGE = os.path.join(images_path, filenames[random_index])\n",
        "else:\n",
        "  # Download a test salad image\n",
        "  INPUT_IMAGE = 'salad-test.jpg'\n",
        "  DOWNLOAD_URL = \"https://storage.googleapis.com/cloud-ml-data/img/openimage/3/2520/3916261642_0a504acd60_o.jpg\"\n",
        "  !wget -q -O $INPUT_IMAGE $DOWNLOAD_URL"
      ]
    },
    {
      "cell_type": "markdown",
      "metadata": {
        "id": "ZBecI78ZaxsO"
      },
      "source": [
        "To simplify our code, we'll use the [PyCoral API](https://coral.ai/docs/reference/py/):"
      ]
    },
    {
      "cell_type": "code",
      "execution_count": null,
      "metadata": {
        "id": "TmgtGBqua1N3"
      },
      "outputs": [
        {
          "name": "stdout",
          "output_type": "stream",
          "text": [
            "Looking in indexes: https://pypi.org/simple, https://google-coral.github.io/py-repo/\n",
            "Requirement already satisfied: pycoral in ./.conda/lib/python3.9/site-packages (2.0.0)\n",
            "Requirement already satisfied: Pillow>=4.0.0 in ./.conda/lib/python3.9/site-packages (from pycoral) (9.5.0)\n",
            "Requirement already satisfied: numpy>=1.16.0 in ./.conda/lib/python3.9/site-packages (from pycoral) (1.23.4)\n",
            "Requirement already satisfied: tflite-runtime==2.5.0.post1 in ./.conda/lib/python3.9/site-packages (from pycoral) (2.5.0.post1)\n"
          ]
        }
      ],
      "source": [
        "! python3 -m pip install --extra-index-url https://google-coral.github.io/py-repo/ pycoral"
      ]
    },
    {
      "cell_type": "code",
      "execution_count": null,
      "metadata": {
        "id": "GkXtipXKqXp4"
      },
      "outputs": [],
      "source": [
        "from PIL import Image\n",
        "from PIL import ImageDraw\n",
        "from PIL import ImageFont\n",
        "\n",
        "import tflite_runtime.interpreter as tflite\n",
        "from pycoral.adapters import common\n",
        "from pycoral.adapters import detect\n",
        "from pycoral.utils.dataset import read_label_file\n",
        "\n",
        "def draw_objects(draw, objs, scale_factor, labels):\n",
        "  \"\"\"Draws the bounding box and label for each object.\"\"\"\n",
        "  COLORS = np.random.randint(0, 255, size=(len(labels), 3), dtype=np.uint8)\n",
        "  for obj in objs:\n",
        "    bbox = obj.bbox\n",
        "    color = tuple(int(c) for c in COLORS[obj.id])\n",
        "    draw.rectangle([(bbox.xmin * scale_factor, bbox.ymin * scale_factor),\n",
        "                    (bbox.xmax * scale_factor, bbox.ymax * scale_factor)],\n",
        "                   outline=color, width=3)\n",
        "    font = ImageFont.truetype(\"LiberationSans-Regular.ttf\", size=15)\n",
        "    draw.text((bbox.xmin * scale_factor + 4, bbox.ymin * scale_factor + 4),\n",
        "              '%s\\n%.2f' % (labels.get(obj.id, obj.id), obj.score),\n",
        "              fill=color, font=font)\n",
        "\n",
        "# Load the TF Lite model\n",
        "labels = read_label_file(LABELS_FILENAME)\n",
        "interpreter = tflite.Interpreter(TFLITE_FILENAME)\n",
        "interpreter.allocate_tensors()\n",
        "\n",
        "# Resize the image for input\n",
        "image = Image.open(INPUT_IMAGE)\n",
        "_, scale = common.set_resized_input(\n",
        "    interpreter, image.size, lambda size: image.resize(size, Image.ANTIALIAS))\n",
        "\n",
        "# Run inference\n",
        "interpreter.invoke()\n",
        "objs = detect.get_objects(interpreter, score_threshold=0.4, image_scale=scale)\n",
        "\n",
        "# Resize again to a reasonable size for display\n",
        "display_width = 500\n",
        "scale_factor = display_width / image.width\n",
        "height_ratio = image.height / image.width\n",
        "image = image.resize((display_width, int(display_width * height_ratio)))\n",
        "draw_objects(ImageDraw.Draw(image), objs, scale_factor, labels)\n",
        "image"
      ]
    },
    {
      "cell_type": "markdown",
      "metadata": {
        "id": "oxgWQyYOqZha"
      },
      "source": [
        "## Compile for the Edge TPU\n"
      ]
    },
    {
      "cell_type": "markdown",
      "metadata": {
        "id": "A0QLiwCj9Pw6"
      },
      "source": [
        "First we need to download the Edge TPU Compiler:"
      ]
    },
    {
      "cell_type": "code",
      "execution_count": null,
      "metadata": {
        "id": "Oy3QIn_YqaRP"
      },
      "outputs": [
        {
          "name": "stdout",
          "output_type": "stream",
          "text": [
            "  % Total    % Received % Xferd  Average Speed   Time    Time     Time  Current\n",
            "                                 Dload  Upload   Total   Spent    Left  Speed\n",
            "100  2659  100  2659    0     0  34986      0 --:--:-- --:--:-- --:--:-- 34986\n",
            "OK\n",
            "deb https://packages.cloud.google.com/apt coral-edgetpu-stable main\n",
            "Get:1 https://packages.microsoft.com/repos/microsoft-ubuntu-focal-prod focal InRelease [3611 B]\n",
            "Get:2 https://packages.cloud.google.com/apt coral-edgetpu-stable InRelease [6332 B]\n",
            "Get:3 https://packages.microsoft.com/repos/microsoft-ubuntu-focal-prod focal/main amd64 Packages [226 kB]\n",
            "Hit:4 https://dl.yarnpkg.com/debian stable InRelease                           \n",
            "Hit:5 http://archive.ubuntu.com/ubuntu focal InRelease               \n",
            "Get:6 http://security.ubuntu.com/ubuntu focal-security InRelease [114 kB]\n",
            "Hit:7 https://repo.anaconda.com/pkgs/misc/debrepo/conda stable InRelease       \n",
            "Get:8 http://archive.ubuntu.com/ubuntu focal-updates InRelease [114 kB]        \n",
            "Get:9 http://security.ubuntu.com/ubuntu focal-security/main amd64 Packages [3028 kB]\n",
            "Get:10 http://archive.ubuntu.com/ubuntu focal-backports InRelease [108 kB]     \n",
            "Get:11 http://archive.ubuntu.com/ubuntu focal-updates/universe amd64 Packages [1405 kB]\n",
            "Get:13 http://archive.ubuntu.com/ubuntu focal-updates/main amd64 Packages [3515 kB]\n",
            "Get:14 http://security.ubuntu.com/ubuntu focal-security/restricted amd64 Packages [2773 kB]\n",
            "Get:15 http://security.ubuntu.com/ubuntu focal-security/universe amd64 Packages [1103 kB]\n",
            "Get:16 http://archive.ubuntu.com/ubuntu focal-updates/restricted amd64 Packages [2922 kB]\n",
            "Hit:12 https://packagecloud.io/github/git-lfs/ubuntu focal InRelease           \n",
            "Fetched 15.3 MB in 2s (9006 kB/s)               \n",
            "Reading package lists... Done\n",
            "Reading package lists... Done\n",
            "Building dependency tree       \n",
            "Reading state information... Done\n",
            "edgetpu-compiler is already the newest version (16.0).\n",
            "0 upgraded, 0 newly installed, 0 to remove and 7 not upgraded.\n"
          ]
        }
      ],
      "source": [
        "! curl https://packages.cloud.google.com/apt/doc/apt-key.gpg | sudo apt-key add -\n",
        "\n",
        "! echo \"deb https://packages.cloud.google.com/apt coral-edgetpu-stable main\" | sudo tee /etc/apt/sources.list.d/coral-edgetpu.list\n",
        "\n",
        "! sudo apt-get update\n",
        "\n",
        "! sudo apt-get install edgetpu-compiler"
      ]
    },
    {
      "cell_type": "markdown",
      "metadata": {
        "id": "qRWewhqFqeL_"
      },
      "source": [
        "Before compiling the `.tflite` file for the Edge TPU, it's important to consider whether your model will fit into the Edge TPU memory.\n",
        "\n",
        "The Edge TPU has approximately 8 MB of SRAM for [caching model paramaters](https://coral.ai/docs/edgetpu/compiler/#parameter-data-caching), so any model close to or over 8 MB will not fit onto the Edge TPU memory. That means the inference times are longer, because some model parameters must be fetched from the host system memory.\n",
        "\n",
        "One way to elimiate the extra latency is to use [model pipelining](https://coral.ai/docs/edgetpu/pipeline/), which splits the model into segments that can run on separate Edge TPUs in series. This can significantly reduce the latency for big models.\n",
        "\n",
        "The following table provides recommendations for the number of Edge TPUs to use with each EfficientDet-Lite model.\n",
        "\n",
        "| Model architecture | Minimum TPUs | Recommended TPUs\n",
        "|--------------------|-------|-------|\n",
        "| EfficientDet-Lite0 | 1     | 1     |\n",
        "| EfficientDet-Lite1 | 1     | 1     |\n",
        "| EfficientDet-Lite2 | 1     | 2     |\n",
        "| EfficientDet-Lite3 | 2     | 2     |\n",
        "| EfficientDet-Lite4 | 2     | 3     |\n",
        "\n",
        "If you need extra Edge TPUs for your model, then update `NUMBER_OF_TPUS` here:"
      ]
    },
    {
      "cell_type": "code",
      "execution_count": null,
      "metadata": {
        "id": "LZdonJGCqieU"
      },
      "outputs": [
        {
          "name": "stdout",
          "output_type": "stream",
          "text": [
            "Edge TPU Compiler version 16.0.384591198\n",
            "Searching for valid delegate with step 1\n",
            "Try to compile segment with 357 ops\n",
            "Started a compilation timeout timer of 180 seconds.\n",
            "\n",
            "Model compiled successfully in 9782 ms.\n",
            "\n",
            "Input model: data-matrix-v0.tflite\n",
            "Input size: 7.05MiB\n",
            "Output model: data-matrix-v0_edgetpu.tflite\n",
            "Output size: 9.74MiB\n",
            "On-chip memory used for caching model parameters: 7.14MiB\n",
            "On-chip memory remaining for caching model parameters: 1.25KiB\n",
            "Off-chip memory used for streaming uncached model parameters: 228.88KiB\n",
            "Number of Edge TPU subgraphs: 1\n",
            "Total number of operations: 357\n",
            "Operation log: data-matrix-v0_edgetpu.log\n",
            "\n",
            "Model successfully compiled but not all operations are supported by the Edge TPU. A percentage of the model will instead run on the CPU, which is slower. If possible, consider updating your model to use only operations supported by the Edge TPU. For details, visit g.co/coral/model-reqs.\n",
            "Number of operations that will run on Edge TPU: 354\n",
            "Number of operations that will run on CPU: 3\n",
            "See the operation log file for individual operation details.\n",
            "Compilation child process completed within timeout period.\n",
            "Compilation succeeded! \n"
          ]
        }
      ],
      "source": [
        "NUMBER_OF_TPUS =  1\n",
        "\n",
        "!edgetpu_compiler $TFLITE_FILENAME -d --num_segments=$NUMBER_OF_TPUS"
      ]
    },
    {
      "cell_type": "markdown",
      "metadata": {
        "id": "O2CjkduY02DF"
      },
      "source": [
        "**Beware when using multiple segments:** The Edge TPU Comiler divides the model such that all segments have roughly equal amounts of parameter data, but that does not mean all segments have the same latency. Especially when dividing an SSD model such as EfficientDet, this results in a latency-imbalance between segments, because SSD models have a large post-processing op that actually executes on the CPU, not on the Edge TPU. So although segmenting your model this way is better than running the whole model on just one Edge TPU, we recommend that you segment the EfficientDet-Lite model using our [profiling-based partitioner tool](https://github.com/google-coral/libcoral/tree/master/coral/tools/partitioner#profiling-based-partitioner-for-the-edge-tpu-compiler), which measures each segment's latency on the Edge TPU and then iteratively adjusts the segmentation sizes to provide balanced latency between all segments."
      ]
    },
    {
      "cell_type": "markdown",
      "metadata": {
        "id": "KyBBvyqx0XRn"
      },
      "source": [
        "## Download the files"
      ]
    },
    {
      "cell_type": "code",
      "execution_count": null,
      "metadata": {
        "id": "M43URVgg0ZcB"
      },
      "outputs": [
        {
          "ename": "ModuleNotFoundError",
          "evalue": "No module named 'google.colab'",
          "output_type": "error",
          "traceback": [
            "\u001b[0;31m---------------------------------------------------------------------------\u001b[0m",
            "\u001b[0;31mModuleNotFoundError\u001b[0m                       Traceback (most recent call last)",
            "Cell \u001b[0;32mIn[19], line 1\u001b[0m\n\u001b[0;32m----> 1\u001b[0m \u001b[39mfrom\u001b[39;00m \u001b[39mgoogle\u001b[39;00m\u001b[39m.\u001b[39;00m\u001b[39mcolab\u001b[39;00m \u001b[39mimport\u001b[39;00m files\n\u001b[1;32m      3\u001b[0m files\u001b[39m.\u001b[39mdownload(TFLITE_FILENAME)\n\u001b[1;32m      4\u001b[0m files\u001b[39m.\u001b[39mdownload(TFLITE_FILENAME\u001b[39m.\u001b[39mreplace(\u001b[39m'\u001b[39m\u001b[39m.tflite\u001b[39m\u001b[39m'\u001b[39m, \u001b[39m'\u001b[39m\u001b[39m_edgetpu.tflite\u001b[39m\u001b[39m'\u001b[39m))\n",
            "\u001b[0;31mModuleNotFoundError\u001b[0m: No module named 'google.colab'"
          ]
        }
      ],
      "source": [
        "from google.colab import files\n",
        "\n",
        "files.download(TFLITE_FILENAME)\n",
        "files.download(TFLITE_FILENAME.replace('.tflite', '_edgetpu.tflite'))\n",
        "files.download(LABELS_FILENAME)"
      ]
    },
    {
      "cell_type": "markdown",
      "metadata": {
        "id": "8fYwl4Rt8myF"
      },
      "source": [
        "## Run the model on the Edge TPU"
      ]
    },
    {
      "cell_type": "markdown",
      "metadata": {
        "id": "Dv2Ingvx8pcI"
      },
      "source": [
        "You can now run the model with acceleration on the Edge TPU.\n",
        "\n",
        "First, download an image of a salad on your device with an Edge TPU. For example, you can use the same one we tested above:\n",
        "\n",
        "```\n",
        "wget https://storage.googleapis.com/cloud-ml-data/img/openimage/3/2520/3916261642_0a504acd60_o.jpg -O salad.jpg\n",
        "```\n",
        "\n",
        "And then make sure you have [installed the PyCoral API](https://coral.ai/software/#pycoral-api).\n",
        "\n",
        "Now run an inference using [this example code for the PyCoral API](https://github.com/google-coral/pycoral/blob/master/examples/detect_image.py). Just clone the GitHub repo and run the example, passing it the model files from this tutorial:\n",
        "\n",
        "```\n",
        "git clone https://github.com/google-coral/pycoral\n",
        "\n",
        "cd pycoral/examples/\n",
        "\n",
        "python3 detect_image.py \\\n",
        "  --model efficientdet-lite-salads_edgetpu.tflite \\\n",
        "  --labels salad-labels.txt \\\n",
        "  --input salad.jpg \\\n",
        "  --output salad_result.jpg\n",
        "```\n"
      ]
    },
    {
      "cell_type": "markdown",
      "metadata": {
        "id": "HS4u77W5gnzQ"
      },
      "source": [
        "## More resources\n",
        "\n",
        "* For more information about the Model Maker library used in this tutorial, see the [TensorFlow Lite Model Maker guide](https://www.tensorflow.org/lite/guide/model_maker) and [API reference](https://www.tensorflow.org/lite/api_docs/python/tflite_model_maker).\n",
        "\n",
        "* For other transfer learning tutorials that are compatible with the Edge TPU, see the [Colab tutorials for Coral](https://github.com/google-coral/tutorials#colab-tutorials-for-coral).\n",
        "\n",
        "* You can also find more examples that show how to run inference on the Edge TPU at [coral.ai/examples](https://coral.ai/examples/#code-examples/)."
      ]
    }
  ],
  "metadata": {
    "accelerator": "GPU",
    "colab": {
      "collapsed_sections": [
        "license"
      ],
      "name": "Retrain EfficientDet-Lite detector for the Edge TPU (TF2)",
      "private_outputs": true,
      "provenance": []
    },
    "kernelspec": {
      "display_name": "Python 3 (ipykernel)",
      "language": "python",
      "name": "python3"
    },
    "language_info": {
      "codemirror_mode": {
        "name": "ipython",
        "version": 3
      },
      "file_extension": ".py",
      "mimetype": "text/x-python",
      "name": "python",
      "nbconvert_exporter": "python",
      "pygments_lexer": "ipython3",
      "version": "3.9.18"
    }
  },
  "nbformat": 4,
  "nbformat_minor": 0
}
