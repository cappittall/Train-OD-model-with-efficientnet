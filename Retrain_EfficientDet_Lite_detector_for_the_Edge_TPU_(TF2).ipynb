{
  "cells": [
    {
      "cell_type": "markdown",
      "metadata": {
        "id": "license"
      },
      "source": [
        "##### *Copyright 2021 Google LLC*\n",
        "*Licensed under the Apache License, Version 2.0 (the \"License\")*"
      ]
    },
    {
      "cell_type": "code",
      "execution_count": null,
      "metadata": {
        "cellView": "both",
        "id": "rKwqeqWBXANA"
      },
      "outputs": [],
      "source": [
        "# Licensed under the Apache License, Version 2.0 (the \"License\");\n",
        "# you may not use this file except in compliance with the License.\n",
        "# You may obtain a copy of the License at\n",
        "#\n",
        "# https://www.apache.org/licenses/LICENSE-2.0\n",
        "#\n",
        "# Unless required by applicable law or agreed to in writing, software\n",
        "# distributed under the License is distributed on an \"AS IS\" BASIS,\n",
        "# WITHOUT WARRANTIES OR CONDITIONS OF ANY KIND, either express or implied.\n",
        "# See the License for the specific language governing permissions and\n",
        "# limitations under the License."
      ]
    },
    {
      "cell_type": "markdown",
      "metadata": {
        "id": "Gb7qyhNL1yWt"
      },
      "source": [
        "# Retrain EfficientDet for the Edge TPU with TensorFlow Lite Model Maker"
      ]
    },
    {
      "cell_type": "markdown",
      "metadata": {
        "id": "sr3q-gvm3cI8"
      },
      "source": [
        "In this tutorial, we'll retrain the EfficientDet-Lite object detection model (derived from [EfficientDet](https://ai.googleblog.com/2020/04/efficientdet-towards-scalable-and.html)) using the [TensorFlow Lite Model Maker library](https://www.tensorflow.org/lite/guide/model_maker), and then compile it to run on the [Coral Edge TPU](https://www.coral.ai/products/). All in about 30 minutes.\n",
        "\n",
        "By default, we'll retrain the model using a publicly available dataset of salad photos, teaching the model to recognize a salad and some of the ingredients. But we've also provided code so you can upload your own training dataset in the Pascal VOC XML format.\n",
        "\n",
        "Here's an example of the salad training results:\n",
        "\n",
        "<img src=\"https://storage.googleapis.com/site_and_emails_static_assets/Images/efficientdet-salads.png?\" width=\"400\" hspace=\"0\">\n",
        "\n",
        "\n"
      ]
    },
    {
      "cell_type": "markdown",
      "metadata": {
        "id": "zHZyMPbMsAns"
      },
      "source": [
        "<a href=\"https://colab.research.google.com/github/google-coral/tutorials/blob/master/retrain_efficientdet_model_maker_tf2.ipynb\" target=\"_parent\"><img src=\"https://colab.research.google.com/assets/colab-badge.svg\" alt=\"Open in Colab\"></a>\n",
        "&nbsp;&nbsp;&nbsp;&nbsp;\n",
        "<a href=\"https://github.com/google-coral/tutorials/blob/master/retrain_efficientdet_model_maker_tf2.ipynb\" target=\"_parent\"><img src=\"https://img.shields.io/static/v1?logo=GitHub&label=&color=333333&style=flat&message=View%20on%20GitHub\" alt=\"View in GitHub\"></a>\n"
      ]
    },
    {
      "cell_type": "markdown",
      "metadata": {
        "id": "PzoNZRp4sVxK"
      },
      "source": [
        "If you want to run the notebook with the salad dataset, you can run the whole thing now by clicking **Runtime > Run all** in the Colab toolbar. But if you want to use your own dataset, then continue down to [Load the training data](#scrollTo=H0XM-oIfhgQ7) and follow the instructions there.\n",
        "\n",
        "**Note:** If using a custom dataset, beware that if your dataset includes more than 20 classes, you'll probably have slower inference speeds compared to if you have fewer classes. This is due to an aspect of the EfficientDet architecture in which a certain layer cannot compile for the Edge TPU when it carries more than 20 classes."
      ]
    },
    {
      "cell_type": "code",
      "execution_count": 1,
      "metadata": {},
      "outputs": [
        {
          "name": "stdout",
          "output_type": "stream",
          "text": [
            "Reading package lists... Done\n",
            "Building dependency tree       \n",
            "Reading state information... Done\n",
            "libusb-1.0-0 is already the newest version (2:1.0.23-2build1).\n",
            "0 upgraded, 0 newly installed, 0 to remove and 5 not upgraded.\n",
            "Requirement already satisfied: pycocotools in ./.conda/lib/python3.9/site-packages (2.0.7)\n",
            "Requirement already satisfied: matplotlib>=2.1.0 in ./.conda/lib/python3.9/site-packages (from pycocotools) (3.7.2)\n",
            "Requirement already satisfied: numpy in ./.conda/lib/python3.9/site-packages (from pycocotools) (1.23.4)\n",
            "Requirement already satisfied: contourpy>=1.0.1 in ./.conda/lib/python3.9/site-packages (from matplotlib>=2.1.0->pycocotools) (1.1.0)\n",
            "Requirement already satisfied: cycler>=0.10 in ./.conda/lib/python3.9/site-packages (from matplotlib>=2.1.0->pycocotools) (0.10.0)\n",
            "Requirement already satisfied: fonttools>=4.22.0 in ./.conda/lib/python3.9/site-packages (from matplotlib>=2.1.0->pycocotools) (4.42.1)\n",
            "Requirement already satisfied: kiwisolver>=1.0.1 in ./.conda/lib/python3.9/site-packages (from matplotlib>=2.1.0->pycocotools) (1.4.5)\n",
            "Requirement already satisfied: packaging>=20.0 in ./.conda/lib/python3.9/site-packages (from matplotlib>=2.1.0->pycocotools) (20.9)\n",
            "Requirement already satisfied: pillow>=6.2.0 in ./.conda/lib/python3.9/site-packages (from matplotlib>=2.1.0->pycocotools) (9.5.0)\n",
            "Requirement already satisfied: pyparsing<3.1,>=2.3.1 in ./.conda/lib/python3.9/site-packages (from matplotlib>=2.1.0->pycocotools) (2.4.7)\n",
            "Requirement already satisfied: python-dateutil>=2.7 in ./.conda/lib/python3.9/site-packages (from matplotlib>=2.1.0->pycocotools) (2.8.2)\n",
            "Requirement already satisfied: importlib-resources>=3.2.0 in ./.conda/lib/python3.9/site-packages (from matplotlib>=2.1.0->pycocotools) (6.0.1)\n",
            "Requirement already satisfied: six in ./.conda/lib/python3.9/site-packages (from cycler>=0.10->matplotlib>=2.1.0->pycocotools) (1.16.0)\n",
            "Requirement already satisfied: zipp>=3.1.0 in ./.conda/lib/python3.9/site-packages (from importlib-resources>=3.2.0->matplotlib>=2.1.0->pycocotools) (3.16.2)\n",
            "Requirement already satisfied: tqdm in ./.conda/lib/python3.9/site-packages (4.66.1)\n",
            "Reading package lists... Done\n",
            "Building dependency tree       \n",
            "Reading state information... Done\n",
            "libgl1 is already the newest version (1.3.2-1~ubuntu0.20.04.2).\n",
            "0 upgraded, 0 newly installed, 0 to remove and 5 not upgraded.\n"
          ]
        }
      ],
      "source": [
        "!sudo apt-get install libusb-1.0-0\n",
        "!pip install pycocotools\n",
        "!pip install tqdm\n",
        "!sudo apt-get install libgl1 -y"
      ]
    },
    {
      "cell_type": "markdown",
      "metadata": {
        "id": "2vvAObmTqglq"
      },
      "source": [
        "## Import the required packages"
      ]
    },
    {
      "cell_type": "code",
      "execution_count": 2,
      "metadata": {
        "id": "XtxiUeZEiXpt"
      },
      "outputs": [
        {
          "name": "stderr",
          "output_type": "stream",
          "text": [
            "2023-09-05 16:54:07.022397: W tensorflow/stream_executor/platform/default/dso_loader.cc:64] Could not load dynamic library 'libcudart.so.11.0'; dlerror: libcudart.so.11.0: cannot open shared object file: No such file or directory\n",
            "2023-09-05 16:54:07.022427: I tensorflow/stream_executor/cuda/cudart_stub.cc:29] Ignore above cudart dlerror if you do not have a GPU set up on your machine.\n",
            "/workspaces/codespaces-jupyter/.conda/lib/python3.9/site-packages/tensorflow_addons/utils/tfa_eol_msg.py:23: UserWarning: \n",
            "\n",
            "TensorFlow Addons (TFA) has ended development and introduction of new features.\n",
            "TFA has entered a minimal maintenance and release mode until a planned end of life in May 2024.\n",
            "Please modify downstream libraries to take dependencies from other repositories in our TensorFlow community (e.g. Keras, Keras-CV, and Keras-NLP). \n",
            "\n",
            "For more information see: https://github.com/tensorflow/addons/issues/2807 \n",
            "\n",
            "  warnings.warn(\n",
            "/workspaces/codespaces-jupyter/.conda/lib/python3.9/site-packages/tensorflow_addons/utils/ensure_tf_install.py:53: UserWarning: Tensorflow Addons supports using Python ops for all Tensorflow versions above or equal to 2.11.0 and strictly below 2.14.0 (nightly versions are not supported). \n",
            " The versions of TensorFlow you are currently using is 2.8.4 and is not supported. \n",
            "Some things might work, some things might not.\n",
            "If you were to encounter a bug, do not file an issue.\n",
            "If you want to make sure you're using a tested and supported configuration, either change the TensorFlow version or the TensorFlow Addons's version. \n",
            "You can find the compatibility matrix in TensorFlow Addon's readme:\n",
            "https://github.com/tensorflow/addons\n",
            "  warnings.warn(\n",
            "/workspaces/codespaces-jupyter/.conda/lib/python3.9/site-packages/tqdm/auto.py:21: TqdmWarning: IProgress not found. Please update jupyter and ipywidgets. See https://ipywidgets.readthedocs.io/en/stable/user_install.html\n",
            "  from .autonotebook import tqdm as notebook_tqdm\n"
          ]
        }
      ],
      "source": [
        "import numpy as np\n",
        "import os\n",
        "\n",
        "from tflite_model_maker.config import ExportFormat\n",
        "from tflite_model_maker import model_spec\n",
        "from tflite_model_maker import object_detector\n",
        "\n",
        "import tensorflow as tf\n",
        "assert tf.__version__.startswith('2')\n",
        "\n",
        "tf.get_logger().setLevel('ERROR')\n",
        "from absl import logging\n",
        "logging.set_verbosity(logging.ERROR)\n",
        "\n"
      ]
    },
    {
      "cell_type": "markdown",
      "metadata": {
        "id": "H0XM-oIfhgQ7"
      },
      "source": [
        "## Load the training data\n"
      ]
    },
    {
      "cell_type": "markdown",
      "metadata": {
        "id": "QusnAYjwM3uq"
      },
      "source": [
        "To use the default salad training dataset, just run all the code below as-is.\n",
        "\n",
        "But if you want to train with your own image dataset, follow these steps:\n",
        "\n",
        "1. Be sure your dataset is annotated in Pascal VOC XML (various tools can help create VOC annotations, such as [LabelImg](https://github.com/tzutalin/labelImg#labelimg)). Then create a ZIP file with all your JPG images and XML files (JPG and XML files can all be in one directory or in separate directories).\n",
        "2. Click the **Files** tab in the left panel and just drag-drop your ZIP file there to upload it.\n",
        "3. Use the following drop-down option to set **`use_custom_dataset`** to True.\n",
        "4. If your dataset is already split into separate directories for training, validation, and testing, also set **`dataset_is_split`** to True. (If your dataset is not split, leave it False and we'll split it below.)\n",
        "5. Then skip to [Load your own Pascal VOC dataset](#scrollTo=ZljJ25RAnj5x) and follow the rest of the instructions there.\n",
        "\n",
        "\n"
      ]
    },
    {
      "cell_type": "code",
      "execution_count": 3,
      "metadata": {
        "cellView": "form",
        "id": "wVQ2VQu7MuQa"
      },
      "outputs": [],
      "source": [
        "use_custom_dataset = True #@param [\"False\", \"True\"] {type:\"raw\"}\n",
        "\n",
        "dataset_is_split = False #@param [\"False\", \"True\"] {type:\"raw\"}"
      ]
    },
    {
      "cell_type": "markdown",
      "metadata": {
        "id": "-9VoZ_Rud2V3"
      },
      "source": [
        "### Load the salads CSV dataset"
      ]
    },
    {
      "cell_type": "markdown",
      "metadata": {
        "id": "BRd13bfetO7B"
      },
      "source": [
        "\n",
        "\n",
        "Model Maker requires that we load our dataset using the [`DataLoader`](https://www.tensorflow.org/lite/api_docs/python/tflite_model_maker/object_detector/DataLoader) API. So in this case, we'll load it from a CSV file that defines 175 images for training, 25 images for validation, and 25 images for testing.\n",
        "\n",
        "\n"
      ]
    },
    {
      "cell_type": "code",
      "execution_count": 4,
      "metadata": {
        "id": "04ObtdneqvP5"
      },
      "outputs": [],
      "source": [
        "if not use_custom_dataset:\n",
        "  train_data, validation_data, test_data = object_detector.DataLoader.from_csv('gs://cloud-ml-data/img/openimage/csv/salads_ml_use.csv')"
      ]
    },
    {
      "cell_type": "markdown",
      "metadata": {
        "id": "7W0Njyxoq0gH"
      },
      "source": [
        "If you want to load your own dataset as a CSV file, you can learn more about the format in [Formatting a training data CSV](https://cloud.google.com/vision/automl/object-detection/docs/csv-format). You can load your CSV either from [Cloud Storage](https://cloud.google.com/storage) (as shown above) or from a local path.\n",
        "\n",
        "[`DataLoader`](https://www.tensorflow.org/lite/api_docs/python/tflite_model_maker/object_detector/DataLoader) can also load your dataset in other formats, such as from a set of TFRecord files or from a local directory using the Pascal VOC format (shown below for a custom dataset)."
      ]
    },
    {
      "cell_type": "markdown",
      "metadata": {
        "id": "ZljJ25RAnj5x"
      },
      "source": [
        "### (Optional) Load your own Pascal VOC dataset"
      ]
    },
    {
      "cell_type": "markdown",
      "metadata": {
        "id": "Ei5BahmPn_wR"
      },
      "source": [
        "To use your custom dataset, you need to modify a few variables here, such as your ZIP filename, your label map, and the path to your images/annotations:"
      ]
    },
    {
      "cell_type": "code",
      "execution_count": 14,
      "metadata": {},
      "outputs": [
        {
          "name": "stdout",
          "output_type": "stream",
          "text": [
            "loading Roboflow workspace...\n",
            "loading Roboflow project...\n",
            "Downloading Dataset Version Zip in unknown-detection-in-chocolate-box---11 to voc: 100% [5713740 / 5713740] bytes\n"
          ]
        },
        {
          "name": "stderr",
          "output_type": "stream",
          "text": [
            "Extracting Dataset Version Zip to unknown-detection-in-chocolate-box---11 in voc:: 100%|██████████| 512/512 [00:00<00:00, 9049.16it/s]\n"
          ]
        }
      ],
      "source": [
        "from roboflow import Roboflow\n",
        "rf = Roboflow(api_key=\"uaiFsEAxwBO5dsU12XBh\")\n",
        "project = rf.workspace(\"hakan-cetin-gh6rr\").project(\"unknown-detection-in-chocolate-box\")\n",
        "dataset = project.version(11).download(\"voc\")"
      ]
    },
    {
      "cell_type": "code",
      "execution_count": 18,
      "metadata": {},
      "outputs": [
        {
          "name": "stdout",
          "output_type": "stream",
          "text": [
            "loading Roboflow workspace...\n",
            "loading Roboflow project...\n",
            "Downloading Dataset Version Zip in unknown-detection-in-chocolate-box---12 to voc: 100% [17036813 / 17036813] bytes\n"
          ]
        },
        {
          "name": "stderr",
          "output_type": "stream",
          "text": [
            "Extracting Dataset Version Zip to unknown-detection-in-chocolate-box---12 in voc:: 100%|██████████| 1428/1428 [00:00<00:00, 8685.11it/s]\n"
          ]
        }
      ],
      "source": [
        "#!pip install roboflow\n",
        "\n",
        "from roboflow import Roboflow\n",
        "rf = Roboflow(api_key=\"uaiFsEAxwBO5dsU12XBh\")\n",
        "project = rf.workspace(\"hakan-cetin-gh6rr\").project(\"unknown-detection-in-chocolate-box\")\n",
        "dataset = project.version(12).download(\"voc\")"
      ]
    },
    {
      "cell_type": "code",
      "execution_count": 22,
      "metadata": {},
      "outputs": [],
      "source": [
        "!mv dataset/train/*.xml dataset/annotations/\n",
        "!mv dataset/valid/*.xml dataset/annotations/"
      ]
    },
    {
      "cell_type": "code",
      "execution_count": 6,
      "metadata": {
        "id": "mz_suhWiqc7A"
      },
      "outputs": [],
      "source": [
        "if use_custom_dataset:\n",
        "\n",
        "  # The ZIP file you uploaded:\n",
        "  #!unzip dataset.zip\n",
        "\n",
        "  # Your labels map as a dictionary (zero is reserved):\n",
        "  label_map = {1: 'ym'}\n",
        "\n",
        "  if dataset_is_split:\n",
        "    # If your dataset is already split, specify each path:\n",
        "    train_images_dir = 'dataset/train/images'\n",
        "    train_annotations_dir = 'dataset/train/annotations'\n",
        "    val_images_dir = 'dataset/validation/images'\n",
        "    val_annotations_dir = 'dataset/validation/annotations'\n",
        "    test_images_dir = 'dataset/test/images'\n",
        "    test_annotations_dir = 'dataset/test/annotations'\n",
        "  else:\n",
        "    # If it's NOT split yet, specify the path to all images and annotations\n",
        "    images_in = 'dataset/images'\n",
        "    annotations_in = 'dataset/annotations'\n"
      ]
    },
    {
      "cell_type": "markdown",
      "metadata": {
        "id": "d8Rh3IWRb0xw"
      },
      "source": [
        "Now you're ready to train the model with your custom dataset. But before you run the notebook, you should also skip to the [Export to TensorFlow Lite](#scrollTo=_yB_XMpqGlLs) section and change the `TFLITE_FILENAME` and `LABLES_FILENAME` for your exported files.\n",
        "\n",
        "Then run the whole notebook by clicking **Runtime > Run all**."
      ]
    },
    {
      "cell_type": "code",
      "execution_count": 7,
      "metadata": {
        "cellView": "form",
        "id": "C35meprE8xzf"
      },
      "outputs": [],
      "source": [
        "#@markdown Be sure you run this cell. It's hiding the `split_dataset()` function used in the next code block.\n",
        "\n",
        "import os\n",
        "import random\n",
        "import shutil\n",
        "\n",
        "def split_dataset(images_path, annotations_path, val_split, test_split, out_path):\n",
        "  \"\"\"Splits a directory of sorted images/annotations into training, validation, and test sets.\n",
        "\n",
        "  Args:\n",
        "    images_path: Path to the directory with your images (JPGs).\n",
        "    annotations_path: Path to a directory with your VOC XML annotation files,\n",
        "      with filenames corresponding to image filenames. This may be the same path\n",
        "      used for images_path.\n",
        "    val_split: Fraction of data to reserve for validation (float between 0 and 1).\n",
        "    test_split: Fraction of data to reserve for test (float between 0 and 1).\n",
        "  Returns:\n",
        "    The paths for the split images/annotations (train_dir, val_dir, test_dir)\n",
        "  \"\"\"\n",
        "  _, dirs, _ = next(os.walk(images_path))\n",
        "\n",
        "  train_dir = os.path.join(out_path, 'train')\n",
        "  val_dir = os.path.join(out_path, 'validation')\n",
        "  test_dir = os.path.join(out_path, 'test')\n",
        "\n",
        "  IMAGES_TRAIN_DIR = os.path.join(train_dir, 'images')\n",
        "  IMAGES_VAL_DIR = os.path.join(val_dir, 'images')\n",
        "  IMAGES_TEST_DIR = os.path.join(test_dir, 'images')\n",
        "  os.makedirs(IMAGES_TRAIN_DIR, exist_ok=True)\n",
        "  os.makedirs(IMAGES_VAL_DIR, exist_ok=True)\n",
        "  os.makedirs(IMAGES_TEST_DIR, exist_ok=True)\n",
        "\n",
        "  ANNOT_TRAIN_DIR = os.path.join(train_dir, 'annotations')\n",
        "  ANNOT_VAL_DIR = os.path.join(val_dir, 'annotations')\n",
        "  ANNOT_TEST_DIR = os.path.join(test_dir, 'annotations')\n",
        "  os.makedirs(ANNOT_TRAIN_DIR, exist_ok=True)\n",
        "  os.makedirs(ANNOT_VAL_DIR, exist_ok=True)\n",
        "  os.makedirs(ANNOT_TEST_DIR, exist_ok=True)\n",
        "\n",
        "  # Get all filenames for this dir, filtered by filetype\n",
        "  filenames = os.listdir(os.path.join(images_path))\n",
        "  filenames = [os.path.join(images_path, f) for f in filenames if (f.endswith('.jpg'))]\n",
        "  # Shuffle the files, deterministically\n",
        "  filenames.sort()\n",
        "  random.seed(42)\n",
        "  random.shuffle(filenames)\n",
        "  # Get exact number of images for validation and test; the rest is for training\n",
        "  val_count = int(len(filenames) * val_split)\n",
        "  test_count = int(len(filenames) * test_split)\n",
        "  for i, file in enumerate(filenames):\n",
        "    source_dir, filename = os.path.split(file)\n",
        "    annot_file = os.path.join(annotations_path, filename.replace(\".jpg\", \".xml\"))\n",
        "    if i < val_count:\n",
        "      shutil.copy(file, IMAGES_VAL_DIR)\n",
        "      shutil.copy(annot_file, ANNOT_VAL_DIR)\n",
        "    elif i < val_count + test_count:\n",
        "      shutil.copy(file, IMAGES_TEST_DIR)\n",
        "      shutil.copy(annot_file, ANNOT_TEST_DIR)\n",
        "    else:\n",
        "      shutil.copy(file, IMAGES_TRAIN_DIR)\n",
        "      shutil.copy(annot_file, ANNOT_TRAIN_DIR)\n",
        "  return (train_dir, val_dir, test_dir)"
      ]
    },
    {
      "cell_type": "code",
      "execution_count": 8,
      "metadata": {
        "id": "KWROlVNA54xZ"
      },
      "outputs": [
        {
          "name": "stdout",
          "output_type": "stream",
          "text": [
            "train count: 428\n",
            "validation count: 142\n",
            "test count: 142\n"
          ]
        }
      ],
      "source": [
        "# We need to instantiate a separate DataLoader for each split dataset\n",
        "if use_custom_dataset:\n",
        "  if dataset_is_split:\n",
        "    train_data = object_detector.DataLoader.from_pascal_voc(\n",
        "        train_images_dir, train_annotations_dir, label_map=label_map)\n",
        "    validation_data = object_detector.DataLoader.from_pascal_voc(\n",
        "        val_images_dir, val_annotations_dir, label_map=label_map)\n",
        "    test_data = object_detector.DataLoader.from_pascal_voc(\n",
        "        test_images_dir, test_annotations_dir, label_map=label_map)\n",
        "  else:\n",
        "    train_dir, val_dir, test_dir = split_dataset(images_in, annotations_in,\n",
        "                                                 val_split=0.2, test_split=0.2,\n",
        "                                                 out_path='split-dataset')\n",
        "    train_data = object_detector.DataLoader.from_pascal_voc(\n",
        "        os.path.join(train_dir, 'images'),\n",
        "        os.path.join(train_dir, 'annotations'), label_map=label_map)\n",
        "    validation_data = object_detector.DataLoader.from_pascal_voc(\n",
        "        os.path.join(val_dir, 'images'),\n",
        "        os.path.join(val_dir, 'annotations'), label_map=label_map)\n",
        "    test_data = object_detector.DataLoader.from_pascal_voc(\n",
        "        os.path.join(test_dir, 'images'),\n",
        "        os.path.join(test_dir, 'annotations'), label_map=label_map)\n",
        "\n",
        "  print(f'train count: {len(train_data)}')\n",
        "  print(f'validation count: {len(validation_data)}')\n",
        "  print(f'test count: {len(test_data)}')"
      ]
    },
    {
      "cell_type": "markdown",
      "metadata": {
        "id": "S8clx0KPutCM"
      },
      "source": [
        "## Select the model spec"
      ]
    },
    {
      "cell_type": "markdown",
      "metadata": {
        "id": "vn61LJ9QbOPi"
      },
      "source": [
        "Model Maker supports the EfficientDet-Lite family of object detection models that are compatible with the Edge TPU. (EfficientDet-Lite is derived from [EfficientDet](https://ai.googleblog.com/2020/04/efficientdet-towards-scalable-and.html), which offers state-of-the-art accuracy in a small model size). There are several model sizes you can choose from:\n",
        "\n",
        "|| Model architecture | Size(MB)* | Latency(ms)** | Average Precision*** |\n",
        "|-|--------------------|-----------|---------------|----------------------|\n",
        "|| EfficientDet-Lite0 | 5.7       | 37.4            | 30.4%               |\n",
        "|| EfficientDet-Lite1 | 7.6       | 56.3            | 34.3%               |\n",
        "|| EfficientDet-Lite2 | 10.2      | 104.6           | 36.0%               |\n",
        "|| EfficientDet-Lite3 | 14.4      | 107.6           | 39.4%               |\n",
        "| <td colspan=4><br><i>* File size of the compiled Edge TPU models. <br/>** Latency measured on a desktop CPU with a Coral USB Accelerator. <br/>*** Average Precision is the mAP (mean Average Precision) on the COCO 2017 validation dataset.</i></td> |\n",
        "\n",
        "Beware that the Lite2 and Lite3 models do not fit onto the Edge TPU's onboard memory, so you'll see even greater latency when using those, due to the cost of fetching data from the host system memory. Maybe this extra latency is okay for your application, but if it's not and you require the precision of the larger models, then you can [pipeline the model across multiple Edge TPUs](https://coral.ai/docs/edgetpu/pipeline/) (more about this when we compile the model below).\n",
        "\n",
        "For this tutorial, we'll use Lite0:"
      ]
    },
    {
      "cell_type": "code",
      "execution_count": 9,
      "metadata": {
        "id": "SM9gePHw9Jv1"
      },
      "outputs": [
        {
          "name": "stderr",
          "output_type": "stream",
          "text": [
            "2023-09-05 16:55:24.647254: W tensorflow/stream_executor/platform/default/dso_loader.cc:64] Could not load dynamic library 'libcuda.so.1'; dlerror: libcuda.so.1: cannot open shared object file: No such file or directory; LD_LIBRARY_PATH: /workspaces/codespaces-jupyter/.conda/lib/python3.9/site-packages/cv2/../../lib64:\n",
            "2023-09-05 16:55:24.647281: W tensorflow/stream_executor/cuda/cuda_driver.cc:269] failed call to cuInit: UNKNOWN ERROR (303)\n",
            "2023-09-05 16:55:24.647299: I tensorflow/stream_executor/cuda/cuda_diagnostics.cc:156] kernel driver does not appear to be running on this host (codespaces-4fce10): /proc/driver/nvidia/version does not exist\n",
            "2023-09-05 16:55:24.664986: I tensorflow/core/platform/cpu_feature_guard.cc:151] This TensorFlow binary is optimized with oneAPI Deep Neural Network Library (oneDNN) to use the following CPU instructions in performance-critical operations:  AVX2 FMA\n",
            "To enable them in other operations, rebuild TensorFlow with the appropriate compiler flags.\n"
          ]
        }
      ],
      "source": [
        "spec = object_detector.EfficientDetLite2Spec()"
      ]
    },
    {
      "cell_type": "markdown",
      "metadata": {
        "id": "rnCzdzs0-Rbo"
      },
      "source": [
        "The [`EfficientDetLite0Spec`](https://www.tensorflow.org/lite/api_docs/python/tflite_model_maker/object_detector/EfficientDetLite0Spec) constructor also supports several arguments that specify training options, such as the max number of detections (default is 25 for the TF Lite model) and whether to use Cloud TPUs for training. You can also use the constructor to specify the number of training epochs and the batch size, but you can also specify those in the next step."
      ]
    },
    {
      "cell_type": "markdown",
      "metadata": {
        "id": "5qjq2UEHCLUi"
      },
      "source": [
        "## Create and train the model"
      ]
    },
    {
      "cell_type": "markdown",
      "metadata": {
        "id": "2uZkLR6N6gDR"
      },
      "source": [
        "Now we need to create our model according to the model spec, load our dataset into the model, specify training parameters, and begin training.\n",
        "\n",
        "Using Model Maker, we accomplished all of that with [`create()`](https://www.tensorflow.org/lite/api_docs/python/tflite_model_maker/object_detector/create):"
      ]
    },
    {
      "cell_type": "code",
      "execution_count": 10,
      "metadata": {
        "id": "kwlYdTcg63xy"
      },
      "outputs": [
        {
          "name": "stdout",
          "output_type": "stream",
          "text": [
            "Epoch 1/100\n"
          ]
        },
        {
          "name": "stderr",
          "output_type": "stream",
          "text": [
            "2023-09-05 16:55:53.977402: W tensorflow/core/framework/dataset.cc:768] Input of GeneratorDatasetOp::Dataset will not be optimized because the dataset does not implement the AsGraphDefInternal() method needed to apply optimizations.\n"
          ]
        },
        {
          "name": "stdout",
          "output_type": "stream",
          "text": [
            "42/42 [==============================] - ETA: 0s - det_loss: 2.3107 - cls_loss: 1.0412 - box_loss: 0.0254 - reg_l2_loss: 0.0760 - loss: 2.3867 - learning_rate: 0.0102 - gradient_norm: 7.5526"
          ]
        },
        {
          "name": "stderr",
          "output_type": "stream",
          "text": [
            "2023-09-05 16:59:18.002341: W tensorflow/core/framework/dataset.cc:768] Input of GeneratorDatasetOp::Dataset will not be optimized because the dataset does not implement the AsGraphDefInternal() method needed to apply optimizations.\n"
          ]
        },
        {
          "name": "stdout",
          "output_type": "stream",
          "text": [
            "42/42 [==============================] - 227s 5s/step - det_loss: 2.2949 - cls_loss: 1.0382 - box_loss: 0.0251 - reg_l2_loss: 0.0760 - loss: 2.3708 - learning_rate: 0.0102 - gradient_norm: 7.6096 - val_det_loss: 2.8364 - val_cls_loss: 1.4703 - val_box_loss: 0.0273 - val_reg_l2_loss: 0.0762 - val_loss: 2.9126\n",
            "Epoch 2/100\n",
            "42/42 [==============================] - ETA: 0s - det_loss: 1.3826 - cls_loss: 0.5971 - box_loss: 0.0157 - reg_l2_loss: 0.0766 - loss: 1.4593 - learning_rate: 0.0125 - gradient_norm: 7.2073"
          ]
        },
        {
          "name": "stderr",
          "output_type": "stream",
          "text": [
            "2023-09-05 17:02:36.938318: W tensorflow/core/framework/dataset.cc:768] Input of GeneratorDatasetOp::Dataset will not be optimized because the dataset does not implement the AsGraphDefInternal() method needed to apply optimizations.\n"
          ]
        },
        {
          "name": "stdout",
          "output_type": "stream",
          "text": [
            "42/42 [==============================] - 197s 5s/step - det_loss: 1.3825 - cls_loss: 0.5954 - box_loss: 0.0157 - reg_l2_loss: 0.0766 - loss: 1.4591 - learning_rate: 0.0125 - gradient_norm: 7.2723 - val_det_loss: 2.9723 - val_cls_loss: 1.3235 - val_box_loss: 0.0330 - val_reg_l2_loss: 0.0770 - val_loss: 3.0492\n",
            "Epoch 3/100\n",
            "42/42 [==============================] - ETA: 0s - det_loss: 1.3807 - cls_loss: 0.5388 - box_loss: 0.0168 - reg_l2_loss: 0.0772 - loss: 1.4579 - learning_rate: 0.0125 - gradient_norm: 7.0520"
          ]
        },
        {
          "name": "stderr",
          "output_type": "stream",
          "text": [
            "2023-09-05 17:05:53.709407: W tensorflow/core/framework/dataset.cc:768] Input of GeneratorDatasetOp::Dataset will not be optimized because the dataset does not implement the AsGraphDefInternal() method needed to apply optimizations.\n"
          ]
        },
        {
          "name": "stdout",
          "output_type": "stream",
          "text": [
            "42/42 [==============================] - 189s 5s/step - det_loss: 1.3784 - cls_loss: 0.5407 - box_loss: 0.0168 - reg_l2_loss: 0.0772 - loss: 1.4557 - learning_rate: 0.0125 - gradient_norm: 7.0061 - val_det_loss: 3.6240 - val_cls_loss: 1.9410 - val_box_loss: 0.0337 - val_reg_l2_loss: 0.0775 - val_loss: 3.7016\n",
            "Epoch 4/100\n",
            "42/42 [==============================] - ETA: 0s - det_loss: 1.2702 - cls_loss: 0.5021 - box_loss: 0.0154 - reg_l2_loss: 0.0777 - loss: 1.3479 - learning_rate: 0.0125 - gradient_norm: 5.3959"
          ]
        },
        {
          "name": "stderr",
          "output_type": "stream",
          "text": [
            "2023-09-05 17:09:03.298796: W tensorflow/core/framework/dataset.cc:768] Input of GeneratorDatasetOp::Dataset will not be optimized because the dataset does not implement the AsGraphDefInternal() method needed to apply optimizations.\n"
          ]
        },
        {
          "name": "stdout",
          "output_type": "stream",
          "text": [
            "42/42 [==============================] - 189s 5s/step - det_loss: 1.2685 - cls_loss: 0.5063 - box_loss: 0.0152 - reg_l2_loss: 0.0778 - loss: 1.3462 - learning_rate: 0.0125 - gradient_norm: 5.4107 - val_det_loss: 5.2085 - val_cls_loss: 4.1261 - val_box_loss: 0.0216 - val_reg_l2_loss: 0.0779 - val_loss: 5.2864\n",
            "Epoch 5/100\n",
            "42/42 [==============================] - ETA: 0s - det_loss: 1.0886 - cls_loss: 0.4610 - box_loss: 0.0126 - reg_l2_loss: 0.0781 - loss: 1.1666 - learning_rate: 0.0124 - gradient_norm: 4.4444"
          ]
        },
        {
          "name": "stderr",
          "output_type": "stream",
          "text": [
            "2023-09-05 17:12:11.801385: W tensorflow/core/framework/dataset.cc:768] Input of GeneratorDatasetOp::Dataset will not be optimized because the dataset does not implement the AsGraphDefInternal() method needed to apply optimizations.\n"
          ]
        },
        {
          "name": "stdout",
          "output_type": "stream",
          "text": [
            "42/42 [==============================] - 205s 5s/step - det_loss: 1.0834 - cls_loss: 0.4590 - box_loss: 0.0125 - reg_l2_loss: 0.0781 - loss: 1.1615 - learning_rate: 0.0124 - gradient_norm: 4.4394 - val_det_loss: 1.1092 - val_cls_loss: 0.5901 - val_box_loss: 0.0104 - val_reg_l2_loss: 0.0782 - val_loss: 1.1874\n",
            "Epoch 6/100\n",
            "42/42 [==============================] - ETA: 0s - det_loss: 0.9947 - cls_loss: 0.4220 - box_loss: 0.0115 - reg_l2_loss: 0.0783 - loss: 1.0730 - learning_rate: 0.0124 - gradient_norm: 4.3662"
          ]
        },
        {
          "name": "stderr",
          "output_type": "stream",
          "text": [
            "2023-09-05 17:15:37.916476: W tensorflow/core/framework/dataset.cc:768] Input of GeneratorDatasetOp::Dataset will not be optimized because the dataset does not implement the AsGraphDefInternal() method needed to apply optimizations.\n"
          ]
        },
        {
          "name": "stdout",
          "output_type": "stream",
          "text": [
            "42/42 [==============================] - 198s 5s/step - det_loss: 0.9927 - cls_loss: 0.4206 - box_loss: 0.0114 - reg_l2_loss: 0.0783 - loss: 1.0710 - learning_rate: 0.0124 - gradient_norm: 4.3718 - val_det_loss: 1.0653 - val_cls_loss: 0.4363 - val_box_loss: 0.0126 - val_reg_l2_loss: 0.0784 - val_loss: 1.1437\n",
            "Epoch 7/100\n",
            "42/42 [==============================] - ETA: 0s - det_loss: 0.8931 - cls_loss: 0.3738 - box_loss: 0.0104 - reg_l2_loss: 0.0785 - loss: 0.9716 - learning_rate: 0.0124 - gradient_norm: 3.7091"
          ]
        },
        {
          "name": "stderr",
          "output_type": "stream",
          "text": [
            "2023-09-05 17:18:55.092338: W tensorflow/core/framework/dataset.cc:768] Input of GeneratorDatasetOp::Dataset will not be optimized because the dataset does not implement the AsGraphDefInternal() method needed to apply optimizations.\n"
          ]
        },
        {
          "name": "stdout",
          "output_type": "stream",
          "text": [
            "42/42 [==============================] - 189s 4s/step - det_loss: 0.8932 - cls_loss: 0.3727 - box_loss: 0.0104 - reg_l2_loss: 0.0785 - loss: 0.9717 - learning_rate: 0.0124 - gradient_norm: 3.7006 - val_det_loss: 1.0021 - val_cls_loss: 0.3456 - val_box_loss: 0.0131 - val_reg_l2_loss: 0.0785 - val_loss: 1.0807\n",
            "Epoch 8/100\n",
            "42/42 [==============================] - ETA: 0s - det_loss: 0.9017 - cls_loss: 0.3741 - box_loss: 0.0106 - reg_l2_loss: 0.0786 - loss: 0.9803 - learning_rate: 0.0123 - gradient_norm: 3.7966"
          ]
        },
        {
          "name": "stderr",
          "output_type": "stream",
          "text": [
            "2023-09-05 17:22:04.143905: W tensorflow/core/framework/dataset.cc:768] Input of GeneratorDatasetOp::Dataset will not be optimized because the dataset does not implement the AsGraphDefInternal() method needed to apply optimizations.\n"
          ]
        },
        {
          "name": "stdout",
          "output_type": "stream",
          "text": [
            "42/42 [==============================] - 189s 5s/step - det_loss: 0.8989 - cls_loss: 0.3718 - box_loss: 0.0105 - reg_l2_loss: 0.0786 - loss: 0.9775 - learning_rate: 0.0123 - gradient_norm: 3.7794 - val_det_loss: 1.1480 - val_cls_loss: 0.3913 - val_box_loss: 0.0151 - val_reg_l2_loss: 0.0787 - val_loss: 1.2267\n",
            "Epoch 9/100\n",
            "42/42 [==============================] - ETA: 0s - det_loss: 0.8310 - cls_loss: 0.3551 - box_loss: 0.0095 - reg_l2_loss: 0.0787 - loss: 0.9097 - learning_rate: 0.0123 - gradient_norm: 3.7788"
          ]
        },
        {
          "name": "stderr",
          "output_type": "stream",
          "text": [
            "2023-09-05 17:25:13.320254: W tensorflow/core/framework/dataset.cc:768] Input of GeneratorDatasetOp::Dataset will not be optimized because the dataset does not implement the AsGraphDefInternal() method needed to apply optimizations.\n"
          ]
        },
        {
          "name": "stdout",
          "output_type": "stream",
          "text": [
            "42/42 [==============================] - 190s 5s/step - det_loss: 0.8285 - cls_loss: 0.3544 - box_loss: 0.0095 - reg_l2_loss: 0.0787 - loss: 0.9073 - learning_rate: 0.0123 - gradient_norm: 3.7830 - val_det_loss: 1.3843 - val_cls_loss: 0.7650 - val_box_loss: 0.0124 - val_reg_l2_loss: 0.0788 - val_loss: 1.4631\n",
            "Epoch 10/100\n",
            "42/42 [==============================] - ETA: 0s - det_loss: 0.7780 - cls_loss: 0.3468 - box_loss: 0.0086 - reg_l2_loss: 0.0789 - loss: 0.8569 - learning_rate: 0.0122 - gradient_norm: 3.5915"
          ]
        },
        {
          "name": "stderr",
          "output_type": "stream",
          "text": [
            "2023-09-05 17:28:22.849882: W tensorflow/core/framework/dataset.cc:768] Input of GeneratorDatasetOp::Dataset will not be optimized because the dataset does not implement the AsGraphDefInternal() method needed to apply optimizations.\n"
          ]
        },
        {
          "name": "stdout",
          "output_type": "stream",
          "text": [
            "42/42 [==============================] - 211s 5s/step - det_loss: 0.7807 - cls_loss: 0.3500 - box_loss: 0.0086 - reg_l2_loss: 0.0789 - loss: 0.8595 - learning_rate: 0.0122 - gradient_norm: 3.6051 - val_det_loss: 0.7467 - val_cls_loss: 0.3633 - val_box_loss: 0.0077 - val_reg_l2_loss: 0.0789 - val_loss: 0.8256\n",
            "Epoch 11/100\n",
            "42/42 [==============================] - ETA: 0s - det_loss: 0.8329 - cls_loss: 0.3730 - box_loss: 0.0092 - reg_l2_loss: 0.0790 - loss: 0.9119 - learning_rate: 0.0122 - gradient_norm: 3.7358"
          ]
        },
        {
          "name": "stderr",
          "output_type": "stream",
          "text": [
            "2023-09-05 17:31:53.941974: W tensorflow/core/framework/dataset.cc:768] Input of GeneratorDatasetOp::Dataset will not be optimized because the dataset does not implement the AsGraphDefInternal() method needed to apply optimizations.\n"
          ]
        },
        {
          "name": "stdout",
          "output_type": "stream",
          "text": [
            "42/42 [==============================] - 189s 5s/step - det_loss: 0.8280 - cls_loss: 0.3720 - box_loss: 0.0091 - reg_l2_loss: 0.0790 - loss: 0.9070 - learning_rate: 0.0122 - gradient_norm: 3.7109 - val_det_loss: 0.6232 - val_cls_loss: 0.2996 - val_box_loss: 0.0065 - val_reg_l2_loss: 0.0790 - val_loss: 0.7022\n",
            "Epoch 12/100\n",
            "42/42 [==============================] - ETA: 0s - det_loss: 0.7715 - cls_loss: 0.3538 - box_loss: 0.0084 - reg_l2_loss: 0.0791 - loss: 0.8506 - learning_rate: 0.0121 - gradient_norm: 3.5889"
          ]
        },
        {
          "name": "stderr",
          "output_type": "stream",
          "text": [
            "2023-09-05 17:35:02.631982: W tensorflow/core/framework/dataset.cc:768] Input of GeneratorDatasetOp::Dataset will not be optimized because the dataset does not implement the AsGraphDefInternal() method needed to apply optimizations.\n"
          ]
        },
        {
          "name": "stdout",
          "output_type": "stream",
          "text": [
            "42/42 [==============================] - 189s 4s/step - det_loss: 0.7693 - cls_loss: 0.3533 - box_loss: 0.0083 - reg_l2_loss: 0.0791 - loss: 0.8484 - learning_rate: 0.0121 - gradient_norm: 3.5845 - val_det_loss: 1.0159 - val_cls_loss: 0.4090 - val_box_loss: 0.0121 - val_reg_l2_loss: 0.0792 - val_loss: 1.0951\n",
            "Epoch 13/100\n",
            "42/42 [==============================] - ETA: 0s - det_loss: 0.7618 - cls_loss: 0.3366 - box_loss: 0.0085 - reg_l2_loss: 0.0792 - loss: 0.8410 - learning_rate: 0.0120 - gradient_norm: 3.6547"
          ]
        },
        {
          "name": "stderr",
          "output_type": "stream",
          "text": [
            "2023-09-05 17:38:11.178313: W tensorflow/core/framework/dataset.cc:768] Input of GeneratorDatasetOp::Dataset will not be optimized because the dataset does not implement the AsGraphDefInternal() method needed to apply optimizations.\n"
          ]
        },
        {
          "name": "stdout",
          "output_type": "stream",
          "text": [
            "42/42 [==============================] - 189s 5s/step - det_loss: 0.7652 - cls_loss: 0.3394 - box_loss: 0.0085 - reg_l2_loss: 0.0792 - loss: 0.8444 - learning_rate: 0.0120 - gradient_norm: 3.7556 - val_det_loss: 1.0282 - val_cls_loss: 0.5109 - val_box_loss: 0.0103 - val_reg_l2_loss: 0.0793 - val_loss: 1.1075\n",
            "Epoch 14/100\n",
            "42/42 [==============================] - ETA: 0s - det_loss: 0.8093 - cls_loss: 0.3166 - box_loss: 0.0099 - reg_l2_loss: 0.0793 - loss: 0.8886 - learning_rate: 0.0119 - gradient_norm: 3.5996"
          ]
        },
        {
          "name": "stderr",
          "output_type": "stream",
          "text": [
            "2023-09-05 17:41:20.188342: W tensorflow/core/framework/dataset.cc:768] Input of GeneratorDatasetOp::Dataset will not be optimized because the dataset does not implement the AsGraphDefInternal() method needed to apply optimizations.\n"
          ]
        },
        {
          "name": "stdout",
          "output_type": "stream",
          "text": [
            "42/42 [==============================] - 188s 4s/step - det_loss: 0.8080 - cls_loss: 0.3168 - box_loss: 0.0098 - reg_l2_loss: 0.0793 - loss: 0.8873 - learning_rate: 0.0119 - gradient_norm: 3.6142 - val_det_loss: 1.0064 - val_cls_loss: 0.4729 - val_box_loss: 0.0107 - val_reg_l2_loss: 0.0794 - val_loss: 1.0858\n",
            "Epoch 15/100\n",
            "42/42 [==============================] - ETA: 0s - det_loss: 0.7709 - cls_loss: 0.3320 - box_loss: 0.0088 - reg_l2_loss: 0.0794 - loss: 0.8504 - learning_rate: 0.0119 - gradient_norm: 3.4764"
          ]
        },
        {
          "name": "stderr",
          "output_type": "stream",
          "text": [
            "2023-09-05 17:44:30.698467: W tensorflow/core/framework/dataset.cc:768] Input of GeneratorDatasetOp::Dataset will not be optimized because the dataset does not implement the AsGraphDefInternal() method needed to apply optimizations.\n"
          ]
        },
        {
          "name": "stdout",
          "output_type": "stream",
          "text": [
            "42/42 [==============================] - 212s 5s/step - det_loss: 0.7707 - cls_loss: 0.3324 - box_loss: 0.0088 - reg_l2_loss: 0.0794 - loss: 0.8501 - learning_rate: 0.0118 - gradient_norm: 3.4711 - val_det_loss: 0.7404 - val_cls_loss: 0.3391 - val_box_loss: 0.0080 - val_reg_l2_loss: 0.0795 - val_loss: 0.8199\n",
            "Epoch 16/100\n",
            "42/42 [==============================] - ETA: 0s - det_loss: 0.7596 - cls_loss: 0.3282 - box_loss: 0.0086 - reg_l2_loss: 0.0795 - loss: 0.8391 - learning_rate: 0.0118 - gradient_norm: 3.1565"
          ]
        },
        {
          "name": "stderr",
          "output_type": "stream",
          "text": [
            "2023-09-05 17:48:01.995150: W tensorflow/core/framework/dataset.cc:768] Input of GeneratorDatasetOp::Dataset will not be optimized because the dataset does not implement the AsGraphDefInternal() method needed to apply optimizations.\n"
          ]
        },
        {
          "name": "stdout",
          "output_type": "stream",
          "text": [
            "42/42 [==============================] - 190s 5s/step - det_loss: 0.7573 - cls_loss: 0.3272 - box_loss: 0.0086 - reg_l2_loss: 0.0795 - loss: 0.8369 - learning_rate: 0.0118 - gradient_norm: 3.1543 - val_det_loss: 0.6917 - val_cls_loss: 0.3246 - val_box_loss: 0.0073 - val_reg_l2_loss: 0.0796 - val_loss: 0.7712\n",
            "Epoch 17/100\n",
            "42/42 [==============================] - ETA: 0s - det_loss: 0.7753 - cls_loss: 0.3307 - box_loss: 0.0089 - reg_l2_loss: 0.0796 - loss: 0.8549 - learning_rate: 0.0117 - gradient_norm: 3.5323"
          ]
        },
        {
          "name": "stderr",
          "output_type": "stream",
          "text": [
            "2023-09-05 17:51:10.921138: W tensorflow/core/framework/dataset.cc:768] Input of GeneratorDatasetOp::Dataset will not be optimized because the dataset does not implement the AsGraphDefInternal() method needed to apply optimizations.\n"
          ]
        },
        {
          "name": "stdout",
          "output_type": "stream",
          "text": [
            "42/42 [==============================] - 196s 5s/step - det_loss: 0.7771 - cls_loss: 0.3308 - box_loss: 0.0089 - reg_l2_loss: 0.0796 - loss: 0.8567 - learning_rate: 0.0117 - gradient_norm: 3.5464 - val_det_loss: 1.2635 - val_cls_loss: 0.6918 - val_box_loss: 0.0114 - val_reg_l2_loss: 0.0797 - val_loss: 1.3432\n",
            "Epoch 18/100\n",
            "42/42 [==============================] - ETA: 0s - det_loss: 0.7689 - cls_loss: 0.3180 - box_loss: 0.0090 - reg_l2_loss: 0.0797 - loss: 0.8486 - learning_rate: 0.0116 - gradient_norm: 3.1595"
          ]
        },
        {
          "name": "stderr",
          "output_type": "stream",
          "text": [
            "2023-09-05 17:54:26.816548: W tensorflow/core/framework/dataset.cc:768] Input of GeneratorDatasetOp::Dataset will not be optimized because the dataset does not implement the AsGraphDefInternal() method needed to apply optimizations.\n"
          ]
        },
        {
          "name": "stdout",
          "output_type": "stream",
          "text": [
            "42/42 [==============================] - 188s 4s/step - det_loss: 0.7713 - cls_loss: 0.3201 - box_loss: 0.0090 - reg_l2_loss: 0.0797 - loss: 0.8509 - learning_rate: 0.0116 - gradient_norm: 3.1777 - val_det_loss: 1.0391 - val_cls_loss: 0.4942 - val_box_loss: 0.0109 - val_reg_l2_loss: 0.0797 - val_loss: 1.1188\n",
            "Epoch 19/100\n",
            "42/42 [==============================] - ETA: 0s - det_loss: 0.6157 - cls_loss: 0.2796 - box_loss: 0.0067 - reg_l2_loss: 0.0797 - loss: 0.6954 - learning_rate: 0.0115 - gradient_norm: 2.7256"
          ]
        },
        {
          "name": "stderr",
          "output_type": "stream",
          "text": [
            "2023-09-05 17:57:34.657963: W tensorflow/core/framework/dataset.cc:768] Input of GeneratorDatasetOp::Dataset will not be optimized because the dataset does not implement the AsGraphDefInternal() method needed to apply optimizations.\n"
          ]
        },
        {
          "name": "stdout",
          "output_type": "stream",
          "text": [
            "42/42 [==============================] - 188s 4s/step - det_loss: 0.6182 - cls_loss: 0.2802 - box_loss: 0.0068 - reg_l2_loss: 0.0797 - loss: 0.6980 - learning_rate: 0.0115 - gradient_norm: 2.7434 - val_det_loss: 0.5955 - val_cls_loss: 0.2574 - val_box_loss: 0.0068 - val_reg_l2_loss: 0.0798 - val_loss: 0.6753\n",
            "Epoch 20/100\n",
            "42/42 [==============================] - ETA: 0s - det_loss: 0.6752 - cls_loss: 0.3021 - box_loss: 0.0075 - reg_l2_loss: 0.0798 - loss: 0.7550 - learning_rate: 0.0113 - gradient_norm: 3.0188"
          ]
        },
        {
          "name": "stderr",
          "output_type": "stream",
          "text": [
            "2023-09-05 18:00:42.399970: W tensorflow/core/framework/dataset.cc:768] Input of GeneratorDatasetOp::Dataset will not be optimized because the dataset does not implement the AsGraphDefInternal() method needed to apply optimizations.\n"
          ]
        },
        {
          "name": "stdout",
          "output_type": "stream",
          "text": [
            "42/42 [==============================] - 202s 5s/step - det_loss: 0.6718 - cls_loss: 0.3018 - box_loss: 0.0074 - reg_l2_loss: 0.0798 - loss: 0.7516 - learning_rate: 0.0113 - gradient_norm: 2.9959 - val_det_loss: 1.2237 - val_cls_loss: 0.6329 - val_box_loss: 0.0118 - val_reg_l2_loss: 0.0798 - val_loss: 1.3035\n",
            "Epoch 21/100\n",
            "42/42 [==============================] - ETA: 0s - det_loss: 0.6764 - cls_loss: 0.2977 - box_loss: 0.0076 - reg_l2_loss: 0.0798 - loss: 0.7562 - learning_rate: 0.0112 - gradient_norm: 2.9515"
          ]
        },
        {
          "name": "stderr",
          "output_type": "stream",
          "text": [
            "2023-09-05 18:04:04.716302: W tensorflow/core/framework/dataset.cc:768] Input of GeneratorDatasetOp::Dataset will not be optimized because the dataset does not implement the AsGraphDefInternal() method needed to apply optimizations.\n"
          ]
        },
        {
          "name": "stdout",
          "output_type": "stream",
          "text": [
            "42/42 [==============================] - 188s 4s/step - det_loss: 0.6778 - cls_loss: 0.2981 - box_loss: 0.0076 - reg_l2_loss: 0.0798 - loss: 0.7576 - learning_rate: 0.0112 - gradient_norm: 2.9671 - val_det_loss: 0.6484 - val_cls_loss: 0.2321 - val_box_loss: 0.0083 - val_reg_l2_loss: 0.0799 - val_loss: 0.7283\n",
            "Epoch 22/100\n",
            "42/42 [==============================] - ETA: 0s - det_loss: 0.6146 - cls_loss: 0.2708 - box_loss: 0.0069 - reg_l2_loss: 0.0799 - loss: 0.6944 - learning_rate: 0.0111 - gradient_norm: 2.8264"
          ]
        },
        {
          "name": "stderr",
          "output_type": "stream",
          "text": [
            "2023-09-05 18:07:12.426430: W tensorflow/core/framework/dataset.cc:768] Input of GeneratorDatasetOp::Dataset will not be optimized because the dataset does not implement the AsGraphDefInternal() method needed to apply optimizations.\n"
          ]
        },
        {
          "name": "stdout",
          "output_type": "stream",
          "text": [
            "42/42 [==============================] - 196s 5s/step - det_loss: 0.6109 - cls_loss: 0.2694 - box_loss: 0.0068 - reg_l2_loss: 0.0799 - loss: 0.6908 - learning_rate: 0.0111 - gradient_norm: 2.7982 - val_det_loss: 0.5414 - val_cls_loss: 0.2364 - val_box_loss: 0.0061 - val_reg_l2_loss: 0.0799 - val_loss: 0.6213\n",
            "Epoch 23/100\n",
            "42/42 [==============================] - ETA: 0s - det_loss: 0.6689 - cls_loss: 0.3012 - box_loss: 0.0074 - reg_l2_loss: 0.0799 - loss: 0.7488 - learning_rate: 0.0110 - gradient_norm: 3.2864"
          ]
        },
        {
          "name": "stderr",
          "output_type": "stream",
          "text": [
            "2023-09-05 18:10:28.313941: W tensorflow/core/framework/dataset.cc:768] Input of GeneratorDatasetOp::Dataset will not be optimized because the dataset does not implement the AsGraphDefInternal() method needed to apply optimizations.\n"
          ]
        },
        {
          "name": "stdout",
          "output_type": "stream",
          "text": [
            "42/42 [==============================] - 188s 4s/step - det_loss: 0.6678 - cls_loss: 0.3012 - box_loss: 0.0073 - reg_l2_loss: 0.0799 - loss: 0.7478 - learning_rate: 0.0110 - gradient_norm: 3.2843 - val_det_loss: 0.5541 - val_cls_loss: 0.2724 - val_box_loss: 0.0056 - val_reg_l2_loss: 0.0800 - val_loss: 0.6341\n",
            "Epoch 24/100\n",
            "42/42 [==============================] - ETA: 0s - det_loss: 0.6916 - cls_loss: 0.2996 - box_loss: 0.0078 - reg_l2_loss: 0.0800 - loss: 0.7716 - learning_rate: 0.0108 - gradient_norm: 3.4230"
          ]
        },
        {
          "name": "stderr",
          "output_type": "stream",
          "text": [
            "2023-09-05 18:13:36.383093: W tensorflow/core/framework/dataset.cc:768] Input of GeneratorDatasetOp::Dataset will not be optimized because the dataset does not implement the AsGraphDefInternal() method needed to apply optimizations.\n"
          ]
        },
        {
          "name": "stdout",
          "output_type": "stream",
          "text": [
            "42/42 [==============================] - 187s 4s/step - det_loss: 0.6916 - cls_loss: 0.3003 - box_loss: 0.0078 - reg_l2_loss: 0.0800 - loss: 0.7716 - learning_rate: 0.0108 - gradient_norm: 3.4133 - val_det_loss: 0.6155 - val_cls_loss: 0.2672 - val_box_loss: 0.0070 - val_reg_l2_loss: 0.0800 - val_loss: 0.6955\n",
            "Epoch 25/100\n",
            "42/42 [==============================] - ETA: 0s - det_loss: 0.6537 - cls_loss: 0.2877 - box_loss: 0.0073 - reg_l2_loss: 0.0801 - loss: 0.7338 - learning_rate: 0.0107 - gradient_norm: 2.8328"
          ]
        },
        {
          "name": "stderr",
          "output_type": "stream",
          "text": [
            "2023-09-05 18:16:44.091905: W tensorflow/core/framework/dataset.cc:768] Input of GeneratorDatasetOp::Dataset will not be optimized because the dataset does not implement the AsGraphDefInternal() method needed to apply optimizations.\n"
          ]
        },
        {
          "name": "stdout",
          "output_type": "stream",
          "text": [
            "42/42 [==============================] - 202s 5s/step - det_loss: 0.6531 - cls_loss: 0.2882 - box_loss: 0.0073 - reg_l2_loss: 0.0801 - loss: 0.7331 - learning_rate: 0.0107 - gradient_norm: 2.8427 - val_det_loss: 0.5554 - val_cls_loss: 0.2221 - val_box_loss: 0.0067 - val_reg_l2_loss: 0.0801 - val_loss: 0.6355\n",
            "Epoch 26/100\n",
            "42/42 [==============================] - ETA: 0s - det_loss: 0.5853 - cls_loss: 0.2643 - box_loss: 0.0064 - reg_l2_loss: 0.0801 - loss: 0.6654 - learning_rate: 0.0106 - gradient_norm: 2.8210"
          ]
        },
        {
          "name": "stderr",
          "output_type": "stream",
          "text": [
            "2023-09-05 18:20:05.632589: W tensorflow/core/framework/dataset.cc:768] Input of GeneratorDatasetOp::Dataset will not be optimized because the dataset does not implement the AsGraphDefInternal() method needed to apply optimizations.\n"
          ]
        },
        {
          "name": "stdout",
          "output_type": "stream",
          "text": [
            "42/42 [==============================] - 188s 4s/step - det_loss: 0.5815 - cls_loss: 0.2629 - box_loss: 0.0064 - reg_l2_loss: 0.0801 - loss: 0.6616 - learning_rate: 0.0106 - gradient_norm: 2.7987 - val_det_loss: 0.6707 - val_cls_loss: 0.2405 - val_box_loss: 0.0086 - val_reg_l2_loss: 0.0801 - val_loss: 0.7508\n",
            "Epoch 27/100\n",
            "42/42 [==============================] - ETA: 0s - det_loss: 0.6131 - cls_loss: 0.2701 - box_loss: 0.0069 - reg_l2_loss: 0.0802 - loss: 0.6932 - learning_rate: 0.0104 - gradient_norm: 3.0092"
          ]
        },
        {
          "name": "stderr",
          "output_type": "stream",
          "text": [
            "2023-09-05 18:23:13.605135: W tensorflow/core/framework/dataset.cc:768] Input of GeneratorDatasetOp::Dataset will not be optimized because the dataset does not implement the AsGraphDefInternal() method needed to apply optimizations.\n"
          ]
        },
        {
          "name": "stdout",
          "output_type": "stream",
          "text": [
            "42/42 [==============================] - 196s 5s/step - det_loss: 0.6108 - cls_loss: 0.2694 - box_loss: 0.0068 - reg_l2_loss: 0.0802 - loss: 0.6909 - learning_rate: 0.0104 - gradient_norm: 3.0035 - val_det_loss: 0.6951 - val_cls_loss: 0.2819 - val_box_loss: 0.0083 - val_reg_l2_loss: 0.0802 - val_loss: 0.7753\n",
            "Epoch 28/100\n",
            "42/42 [==============================] - ETA: 0s - det_loss: 0.6364 - cls_loss: 0.2708 - box_loss: 0.0073 - reg_l2_loss: 0.0802 - loss: 0.7166 - learning_rate: 0.0103 - gradient_norm: 2.9044"
          ]
        },
        {
          "name": "stderr",
          "output_type": "stream",
          "text": [
            "2023-09-05 18:26:29.913982: W tensorflow/core/framework/dataset.cc:768] Input of GeneratorDatasetOp::Dataset will not be optimized because the dataset does not implement the AsGraphDefInternal() method needed to apply optimizations.\n"
          ]
        },
        {
          "name": "stdout",
          "output_type": "stream",
          "text": [
            "42/42 [==============================] - 196s 5s/step - det_loss: 0.6392 - cls_loss: 0.2708 - box_loss: 0.0074 - reg_l2_loss: 0.0802 - loss: 0.7194 - learning_rate: 0.0103 - gradient_norm: 2.9099 - val_det_loss: 0.6123 - val_cls_loss: 0.2608 - val_box_loss: 0.0070 - val_reg_l2_loss: 0.0802 - val_loss: 0.6925\n",
            "Epoch 29/100\n",
            "42/42 [==============================] - ETA: 0s - det_loss: 0.5858 - cls_loss: 0.2647 - box_loss: 0.0064 - reg_l2_loss: 0.0802 - loss: 0.6660 - learning_rate: 0.0101 - gradient_norm: 2.8332"
          ]
        },
        {
          "name": "stderr",
          "output_type": "stream",
          "text": [
            "2023-09-05 18:29:45.987850: W tensorflow/core/framework/dataset.cc:768] Input of GeneratorDatasetOp::Dataset will not be optimized because the dataset does not implement the AsGraphDefInternal() method needed to apply optimizations.\n"
          ]
        },
        {
          "name": "stdout",
          "output_type": "stream",
          "text": [
            "42/42 [==============================] - 188s 4s/step - det_loss: 0.5852 - cls_loss: 0.2650 - box_loss: 0.0064 - reg_l2_loss: 0.0802 - loss: 0.6655 - learning_rate: 0.0101 - gradient_norm: 2.8366 - val_det_loss: 0.5341 - val_cls_loss: 0.2779 - val_box_loss: 0.0051 - val_reg_l2_loss: 0.0802 - val_loss: 0.6143\n",
            "Epoch 30/100\n",
            "42/42 [==============================] - ETA: 0s - det_loss: 0.5777 - cls_loss: 0.2585 - box_loss: 0.0064 - reg_l2_loss: 0.0802 - loss: 0.6579 - learning_rate: 0.0100 - gradient_norm: 2.7163"
          ]
        },
        {
          "name": "stderr",
          "output_type": "stream",
          "text": [
            "2023-09-05 18:32:54.899717: W tensorflow/core/framework/dataset.cc:768] Input of GeneratorDatasetOp::Dataset will not be optimized because the dataset does not implement the AsGraphDefInternal() method needed to apply optimizations.\n"
          ]
        },
        {
          "name": "stdout",
          "output_type": "stream",
          "text": [
            "42/42 [==============================] - 203s 5s/step - det_loss: 0.5754 - cls_loss: 0.2579 - box_loss: 0.0064 - reg_l2_loss: 0.0802 - loss: 0.6557 - learning_rate: 0.0100 - gradient_norm: 2.6982 - val_det_loss: 0.6668 - val_cls_loss: 0.2445 - val_box_loss: 0.0084 - val_reg_l2_loss: 0.0803 - val_loss: 0.7471\n",
            "Epoch 31/100\n",
            "42/42 [==============================] - ETA: 0s - det_loss: 0.6381 - cls_loss: 0.2728 - box_loss: 0.0073 - reg_l2_loss: 0.0803 - loss: 0.7184 - learning_rate: 0.0098 - gradient_norm: 3.3008"
          ]
        },
        {
          "name": "stderr",
          "output_type": "stream",
          "text": [
            "2023-09-05 18:36:17.669732: W tensorflow/core/framework/dataset.cc:768] Input of GeneratorDatasetOp::Dataset will not be optimized because the dataset does not implement the AsGraphDefInternal() method needed to apply optimizations.\n"
          ]
        },
        {
          "name": "stdout",
          "output_type": "stream",
          "text": [
            "42/42 [==============================] - 196s 5s/step - det_loss: 0.6369 - cls_loss: 0.2717 - box_loss: 0.0073 - reg_l2_loss: 0.0803 - loss: 0.7172 - learning_rate: 0.0098 - gradient_norm: 3.2909 - val_det_loss: 0.7027 - val_cls_loss: 0.2680 - val_box_loss: 0.0087 - val_reg_l2_loss: 0.0803 - val_loss: 0.7831\n",
            "Epoch 32/100\n",
            "42/42 [==============================] - ETA: 0s - det_loss: 0.6070 - cls_loss: 0.2736 - box_loss: 0.0067 - reg_l2_loss: 0.0803 - loss: 0.6873 - learning_rate: 0.0096 - gradient_norm: 3.0293"
          ]
        },
        {
          "name": "stderr",
          "output_type": "stream",
          "text": [
            "2023-09-05 18:39:34.544692: W tensorflow/core/framework/dataset.cc:768] Input of GeneratorDatasetOp::Dataset will not be optimized because the dataset does not implement the AsGraphDefInternal() method needed to apply optimizations.\n"
          ]
        },
        {
          "name": "stdout",
          "output_type": "stream",
          "text": [
            "42/42 [==============================] - 189s 5s/step - det_loss: 0.6035 - cls_loss: 0.2731 - box_loss: 0.0066 - reg_l2_loss: 0.0803 - loss: 0.6838 - learning_rate: 0.0096 - gradient_norm: 3.0097 - val_det_loss: 0.8411 - val_cls_loss: 0.5106 - val_box_loss: 0.0066 - val_reg_l2_loss: 0.0804 - val_loss: 0.9214\n",
            "Epoch 33/100\n",
            "42/42 [==============================] - ETA: 0s - det_loss: 0.5852 - cls_loss: 0.2630 - box_loss: 0.0064 - reg_l2_loss: 0.0804 - loss: 0.6656 - learning_rate: 0.0095 - gradient_norm: 3.0699"
          ]
        },
        {
          "name": "stderr",
          "output_type": "stream",
          "text": [
            "2023-09-05 18:42:44.075289: W tensorflow/core/framework/dataset.cc:768] Input of GeneratorDatasetOp::Dataset will not be optimized because the dataset does not implement the AsGraphDefInternal() method needed to apply optimizations.\n"
          ]
        },
        {
          "name": "stdout",
          "output_type": "stream",
          "text": [
            "42/42 [==============================] - 189s 5s/step - det_loss: 0.5863 - cls_loss: 0.2650 - box_loss: 0.0064 - reg_l2_loss: 0.0804 - loss: 0.6667 - learning_rate: 0.0095 - gradient_norm: 3.0859 - val_det_loss: 0.5734 - val_cls_loss: 0.2498 - val_box_loss: 0.0065 - val_reg_l2_loss: 0.0804 - val_loss: 0.6538\n",
            "Epoch 34/100\n",
            "42/42 [==============================] - ETA: 0s - det_loss: 0.5798 - cls_loss: 0.2588 - box_loss: 0.0064 - reg_l2_loss: 0.0804 - loss: 0.6602 - learning_rate: 0.0093 - gradient_norm: 2.8148"
          ]
        },
        {
          "name": "stderr",
          "output_type": "stream",
          "text": [
            "2023-09-05 18:45:54.264201: W tensorflow/core/framework/dataset.cc:768] Input of GeneratorDatasetOp::Dataset will not be optimized because the dataset does not implement the AsGraphDefInternal() method needed to apply optimizations.\n"
          ]
        },
        {
          "name": "stdout",
          "output_type": "stream",
          "text": [
            "42/42 [==============================] - 191s 5s/step - det_loss: 0.5756 - cls_loss: 0.2574 - box_loss: 0.0064 - reg_l2_loss: 0.0804 - loss: 0.6561 - learning_rate: 0.0093 - gradient_norm: 2.7808 - val_det_loss: 0.6079 - val_cls_loss: 0.2341 - val_box_loss: 0.0075 - val_reg_l2_loss: 0.0804 - val_loss: 0.6883\n",
            "Epoch 35/100\n",
            "42/42 [==============================] - ETA: 0s - det_loss: 0.5560 - cls_loss: 0.2490 - box_loss: 0.0061 - reg_l2_loss: 0.0804 - loss: 0.6364 - learning_rate: 0.0091 - gradient_norm: 2.8525"
          ]
        },
        {
          "name": "stderr",
          "output_type": "stream",
          "text": [
            "2023-09-05 18:49:03.803938: W tensorflow/core/framework/dataset.cc:768] Input of GeneratorDatasetOp::Dataset will not be optimized because the dataset does not implement the AsGraphDefInternal() method needed to apply optimizations.\n"
          ]
        },
        {
          "name": "stdout",
          "output_type": "stream",
          "text": [
            "42/42 [==============================] - 203s 5s/step - det_loss: 0.5549 - cls_loss: 0.2492 - box_loss: 0.0061 - reg_l2_loss: 0.0804 - loss: 0.6353 - learning_rate: 0.0091 - gradient_norm: 2.8582 - val_det_loss: 0.5217 - val_cls_loss: 0.2539 - val_box_loss: 0.0054 - val_reg_l2_loss: 0.0805 - val_loss: 0.6022\n",
            "Epoch 36/100\n",
            "42/42 [==============================] - ETA: 0s - det_loss: 0.5311 - cls_loss: 0.2404 - box_loss: 0.0058 - reg_l2_loss: 0.0805 - loss: 0.6116 - learning_rate: 0.0089 - gradient_norm: 2.7483"
          ]
        },
        {
          "name": "stderr",
          "output_type": "stream",
          "text": [
            "2023-09-05 18:52:25.374499: W tensorflow/core/framework/dataset.cc:768] Input of GeneratorDatasetOp::Dataset will not be optimized because the dataset does not implement the AsGraphDefInternal() method needed to apply optimizations.\n"
          ]
        },
        {
          "name": "stdout",
          "output_type": "stream",
          "text": [
            "42/42 [==============================] - 188s 4s/step - det_loss: 0.5284 - cls_loss: 0.2396 - box_loss: 0.0058 - reg_l2_loss: 0.0805 - loss: 0.6089 - learning_rate: 0.0089 - gradient_norm: 2.7359 - val_det_loss: 0.6139 - val_cls_loss: 0.3221 - val_box_loss: 0.0058 - val_reg_l2_loss: 0.0805 - val_loss: 0.6944\n",
            "Epoch 37/100\n",
            "42/42 [==============================] - ETA: 0s - det_loss: 0.5410 - cls_loss: 0.2414 - box_loss: 0.0060 - reg_l2_loss: 0.0805 - loss: 0.6215 - learning_rate: 0.0088 - gradient_norm: 2.7245"
          ]
        },
        {
          "name": "stderr",
          "output_type": "stream",
          "text": [
            "2023-09-05 18:55:33.738041: W tensorflow/core/framework/dataset.cc:768] Input of GeneratorDatasetOp::Dataset will not be optimized because the dataset does not implement the AsGraphDefInternal() method needed to apply optimizations.\n"
          ]
        },
        {
          "name": "stdout",
          "output_type": "stream",
          "text": [
            "42/42 [==============================] - 197s 5s/step - det_loss: 0.5423 - cls_loss: 0.2412 - box_loss: 0.0060 - reg_l2_loss: 0.0805 - loss: 0.6228 - learning_rate: 0.0088 - gradient_norm: 2.7242 - val_det_loss: 0.4879 - val_cls_loss: 0.1950 - val_box_loss: 0.0059 - val_reg_l2_loss: 0.0805 - val_loss: 0.5684\n",
            "Epoch 38/100\n",
            "42/42 [==============================] - ETA: 0s - det_loss: 0.5232 - cls_loss: 0.2360 - box_loss: 0.0057 - reg_l2_loss: 0.0805 - loss: 0.6037 - learning_rate: 0.0086 - gradient_norm: 2.8818"
          ]
        },
        {
          "name": "stderr",
          "output_type": "stream",
          "text": [
            "2023-09-05 18:58:50.877430: W tensorflow/core/framework/dataset.cc:768] Input of GeneratorDatasetOp::Dataset will not be optimized because the dataset does not implement the AsGraphDefInternal() method needed to apply optimizations.\n"
          ]
        },
        {
          "name": "stdout",
          "output_type": "stream",
          "text": [
            "42/42 [==============================] - 189s 4s/step - det_loss: 0.5314 - cls_loss: 0.2376 - box_loss: 0.0059 - reg_l2_loss: 0.0805 - loss: 0.6119 - learning_rate: 0.0086 - gradient_norm: 2.9020 - val_det_loss: 0.5381 - val_cls_loss: 0.2380 - val_box_loss: 0.0060 - val_reg_l2_loss: 0.0805 - val_loss: 0.6186\n",
            "Epoch 39/100\n",
            "42/42 [==============================] - ETA: 0s - det_loss: 0.5228 - cls_loss: 0.2457 - box_loss: 0.0055 - reg_l2_loss: 0.0805 - loss: 0.6033 - learning_rate: 0.0084 - gradient_norm: 2.6829"
          ]
        },
        {
          "name": "stderr",
          "output_type": "stream",
          "text": [
            "2023-09-05 19:01:58.797887: W tensorflow/core/framework/dataset.cc:768] Input of GeneratorDatasetOp::Dataset will not be optimized because the dataset does not implement the AsGraphDefInternal() method needed to apply optimizations.\n"
          ]
        },
        {
          "name": "stdout",
          "output_type": "stream",
          "text": [
            "42/42 [==============================] - 196s 5s/step - det_loss: 0.5260 - cls_loss: 0.2471 - box_loss: 0.0056 - reg_l2_loss: 0.0805 - loss: 0.6066 - learning_rate: 0.0084 - gradient_norm: 2.6909 - val_det_loss: 0.6241 - val_cls_loss: 0.2690 - val_box_loss: 0.0071 - val_reg_l2_loss: 0.0805 - val_loss: 0.7046\n",
            "Epoch 40/100\n",
            "42/42 [==============================] - ETA: 0s - det_loss: 0.5052 - cls_loss: 0.2300 - box_loss: 0.0055 - reg_l2_loss: 0.0805 - loss: 0.5858 - learning_rate: 0.0082 - gradient_norm: 2.7445"
          ]
        },
        {
          "name": "stderr",
          "output_type": "stream",
          "text": [
            "2023-09-05 19:05:14.609941: W tensorflow/core/framework/dataset.cc:768] Input of GeneratorDatasetOp::Dataset will not be optimized because the dataset does not implement the AsGraphDefInternal() method needed to apply optimizations.\n"
          ]
        },
        {
          "name": "stdout",
          "output_type": "stream",
          "text": [
            "42/42 [==============================] - 202s 5s/step - det_loss: 0.5017 - cls_loss: 0.2292 - box_loss: 0.0054 - reg_l2_loss: 0.0805 - loss: 0.5822 - learning_rate: 0.0082 - gradient_norm: 2.7389 - val_det_loss: 0.6232 - val_cls_loss: 0.3181 - val_box_loss: 0.0061 - val_reg_l2_loss: 0.0805 - val_loss: 0.7037\n",
            "Epoch 41/100\n",
            "42/42 [==============================] - ETA: 0s - det_loss: 0.5253 - cls_loss: 0.2407 - box_loss: 0.0057 - reg_l2_loss: 0.0806 - loss: 0.6059 - learning_rate: 0.0080 - gradient_norm: 2.7254"
          ]
        },
        {
          "name": "stderr",
          "output_type": "stream",
          "text": [
            "2023-09-05 19:08:37.316812: W tensorflow/core/framework/dataset.cc:768] Input of GeneratorDatasetOp::Dataset will not be optimized because the dataset does not implement the AsGraphDefInternal() method needed to apply optimizations.\n"
          ]
        },
        {
          "name": "stdout",
          "output_type": "stream",
          "text": [
            "42/42 [==============================] - 196s 5s/step - det_loss: 0.5253 - cls_loss: 0.2407 - box_loss: 0.0057 - reg_l2_loss: 0.0806 - loss: 0.6058 - learning_rate: 0.0080 - gradient_norm: 2.7136 - val_det_loss: 0.5159 - val_cls_loss: 0.2118 - val_box_loss: 0.0061 - val_reg_l2_loss: 0.0806 - val_loss: 0.5964\n",
            "Epoch 42/100\n",
            "42/42 [==============================] - ETA: 0s - det_loss: 0.5506 - cls_loss: 0.2445 - box_loss: 0.0061 - reg_l2_loss: 0.0806 - loss: 0.6312 - learning_rate: 0.0078 - gradient_norm: 2.9639"
          ]
        },
        {
          "name": "stderr",
          "output_type": "stream",
          "text": [
            "2023-09-05 19:11:53.644304: W tensorflow/core/framework/dataset.cc:768] Input of GeneratorDatasetOp::Dataset will not be optimized because the dataset does not implement the AsGraphDefInternal() method needed to apply optimizations.\n"
          ]
        },
        {
          "name": "stdout",
          "output_type": "stream",
          "text": [
            "42/42 [==============================] - 196s 5s/step - det_loss: 0.5489 - cls_loss: 0.2436 - box_loss: 0.0061 - reg_l2_loss: 0.0806 - loss: 0.6294 - learning_rate: 0.0078 - gradient_norm: 2.9619 - val_det_loss: 0.4831 - val_cls_loss: 0.2059 - val_box_loss: 0.0055 - val_reg_l2_loss: 0.0806 - val_loss: 0.5637\n",
            "Epoch 43/100\n",
            "42/42 [==============================] - ETA: 0s - det_loss: 0.5553 - cls_loss: 0.2419 - box_loss: 0.0063 - reg_l2_loss: 0.0806 - loss: 0.6358 - learning_rate: 0.0076 - gradient_norm: 3.1140"
          ]
        },
        {
          "name": "stderr",
          "output_type": "stream",
          "text": [
            "2023-09-05 19:15:09.719841: W tensorflow/core/framework/dataset.cc:768] Input of GeneratorDatasetOp::Dataset will not be optimized because the dataset does not implement the AsGraphDefInternal() method needed to apply optimizations.\n"
          ]
        },
        {
          "name": "stdout",
          "output_type": "stream",
          "text": [
            "42/42 [==============================] - 188s 4s/step - det_loss: 0.5638 - cls_loss: 0.2457 - box_loss: 0.0064 - reg_l2_loss: 0.0806 - loss: 0.6444 - learning_rate: 0.0076 - gradient_norm: 3.2078 - val_det_loss: 0.4773 - val_cls_loss: 0.2255 - val_box_loss: 0.0050 - val_reg_l2_loss: 0.0806 - val_loss: 0.5579\n",
            "Epoch 44/100\n",
            "42/42 [==============================] - ETA: 0s - det_loss: 0.5176 - cls_loss: 0.2298 - box_loss: 0.0058 - reg_l2_loss: 0.0806 - loss: 0.5982 - learning_rate: 0.0074 - gradient_norm: 2.7947"
          ]
        },
        {
          "name": "stderr",
          "output_type": "stream",
          "text": [
            "2023-09-05 19:18:17.426135: W tensorflow/core/framework/dataset.cc:768] Input of GeneratorDatasetOp::Dataset will not be optimized because the dataset does not implement the AsGraphDefInternal() method needed to apply optimizations.\n"
          ]
        },
        {
          "name": "stdout",
          "output_type": "stream",
          "text": [
            "42/42 [==============================] - 188s 4s/step - det_loss: 0.5170 - cls_loss: 0.2283 - box_loss: 0.0058 - reg_l2_loss: 0.0806 - loss: 0.5976 - learning_rate: 0.0074 - gradient_norm: 2.8350 - val_det_loss: 0.4220 - val_cls_loss: 0.2166 - val_box_loss: 0.0041 - val_reg_l2_loss: 0.0806 - val_loss: 0.5026\n",
            "Epoch 45/100\n",
            "42/42 [==============================] - ETA: 0s - det_loss: 0.4960 - cls_loss: 0.2163 - box_loss: 0.0056 - reg_l2_loss: 0.0806 - loss: 0.5766 - learning_rate: 0.0072 - gradient_norm: 2.6180"
          ]
        },
        {
          "name": "stderr",
          "output_type": "stream",
          "text": [
            "2023-09-05 19:21:26.337527: W tensorflow/core/framework/dataset.cc:768] Input of GeneratorDatasetOp::Dataset will not be optimized because the dataset does not implement the AsGraphDefInternal() method needed to apply optimizations.\n"
          ]
        },
        {
          "name": "stdout",
          "output_type": "stream",
          "text": [
            "42/42 [==============================] - 202s 5s/step - det_loss: 0.4970 - cls_loss: 0.2162 - box_loss: 0.0056 - reg_l2_loss: 0.0806 - loss: 0.5776 - learning_rate: 0.0072 - gradient_norm: 2.6371 - val_det_loss: 0.5834 - val_cls_loss: 0.1976 - val_box_loss: 0.0077 - val_reg_l2_loss: 0.0806 - val_loss: 0.6641\n",
            "Epoch 46/100\n",
            "42/42 [==============================] - ETA: 0s - det_loss: 0.5331 - cls_loss: 0.2274 - box_loss: 0.0061 - reg_l2_loss: 0.0806 - loss: 0.6137 - learning_rate: 0.0070 - gradient_norm: 3.0320"
          ]
        },
        {
          "name": "stderr",
          "output_type": "stream",
          "text": [
            "2023-09-05 19:24:48.331228: W tensorflow/core/framework/dataset.cc:768] Input of GeneratorDatasetOp::Dataset will not be optimized because the dataset does not implement the AsGraphDefInternal() method needed to apply optimizations.\n"
          ]
        },
        {
          "name": "stdout",
          "output_type": "stream",
          "text": [
            "42/42 [==============================] - 188s 4s/step - det_loss: 0.5307 - cls_loss: 0.2265 - box_loss: 0.0061 - reg_l2_loss: 0.0806 - loss: 0.6113 - learning_rate: 0.0070 - gradient_norm: 3.0328 - val_det_loss: 0.3867 - val_cls_loss: 0.1861 - val_box_loss: 0.0040 - val_reg_l2_loss: 0.0806 - val_loss: 0.4673\n",
            "Epoch 47/100\n",
            "42/42 [==============================] - ETA: 0s - det_loss: 0.4878 - cls_loss: 0.2210 - box_loss: 0.0053 - reg_l2_loss: 0.0806 - loss: 0.5685 - learning_rate: 0.0068 - gradient_norm: 2.6322"
          ]
        },
        {
          "name": "stderr",
          "output_type": "stream",
          "text": [
            "2023-09-05 19:27:56.284754: W tensorflow/core/framework/dataset.cc:768] Input of GeneratorDatasetOp::Dataset will not be optimized because the dataset does not implement the AsGraphDefInternal() method needed to apply optimizations.\n"
          ]
        },
        {
          "name": "stdout",
          "output_type": "stream",
          "text": [
            "42/42 [==============================] - 189s 4s/step - det_loss: 0.4900 - cls_loss: 0.2215 - box_loss: 0.0054 - reg_l2_loss: 0.0806 - loss: 0.5707 - learning_rate: 0.0068 - gradient_norm: 2.6456 - val_det_loss: 0.5249 - val_cls_loss: 0.1954 - val_box_loss: 0.0066 - val_reg_l2_loss: 0.0806 - val_loss: 0.6056\n",
            "Epoch 48/100\n",
            "42/42 [==============================] - ETA: 0s - det_loss: 0.5205 - cls_loss: 0.2360 - box_loss: 0.0057 - reg_l2_loss: 0.0807 - loss: 0.6011 - learning_rate: 0.0066 - gradient_norm: 3.0122"
          ]
        },
        {
          "name": "stderr",
          "output_type": "stream",
          "text": [
            "2023-09-05 19:31:04.487964: W tensorflow/core/framework/dataset.cc:768] Input of GeneratorDatasetOp::Dataset will not be optimized because the dataset does not implement the AsGraphDefInternal() method needed to apply optimizations.\n"
          ]
        },
        {
          "name": "stdout",
          "output_type": "stream",
          "text": [
            "42/42 [==============================] - 188s 4s/step - det_loss: 0.5172 - cls_loss: 0.2351 - box_loss: 0.0056 - reg_l2_loss: 0.0807 - loss: 0.5979 - learning_rate: 0.0066 - gradient_norm: 3.0122 - val_det_loss: 0.4464 - val_cls_loss: 0.1953 - val_box_loss: 0.0050 - val_reg_l2_loss: 0.0807 - val_loss: 0.5271\n",
            "Epoch 49/100\n",
            "42/42 [==============================] - ETA: 0s - det_loss: 0.5084 - cls_loss: 0.2260 - box_loss: 0.0056 - reg_l2_loss: 0.0807 - loss: 0.5891 - learning_rate: 0.0065 - gradient_norm: 2.7993"
          ]
        },
        {
          "name": "stderr",
          "output_type": "stream",
          "text": [
            "2023-09-05 19:34:12.584557: W tensorflow/core/framework/dataset.cc:768] Input of GeneratorDatasetOp::Dataset will not be optimized because the dataset does not implement the AsGraphDefInternal() method needed to apply optimizations.\n"
          ]
        },
        {
          "name": "stdout",
          "output_type": "stream",
          "text": [
            "42/42 [==============================] - 188s 4s/step - det_loss: 0.5106 - cls_loss: 0.2277 - box_loss: 0.0057 - reg_l2_loss: 0.0807 - loss: 0.5913 - learning_rate: 0.0064 - gradient_norm: 2.8185 - val_det_loss: 0.4224 - val_cls_loss: 0.1988 - val_box_loss: 0.0045 - val_reg_l2_loss: 0.0807 - val_loss: 0.5030\n",
            "Epoch 50/100\n",
            "42/42 [==============================] - ETA: 0s - det_loss: 0.4764 - cls_loss: 0.2221 - box_loss: 0.0051 - reg_l2_loss: 0.0807 - loss: 0.5570 - learning_rate: 0.0063 - gradient_norm: 2.4999"
          ]
        },
        {
          "name": "stderr",
          "output_type": "stream",
          "text": [
            "2023-09-05 19:37:20.720297: W tensorflow/core/framework/dataset.cc:768] Input of GeneratorDatasetOp::Dataset will not be optimized because the dataset does not implement the AsGraphDefInternal() method needed to apply optimizations.\n"
          ]
        },
        {
          "name": "stdout",
          "output_type": "stream",
          "text": [
            "42/42 [==============================] - 202s 5s/step - det_loss: 0.4786 - cls_loss: 0.2226 - box_loss: 0.0051 - reg_l2_loss: 0.0807 - loss: 0.5592 - learning_rate: 0.0063 - gradient_norm: 2.5050 - val_det_loss: 0.4262 - val_cls_loss: 0.2045 - val_box_loss: 0.0044 - val_reg_l2_loss: 0.0807 - val_loss: 0.5069\n",
            "Epoch 51/100\n",
            "42/42 [==============================] - ETA: 0s - det_loss: 0.4598 - cls_loss: 0.2188 - box_loss: 0.0048 - reg_l2_loss: 0.0807 - loss: 0.5405 - learning_rate: 0.0061 - gradient_norm: 2.6599"
          ]
        },
        {
          "name": "stderr",
          "output_type": "stream",
          "text": [
            "2023-09-05 19:40:42.387433: W tensorflow/core/framework/dataset.cc:768] Input of GeneratorDatasetOp::Dataset will not be optimized because the dataset does not implement the AsGraphDefInternal() method needed to apply optimizations.\n"
          ]
        },
        {
          "name": "stdout",
          "output_type": "stream",
          "text": [
            "42/42 [==============================] - 188s 4s/step - det_loss: 0.4589 - cls_loss: 0.2186 - box_loss: 0.0048 - reg_l2_loss: 0.0807 - loss: 0.5396 - learning_rate: 0.0061 - gradient_norm: 2.6561 - val_det_loss: 0.5221 - val_cls_loss: 0.2764 - val_box_loss: 0.0049 - val_reg_l2_loss: 0.0807 - val_loss: 0.6027\n",
            "Epoch 52/100\n",
            "42/42 [==============================] - ETA: 0s - det_loss: 0.4769 - cls_loss: 0.2182 - box_loss: 0.0052 - reg_l2_loss: 0.0807 - loss: 0.5575 - learning_rate: 0.0059 - gradient_norm: 2.6330"
          ]
        },
        {
          "name": "stderr",
          "output_type": "stream",
          "text": [
            "2023-09-05 19:43:50.520047: W tensorflow/core/framework/dataset.cc:768] Input of GeneratorDatasetOp::Dataset will not be optimized because the dataset does not implement the AsGraphDefInternal() method needed to apply optimizations.\n"
          ]
        },
        {
          "name": "stdout",
          "output_type": "stream",
          "text": [
            "42/42 [==============================] - 187s 4s/step - det_loss: 0.4799 - cls_loss: 0.2182 - box_loss: 0.0052 - reg_l2_loss: 0.0807 - loss: 0.5605 - learning_rate: 0.0059 - gradient_norm: 2.6343 - val_det_loss: 0.4310 - val_cls_loss: 0.2226 - val_box_loss: 0.0042 - val_reg_l2_loss: 0.0807 - val_loss: 0.5117\n",
            "Epoch 53/100\n",
            "42/42 [==============================] - ETA: 0s - det_loss: 0.4653 - cls_loss: 0.2124 - box_loss: 0.0051 - reg_l2_loss: 0.0807 - loss: 0.5460 - learning_rate: 0.0057 - gradient_norm: 2.7525"
          ]
        },
        {
          "name": "stderr",
          "output_type": "stream",
          "text": [
            "2023-09-05 19:46:58.907287: W tensorflow/core/framework/dataset.cc:768] Input of GeneratorDatasetOp::Dataset will not be optimized because the dataset does not implement the AsGraphDefInternal() method needed to apply optimizations.\n"
          ]
        },
        {
          "name": "stdout",
          "output_type": "stream",
          "text": [
            "42/42 [==============================] - 188s 4s/step - det_loss: 0.4631 - cls_loss: 0.2111 - box_loss: 0.0050 - reg_l2_loss: 0.0807 - loss: 0.5437 - learning_rate: 0.0057 - gradient_norm: 2.7459 - val_det_loss: 0.4302 - val_cls_loss: 0.2199 - val_box_loss: 0.0042 - val_reg_l2_loss: 0.0807 - val_loss: 0.5108\n",
            "Epoch 54/100\n",
            "42/42 [==============================] - ETA: 0s - det_loss: 0.4704 - cls_loss: 0.2149 - box_loss: 0.0051 - reg_l2_loss: 0.0807 - loss: 0.5511 - learning_rate: 0.0055 - gradient_norm: 2.8257"
          ]
        },
        {
          "name": "stderr",
          "output_type": "stream",
          "text": [
            "2023-09-05 19:50:07.028504: W tensorflow/core/framework/dataset.cc:768] Input of GeneratorDatasetOp::Dataset will not be optimized because the dataset does not implement the AsGraphDefInternal() method needed to apply optimizations.\n"
          ]
        },
        {
          "name": "stdout",
          "output_type": "stream",
          "text": [
            "42/42 [==============================] - 197s 5s/step - det_loss: 0.4685 - cls_loss: 0.2147 - box_loss: 0.0051 - reg_l2_loss: 0.0807 - loss: 0.5492 - learning_rate: 0.0055 - gradient_norm: 2.8042 - val_det_loss: 0.3916 - val_cls_loss: 0.2179 - val_box_loss: 0.0035 - val_reg_l2_loss: 0.0807 - val_loss: 0.4723\n",
            "Epoch 55/100\n",
            "42/42 [==============================] - ETA: 0s - det_loss: 0.4449 - cls_loss: 0.2071 - box_loss: 0.0048 - reg_l2_loss: 0.0807 - loss: 0.5256 - learning_rate: 0.0053 - gradient_norm: 2.5377"
          ]
        },
        {
          "name": "stderr",
          "output_type": "stream",
          "text": [
            "2023-09-05 19:53:24.271048: W tensorflow/core/framework/dataset.cc:768] Input of GeneratorDatasetOp::Dataset will not be optimized because the dataset does not implement the AsGraphDefInternal() method needed to apply optimizations.\n"
          ]
        },
        {
          "name": "stdout",
          "output_type": "stream",
          "text": [
            "42/42 [==============================] - 210s 5s/step - det_loss: 0.4425 - cls_loss: 0.2065 - box_loss: 0.0047 - reg_l2_loss: 0.0807 - loss: 0.5231 - learning_rate: 0.0053 - gradient_norm: 2.5372 - val_det_loss: 0.4378 - val_cls_loss: 0.2301 - val_box_loss: 0.0042 - val_reg_l2_loss: 0.0807 - val_loss: 0.5185\n",
            "Epoch 56/100\n",
            "42/42 [==============================] - ETA: 0s - det_loss: 0.4414 - cls_loss: 0.2093 - box_loss: 0.0046 - reg_l2_loss: 0.0807 - loss: 0.5221 - learning_rate: 0.0051 - gradient_norm: 2.4824"
          ]
        },
        {
          "name": "stderr",
          "output_type": "stream",
          "text": [
            "2023-09-05 19:56:54.496318: W tensorflow/core/framework/dataset.cc:768] Input of GeneratorDatasetOp::Dataset will not be optimized because the dataset does not implement the AsGraphDefInternal() method needed to apply optimizations.\n"
          ]
        },
        {
          "name": "stdout",
          "output_type": "stream",
          "text": [
            "42/42 [==============================] - 197s 5s/step - det_loss: 0.4418 - cls_loss: 0.2095 - box_loss: 0.0046 - reg_l2_loss: 0.0807 - loss: 0.5225 - learning_rate: 0.0051 - gradient_norm: 2.4719 - val_det_loss: 0.3711 - val_cls_loss: 0.2196 - val_box_loss: 0.0030 - val_reg_l2_loss: 0.0807 - val_loss: 0.4517\n",
            "Epoch 57/100\n",
            "42/42 [==============================] - ETA: 0s - det_loss: 0.4678 - cls_loss: 0.2078 - box_loss: 0.0052 - reg_l2_loss: 0.0807 - loss: 0.5485 - learning_rate: 0.0049 - gradient_norm: 2.7078"
          ]
        },
        {
          "name": "stderr",
          "output_type": "stream",
          "text": [
            "2023-09-05 20:00:11.061333: W tensorflow/core/framework/dataset.cc:768] Input of GeneratorDatasetOp::Dataset will not be optimized because the dataset does not implement the AsGraphDefInternal() method needed to apply optimizations.\n"
          ]
        },
        {
          "name": "stdout",
          "output_type": "stream",
          "text": [
            "42/42 [==============================] - 189s 4s/step - det_loss: 0.4667 - cls_loss: 0.2072 - box_loss: 0.0052 - reg_l2_loss: 0.0807 - loss: 0.5474 - learning_rate: 0.0049 - gradient_norm: 2.7031 - val_det_loss: 0.4068 - val_cls_loss: 0.2053 - val_box_loss: 0.0040 - val_reg_l2_loss: 0.0807 - val_loss: 0.4875\n",
            "Epoch 58/100\n",
            "42/42 [==============================] - ETA: 0s - det_loss: 0.4400 - cls_loss: 0.2062 - box_loss: 0.0047 - reg_l2_loss: 0.0807 - loss: 0.5207 - learning_rate: 0.0047 - gradient_norm: 2.5608"
          ]
        },
        {
          "name": "stderr",
          "output_type": "stream",
          "text": [
            "2023-09-05 20:03:19.709268: W tensorflow/core/framework/dataset.cc:768] Input of GeneratorDatasetOp::Dataset will not be optimized because the dataset does not implement the AsGraphDefInternal() method needed to apply optimizations.\n"
          ]
        },
        {
          "name": "stdout",
          "output_type": "stream",
          "text": [
            "42/42 [==============================] - 189s 5s/step - det_loss: 0.4436 - cls_loss: 0.2066 - box_loss: 0.0047 - reg_l2_loss: 0.0807 - loss: 0.5243 - learning_rate: 0.0047 - gradient_norm: 2.5508 - val_det_loss: 0.4278 - val_cls_loss: 0.2355 - val_box_loss: 0.0038 - val_reg_l2_loss: 0.0807 - val_loss: 0.5085\n",
            "Epoch 59/100\n",
            "42/42 [==============================] - ETA: 0s - det_loss: 0.4483 - cls_loss: 0.2026 - box_loss: 0.0049 - reg_l2_loss: 0.0807 - loss: 0.5290 - learning_rate: 0.0045 - gradient_norm: 2.5193"
          ]
        },
        {
          "name": "stderr",
          "output_type": "stream",
          "text": [
            "2023-09-05 20:06:28.985016: W tensorflow/core/framework/dataset.cc:768] Input of GeneratorDatasetOp::Dataset will not be optimized because the dataset does not implement the AsGraphDefInternal() method needed to apply optimizations.\n"
          ]
        },
        {
          "name": "stdout",
          "output_type": "stream",
          "text": [
            "42/42 [==============================] - 189s 5s/step - det_loss: 0.4490 - cls_loss: 0.2033 - box_loss: 0.0049 - reg_l2_loss: 0.0807 - loss: 0.5297 - learning_rate: 0.0045 - gradient_norm: 2.5239 - val_det_loss: 0.4643 - val_cls_loss: 0.2334 - val_box_loss: 0.0046 - val_reg_l2_loss: 0.0807 - val_loss: 0.5449\n",
            "Epoch 60/100\n",
            "42/42 [==============================] - ETA: 0s - det_loss: 0.4551 - cls_loss: 0.2233 - box_loss: 0.0046 - reg_l2_loss: 0.0807 - loss: 0.5358 - learning_rate: 0.0043 - gradient_norm: 2.8901"
          ]
        },
        {
          "name": "stderr",
          "output_type": "stream",
          "text": [
            "2023-09-05 20:09:37.499073: W tensorflow/core/framework/dataset.cc:768] Input of GeneratorDatasetOp::Dataset will not be optimized because the dataset does not implement the AsGraphDefInternal() method needed to apply optimizations.\n"
          ]
        },
        {
          "name": "stdout",
          "output_type": "stream",
          "text": [
            "42/42 [==============================] - 202s 5s/step - det_loss: 0.4525 - cls_loss: 0.2227 - box_loss: 0.0046 - reg_l2_loss: 0.0807 - loss: 0.5332 - learning_rate: 0.0043 - gradient_norm: 2.8616 - val_det_loss: 0.4519 - val_cls_loss: 0.2275 - val_box_loss: 0.0045 - val_reg_l2_loss: 0.0807 - val_loss: 0.5326\n",
            "Epoch 61/100\n",
            "42/42 [==============================] - ETA: 0s - det_loss: 0.4587 - cls_loss: 0.2155 - box_loss: 0.0049 - reg_l2_loss: 0.0807 - loss: 0.5394 - learning_rate: 0.0041 - gradient_norm: 2.8706"
          ]
        },
        {
          "name": "stderr",
          "output_type": "stream",
          "text": [
            "2023-09-05 20:12:59.669778: W tensorflow/core/framework/dataset.cc:768] Input of GeneratorDatasetOp::Dataset will not be optimized because the dataset does not implement the AsGraphDefInternal() method needed to apply optimizations.\n"
          ]
        },
        {
          "name": "stdout",
          "output_type": "stream",
          "text": [
            "42/42 [==============================] - 189s 5s/step - det_loss: 0.4612 - cls_loss: 0.2169 - box_loss: 0.0049 - reg_l2_loss: 0.0807 - loss: 0.5419 - learning_rate: 0.0041 - gradient_norm: 2.8632 - val_det_loss: 0.4347 - val_cls_loss: 0.2434 - val_box_loss: 0.0038 - val_reg_l2_loss: 0.0807 - val_loss: 0.5153\n",
            "Epoch 62/100\n",
            "42/42 [==============================] - ETA: 0s - det_loss: 0.4488 - cls_loss: 0.2105 - box_loss: 0.0048 - reg_l2_loss: 0.0807 - loss: 0.5295 - learning_rate: 0.0039 - gradient_norm: 2.6119"
          ]
        },
        {
          "name": "stderr",
          "output_type": "stream",
          "text": [
            "2023-09-05 20:16:08.624032: W tensorflow/core/framework/dataset.cc:768] Input of GeneratorDatasetOp::Dataset will not be optimized because the dataset does not implement the AsGraphDefInternal() method needed to apply optimizations.\n"
          ]
        },
        {
          "name": "stdout",
          "output_type": "stream",
          "text": [
            "42/42 [==============================] - 188s 4s/step - det_loss: 0.4441 - cls_loss: 0.2093 - box_loss: 0.0047 - reg_l2_loss: 0.0807 - loss: 0.5248 - learning_rate: 0.0039 - gradient_norm: 2.5818 - val_det_loss: 0.3794 - val_cls_loss: 0.2354 - val_box_loss: 0.0029 - val_reg_l2_loss: 0.0807 - val_loss: 0.4601\n",
            "Epoch 63/100\n",
            "42/42 [==============================] - ETA: 0s - det_loss: 0.4442 - cls_loss: 0.2079 - box_loss: 0.0047 - reg_l2_loss: 0.0807 - loss: 0.5248 - learning_rate: 0.0037 - gradient_norm: 2.6580"
          ]
        },
        {
          "name": "stderr",
          "output_type": "stream",
          "text": [
            "2023-09-05 20:19:16.962843: W tensorflow/core/framework/dataset.cc:768] Input of GeneratorDatasetOp::Dataset will not be optimized because the dataset does not implement the AsGraphDefInternal() method needed to apply optimizations.\n"
          ]
        },
        {
          "name": "stdout",
          "output_type": "stream",
          "text": [
            "42/42 [==============================] - 188s 4s/step - det_loss: 0.4459 - cls_loss: 0.2082 - box_loss: 0.0048 - reg_l2_loss: 0.0807 - loss: 0.5266 - learning_rate: 0.0037 - gradient_norm: 2.6441 - val_det_loss: 0.3757 - val_cls_loss: 0.2220 - val_box_loss: 0.0031 - val_reg_l2_loss: 0.0807 - val_loss: 0.4564\n",
            "Epoch 64/100\n",
            "42/42 [==============================] - ETA: 0s - det_loss: 0.4237 - cls_loss: 0.2054 - box_loss: 0.0044 - reg_l2_loss: 0.0807 - loss: 0.5043 - learning_rate: 0.0036 - gradient_norm: 2.5976"
          ]
        },
        {
          "name": "stderr",
          "output_type": "stream",
          "text": [
            "2023-09-05 20:22:25.470038: W tensorflow/core/framework/dataset.cc:768] Input of GeneratorDatasetOp::Dataset will not be optimized because the dataset does not implement the AsGraphDefInternal() method needed to apply optimizations.\n"
          ]
        },
        {
          "name": "stdout",
          "output_type": "stream",
          "text": [
            "42/42 [==============================] - 188s 4s/step - det_loss: 0.4208 - cls_loss: 0.2036 - box_loss: 0.0043 - reg_l2_loss: 0.0807 - loss: 0.5015 - learning_rate: 0.0036 - gradient_norm: 2.5837 - val_det_loss: 0.4405 - val_cls_loss: 0.2508 - val_box_loss: 0.0038 - val_reg_l2_loss: 0.0807 - val_loss: 0.5211\n",
            "Epoch 65/100\n",
            "42/42 [==============================] - ETA: 0s - det_loss: 0.3991 - cls_loss: 0.1917 - box_loss: 0.0041 - reg_l2_loss: 0.0807 - loss: 0.4798 - learning_rate: 0.0034 - gradient_norm: 2.4117"
          ]
        },
        {
          "name": "stderr",
          "output_type": "stream",
          "text": [
            "2023-09-05 20:25:34.011643: W tensorflow/core/framework/dataset.cc:768] Input of GeneratorDatasetOp::Dataset will not be optimized because the dataset does not implement the AsGraphDefInternal() method needed to apply optimizations.\n"
          ]
        },
        {
          "name": "stdout",
          "output_type": "stream",
          "text": [
            "42/42 [==============================] - 211s 5s/step - det_loss: 0.3972 - cls_loss: 0.1911 - box_loss: 0.0041 - reg_l2_loss: 0.0807 - loss: 0.4779 - learning_rate: 0.0034 - gradient_norm: 2.3947 - val_det_loss: 0.4406 - val_cls_loss: 0.2514 - val_box_loss: 0.0038 - val_reg_l2_loss: 0.0807 - val_loss: 0.5213\n",
            "Epoch 66/100\n",
            "42/42 [==============================] - ETA: 0s - det_loss: 0.3979 - cls_loss: 0.1895 - box_loss: 0.0042 - reg_l2_loss: 0.0807 - loss: 0.4786 - learning_rate: 0.0032 - gradient_norm: 2.4641"
          ]
        },
        {
          "name": "stderr",
          "output_type": "stream",
          "text": [
            "2023-09-05 20:29:04.616599: W tensorflow/core/framework/dataset.cc:768] Input of GeneratorDatasetOp::Dataset will not be optimized because the dataset does not implement the AsGraphDefInternal() method needed to apply optimizations.\n"
          ]
        },
        {
          "name": "stdout",
          "output_type": "stream",
          "text": [
            "42/42 [==============================] - 188s 4s/step - det_loss: 0.3965 - cls_loss: 0.1894 - box_loss: 0.0041 - reg_l2_loss: 0.0807 - loss: 0.4772 - learning_rate: 0.0032 - gradient_norm: 2.4670 - val_det_loss: 0.4212 - val_cls_loss: 0.2383 - val_box_loss: 0.0037 - val_reg_l2_loss: 0.0807 - val_loss: 0.5019\n",
            "Epoch 67/100\n",
            "42/42 [==============================] - ETA: 0s - det_loss: 0.4339 - cls_loss: 0.2042 - box_loss: 0.0046 - reg_l2_loss: 0.0807 - loss: 0.5145 - learning_rate: 0.0030 - gradient_norm: 2.8270"
          ]
        },
        {
          "name": "stderr",
          "output_type": "stream",
          "text": [
            "2023-09-05 20:32:12.880508: W tensorflow/core/framework/dataset.cc:768] Input of GeneratorDatasetOp::Dataset will not be optimized because the dataset does not implement the AsGraphDefInternal() method needed to apply optimizations.\n"
          ]
        },
        {
          "name": "stdout",
          "output_type": "stream",
          "text": [
            "42/42 [==============================] - 188s 4s/step - det_loss: 0.4384 - cls_loss: 0.2045 - box_loss: 0.0047 - reg_l2_loss: 0.0807 - loss: 0.5191 - learning_rate: 0.0030 - gradient_norm: 2.8224 - val_det_loss: 0.3940 - val_cls_loss: 0.2247 - val_box_loss: 0.0034 - val_reg_l2_loss: 0.0807 - val_loss: 0.4747\n",
            "Epoch 68/100\n",
            "42/42 [==============================] - ETA: 0s - det_loss: 0.4222 - cls_loss: 0.1973 - box_loss: 0.0045 - reg_l2_loss: 0.0807 - loss: 0.5028 - learning_rate: 0.0029 - gradient_norm: 2.4262"
          ]
        },
        {
          "name": "stderr",
          "output_type": "stream",
          "text": [
            "2023-09-05 20:35:21.258535: W tensorflow/core/framework/dataset.cc:768] Input of GeneratorDatasetOp::Dataset will not be optimized because the dataset does not implement the AsGraphDefInternal() method needed to apply optimizations.\n"
          ]
        },
        {
          "name": "stdout",
          "output_type": "stream",
          "text": [
            "42/42 [==============================] - 197s 5s/step - det_loss: 0.4273 - cls_loss: 0.1992 - box_loss: 0.0046 - reg_l2_loss: 0.0807 - loss: 0.5079 - learning_rate: 0.0029 - gradient_norm: 2.4544 - val_det_loss: 0.3896 - val_cls_loss: 0.2320 - val_box_loss: 0.0032 - val_reg_l2_loss: 0.0807 - val_loss: 0.4703\n",
            "Epoch 69/100\n",
            "42/42 [==============================] - ETA: 0s - det_loss: 0.4527 - cls_loss: 0.2075 - box_loss: 0.0049 - reg_l2_loss: 0.0807 - loss: 0.5333 - learning_rate: 0.0027 - gradient_norm: 2.6720"
          ]
        },
        {
          "name": "stderr",
          "output_type": "stream",
          "text": [
            "2023-09-05 20:38:38.308912: W tensorflow/core/framework/dataset.cc:768] Input of GeneratorDatasetOp::Dataset will not be optimized because the dataset does not implement the AsGraphDefInternal() method needed to apply optimizations.\n"
          ]
        },
        {
          "name": "stdout",
          "output_type": "stream",
          "text": [
            "42/42 [==============================] - 197s 5s/step - det_loss: 0.4516 - cls_loss: 0.2076 - box_loss: 0.0049 - reg_l2_loss: 0.0807 - loss: 0.5322 - learning_rate: 0.0027 - gradient_norm: 2.6696 - val_det_loss: 0.4049 - val_cls_loss: 0.2190 - val_box_loss: 0.0037 - val_reg_l2_loss: 0.0807 - val_loss: 0.4856\n",
            "Epoch 70/100\n",
            "42/42 [==============================] - ETA: 0s - det_loss: 0.4048 - cls_loss: 0.1893 - box_loss: 0.0043 - reg_l2_loss: 0.0807 - loss: 0.4854 - learning_rate: 0.0025 - gradient_norm: 2.4405"
          ]
        },
        {
          "name": "stderr",
          "output_type": "stream",
          "text": [
            "2023-09-05 20:41:55.240285: W tensorflow/core/framework/dataset.cc:768] Input of GeneratorDatasetOp::Dataset will not be optimized because the dataset does not implement the AsGraphDefInternal() method needed to apply optimizations.\n"
          ]
        },
        {
          "name": "stdout",
          "output_type": "stream",
          "text": [
            "42/42 [==============================] - 203s 5s/step - det_loss: 0.4027 - cls_loss: 0.1888 - box_loss: 0.0043 - reg_l2_loss: 0.0807 - loss: 0.4834 - learning_rate: 0.0025 - gradient_norm: 2.4406 - val_det_loss: 0.4154 - val_cls_loss: 0.2449 - val_box_loss: 0.0034 - val_reg_l2_loss: 0.0807 - val_loss: 0.4960\n",
            "Epoch 71/100\n",
            "42/42 [==============================] - ETA: 0s - det_loss: 0.3919 - cls_loss: 0.1877 - box_loss: 0.0041 - reg_l2_loss: 0.0807 - loss: 0.4726 - learning_rate: 0.0024 - gradient_norm: 2.7121"
          ]
        },
        {
          "name": "stderr",
          "output_type": "stream",
          "text": [
            "2023-09-05 20:45:17.694536: W tensorflow/core/framework/dataset.cc:768] Input of GeneratorDatasetOp::Dataset will not be optimized because the dataset does not implement the AsGraphDefInternal() method needed to apply optimizations.\n"
          ]
        },
        {
          "name": "stdout",
          "output_type": "stream",
          "text": [
            "42/42 [==============================] - 189s 5s/step - det_loss: 0.3919 - cls_loss: 0.1883 - box_loss: 0.0041 - reg_l2_loss: 0.0807 - loss: 0.4726 - learning_rate: 0.0024 - gradient_norm: 2.7299 - val_det_loss: 0.4517 - val_cls_loss: 0.2545 - val_box_loss: 0.0039 - val_reg_l2_loss: 0.0807 - val_loss: 0.5324\n",
            "Epoch 72/100\n",
            "42/42 [==============================] - ETA: 0s - det_loss: 0.4050 - cls_loss: 0.1941 - box_loss: 0.0042 - reg_l2_loss: 0.0807 - loss: 0.4856 - learning_rate: 0.0022 - gradient_norm: 2.7120"
          ]
        },
        {
          "name": "stderr",
          "output_type": "stream",
          "text": [
            "2023-09-05 20:48:26.871957: W tensorflow/core/framework/dataset.cc:768] Input of GeneratorDatasetOp::Dataset will not be optimized because the dataset does not implement the AsGraphDefInternal() method needed to apply optimizations.\n"
          ]
        },
        {
          "name": "stdout",
          "output_type": "stream",
          "text": [
            "42/42 [==============================] - 197s 5s/step - det_loss: 0.4044 - cls_loss: 0.1938 - box_loss: 0.0042 - reg_l2_loss: 0.0807 - loss: 0.4850 - learning_rate: 0.0022 - gradient_norm: 2.7070 - val_det_loss: 0.4115 - val_cls_loss: 0.2324 - val_box_loss: 0.0036 - val_reg_l2_loss: 0.0807 - val_loss: 0.4921\n",
            "Epoch 73/100\n",
            "42/42 [==============================] - ETA: 0s - det_loss: 0.4184 - cls_loss: 0.1979 - box_loss: 0.0044 - reg_l2_loss: 0.0807 - loss: 0.4991 - learning_rate: 0.0021 - gradient_norm: 2.6781"
          ]
        },
        {
          "name": "stderr",
          "output_type": "stream",
          "text": [
            "2023-09-05 20:51:43.472653: W tensorflow/core/framework/dataset.cc:768] Input of GeneratorDatasetOp::Dataset will not be optimized because the dataset does not implement the AsGraphDefInternal() method needed to apply optimizations.\n"
          ]
        },
        {
          "name": "stdout",
          "output_type": "stream",
          "text": [
            "42/42 [==============================] - 189s 5s/step - det_loss: 0.4147 - cls_loss: 0.1966 - box_loss: 0.0044 - reg_l2_loss: 0.0807 - loss: 0.4954 - learning_rate: 0.0021 - gradient_norm: 2.6569 - val_det_loss: 0.3892 - val_cls_loss: 0.2158 - val_box_loss: 0.0035 - val_reg_l2_loss: 0.0807 - val_loss: 0.4699\n",
            "Epoch 74/100\n",
            "42/42 [==============================] - ETA: 0s - det_loss: 0.3941 - cls_loss: 0.1906 - box_loss: 0.0041 - reg_l2_loss: 0.0807 - loss: 0.4748 - learning_rate: 0.0019 - gradient_norm: 2.6419"
          ]
        },
        {
          "name": "stderr",
          "output_type": "stream",
          "text": [
            "2023-09-05 20:54:52.160089: W tensorflow/core/framework/dataset.cc:768] Input of GeneratorDatasetOp::Dataset will not be optimized because the dataset does not implement the AsGraphDefInternal() method needed to apply optimizations.\n"
          ]
        },
        {
          "name": "stdout",
          "output_type": "stream",
          "text": [
            "42/42 [==============================] - 197s 5s/step - det_loss: 0.3986 - cls_loss: 0.1918 - box_loss: 0.0041 - reg_l2_loss: 0.0807 - loss: 0.4792 - learning_rate: 0.0019 - gradient_norm: 2.6361 - val_det_loss: 0.3871 - val_cls_loss: 0.2275 - val_box_loss: 0.0032 - val_reg_l2_loss: 0.0807 - val_loss: 0.4677\n",
            "Epoch 75/100\n",
            "42/42 [==============================] - ETA: 0s - det_loss: 0.4045 - cls_loss: 0.1887 - box_loss: 0.0043 - reg_l2_loss: 0.0807 - loss: 0.4852 - learning_rate: 0.0018 - gradient_norm: 2.4654"
          ]
        },
        {
          "name": "stderr",
          "output_type": "stream",
          "text": [
            "2023-09-05 20:58:08.989178: W tensorflow/core/framework/dataset.cc:768] Input of GeneratorDatasetOp::Dataset will not be optimized because the dataset does not implement the AsGraphDefInternal() method needed to apply optimizations.\n"
          ]
        },
        {
          "name": "stdout",
          "output_type": "stream",
          "text": [
            "42/42 [==============================] - 203s 5s/step - det_loss: 0.4044 - cls_loss: 0.1889 - box_loss: 0.0043 - reg_l2_loss: 0.0807 - loss: 0.4851 - learning_rate: 0.0018 - gradient_norm: 2.4601 - val_det_loss: 0.3722 - val_cls_loss: 0.2190 - val_box_loss: 0.0031 - val_reg_l2_loss: 0.0807 - val_loss: 0.4529\n",
            "Epoch 76/100\n",
            "42/42 [==============================] - ETA: 0s - det_loss: 0.3790 - cls_loss: 0.1845 - box_loss: 0.0039 - reg_l2_loss: 0.0807 - loss: 0.4597 - learning_rate: 0.0017 - gradient_norm: 2.3718"
          ]
        },
        {
          "name": "stderr",
          "output_type": "stream",
          "text": [
            "2023-09-05 21:01:31.972383: W tensorflow/core/framework/dataset.cc:768] Input of GeneratorDatasetOp::Dataset will not be optimized because the dataset does not implement the AsGraphDefInternal() method needed to apply optimizations.\n"
          ]
        },
        {
          "name": "stdout",
          "output_type": "stream",
          "text": [
            "42/42 [==============================] - 189s 5s/step - det_loss: 0.3778 - cls_loss: 0.1835 - box_loss: 0.0039 - reg_l2_loss: 0.0807 - loss: 0.4584 - learning_rate: 0.0017 - gradient_norm: 2.3626 - val_det_loss: 0.3776 - val_cls_loss: 0.2223 - val_box_loss: 0.0031 - val_reg_l2_loss: 0.0807 - val_loss: 0.4582\n",
            "Epoch 77/100\n",
            "42/42 [==============================] - ETA: 0s - det_loss: 0.3887 - cls_loss: 0.1853 - box_loss: 0.0041 - reg_l2_loss: 0.0806 - loss: 0.4693 - learning_rate: 0.0015 - gradient_norm: 2.6848"
          ]
        },
        {
          "name": "stderr",
          "output_type": "stream",
          "text": [
            "2023-09-05 21:04:40.896262: W tensorflow/core/framework/dataset.cc:768] Input of GeneratorDatasetOp::Dataset will not be optimized because the dataset does not implement the AsGraphDefInternal() method needed to apply optimizations.\n"
          ]
        },
        {
          "name": "stdout",
          "output_type": "stream",
          "text": [
            "42/42 [==============================] - 189s 5s/step - det_loss: 0.3878 - cls_loss: 0.1841 - box_loss: 0.0041 - reg_l2_loss: 0.0806 - loss: 0.4685 - learning_rate: 0.0015 - gradient_norm: 2.6797 - val_det_loss: 0.3441 - val_cls_loss: 0.2048 - val_box_loss: 0.0028 - val_reg_l2_loss: 0.0806 - val_loss: 0.4247\n",
            "Epoch 78/100\n",
            "42/42 [==============================] - ETA: 0s - det_loss: 0.3765 - cls_loss: 0.1877 - box_loss: 0.0038 - reg_l2_loss: 0.0806 - loss: 0.4571 - learning_rate: 0.0014 - gradient_norm: 2.4578"
          ]
        },
        {
          "name": "stderr",
          "output_type": "stream",
          "text": [
            "2023-09-05 21:07:50.041680: W tensorflow/core/framework/dataset.cc:768] Input of GeneratorDatasetOp::Dataset will not be optimized because the dataset does not implement the AsGraphDefInternal() method needed to apply optimizations.\n"
          ]
        },
        {
          "name": "stdout",
          "output_type": "stream",
          "text": [
            "42/42 [==============================] - 198s 5s/step - det_loss: 0.3751 - cls_loss: 0.1872 - box_loss: 0.0038 - reg_l2_loss: 0.0806 - loss: 0.4557 - learning_rate: 0.0014 - gradient_norm: 2.4521 - val_det_loss: 0.3795 - val_cls_loss: 0.2156 - val_box_loss: 0.0033 - val_reg_l2_loss: 0.0806 - val_loss: 0.4602\n",
            "Epoch 79/100\n",
            "42/42 [==============================] - ETA: 0s - det_loss: 0.4073 - cls_loss: 0.1979 - box_loss: 0.0042 - reg_l2_loss: 0.0806 - loss: 0.4880 - learning_rate: 0.0013 - gradient_norm: 2.7851"
          ]
        },
        {
          "name": "stderr",
          "output_type": "stream",
          "text": [
            "2023-09-05 21:11:07.459351: W tensorflow/core/framework/dataset.cc:768] Input of GeneratorDatasetOp::Dataset will not be optimized because the dataset does not implement the AsGraphDefInternal() method needed to apply optimizations.\n"
          ]
        },
        {
          "name": "stdout",
          "output_type": "stream",
          "text": [
            "42/42 [==============================] - 197s 5s/step - det_loss: 0.4063 - cls_loss: 0.1990 - box_loss: 0.0041 - reg_l2_loss: 0.0806 - loss: 0.4869 - learning_rate: 0.0013 - gradient_norm: 2.7749 - val_det_loss: 0.3404 - val_cls_loss: 0.2061 - val_box_loss: 0.0027 - val_reg_l2_loss: 0.0806 - val_loss: 0.4210\n",
            "Epoch 80/100\n",
            "42/42 [==============================] - ETA: 0s - det_loss: 0.3773 - cls_loss: 0.1886 - box_loss: 0.0038 - reg_l2_loss: 0.0806 - loss: 0.4580 - learning_rate: 0.0012 - gradient_norm: 2.4706"
          ]
        },
        {
          "name": "stderr",
          "output_type": "stream",
          "text": [
            "2023-09-05 21:14:24.191349: W tensorflow/core/framework/dataset.cc:768] Input of GeneratorDatasetOp::Dataset will not be optimized because the dataset does not implement the AsGraphDefInternal() method needed to apply optimizations.\n"
          ]
        },
        {
          "name": "stdout",
          "output_type": "stream",
          "text": [
            "42/42 [==============================] - 211s 5s/step - det_loss: 0.3777 - cls_loss: 0.1894 - box_loss: 0.0038 - reg_l2_loss: 0.0806 - loss: 0.4584 - learning_rate: 0.0012 - gradient_norm: 2.4896 - val_det_loss: 0.3561 - val_cls_loss: 0.2035 - val_box_loss: 0.0031 - val_reg_l2_loss: 0.0806 - val_loss: 0.4368\n",
            "Epoch 81/100\n",
            "42/42 [==============================] - ETA: 0s - det_loss: 0.3901 - cls_loss: 0.1934 - box_loss: 0.0039 - reg_l2_loss: 0.0806 - loss: 0.4707 - learning_rate: 0.0010 - gradient_norm: 2.6002"
          ]
        },
        {
          "name": "stderr",
          "output_type": "stream",
          "text": [
            "2023-09-05 21:17:55.054245: W tensorflow/core/framework/dataset.cc:768] Input of GeneratorDatasetOp::Dataset will not be optimized because the dataset does not implement the AsGraphDefInternal() method needed to apply optimizations.\n"
          ]
        },
        {
          "name": "stdout",
          "output_type": "stream",
          "text": [
            "42/42 [==============================] - 190s 5s/step - det_loss: 0.3891 - cls_loss: 0.1932 - box_loss: 0.0039 - reg_l2_loss: 0.0806 - loss: 0.4697 - learning_rate: 0.0010 - gradient_norm: 2.6008 - val_det_loss: 0.3701 - val_cls_loss: 0.2119 - val_box_loss: 0.0032 - val_reg_l2_loss: 0.0806 - val_loss: 0.4507\n",
            "Epoch 82/100\n",
            "42/42 [==============================] - ETA: 0s - det_loss: 0.3778 - cls_loss: 0.1857 - box_loss: 0.0038 - reg_l2_loss: 0.0806 - loss: 0.4584 - learning_rate: 9.4068e-04 - gradient_norm: 2.4390"
          ]
        },
        {
          "name": "stderr",
          "output_type": "stream",
          "text": [
            "2023-09-05 21:21:04.594251: W tensorflow/core/framework/dataset.cc:768] Input of GeneratorDatasetOp::Dataset will not be optimized because the dataset does not implement the AsGraphDefInternal() method needed to apply optimizations.\n"
          ]
        },
        {
          "name": "stdout",
          "output_type": "stream",
          "text": [
            "42/42 [==============================] - 197s 5s/step - det_loss: 0.3775 - cls_loss: 0.1856 - box_loss: 0.0038 - reg_l2_loss: 0.0806 - loss: 0.4581 - learning_rate: 9.3951e-04 - gradient_norm: 2.4218 - val_det_loss: 0.3622 - val_cls_loss: 0.2094 - val_box_loss: 0.0031 - val_reg_l2_loss: 0.0806 - val_loss: 0.4428\n",
            "Epoch 83/100\n",
            "42/42 [==============================] - ETA: 0s - det_loss: 0.3683 - cls_loss: 0.1815 - box_loss: 0.0037 - reg_l2_loss: 0.0806 - loss: 0.4490 - learning_rate: 8.3875e-04 - gradient_norm: 2.5890"
          ]
        },
        {
          "name": "stderr",
          "output_type": "stream",
          "text": [
            "2023-09-05 21:24:21.711792: W tensorflow/core/framework/dataset.cc:768] Input of GeneratorDatasetOp::Dataset will not be optimized because the dataset does not implement the AsGraphDefInternal() method needed to apply optimizations.\n"
          ]
        },
        {
          "name": "stdout",
          "output_type": "stream",
          "text": [
            "42/42 [==============================] - 189s 5s/step - det_loss: 0.3690 - cls_loss: 0.1819 - box_loss: 0.0037 - reg_l2_loss: 0.0806 - loss: 0.4496 - learning_rate: 8.3763e-04 - gradient_norm: 2.5951 - val_det_loss: 0.3469 - val_cls_loss: 0.2042 - val_box_loss: 0.0029 - val_reg_l2_loss: 0.0806 - val_loss: 0.4275\n",
            "Epoch 84/100\n",
            "42/42 [==============================] - ETA: 0s - det_loss: 0.4021 - cls_loss: 0.1939 - box_loss: 0.0042 - reg_l2_loss: 0.0806 - loss: 0.4827 - learning_rate: 7.4226e-04 - gradient_norm: 2.7926"
          ]
        },
        {
          "name": "stderr",
          "output_type": "stream",
          "text": [
            "2023-09-05 21:27:29.907845: W tensorflow/core/framework/dataset.cc:768] Input of GeneratorDatasetOp::Dataset will not be optimized because the dataset does not implement the AsGraphDefInternal() method needed to apply optimizations.\n"
          ]
        },
        {
          "name": "stdout",
          "output_type": "stream",
          "text": [
            "42/42 [==============================] - 188s 4s/step - det_loss: 0.4031 - cls_loss: 0.1941 - box_loss: 0.0042 - reg_l2_loss: 0.0806 - loss: 0.4837 - learning_rate: 7.4121e-04 - gradient_norm: 2.8012 - val_det_loss: 0.3465 - val_cls_loss: 0.2006 - val_box_loss: 0.0029 - val_reg_l2_loss: 0.0806 - val_loss: 0.4271\n",
            "Epoch 85/100\n",
            "42/42 [==============================] - ETA: 0s - det_loss: 0.3850 - cls_loss: 0.1836 - box_loss: 0.0040 - reg_l2_loss: 0.0806 - loss: 0.4656 - learning_rate: 6.5132e-04 - gradient_norm: 2.5717"
          ]
        },
        {
          "name": "stderr",
          "output_type": "stream",
          "text": [
            "2023-09-05 21:30:38.236245: W tensorflow/core/framework/dataset.cc:768] Input of GeneratorDatasetOp::Dataset will not be optimized because the dataset does not implement the AsGraphDefInternal() method needed to apply optimizations.\n"
          ]
        },
        {
          "name": "stdout",
          "output_type": "stream",
          "text": [
            "42/42 [==============================] - 202s 5s/step - det_loss: 0.3838 - cls_loss: 0.1832 - box_loss: 0.0040 - reg_l2_loss: 0.0806 - loss: 0.4644 - learning_rate: 6.5033e-04 - gradient_norm: 2.5769 - val_det_loss: 0.3504 - val_cls_loss: 0.2043 - val_box_loss: 0.0029 - val_reg_l2_loss: 0.0806 - val_loss: 0.4310\n",
            "Epoch 86/100\n",
            "42/42 [==============================] - ETA: 0s - det_loss: 0.3699 - cls_loss: 0.1878 - box_loss: 0.0036 - reg_l2_loss: 0.0806 - loss: 0.4505 - learning_rate: 5.6602e-04 - gradient_norm: 2.4823"
          ]
        },
        {
          "name": "stderr",
          "output_type": "stream",
          "text": [
            "2023-09-05 21:34:00.653544: W tensorflow/core/framework/dataset.cc:768] Input of GeneratorDatasetOp::Dataset will not be optimized because the dataset does not implement the AsGraphDefInternal() method needed to apply optimizations.\n"
          ]
        },
        {
          "name": "stdout",
          "output_type": "stream",
          "text": [
            "42/42 [==============================] - 196s 5s/step - det_loss: 0.3665 - cls_loss: 0.1868 - box_loss: 0.0036 - reg_l2_loss: 0.0806 - loss: 0.4472 - learning_rate: 5.6509e-04 - gradient_norm: 2.4676 - val_det_loss: 0.3492 - val_cls_loss: 0.2100 - val_box_loss: 0.0028 - val_reg_l2_loss: 0.0806 - val_loss: 0.4298\n",
            "Epoch 87/100\n",
            "42/42 [==============================] - ETA: 0s - det_loss: 0.4060 - cls_loss: 0.1986 - box_loss: 0.0041 - reg_l2_loss: 0.0806 - loss: 0.4867 - learning_rate: 4.8644e-04 - gradient_norm: 2.6079"
          ]
        },
        {
          "name": "stderr",
          "output_type": "stream",
          "text": [
            "2023-09-05 21:37:16.723349: W tensorflow/core/framework/dataset.cc:768] Input of GeneratorDatasetOp::Dataset will not be optimized because the dataset does not implement the AsGraphDefInternal() method needed to apply optimizations.\n"
          ]
        },
        {
          "name": "stdout",
          "output_type": "stream",
          "text": [
            "42/42 [==============================] - 188s 4s/step - det_loss: 0.4129 - cls_loss: 0.2018 - box_loss: 0.0042 - reg_l2_loss: 0.0806 - loss: 0.4935 - learning_rate: 4.8558e-04 - gradient_norm: 2.6781 - val_det_loss: 0.3480 - val_cls_loss: 0.2055 - val_box_loss: 0.0028 - val_reg_l2_loss: 0.0806 - val_loss: 0.4286\n",
            "Epoch 88/100\n",
            "42/42 [==============================] - ETA: 0s - det_loss: 0.3592 - cls_loss: 0.1854 - box_loss: 0.0035 - reg_l2_loss: 0.0806 - loss: 0.4398 - learning_rate: 4.1266e-04 - gradient_norm: 2.6489"
          ]
        },
        {
          "name": "stderr",
          "output_type": "stream",
          "text": [
            "2023-09-05 21:40:25.298668: W tensorflow/core/framework/dataset.cc:768] Input of GeneratorDatasetOp::Dataset will not be optimized because the dataset does not implement the AsGraphDefInternal() method needed to apply optimizations.\n"
          ]
        },
        {
          "name": "stdout",
          "output_type": "stream",
          "text": [
            "42/42 [==============================] - 197s 5s/step - det_loss: 0.3643 - cls_loss: 0.1876 - box_loss: 0.0035 - reg_l2_loss: 0.0806 - loss: 0.4449 - learning_rate: 4.1187e-04 - gradient_norm: 2.6602 - val_det_loss: 0.3587 - val_cls_loss: 0.2090 - val_box_loss: 0.0030 - val_reg_l2_loss: 0.0806 - val_loss: 0.4393\n",
            "Epoch 89/100\n",
            "42/42 [==============================] - ETA: 0s - det_loss: 0.3688 - cls_loss: 0.1842 - box_loss: 0.0037 - reg_l2_loss: 0.0806 - loss: 0.4495 - learning_rate: 3.4477e-04 - gradient_norm: 2.5628"
          ]
        },
        {
          "name": "stderr",
          "output_type": "stream",
          "text": [
            "2023-09-05 21:43:41.852989: W tensorflow/core/framework/dataset.cc:768] Input of GeneratorDatasetOp::Dataset will not be optimized because the dataset does not implement the AsGraphDefInternal() method needed to apply optimizations.\n"
          ]
        },
        {
          "name": "stdout",
          "output_type": "stream",
          "text": [
            "42/42 [==============================] - 188s 4s/step - det_loss: 0.3700 - cls_loss: 0.1851 - box_loss: 0.0037 - reg_l2_loss: 0.0806 - loss: 0.4506 - learning_rate: 3.4404e-04 - gradient_norm: 2.5686 - val_det_loss: 0.3467 - val_cls_loss: 0.2025 - val_box_loss: 0.0029 - val_reg_l2_loss: 0.0806 - val_loss: 0.4273\n",
            "Epoch 90/100\n",
            "42/42 [==============================] - ETA: 0s - det_loss: 0.4034 - cls_loss: 0.2007 - box_loss: 0.0041 - reg_l2_loss: 0.0806 - loss: 0.4840 - learning_rate: 2.8281e-04 - gradient_norm: 2.7995"
          ]
        },
        {
          "name": "stderr",
          "output_type": "stream",
          "text": [
            "2023-09-05 21:46:49.925774: W tensorflow/core/framework/dataset.cc:768] Input of GeneratorDatasetOp::Dataset will not be optimized because the dataset does not implement the AsGraphDefInternal() method needed to apply optimizations.\n"
          ]
        },
        {
          "name": "stdout",
          "output_type": "stream",
          "text": [
            "42/42 [==============================] - 202s 5s/step - det_loss: 0.4096 - cls_loss: 0.2018 - box_loss: 0.0042 - reg_l2_loss: 0.0806 - loss: 0.4903 - learning_rate: 2.8215e-04 - gradient_norm: 2.7903 - val_det_loss: 0.3465 - val_cls_loss: 0.2020 - val_box_loss: 0.0029 - val_reg_l2_loss: 0.0806 - val_loss: 0.4271\n",
            "Epoch 91/100\n",
            "42/42 [==============================] - ETA: 0s - det_loss: 0.3738 - cls_loss: 0.1840 - box_loss: 0.0038 - reg_l2_loss: 0.0806 - loss: 0.4544 - learning_rate: 2.2687e-04 - gradient_norm: 2.6662"
          ]
        },
        {
          "name": "stderr",
          "output_type": "stream",
          "text": [
            "2023-09-05 21:50:11.898453: W tensorflow/core/framework/dataset.cc:768] Input of GeneratorDatasetOp::Dataset will not be optimized because the dataset does not implement the AsGraphDefInternal() method needed to apply optimizations.\n"
          ]
        },
        {
          "name": "stdout",
          "output_type": "stream",
          "text": [
            "42/42 [==============================] - 188s 4s/step - det_loss: 0.3721 - cls_loss: 0.1841 - box_loss: 0.0038 - reg_l2_loss: 0.0806 - loss: 0.4527 - learning_rate: 2.2628e-04 - gradient_norm: 2.6499 - val_det_loss: 0.3474 - val_cls_loss: 0.2033 - val_box_loss: 0.0029 - val_reg_l2_loss: 0.0806 - val_loss: 0.4280\n",
            "Epoch 92/100\n",
            "42/42 [==============================] - ETA: 0s - det_loss: 0.3467 - cls_loss: 0.1757 - box_loss: 0.0034 - reg_l2_loss: 0.0806 - loss: 0.4273 - learning_rate: 1.7699e-04 - gradient_norm: 2.3498"
          ]
        },
        {
          "name": "stderr",
          "output_type": "stream",
          "text": [
            "2023-09-05 21:53:20.109823: W tensorflow/core/framework/dataset.cc:768] Input of GeneratorDatasetOp::Dataset will not be optimized because the dataset does not implement the AsGraphDefInternal() method needed to apply optimizations.\n"
          ]
        },
        {
          "name": "stdout",
          "output_type": "stream",
          "text": [
            "42/42 [==============================] - 189s 4s/step - det_loss: 0.3477 - cls_loss: 0.1759 - box_loss: 0.0034 - reg_l2_loss: 0.0806 - loss: 0.4284 - learning_rate: 1.7647e-04 - gradient_norm: 2.3710 - val_det_loss: 0.3488 - val_cls_loss: 0.2038 - val_box_loss: 0.0029 - val_reg_l2_loss: 0.0806 - val_loss: 0.4294\n",
            "Epoch 93/100\n",
            "42/42 [==============================] - ETA: 0s - det_loss: 0.3817 - cls_loss: 0.1827 - box_loss: 0.0040 - reg_l2_loss: 0.0806 - loss: 0.4624 - learning_rate: 1.3323e-04 - gradient_norm: 2.4374"
          ]
        },
        {
          "name": "stderr",
          "output_type": "stream",
          "text": [
            "2023-09-05 21:56:28.891011: W tensorflow/core/framework/dataset.cc:768] Input of GeneratorDatasetOp::Dataset will not be optimized because the dataset does not implement the AsGraphDefInternal() method needed to apply optimizations.\n"
          ]
        },
        {
          "name": "stdout",
          "output_type": "stream",
          "text": [
            "42/42 [==============================] - 188s 4s/step - det_loss: 0.3832 - cls_loss: 0.1828 - box_loss: 0.0040 - reg_l2_loss: 0.0806 - loss: 0.4638 - learning_rate: 1.3277e-04 - gradient_norm: 2.4375 - val_det_loss: 0.3509 - val_cls_loss: 0.2060 - val_box_loss: 0.0029 - val_reg_l2_loss: 0.0806 - val_loss: 0.4315\n",
            "Epoch 94/100\n",
            "42/42 [==============================] - ETA: 0s - det_loss: 0.4103 - cls_loss: 0.1950 - box_loss: 0.0043 - reg_l2_loss: 0.0806 - loss: 0.4909 - learning_rate: 9.5620e-05 - gradient_norm: 2.6976"
          ]
        },
        {
          "name": "stderr",
          "output_type": "stream",
          "text": [
            "2023-09-05 21:59:36.979271: W tensorflow/core/framework/dataset.cc:768] Input of GeneratorDatasetOp::Dataset will not be optimized because the dataset does not implement the AsGraphDefInternal() method needed to apply optimizations.\n"
          ]
        },
        {
          "name": "stdout",
          "output_type": "stream",
          "text": [
            "42/42 [==============================] - 196s 5s/step - det_loss: 0.4112 - cls_loss: 0.1952 - box_loss: 0.0043 - reg_l2_loss: 0.0806 - loss: 0.4919 - learning_rate: 9.5239e-05 - gradient_norm: 2.6992 - val_det_loss: 0.3498 - val_cls_loss: 0.2069 - val_box_loss: 0.0029 - val_reg_l2_loss: 0.0806 - val_loss: 0.4304\n",
            "Epoch 95/100\n",
            "42/42 [==============================] - ETA: 0s - det_loss: 0.3847 - cls_loss: 0.1864 - box_loss: 0.0040 - reg_l2_loss: 0.0806 - loss: 0.4653 - learning_rate: 6.4212e-05 - gradient_norm: 2.6299"
          ]
        },
        {
          "name": "stderr",
          "output_type": "stream",
          "text": [
            "2023-09-05 22:02:53.104519: W tensorflow/core/framework/dataset.cc:768] Input of GeneratorDatasetOp::Dataset will not be optimized because the dataset does not implement the AsGraphDefInternal() method needed to apply optimizations.\n"
          ]
        },
        {
          "name": "stdout",
          "output_type": "stream",
          "text": [
            "42/42 [==============================] - 202s 5s/step - det_loss: 0.3830 - cls_loss: 0.1856 - box_loss: 0.0039 - reg_l2_loss: 0.0806 - loss: 0.4636 - learning_rate: 6.3902e-05 - gradient_norm: 2.6305 - val_det_loss: 0.3519 - val_cls_loss: 0.2077 - val_box_loss: 0.0029 - val_reg_l2_loss: 0.0806 - val_loss: 0.4325\n",
            "Epoch 96/100\n",
            "42/42 [==============================] - ETA: 0s - det_loss: 0.3570 - cls_loss: 0.1734 - box_loss: 0.0037 - reg_l2_loss: 0.0806 - loss: 0.4377 - learning_rate: 3.9032e-05 - gradient_norm: 2.4107"
          ]
        },
        {
          "name": "stderr",
          "output_type": "stream",
          "text": [
            "2023-09-05 22:06:15.257263: W tensorflow/core/framework/dataset.cc:768] Input of GeneratorDatasetOp::Dataset will not be optimized because the dataset does not implement the AsGraphDefInternal() method needed to apply optimizations.\n"
          ]
        },
        {
          "name": "stdout",
          "output_type": "stream",
          "text": [
            "42/42 [==============================] - 188s 4s/step - det_loss: 0.3580 - cls_loss: 0.1741 - box_loss: 0.0037 - reg_l2_loss: 0.0806 - loss: 0.4387 - learning_rate: 3.8793e-05 - gradient_norm: 2.4397 - val_det_loss: 0.3529 - val_cls_loss: 0.2083 - val_box_loss: 0.0029 - val_reg_l2_loss: 0.0806 - val_loss: 0.4335\n",
            "Epoch 97/100\n",
            "42/42 [==============================] - ETA: 0s - det_loss: 0.3510 - cls_loss: 0.1723 - box_loss: 0.0036 - reg_l2_loss: 0.0806 - loss: 0.4317 - learning_rate: 2.0106e-05 - gradient_norm: 2.4783"
          ]
        },
        {
          "name": "stderr",
          "output_type": "stream",
          "text": [
            "2023-09-05 22:09:23.396586: W tensorflow/core/framework/dataset.cc:768] Input of GeneratorDatasetOp::Dataset will not be optimized because the dataset does not implement the AsGraphDefInternal() method needed to apply optimizations.\n"
          ]
        },
        {
          "name": "stdout",
          "output_type": "stream",
          "text": [
            "42/42 [==============================] - 188s 4s/step - det_loss: 0.3526 - cls_loss: 0.1726 - box_loss: 0.0036 - reg_l2_loss: 0.0806 - loss: 0.4332 - learning_rate: 1.9938e-05 - gradient_norm: 2.4683 - val_det_loss: 0.3532 - val_cls_loss: 0.2085 - val_box_loss: 0.0029 - val_reg_l2_loss: 0.0806 - val_loss: 0.4338\n",
            "Epoch 98/100\n",
            "42/42 [==============================] - ETA: 0s - det_loss: 0.3806 - cls_loss: 0.1835 - box_loss: 0.0039 - reg_l2_loss: 0.0806 - loss: 0.4612 - learning_rate: 7.4537e-06 - gradient_norm: 2.5383"
          ]
        },
        {
          "name": "stderr",
          "output_type": "stream",
          "text": [
            "2023-09-05 22:12:31.505948: W tensorflow/core/framework/dataset.cc:768] Input of GeneratorDatasetOp::Dataset will not be optimized because the dataset does not implement the AsGraphDefInternal() method needed to apply optimizations.\n"
          ]
        },
        {
          "name": "stdout",
          "output_type": "stream",
          "text": [
            "42/42 [==============================] - 196s 5s/step - det_loss: 0.3819 - cls_loss: 0.1836 - box_loss: 0.0040 - reg_l2_loss: 0.0806 - loss: 0.4625 - learning_rate: 7.3571e-06 - gradient_norm: 2.5450 - val_det_loss: 0.3528 - val_cls_loss: 0.2086 - val_box_loss: 0.0029 - val_reg_l2_loss: 0.0806 - val_loss: 0.4334\n",
            "Epoch 99/100\n",
            "42/42 [==============================] - ETA: 0s - det_loss: 0.3614 - cls_loss: 0.1825 - box_loss: 0.0036 - reg_l2_loss: 0.0806 - loss: 0.4420 - learning_rate: 1.0866e-06 - gradient_norm: 2.3495"
          ]
        },
        {
          "name": "stderr",
          "output_type": "stream",
          "text": [
            "2023-09-05 22:15:47.680928: W tensorflow/core/framework/dataset.cc:768] Input of GeneratorDatasetOp::Dataset will not be optimized because the dataset does not implement the AsGraphDefInternal() method needed to apply optimizations.\n"
          ]
        },
        {
          "name": "stdout",
          "output_type": "stream",
          "text": [
            "42/42 [==============================] - 189s 4s/step - det_loss: 0.3618 - cls_loss: 0.1833 - box_loss: 0.0036 - reg_l2_loss: 0.0806 - loss: 0.4425 - learning_rate: 1.0614e-06 - gradient_norm: 2.3603 - val_det_loss: 0.3526 - val_cls_loss: 0.2085 - val_box_loss: 0.0029 - val_reg_l2_loss: 0.0806 - val_loss: 0.4332\n",
            "Epoch 100/100\n",
            "42/42 [==============================] - ETA: 0s - det_loss: 0.3464 - cls_loss: 0.1789 - box_loss: 0.0034 - reg_l2_loss: 0.0806 - loss: 0.4271 - learning_rate: 1.0118e-06 - gradient_norm: 2.3924"
          ]
        },
        {
          "name": "stderr",
          "output_type": "stream",
          "text": [
            "2023-09-05 22:18:56.091332: W tensorflow/core/framework/dataset.cc:768] Input of GeneratorDatasetOp::Dataset will not be optimized because the dataset does not implement the AsGraphDefInternal() method needed to apply optimizations.\n"
          ]
        },
        {
          "name": "stdout",
          "output_type": "stream",
          "text": [
            "42/42 [==============================] - 202s 5s/step - det_loss: 0.3446 - cls_loss: 0.1787 - box_loss: 0.0033 - reg_l2_loss: 0.0806 - loss: 0.4252 - learning_rate: 1.0580e-06 - gradient_norm: 2.3741 - val_det_loss: 0.3528 - val_cls_loss: 0.2080 - val_box_loss: 0.0029 - val_reg_l2_loss: 0.0806 - val_loss: 0.4334\n"
          ]
        }
      ],
      "source": [
        "model = object_detector.create(train_data=train_data,\n",
        "                               model_spec=spec,\n",
        "                               validation_data=validation_data,\n",
        "                               epochs=100,\n",
        "                               batch_size=10,\n",
        "                               train_whole_model=True)"
      ]
    },
    {
      "cell_type": "code",
      "execution_count": null,
      "metadata": {},
      "outputs": [],
      "source": []
    },
    {
      "cell_type": "markdown",
      "metadata": {
        "id": "3n5-o3vvGfnJ"
      },
      "source": [
        "## Evaluate the model"
      ]
    },
    {
      "cell_type": "markdown",
      "metadata": {
        "id": "-BzCHLWJ6h7q"
      },
      "source": [
        "Now we'll use the test dataset to evaluate how well the model performs with data it has never seen before.\n",
        "\n",
        "The [`evaluate()`](https://www.tensorflow.org/lite/api_docs/python/tflite_model_maker/object_detector/ObjectDetector#evaluate) method provides output in the style of [COCO evaluation metrics](https://cocodataset.org/#detection-eval):"
      ]
    },
    {
      "cell_type": "code",
      "execution_count": 11,
      "metadata": {
        "id": "8xmnl6Yy7ARn"
      },
      "outputs": [
        {
          "name": "stderr",
          "output_type": "stream",
          "text": [
            "2023-09-05 22:19:28.662662: W tensorflow/core/framework/cpu_allocator_impl.cc:82] Allocation of 411041792 exceeds 10% of free system memory.\n",
            "2023-09-05 22:19:28.822761: W tensorflow/core/framework/cpu_allocator_impl.cc:82] Allocation of 411041792 exceeds 10% of free system memory.\n",
            "2023-09-05 22:19:28.954333: W tensorflow/core/framework/cpu_allocator_impl.cc:82] Allocation of 411041792 exceeds 10% of free system memory.\n",
            "2023-09-05 22:19:29.056287: W tensorflow/core/framework/cpu_allocator_impl.cc:82] Allocation of 1233125376 exceeds 10% of free system memory.\n",
            "2023-09-05 22:19:29.343852: W tensorflow/core/framework/cpu_allocator_impl.cc:82] Allocation of 462422016 exceeds 10% of free system memory.\n"
          ]
        },
        {
          "name": "stdout",
          "output_type": "stream",
          "text": [
            "3/3 [==============================] - 19s 4s/step\n",
            "\n"
          ]
        },
        {
          "data": {
            "text/plain": [
              "{'AP': 0.31097165,\n",
              " 'AP50': 0.7963867,\n",
              " 'AP75': 0.16799991,\n",
              " 'APs': 0.26935598,\n",
              " 'APm': 0.6294595,\n",
              " 'APl': -1.0,\n",
              " 'ARmax1': 0.15539905,\n",
              " 'ARmax10': 0.4483568,\n",
              " 'ARmax100': 0.5042254,\n",
              " 'ARs': 0.48435897,\n",
              " 'ARm': 0.71944445,\n",
              " 'ARl': -1.0,\n",
              " 'AP_/ym': 0.31097165}"
            ]
          },
          "execution_count": 11,
          "metadata": {},
          "output_type": "execute_result"
        }
      ],
      "source": [
        "model.evaluate(test_data)"
      ]
    },
    {
      "cell_type": "markdown",
      "metadata": {
        "id": "PEon9xd2BDS_"
      },
      "source": [
        "Because the default batch size for [EfficientDetLite models](https://www.tensorflow.org/lite/api_docs/python/tflite_model_maker/object_detector/EfficientDetSpec) is 64, this needs only 1 step to go through all 25 images in the salad test set. You can also specify the `batch_size` argument when you call [`evaluate()`](https://www.tensorflow.org/lite/api_docs/python/tflite_model_maker/object_detector/ObjectDetector#evaluate)."
      ]
    },
    {
      "cell_type": "markdown",
      "metadata": {
        "id": "_yB_XMpqGlLs"
      },
      "source": [
        "## Export to TensorFlow Lite"
      ]
    },
    {
      "cell_type": "markdown",
      "metadata": {
        "id": "CgCDMe0e6jlT"
      },
      "source": [
        "Next, we'll export the model to the TensorFlow Lite format. By default, the [`export()`](https://www.tensorflow.org/lite/api_docs/python/tflite_model_maker/object_detector/ObjectDetector#export) method performs [full integer post-training quantization](https://www.tensorflow.org/lite/performance/post_training_quantization#full_integer_quantization), which is exactly what we need for compatibility with the Edge TPU. (Model Maker uses the same dataset we gave to our model spec as a representative dataset, which is required for full-int quantization.)\n",
        "\n",
        "We just need to specify the export directory and format. By default, it exports to TF Lite, but we also want a labels file, so we declare both:"
      ]
    },
    {
      "cell_type": "code",
      "execution_count": 12,
      "metadata": {
        "id": "2Cu9cxX5Qu-e"
      },
      "outputs": [],
      "source": [
        "TFLITE_FILENAME = 'efficientdet2-v2.tflite'\n",
        "LABELS_FILENAME = 'labels.txt'"
      ]
    },
    {
      "cell_type": "code",
      "execution_count": 13,
      "metadata": {
        "id": "rKd6qk7TbxYO"
      },
      "outputs": [
        {
          "name": "stderr",
          "output_type": "stream",
          "text": [
            "2023-09-05 22:19:45.828382: W tensorflow/python/util/util.cc:368] Sets are not currently considered sequences, but this may change in the future, so consider avoiding using them.\n",
            "2023-09-05 22:20:09.925013: W tensorflow/core/common_runtime/graph_constructor.cc:803] Node 'resample_p7/PartitionedCall' has 1 outputs but the _output_shapes attribute specifies shapes for 3 outputs. Output shapes may be inaccurate.\n",
            "2023-09-05 22:20:17.152335: W tensorflow/compiler/mlir/lite/python/tf_tfl_flatbuffer_helpers.cc:357] Ignored output_format.\n",
            "2023-09-05 22:20:17.152376: W tensorflow/compiler/mlir/lite/python/tf_tfl_flatbuffer_helpers.cc:360] Ignored drop_control_dependency.\n",
            "2023-09-05 22:20:17.170851: I tensorflow/cc/saved_model/reader.cc:43] Reading SavedModel from: /tmp/tmpepzf0441\n",
            "2023-09-05 22:20:17.287534: I tensorflow/cc/saved_model/reader.cc:78] Reading meta graph with tags { serve }\n",
            "2023-09-05 22:20:17.287583: I tensorflow/cc/saved_model/reader.cc:119] Reading SavedModel debug info (if present) from: /tmp/tmpepzf0441\n",
            "2023-09-05 22:20:17.627195: I tensorflow/cc/saved_model/loader.cc:228] Restoring SavedModel bundle.\n",
            "2023-09-05 22:20:19.538201: I tensorflow/cc/saved_model/loader.cc:212] Running initialization op on SavedModel bundle at path: /tmp/tmpepzf0441\n",
            "2023-09-05 22:20:20.361099: I tensorflow/cc/saved_model/loader.cc:301] SavedModel load for tags { serve }; Status: success: OK. Took 3190253 microseconds.\n",
            "2023-09-05 22:20:22.223279: I tensorflow/compiler/mlir/tensorflow/utils/dump_mlir_util.cc:237] disabling MLIR crash reproducer, set env var `MLIR_CRASH_REPRODUCER_DIRECTORY` to enable.\n",
            "2023-09-05 22:20:24.533650: I tensorflow/compiler/mlir/lite/flatbuffer_export.cc:1963] Estimated count of arithmetic ops: 6.066 G  ops, equivalently 3.033 G  MACs\n",
            "\n"
          ]
        },
        {
          "name": "stdout",
          "output_type": "stream",
          "text": [
            "Estimated count of arithmetic ops: 6.066 G  ops, equivalently 3.033 G  MACs\n"
          ]
        },
        {
          "name": "stderr",
          "output_type": "stream",
          "text": [
            "fully_quantize: 0, inference_type: 6, input_inference_type: 3, output_inference_type: 0\n",
            "2023-09-05 22:24:21.087582: I tensorflow/compiler/mlir/lite/flatbuffer_export.cc:1963] Estimated count of arithmetic ops: 6.066 G  ops, equivalently 3.033 G  MACs\n",
            "\n"
          ]
        },
        {
          "name": "stdout",
          "output_type": "stream",
          "text": [
            "Estimated count of arithmetic ops: 6.066 G  ops, equivalently 3.033 G  MACs\n"
          ]
        }
      ],
      "source": [
        "model.export(export_dir='.', tflite_filename=TFLITE_FILENAME, label_filename=LABELS_FILENAME,\n",
        "             export_format=[ExportFormat.TFLITE, ExportFormat.LABEL])"
      ]
    },
    {
      "cell_type": "markdown",
      "metadata": {
        "id": "b94hZ-exOCRB"
      },
      "source": [
        "### Evaluate the TF Lite model"
      ]
    },
    {
      "cell_type": "markdown",
      "metadata": {
        "id": "ZQpahAIBqBPp"
      },
      "source": [
        "Exporting the model to TensorFlow Lite can affect the model accuracy, due to the reduced numerical precision from quantization and because the original TensorFlow model uses per-class [non-max supression (NMS)](https://www.coursera.org/lecture/convolutional-neural-networks/non-max-suppression-dvrjH) for post-processing, while the TF Lite model uses global NMS, which is faster but less accurate.\n",
        "\n",
        "Therefore you should always evaluate the exported TF Lite model and be sure it still meets your requirements:"
      ]
    },
    {
      "cell_type": "code",
      "execution_count": 14,
      "metadata": {
        "id": "RS3Ell_lqH4e"
      },
      "outputs": [
        {
          "name": "stderr",
          "output_type": "stream",
          "text": [
            "INFO: Created TensorFlow Lite XNNPACK delegate for CPU.\n"
          ]
        },
        {
          "name": "stdout",
          "output_type": "stream",
          "text": [
            "142/142 [==============================] - 936s 7s/step\n",
            "\n"
          ]
        },
        {
          "data": {
            "text/plain": [
              "{'AP': 0.28505108,\n",
              " 'AP50': 0.78295976,\n",
              " 'AP75': 0.14102167,\n",
              " 'APs': 0.23903966,\n",
              " 'APm': 0.62300766,\n",
              " 'APl': -1.0,\n",
              " 'ARmax1': 0.15586855,\n",
              " 'ARmax10': 0.40211266,\n",
              " 'ARmax100': 0.41596243,\n",
              " 'ARs': 0.39205128,\n",
              " 'ARm': 0.675,\n",
              " 'ARl': -1.0,\n",
              " 'AP_/ym': 0.28505108}"
            ]
          },
          "execution_count": 14,
          "metadata": {},
          "output_type": "execute_result"
        }
      ],
      "source": [
        "model.evaluate_tflite(TFLITE_FILENAME, test_data)"
      ]
    },
    {
      "cell_type": "markdown",
      "metadata": {
        "id": "Ph88z7PdOeX7"
      },
      "source": [
        "### Try the TFLite model"
      ]
    },
    {
      "cell_type": "markdown",
      "metadata": {
        "id": "me6_RwPZqNhX"
      },
      "source": [
        "Just to be sure of things, let's run the model ourselves with an image from the test set."
      ]
    },
    {
      "cell_type": "code",
      "execution_count": 15,
      "metadata": {
        "id": "eag7jTOASGFW"
      },
      "outputs": [],
      "source": [
        "import random\n",
        "\n",
        "# If you're using a custom dataset, we take a random image from the test set:\n",
        "if use_custom_dataset:\n",
        "  images_path = test_images_dir if dataset_is_split else os.path.join(test_dir, \"images\")\n",
        "  filenames = os.listdir(os.path.join(images_path))\n",
        "  random_index = random.randint(0,len(filenames)-1)\n",
        "  INPUT_IMAGE = os.path.join(images_path, filenames[random_index])\n",
        "else:\n",
        "  # Download a test salad image\n",
        "  INPUT_IMAGE = 'salad-test.jpg'\n",
        "  DOWNLOAD_URL = \"https://storage.googleapis.com/cloud-ml-data/img/openimage/3/2520/3916261642_0a504acd60_o.jpg\"\n",
        "  !wget -q -O $INPUT_IMAGE $DOWNLOAD_URL"
      ]
    },
    {
      "cell_type": "markdown",
      "metadata": {
        "id": "ZBecI78ZaxsO"
      },
      "source": [
        "To simplify our code, we'll use the [PyCoral API](https://coral.ai/docs/reference/py/):"
      ]
    },
    {
      "cell_type": "code",
      "execution_count": 16,
      "metadata": {
        "id": "TmgtGBqua1N3"
      },
      "outputs": [
        {
          "name": "stdout",
          "output_type": "stream",
          "text": [
            "Looking in indexes: https://pypi.org/simple, https://google-coral.github.io/py-repo/\n",
            "Collecting pycoral\n",
            "  Downloading https://github.com/google-coral/pycoral/releases/download/v2.0.0/pycoral-2.0.0-cp39-cp39-linux_x86_64.whl (393 kB)\n",
            "\u001b[2K     \u001b[90m━━━━━━━━━━━━━━━━━━━━━━━━━━━━━━━━━━━━━━━\u001b[0m \u001b[32m393.8/393.8 kB\u001b[0m \u001b[31m6.3 MB/s\u001b[0m eta \u001b[36m0:00:00\u001b[0m00:01\u001b[0m\n",
            "\u001b[?25hRequirement already satisfied: Pillow>=4.0.0 in ./.conda/lib/python3.9/site-packages (from pycoral) (9.5.0)\n",
            "Requirement already satisfied: numpy>=1.16.0 in ./.conda/lib/python3.9/site-packages (from pycoral) (1.23.4)\n",
            "Collecting tflite-runtime==2.5.0.post1 (from pycoral)\n",
            "  Downloading https://github.com/google-coral/pycoral/releases/download/v2.0.0/tflite_runtime-2.5.0.post1-cp39-cp39-linux_x86_64.whl (1.5 MB)\n",
            "\u001b[2K     \u001b[90m━━━━━━━━━━━━━━━━━━━━━━━━━━━━━━━━━━━━━━━━\u001b[0m \u001b[32m1.5/1.5 MB\u001b[0m \u001b[31m25.7 MB/s\u001b[0m eta \u001b[36m0:00:00\u001b[0m00:01\u001b[0m\n",
            "\u001b[?25hInstalling collected packages: tflite-runtime, pycoral\n",
            "Successfully installed pycoral-2.0.0 tflite-runtime-2.5.0.post1\n"
          ]
        }
      ],
      "source": [
        "! python3 -m pip install --extra-index-url https://google-coral.github.io/py-repo/ pycoral"
      ]
    },
    {
      "cell_type": "code",
      "execution_count": null,
      "metadata": {
        "id": "GkXtipXKqXp4"
      },
      "outputs": [],
      "source": [
        "from PIL import Image\n",
        "from PIL import ImageDraw\n",
        "from PIL import ImageFont\n",
        "\n",
        "import tflite_runtime.interpreter as tflite\n",
        "from pycoral.adapters import common\n",
        "from pycoral.adapters import detect\n",
        "from pycoral.utils.dataset import read_label_file\n",
        "\n",
        "def draw_objects(draw, objs, scale_factor, labels):\n",
        "  \"\"\"Draws the bounding box and label for each object.\"\"\"\n",
        "  COLORS = np.random.randint(0, 255, size=(len(labels), 3), dtype=np.uint8)\n",
        "  for obj in objs:\n",
        "    bbox = obj.bbox\n",
        "    color = tuple(int(c) for c in COLORS[obj.id])\n",
        "    draw.rectangle([(bbox.xmin * scale_factor, bbox.ymin * scale_factor),\n",
        "                    (bbox.xmax * scale_factor, bbox.ymax * scale_factor)],\n",
        "                   outline=color, width=3)\n",
        "    font = ImageFont.truetype(\"LiberationSans-Regular.ttf\", size=15)\n",
        "    draw.text((bbox.xmin * scale_factor + 4, bbox.ymin * scale_factor + 4),\n",
        "              '%s\\n%.2f' % (labels.get(obj.id, obj.id), obj.score),\n",
        "              fill=color, font=font)\n",
        "\n",
        "# Load the TF Lite model\n",
        "labels = read_label_file(LABELS_FILENAME)\n",
        "interpreter = tflite.Interpreter(TFLITE_FILENAME)\n",
        "interpreter.allocate_tensors()\n",
        "\n",
        "# Resize the image for input\n",
        "image = Image.open(INPUT_IMAGE)\n",
        "_, scale = common.set_resized_input(\n",
        "    interpreter, image.size, lambda size: image.resize(size, Image.ANTIALIAS))\n",
        "\n",
        "# Run inference\n",
        "interpreter.invoke()\n",
        "objs = detect.get_objects(interpreter, score_threshold=0.4, image_scale=scale)\n",
        "\n",
        "# Resize again to a reasonable size for display\n",
        "display_width = 500\n",
        "scale_factor = display_width / image.width\n",
        "height_ratio = image.height / image.width\n",
        "image = image.resize((display_width, int(display_width * height_ratio)))\n",
        "draw_objects(ImageDraw.Draw(image), objs, scale_factor, labels)\n",
        "image"
      ]
    },
    {
      "cell_type": "markdown",
      "metadata": {
        "id": "oxgWQyYOqZha"
      },
      "source": [
        "## Compile for the Edge TPU\n"
      ]
    },
    {
      "cell_type": "markdown",
      "metadata": {
        "id": "A0QLiwCj9Pw6"
      },
      "source": [
        "First we need to download the Edge TPU Compiler:"
      ]
    },
    {
      "cell_type": "code",
      "execution_count": 17,
      "metadata": {
        "id": "Oy3QIn_YqaRP"
      },
      "outputs": [
        {
          "name": "stdout",
          "output_type": "stream",
          "text": [
            "  % Total    % Received % Xferd  Average Speed   Time    Time     Time  Current\n",
            "                                 Dload  Upload   Total   Spent    Left  Speed\n",
            "100  2659  100  2659    0     0  13497      0 --:--:-- --:--:-- --:--:-- 13497\n",
            "OK\n",
            "deb https://packages.cloud.google.com/apt coral-edgetpu-stable main\n",
            "Hit:1 http://archive.ubuntu.com/ubuntu focal InRelease\n",
            "Get:2 http://archive.ubuntu.com/ubuntu focal-updates InRelease [114 kB]        \n",
            "Get:3 http://archive.ubuntu.com/ubuntu focal-backports InRelease [108 kB]      \n",
            "Get:4 https://packages.microsoft.com/repos/microsoft-ubuntu-focal-prod focal InRelease [3611 B]\n",
            "Hit:5 https://dl.yarnpkg.com/debian stable InRelease                           \n",
            "Get:6 http://security.ubuntu.com/ubuntu focal-security InRelease [114 kB]      \n",
            "Hit:7 https://repo.anaconda.com/pkgs/misc/debrepo/conda stable InRelease       \n",
            "Get:8 http://archive.ubuntu.com/ubuntu focal-updates/universe amd64 Packages [1401 kB]\n",
            "Get:9 http://archive.ubuntu.com/ubuntu focal-updates/restricted amd64 Packages [2903 kB]\n",
            "Get:10 https://packages.cloud.google.com/apt coral-edgetpu-stable InRelease [6332 B]\n",
            "Get:11 http://archive.ubuntu.com/ubuntu focal-updates/main amd64 Packages [3501 kB]\n",
            "Get:12 https://packages.microsoft.com/repos/microsoft-ubuntu-focal-prod focal/main amd64 Packages [225 kB]\n",
            "Get:14 http://security.ubuntu.com/ubuntu focal-security/restricted amd64 Packages [2747 kB]\n",
            "Get:15 https://packages.cloud.google.com/apt coral-edgetpu-stable/main amd64 Packages [2317 B]\n",
            "Get:16 http://security.ubuntu.com/ubuntu focal-security/main amd64 Packages [3010 kB]\n",
            "Get:17 http://security.ubuntu.com/ubuntu focal-security/universe amd64 Packages [1099 kB]\n",
            "Hit:13 https://packagecloud.io/github/git-lfs/ubuntu focal InRelease         \n",
            "Fetched 15.2 MB in 2s (9675 kB/s)               \n",
            "Reading package lists... Done\n",
            "Reading package lists... Done\n",
            "Building dependency tree       \n",
            "Reading state information... Done\n",
            "The following NEW packages will be installed:\n",
            "  edgetpu-compiler\n",
            "0 upgraded, 1 newly installed, 0 to remove and 7 not upgraded.\n",
            "Need to get 7913 kB of archives.\n",
            "After this operation, 31.2 MB of additional disk space will be used.\n",
            "Get:1 https://packages.cloud.google.com/apt coral-edgetpu-stable/main amd64 edgetpu-compiler amd64 16.0 [7913 kB]\n",
            "Fetched 7913 kB in 1s (9134 kB/s)           \n",
            "Selecting previously unselected package edgetpu-compiler.\n",
            "(Reading database ... 68582 files and directories currently installed.)\n",
            "Preparing to unpack .../edgetpu-compiler_16.0_amd64.deb ...\n",
            "Unpacking edgetpu-compiler (16.0) ...\n",
            "Setting up edgetpu-compiler (16.0) ...\n",
            "Processing triggers for libc-bin (2.31-0ubuntu9.9) ...\n"
          ]
        }
      ],
      "source": [
        "! curl https://packages.cloud.google.com/apt/doc/apt-key.gpg | sudo apt-key add -\n",
        "\n",
        "! echo \"deb https://packages.cloud.google.com/apt coral-edgetpu-stable main\" | sudo tee /etc/apt/sources.list.d/coral-edgetpu.list\n",
        "\n",
        "! sudo apt-get update\n",
        "\n",
        "! sudo apt-get install edgetpu-compiler"
      ]
    },
    {
      "cell_type": "markdown",
      "metadata": {
        "id": "qRWewhqFqeL_"
      },
      "source": [
        "Before compiling the `.tflite` file for the Edge TPU, it's important to consider whether your model will fit into the Edge TPU memory.\n",
        "\n",
        "The Edge TPU has approximately 8 MB of SRAM for [caching model paramaters](https://coral.ai/docs/edgetpu/compiler/#parameter-data-caching), so any model close to or over 8 MB will not fit onto the Edge TPU memory. That means the inference times are longer, because some model parameters must be fetched from the host system memory.\n",
        "\n",
        "One way to elimiate the extra latency is to use [model pipelining](https://coral.ai/docs/edgetpu/pipeline/), which splits the model into segments that can run on separate Edge TPUs in series. This can significantly reduce the latency for big models.\n",
        "\n",
        "The following table provides recommendations for the number of Edge TPUs to use with each EfficientDet-Lite model.\n",
        "\n",
        "| Model architecture | Minimum TPUs | Recommended TPUs\n",
        "|--------------------|-------|-------|\n",
        "| EfficientDet-Lite0 | 1     | 1     |\n",
        "| EfficientDet-Lite1 | 1     | 1     |\n",
        "| EfficientDet-Lite2 | 1     | 2     |\n",
        "| EfficientDet-Lite3 | 2     | 2     |\n",
        "| EfficientDet-Lite4 | 2     | 3     |\n",
        "\n",
        "If you need extra Edge TPUs for your model, then update `NUMBER_OF_TPUS` here:"
      ]
    },
    {
      "cell_type": "code",
      "execution_count": 18,
      "metadata": {
        "id": "LZdonJGCqieU"
      },
      "outputs": [
        {
          "name": "stdout",
          "output_type": "stream",
          "text": [
            "Edge TPU Compiler version 16.0.384591198\n",
            "Searching for valid delegate with step 1\n",
            "Try to compile segment with 357 ops\n",
            "Started a compilation timeout timer of 180 seconds.\n",
            "\n",
            "Model compiled successfully in 9824 ms.\n",
            "\n",
            "Input model: efficientdet2-v2.tflite\n",
            "Input size: 7.05MiB\n",
            "Output model: efficientdet2-v2_edgetpu.tflite\n",
            "Output size: 9.74MiB\n",
            "On-chip memory used for caching model parameters: 7.14MiB\n",
            "On-chip memory remaining for caching model parameters: 1.25KiB\n",
            "Off-chip memory used for streaming uncached model parameters: 228.88KiB\n",
            "Number of Edge TPU subgraphs: 1\n",
            "Total number of operations: 357\n",
            "Operation log: efficientdet2-v2_edgetpu.log\n",
            "\n",
            "Model successfully compiled but not all operations are supported by the Edge TPU. A percentage of the model will instead run on the CPU, which is slower. If possible, consider updating your model to use only operations supported by the Edge TPU. For details, visit g.co/coral/model-reqs.\n",
            "Number of operations that will run on Edge TPU: 354\n",
            "Number of operations that will run on CPU: 3\n",
            "See the operation log file for individual operation details.\n",
            "Compilation child process completed within timeout period.\n",
            "Compilation succeeded! \n"
          ]
        }
      ],
      "source": [
        "NUMBER_OF_TPUS =  1\n",
        "\n",
        "!edgetpu_compiler $TFLITE_FILENAME -d --num_segments=$NUMBER_OF_TPUS"
      ]
    },
    {
      "cell_type": "markdown",
      "metadata": {
        "id": "O2CjkduY02DF"
      },
      "source": [
        "**Beware when using multiple segments:** The Edge TPU Comiler divides the model such that all segments have roughly equal amounts of parameter data, but that does not mean all segments have the same latency. Especially when dividing an SSD model such as EfficientDet, this results in a latency-imbalance between segments, because SSD models have a large post-processing op that actually executes on the CPU, not on the Edge TPU. So although segmenting your model this way is better than running the whole model on just one Edge TPU, we recommend that you segment the EfficientDet-Lite model using our [profiling-based partitioner tool](https://github.com/google-coral/libcoral/tree/master/coral/tools/partitioner#profiling-based-partitioner-for-the-edge-tpu-compiler), which measures each segment's latency on the Edge TPU and then iteratively adjusts the segmentation sizes to provide balanced latency between all segments."
      ]
    },
    {
      "cell_type": "markdown",
      "metadata": {
        "id": "KyBBvyqx0XRn"
      },
      "source": [
        "## Download the files"
      ]
    },
    {
      "cell_type": "code",
      "execution_count": 19,
      "metadata": {
        "id": "M43URVgg0ZcB"
      },
      "outputs": [
        {
          "ename": "ModuleNotFoundError",
          "evalue": "No module named 'google.colab'",
          "output_type": "error",
          "traceback": [
            "\u001b[0;31m---------------------------------------------------------------------------\u001b[0m",
            "\u001b[0;31mModuleNotFoundError\u001b[0m                       Traceback (most recent call last)",
            "Cell \u001b[0;32mIn[19], line 1\u001b[0m\n\u001b[0;32m----> 1\u001b[0m \u001b[39mfrom\u001b[39;00m \u001b[39mgoogle\u001b[39;00m\u001b[39m.\u001b[39;00m\u001b[39mcolab\u001b[39;00m \u001b[39mimport\u001b[39;00m files\n\u001b[1;32m      3\u001b[0m files\u001b[39m.\u001b[39mdownload(TFLITE_FILENAME)\n\u001b[1;32m      4\u001b[0m files\u001b[39m.\u001b[39mdownload(TFLITE_FILENAME\u001b[39m.\u001b[39mreplace(\u001b[39m'\u001b[39m\u001b[39m.tflite\u001b[39m\u001b[39m'\u001b[39m, \u001b[39m'\u001b[39m\u001b[39m_edgetpu.tflite\u001b[39m\u001b[39m'\u001b[39m))\n",
            "\u001b[0;31mModuleNotFoundError\u001b[0m: No module named 'google.colab'"
          ]
        }
      ],
      "source": [
        "from google.colab import files\n",
        "\n",
        "files.download(TFLITE_FILENAME)\n",
        "files.download(TFLITE_FILENAME.replace('.tflite', '_edgetpu.tflite'))\n",
        "files.download(LABELS_FILENAME)"
      ]
    },
    {
      "cell_type": "markdown",
      "metadata": {
        "id": "8fYwl4Rt8myF"
      },
      "source": [
        "## Run the model on the Edge TPU"
      ]
    },
    {
      "cell_type": "markdown",
      "metadata": {
        "id": "Dv2Ingvx8pcI"
      },
      "source": [
        "You can now run the model with acceleration on the Edge TPU.\n",
        "\n",
        "First, download an image of a salad on your device with an Edge TPU. For example, you can use the same one we tested above:\n",
        "\n",
        "```\n",
        "wget https://storage.googleapis.com/cloud-ml-data/img/openimage/3/2520/3916261642_0a504acd60_o.jpg -O salad.jpg\n",
        "```\n",
        "\n",
        "And then make sure you have [installed the PyCoral API](https://coral.ai/software/#pycoral-api).\n",
        "\n",
        "Now run an inference using [this example code for the PyCoral API](https://github.com/google-coral/pycoral/blob/master/examples/detect_image.py). Just clone the GitHub repo and run the example, passing it the model files from this tutorial:\n",
        "\n",
        "```\n",
        "git clone https://github.com/google-coral/pycoral\n",
        "\n",
        "cd pycoral/examples/\n",
        "\n",
        "python3 detect_image.py \\\n",
        "  --model efficientdet-lite-salads_edgetpu.tflite \\\n",
        "  --labels salad-labels.txt \\\n",
        "  --input salad.jpg \\\n",
        "  --output salad_result.jpg\n",
        "```\n"
      ]
    },
    {
      "cell_type": "markdown",
      "metadata": {
        "id": "HS4u77W5gnzQ"
      },
      "source": [
        "## More resources\n",
        "\n",
        "* For more information about the Model Maker library used in this tutorial, see the [TensorFlow Lite Model Maker guide](https://www.tensorflow.org/lite/guide/model_maker) and [API reference](https://www.tensorflow.org/lite/api_docs/python/tflite_model_maker).\n",
        "\n",
        "* For other transfer learning tutorials that are compatible with the Edge TPU, see the [Colab tutorials for Coral](https://github.com/google-coral/tutorials#colab-tutorials-for-coral).\n",
        "\n",
        "* You can also find more examples that show how to run inference on the Edge TPU at [coral.ai/examples](https://coral.ai/examples/#code-examples/)."
      ]
    }
  ],
  "metadata": {
    "accelerator": "GPU",
    "colab": {
      "collapsed_sections": [
        "license"
      ],
      "name": "Retrain EfficientDet-Lite detector for the Edge TPU (TF2)",
      "private_outputs": true,
      "provenance": []
    },
    "kernelspec": {
      "display_name": "Python 3",
      "name": "python3"
    },
    "language_info": {
      "codemirror_mode": {
        "name": "ipython",
        "version": 3
      },
      "file_extension": ".py",
      "mimetype": "text/x-python",
      "name": "python",
      "nbconvert_exporter": "python",
      "pygments_lexer": "ipython3",
      "version": "3.9.17"
    }
  },
  "nbformat": 4,
  "nbformat_minor": 0
}
