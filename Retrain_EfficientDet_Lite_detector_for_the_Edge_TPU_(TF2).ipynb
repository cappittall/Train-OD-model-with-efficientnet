{
  "cells": [
    {
      "cell_type": "markdown",
      "metadata": {
        "id": "license"
      },
      "source": [
        "##### *Copyright 2021 Google LLC*\n",
        "*Licensed under the Apache License, Version 2.0 (the \"License\")*"
      ]
    },
    {
      "cell_type": "code",
      "execution_count": null,
      "metadata": {
        "cellView": "both",
        "id": "rKwqeqWBXANA"
      },
      "outputs": [],
      "source": [
        "# Licensed under the Apache License, Version 2.0 (the \"License\");\n",
        "# you may not use this file except in compliance with the License.\n",
        "# You may obtain a copy of the License at\n",
        "#\n",
        "# https://www.apache.org/licenses/LICENSE-2.0\n",
        "#\n",
        "# Unless required by applicable law or agreed to in writing, software\n",
        "# distributed under the License is distributed on an \"AS IS\" BASIS,\n",
        "# WITHOUT WARRANTIES OR CONDITIONS OF ANY KIND, either express or implied.\n",
        "# See the License for the specific language governing permissions and\n",
        "# limitations under the License."
      ]
    },
    {
      "cell_type": "markdown",
      "metadata": {
        "id": "Gb7qyhNL1yWt"
      },
      "source": [
        "# Retrain EfficientDet for the Edge TPU with TensorFlow Lite Model Maker"
      ]
    },
    {
      "cell_type": "markdown",
      "metadata": {
        "id": "sr3q-gvm3cI8"
      },
      "source": [
        "In this tutorial, we'll retrain the EfficientDet-Lite object detection model (derived from [EfficientDet](https://ai.googleblog.com/2020/04/efficientdet-towards-scalable-and.html)) using the [TensorFlow Lite Model Maker library](https://www.tensorflow.org/lite/guide/model_maker), and then compile it to run on the [Coral Edge TPU](https://www.coral.ai/products/). All in about 30 minutes.\n",
        "\n",
        "By default, we'll retrain the model using a publicly available dataset of salad photos, teaching the model to recognize a salad and some of the ingredients. But we've also provided code so you can upload your own training dataset in the Pascal VOC XML format.\n",
        "\n",
        "Here's an example of the salad training results:\n",
        "\n",
        "<img src=\"https://storage.googleapis.com/site_and_emails_static_assets/Images/efficientdet-salads.png?\" width=\"400\" hspace=\"0\">\n",
        "\n",
        "\n"
      ]
    },
    {
      "cell_type": "markdown",
      "metadata": {
        "id": "zHZyMPbMsAns"
      },
      "source": [
        "<a href=\"https://colab.research.google.com/github/google-coral/tutorials/blob/master/retrain_efficientdet_model_maker_tf2.ipynb\" target=\"_parent\"><img src=\"https://colab.research.google.com/assets/colab-badge.svg\" alt=\"Open in Colab\"></a>\n",
        "&nbsp;&nbsp;&nbsp;&nbsp;\n",
        "<a href=\"https://github.com/google-coral/tutorials/blob/master/retrain_efficientdet_model_maker_tf2.ipynb\" target=\"_parent\"><img src=\"https://img.shields.io/static/v1?logo=GitHub&label=&color=333333&style=flat&message=View%20on%20GitHub\" alt=\"View in GitHub\"></a>\n"
      ]
    },
    {
      "cell_type": "markdown",
      "metadata": {
        "id": "PzoNZRp4sVxK"
      },
      "source": [
        "If you want to run the notebook with the salad dataset, you can run the whole thing now by clicking **Runtime > Run all** in the Colab toolbar. But if you want to use your own dataset, then continue down to [Load the training data](#scrollTo=H0XM-oIfhgQ7) and follow the instructions there.\n",
        "\n",
        "**Note:** If using a custom dataset, beware that if your dataset includes more than 20 classes, you'll probably have slower inference speeds compared to if you have fewer classes. This is due to an aspect of the EfficientDet architecture in which a certain layer cannot compile for the Edge TPU when it carries more than 20 classes."
      ]
    },
    {
      "cell_type": "code",
      "execution_count": 1,
      "metadata": {},
      "outputs": [
        {
          "name": "stdout",
          "output_type": "stream",
          "text": [
            "Reading package lists... Done\n",
            "Building dependency tree       \n",
            "Reading state information... Done\n",
            "libusb-1.0-0 is already the newest version (2:1.0.23-2build1).\n",
            "0 upgraded, 0 newly installed, 0 to remove and 5 not upgraded.\n",
            "Requirement already satisfied: pycocotools in ./.conda/lib/python3.9/site-packages (2.0.7)\n",
            "Requirement already satisfied: matplotlib>=2.1.0 in ./.conda/lib/python3.9/site-packages (from pycocotools) (3.7.2)\n",
            "Requirement already satisfied: numpy in ./.conda/lib/python3.9/site-packages (from pycocotools) (1.23.4)\n",
            "Requirement already satisfied: contourpy>=1.0.1 in ./.conda/lib/python3.9/site-packages (from matplotlib>=2.1.0->pycocotools) (1.1.0)\n",
            "Requirement already satisfied: cycler>=0.10 in ./.conda/lib/python3.9/site-packages (from matplotlib>=2.1.0->pycocotools) (0.10.0)\n",
            "Requirement already satisfied: fonttools>=4.22.0 in ./.conda/lib/python3.9/site-packages (from matplotlib>=2.1.0->pycocotools) (4.42.1)\n",
            "Requirement already satisfied: kiwisolver>=1.0.1 in ./.conda/lib/python3.9/site-packages (from matplotlib>=2.1.0->pycocotools) (1.4.5)\n",
            "Requirement already satisfied: packaging>=20.0 in ./.conda/lib/python3.9/site-packages (from matplotlib>=2.1.0->pycocotools) (20.9)\n",
            "Requirement already satisfied: pillow>=6.2.0 in ./.conda/lib/python3.9/site-packages (from matplotlib>=2.1.0->pycocotools) (9.5.0)\n",
            "Requirement already satisfied: pyparsing<3.1,>=2.3.1 in ./.conda/lib/python3.9/site-packages (from matplotlib>=2.1.0->pycocotools) (2.4.7)\n",
            "Requirement already satisfied: python-dateutil>=2.7 in ./.conda/lib/python3.9/site-packages (from matplotlib>=2.1.0->pycocotools) (2.8.2)\n",
            "Requirement already satisfied: importlib-resources>=3.2.0 in ./.conda/lib/python3.9/site-packages (from matplotlib>=2.1.0->pycocotools) (6.0.1)\n",
            "Requirement already satisfied: six in ./.conda/lib/python3.9/site-packages (from cycler>=0.10->matplotlib>=2.1.0->pycocotools) (1.16.0)\n",
            "Requirement already satisfied: zipp>=3.1.0 in ./.conda/lib/python3.9/site-packages (from importlib-resources>=3.2.0->matplotlib>=2.1.0->pycocotools) (3.16.2)\n",
            "Requirement already satisfied: tqdm in ./.conda/lib/python3.9/site-packages (4.66.1)\n",
            "Reading package lists... Done\n",
            "Building dependency tree       \n",
            "Reading state information... Done\n",
            "libgl1 is already the newest version (1.3.2-1~ubuntu0.20.04.2).\n",
            "0 upgraded, 0 newly installed, 0 to remove and 5 not upgraded.\n"
          ]
        }
      ],
      "source": [
        "!sudo apt-get install libusb-1.0-0\n",
        "!pip install pycocotools\n",
        "!pip install tqdm\n",
        "!sudo apt-get install libgl1 -y"
      ]
    },
    {
      "cell_type": "markdown",
      "metadata": {
        "id": "2vvAObmTqglq"
      },
      "source": [
        "## Import the required packages"
      ]
    },
    {
      "cell_type": "code",
      "execution_count": 3,
      "metadata": {
        "id": "XtxiUeZEiXpt"
      },
      "outputs": [],
      "source": [
        "import numpy as np\n",
        "import os\n",
        "\n",
        "from tflite_model_maker.config import ExportFormat\n",
        "from tflite_model_maker import model_spec\n",
        "from tflite_model_maker import object_detector\n",
        "\n",
        "import tensorflow as tf\n",
        "assert tf.__version__.startswith('2')\n",
        "\n",
        "tf.get_logger().setLevel('ERROR')\n",
        "from absl import logging\n",
        "logging.set_verbosity(logging.ERROR)\n",
        "\n"
      ]
    },
    {
      "cell_type": "markdown",
      "metadata": {
        "id": "H0XM-oIfhgQ7"
      },
      "source": [
        "## Load the training data\n"
      ]
    },
    {
      "cell_type": "markdown",
      "metadata": {
        "id": "QusnAYjwM3uq"
      },
      "source": [
        "To use the default salad training dataset, just run all the code below as-is.\n",
        "\n",
        "But if you want to train with your own image dataset, follow these steps:\n",
        "\n",
        "1. Be sure your dataset is annotated in Pascal VOC XML (various tools can help create VOC annotations, such as [LabelImg](https://github.com/tzutalin/labelImg#labelimg)). Then create a ZIP file with all your JPG images and XML files (JPG and XML files can all be in one directory or in separate directories).\n",
        "2. Click the **Files** tab in the left panel and just drag-drop your ZIP file there to upload it.\n",
        "3. Use the following drop-down option to set **`use_custom_dataset`** to True.\n",
        "4. If your dataset is already split into separate directories for training, validation, and testing, also set **`dataset_is_split`** to True. (If your dataset is not split, leave it False and we'll split it below.)\n",
        "5. Then skip to [Load your own Pascal VOC dataset](#scrollTo=ZljJ25RAnj5x) and follow the rest of the instructions there.\n",
        "\n",
        "\n"
      ]
    },
    {
      "cell_type": "code",
      "execution_count": 4,
      "metadata": {
        "cellView": "form",
        "id": "wVQ2VQu7MuQa"
      },
      "outputs": [],
      "source": [
        "use_custom_dataset = True #@param [\"False\", \"True\"] {type:\"raw\"}\n",
        "\n",
        "dataset_is_split = False #@param [\"False\", \"True\"] {type:\"raw\"}"
      ]
    },
    {
      "cell_type": "markdown",
      "metadata": {
        "id": "-9VoZ_Rud2V3"
      },
      "source": [
        "### Load the salads CSV dataset"
      ]
    },
    {
      "cell_type": "markdown",
      "metadata": {
        "id": "BRd13bfetO7B"
      },
      "source": [
        "\n",
        "\n",
        "Model Maker requires that we load our dataset using the [`DataLoader`](https://www.tensorflow.org/lite/api_docs/python/tflite_model_maker/object_detector/DataLoader) API. So in this case, we'll load it from a CSV file that defines 175 images for training, 25 images for validation, and 25 images for testing.\n",
        "\n",
        "\n"
      ]
    },
    {
      "cell_type": "code",
      "execution_count": 5,
      "metadata": {
        "id": "04ObtdneqvP5"
      },
      "outputs": [],
      "source": [
        "if not use_custom_dataset:\n",
        "  train_data, validation_data, test_data = object_detector.DataLoader.from_csv('gs://cloud-ml-data/img/openimage/csv/salads_ml_use.csv')"
      ]
    },
    {
      "cell_type": "markdown",
      "metadata": {
        "id": "7W0Njyxoq0gH"
      },
      "source": [
        "If you want to load your own dataset as a CSV file, you can learn more about the format in [Formatting a training data CSV](https://cloud.google.com/vision/automl/object-detection/docs/csv-format). You can load your CSV either from [Cloud Storage](https://cloud.google.com/storage) (as shown above) or from a local path.\n",
        "\n",
        "[`DataLoader`](https://www.tensorflow.org/lite/api_docs/python/tflite_model_maker/object_detector/DataLoader) can also load your dataset in other formats, such as from a set of TFRecord files or from a local directory using the Pascal VOC format (shown below for a custom dataset)."
      ]
    },
    {
      "cell_type": "markdown",
      "metadata": {
        "id": "ZljJ25RAnj5x"
      },
      "source": [
        "### (Optional) Load your own Pascal VOC dataset"
      ]
    },
    {
      "cell_type": "markdown",
      "metadata": {
        "id": "Ei5BahmPn_wR"
      },
      "source": [
        "To use your custom dataset, you need to modify a few variables here, such as your ZIP filename, your label map, and the path to your images/annotations:"
      ]
    },
    {
      "cell_type": "code",
      "execution_count": 14,
      "metadata": {},
      "outputs": [
        {
          "name": "stdout",
          "output_type": "stream",
          "text": [
            "loading Roboflow workspace...\n",
            "loading Roboflow project...\n",
            "Downloading Dataset Version Zip in unknown-detection-in-chocolate-box---11 to voc: 100% [5713740 / 5713740] bytes\n"
          ]
        },
        {
          "name": "stderr",
          "output_type": "stream",
          "text": [
            "Extracting Dataset Version Zip to unknown-detection-in-chocolate-box---11 in voc:: 100%|██████████| 512/512 [00:00<00:00, 9049.16it/s]\n"
          ]
        }
      ],
      "source": [
        "from roboflow import Roboflow\n",
        "rf = Roboflow(api_key=\"uaiFsEAxwBO5dsU12XBh\")\n",
        "project = rf.workspace(\"hakan-cetin-gh6rr\").project(\"unknown-detection-in-chocolate-box\")\n",
        "dataset = project.version(11).download(\"voc\")"
      ]
    },
    {
      "cell_type": "code",
      "execution_count": 7,
      "metadata": {
        "id": "mz_suhWiqc7A"
      },
      "outputs": [],
      "source": [
        "if use_custom_dataset:\n",
        "\n",
        "  # The ZIP file you uploaded:\n",
        "  #!unzip dataset.zip\n",
        "\n",
        "  # Your labels map as a dictionary (zero is reserved):\n",
        "  label_map = {1: 'ym'}\n",
        "\n",
        "  if dataset_is_split:\n",
        "    # If your dataset is already split, specify each path:\n",
        "    train_images_dir = 'dataset/train/images'\n",
        "    train_annotations_dir = 'dataset/train/annotations'\n",
        "    val_images_dir = 'dataset/validation/images'\n",
        "    val_annotations_dir = 'dataset/validation/annotations'\n",
        "    test_images_dir = 'dataset/test/images'\n",
        "    test_annotations_dir = 'dataset/test/annotations'\n",
        "  else:\n",
        "    # If it's NOT split yet, specify the path to all images and annotations\n",
        "    images_in = 'dataset/images'\n",
        "    annotations_in = 'dataset/annotations'\n"
      ]
    },
    {
      "cell_type": "markdown",
      "metadata": {
        "id": "d8Rh3IWRb0xw"
      },
      "source": [
        "Now you're ready to train the model with your custom dataset. But before you run the notebook, you should also skip to the [Export to TensorFlow Lite](#scrollTo=_yB_XMpqGlLs) section and change the `TFLITE_FILENAME` and `LABLES_FILENAME` for your exported files.\n",
        "\n",
        "Then run the whole notebook by clicking **Runtime > Run all**."
      ]
    },
    {
      "cell_type": "code",
      "execution_count": 8,
      "metadata": {
        "cellView": "form",
        "id": "C35meprE8xzf"
      },
      "outputs": [],
      "source": [
        "#@markdown Be sure you run this cell. It's hiding the `split_dataset()` function used in the next code block.\n",
        "\n",
        "import os\n",
        "import random\n",
        "import shutil\n",
        "\n",
        "def split_dataset(images_path, annotations_path, val_split, test_split, out_path):\n",
        "  \"\"\"Splits a directory of sorted images/annotations into training, validation, and test sets.\n",
        "\n",
        "  Args:\n",
        "    images_path: Path to the directory with your images (JPGs).\n",
        "    annotations_path: Path to a directory with your VOC XML annotation files,\n",
        "      with filenames corresponding to image filenames. This may be the same path\n",
        "      used for images_path.\n",
        "    val_split: Fraction of data to reserve for validation (float between 0 and 1).\n",
        "    test_split: Fraction of data to reserve for test (float between 0 and 1).\n",
        "  Returns:\n",
        "    The paths for the split images/annotations (train_dir, val_dir, test_dir)\n",
        "  \"\"\"\n",
        "  _, dirs, _ = next(os.walk(images_path))\n",
        "\n",
        "  train_dir = os.path.join(out_path, 'train')\n",
        "  val_dir = os.path.join(out_path, 'validation')\n",
        "  test_dir = os.path.join(out_path, 'test')\n",
        "\n",
        "  IMAGES_TRAIN_DIR = os.path.join(train_dir, 'images')\n",
        "  IMAGES_VAL_DIR = os.path.join(val_dir, 'images')\n",
        "  IMAGES_TEST_DIR = os.path.join(test_dir, 'images')\n",
        "  os.makedirs(IMAGES_TRAIN_DIR, exist_ok=True)\n",
        "  os.makedirs(IMAGES_VAL_DIR, exist_ok=True)\n",
        "  os.makedirs(IMAGES_TEST_DIR, exist_ok=True)\n",
        "\n",
        "  ANNOT_TRAIN_DIR = os.path.join(train_dir, 'annotations')\n",
        "  ANNOT_VAL_DIR = os.path.join(val_dir, 'annotations')\n",
        "  ANNOT_TEST_DIR = os.path.join(test_dir, 'annotations')\n",
        "  os.makedirs(ANNOT_TRAIN_DIR, exist_ok=True)\n",
        "  os.makedirs(ANNOT_VAL_DIR, exist_ok=True)\n",
        "  os.makedirs(ANNOT_TEST_DIR, exist_ok=True)\n",
        "\n",
        "  # Get all filenames for this dir, filtered by filetype\n",
        "  filenames = os.listdir(os.path.join(images_path))\n",
        "  filenames = [os.path.join(images_path, f) for f in filenames if (f.endswith('.jpg'))]\n",
        "  # Shuffle the files, deterministically\n",
        "  filenames.sort()\n",
        "  random.seed(42)\n",
        "  random.shuffle(filenames)\n",
        "  # Get exact number of images for validation and test; the rest is for training\n",
        "  val_count = int(len(filenames) * val_split)\n",
        "  test_count = int(len(filenames) * test_split)\n",
        "  for i, file in enumerate(filenames):\n",
        "    source_dir, filename = os.path.split(file)\n",
        "    annot_file = os.path.join(annotations_path, filename.replace(\".jpg\", \".xml\"))\n",
        "    if i < val_count:\n",
        "      shutil.copy(file, IMAGES_VAL_DIR)\n",
        "      shutil.copy(annot_file, ANNOT_VAL_DIR)\n",
        "    elif i < val_count + test_count:\n",
        "      shutil.copy(file, IMAGES_TEST_DIR)\n",
        "      shutil.copy(annot_file, ANNOT_TEST_DIR)\n",
        "    else:\n",
        "      shutil.copy(file, IMAGES_TRAIN_DIR)\n",
        "      shutil.copy(annot_file, ANNOT_TRAIN_DIR)\n",
        "  return (train_dir, val_dir, test_dir)"
      ]
    },
    {
      "cell_type": "code",
      "execution_count": 9,
      "metadata": {
        "id": "KWROlVNA54xZ"
      },
      "outputs": [
        {
          "name": "stdout",
          "output_type": "stream",
          "text": [
            "train count: 154\n",
            "validation count: 50\n",
            "test count: 50\n"
          ]
        }
      ],
      "source": [
        "# We need to instantiate a separate DataLoader for each split dataset\n",
        "if use_custom_dataset:\n",
        "  if dataset_is_split:\n",
        "    train_data = object_detector.DataLoader.from_pascal_voc(\n",
        "        train_images_dir, train_annotations_dir, label_map=label_map)\n",
        "    validation_data = object_detector.DataLoader.from_pascal_voc(\n",
        "        val_images_dir, val_annotations_dir, label_map=label_map)\n",
        "    test_data = object_detector.DataLoader.from_pascal_voc(\n",
        "        test_images_dir, test_annotations_dir, label_map=label_map)\n",
        "  else:\n",
        "    train_dir, val_dir, test_dir = split_dataset(images_in, annotations_in,\n",
        "                                                 val_split=0.2, test_split=0.2,\n",
        "                                                 out_path='split-dataset')\n",
        "    train_data = object_detector.DataLoader.from_pascal_voc(\n",
        "        os.path.join(train_dir, 'images'),\n",
        "        os.path.join(train_dir, 'annotations'), label_map=label_map)\n",
        "    validation_data = object_detector.DataLoader.from_pascal_voc(\n",
        "        os.path.join(val_dir, 'images'),\n",
        "        os.path.join(val_dir, 'annotations'), label_map=label_map)\n",
        "    test_data = object_detector.DataLoader.from_pascal_voc(\n",
        "        os.path.join(test_dir, 'images'),\n",
        "        os.path.join(test_dir, 'annotations'), label_map=label_map)\n",
        "\n",
        "  print(f'train count: {len(train_data)}')\n",
        "  print(f'validation count: {len(validation_data)}')\n",
        "  print(f'test count: {len(test_data)}')"
      ]
    },
    {
      "cell_type": "markdown",
      "metadata": {
        "id": "S8clx0KPutCM"
      },
      "source": [
        "## Select the model spec"
      ]
    },
    {
      "cell_type": "markdown",
      "metadata": {
        "id": "vn61LJ9QbOPi"
      },
      "source": [
        "Model Maker supports the EfficientDet-Lite family of object detection models that are compatible with the Edge TPU. (EfficientDet-Lite is derived from [EfficientDet](https://ai.googleblog.com/2020/04/efficientdet-towards-scalable-and.html), which offers state-of-the-art accuracy in a small model size). There are several model sizes you can choose from:\n",
        "\n",
        "|| Model architecture | Size(MB)* | Latency(ms)** | Average Precision*** |\n",
        "|-|--------------------|-----------|---------------|----------------------|\n",
        "|| EfficientDet-Lite0 | 5.7       | 37.4            | 30.4%               |\n",
        "|| EfficientDet-Lite1 | 7.6       | 56.3            | 34.3%               |\n",
        "|| EfficientDet-Lite2 | 10.2      | 104.6           | 36.0%               |\n",
        "|| EfficientDet-Lite3 | 14.4      | 107.6           | 39.4%               |\n",
        "| <td colspan=4><br><i>* File size of the compiled Edge TPU models. <br/>** Latency measured on a desktop CPU with a Coral USB Accelerator. <br/>*** Average Precision is the mAP (mean Average Precision) on the COCO 2017 validation dataset.</i></td> |\n",
        "\n",
        "Beware that the Lite2 and Lite3 models do not fit onto the Edge TPU's onboard memory, so you'll see even greater latency when using those, due to the cost of fetching data from the host system memory. Maybe this extra latency is okay for your application, but if it's not and you require the precision of the larger models, then you can [pipeline the model across multiple Edge TPUs](https://coral.ai/docs/edgetpu/pipeline/) (more about this when we compile the model below).\n",
        "\n",
        "For this tutorial, we'll use Lite0:"
      ]
    },
    {
      "cell_type": "code",
      "execution_count": 10,
      "metadata": {
        "id": "SM9gePHw9Jv1"
      },
      "outputs": [
        {
          "name": "stderr",
          "output_type": "stream",
          "text": [
            "2023-09-05 08:13:43.530150: W tensorflow/stream_executor/platform/default/dso_loader.cc:64] Could not load dynamic library 'libcuda.so.1'; dlerror: libcuda.so.1: cannot open shared object file: No such file or directory; LD_LIBRARY_PATH: /workspaces/codespaces-jupyter/.conda/lib/python3.9/site-packages/cv2/../../lib64:\n",
            "2023-09-05 08:13:43.530185: W tensorflow/stream_executor/cuda/cuda_driver.cc:269] failed call to cuInit: UNKNOWN ERROR (303)\n",
            "2023-09-05 08:13:43.530210: I tensorflow/stream_executor/cuda/cuda_diagnostics.cc:156] kernel driver does not appear to be running on this host (codespaces-4fce10): /proc/driver/nvidia/version does not exist\n",
            "2023-09-05 08:13:43.548984: I tensorflow/core/platform/cpu_feature_guard.cc:151] This TensorFlow binary is optimized with oneAPI Deep Neural Network Library (oneDNN) to use the following CPU instructions in performance-critical operations:  AVX2 FMA\n",
            "To enable them in other operations, rebuild TensorFlow with the appropriate compiler flags.\n"
          ]
        }
      ],
      "source": [
        "spec = object_detector.EfficientDetLite2Spec()"
      ]
    },
    {
      "cell_type": "markdown",
      "metadata": {
        "id": "rnCzdzs0-Rbo"
      },
      "source": [
        "The [`EfficientDetLite0Spec`](https://www.tensorflow.org/lite/api_docs/python/tflite_model_maker/object_detector/EfficientDetLite0Spec) constructor also supports several arguments that specify training options, such as the max number of detections (default is 25 for the TF Lite model) and whether to use Cloud TPUs for training. You can also use the constructor to specify the number of training epochs and the batch size, but you can also specify those in the next step."
      ]
    },
    {
      "cell_type": "markdown",
      "metadata": {
        "id": "5qjq2UEHCLUi"
      },
      "source": [
        "## Create and train the model"
      ]
    },
    {
      "cell_type": "markdown",
      "metadata": {
        "id": "2uZkLR6N6gDR"
      },
      "source": [
        "Now we need to create our model according to the model spec, load our dataset into the model, specify training parameters, and begin training.\n",
        "\n",
        "Using Model Maker, we accomplished all of that with [`create()`](https://www.tensorflow.org/lite/api_docs/python/tflite_model_maker/object_detector/create):"
      ]
    },
    {
      "cell_type": "code",
      "execution_count": 11,
      "metadata": {
        "id": "kwlYdTcg63xy"
      },
      "outputs": [
        {
          "name": "stdout",
          "output_type": "stream",
          "text": [
            "Epoch 1/100\n"
          ]
        },
        {
          "name": "stderr",
          "output_type": "stream",
          "text": [
            "2023-09-05 08:14:14.467337: W tensorflow/core/framework/dataset.cc:768] Input of GeneratorDatasetOp::Dataset will not be optimized because the dataset does not implement the AsGraphDefInternal() method needed to apply optimizations.\n"
          ]
        },
        {
          "name": "stdout",
          "output_type": "stream",
          "text": [
            "15/15 [==============================] - ETA: 0s - det_loss: 3.1254 - cls_loss: 1.2045 - box_loss: 0.0384 - reg_l2_loss: 0.0759 - loss: 3.2013 - learning_rate: 0.0101 - gradient_norm: 3.2460"
          ]
        },
        {
          "name": "stderr",
          "output_type": "stream",
          "text": [
            "2023-09-05 08:15:44.960257: W tensorflow/core/framework/dataset.cc:768] Input of GeneratorDatasetOp::Dataset will not be optimized because the dataset does not implement the AsGraphDefInternal() method needed to apply optimizations.\n"
          ]
        },
        {
          "name": "stdout",
          "output_type": "stream",
          "text": [
            "15/15 [==============================] - 98s 5s/step - det_loss: 3.0757 - cls_loss: 1.2014 - box_loss: 0.0375 - reg_l2_loss: 0.0759 - loss: 3.1515 - learning_rate: 0.0102 - gradient_norm: 3.3165 - val_det_loss: 2.7462 - val_cls_loss: 1.1108 - val_box_loss: 0.0327 - val_reg_l2_loss: 0.0759 - val_loss: 2.8221\n",
            "Epoch 2/100\n",
            "15/15 [==============================] - ETA: 0s - det_loss: 2.2755 - cls_loss: 1.0762 - box_loss: 0.0240 - reg_l2_loss: 0.0759 - loss: 2.3514 - learning_rate: 0.0125 - gradient_norm: 8.1092"
          ]
        },
        {
          "name": "stderr",
          "output_type": "stream",
          "text": [
            "2023-09-05 08:16:55.588376: W tensorflow/core/framework/dataset.cc:768] Input of GeneratorDatasetOp::Dataset will not be optimized because the dataset does not implement the AsGraphDefInternal() method needed to apply optimizations.\n"
          ]
        },
        {
          "name": "stdout",
          "output_type": "stream",
          "text": [
            "15/15 [==============================] - 68s 5s/step - det_loss: 2.2514 - cls_loss: 1.0709 - box_loss: 0.0236 - reg_l2_loss: 0.0759 - loss: 2.3273 - learning_rate: 0.0125 - gradient_norm: 8.1524 - val_det_loss: 2.8125 - val_cls_loss: 1.0587 - val_box_loss: 0.0351 - val_reg_l2_loss: 0.0760 - val_loss: 2.8885\n",
            "Epoch 3/100\n",
            "15/15 [==============================] - ETA: 0s - det_loss: 1.7546 - cls_loss: 0.8409 - box_loss: 0.0183 - reg_l2_loss: 0.0761 - loss: 1.8307 - learning_rate: 0.0125 - gradient_norm: 8.9430"
          ]
        },
        {
          "name": "stderr",
          "output_type": "stream",
          "text": [
            "2023-09-05 08:18:03.288652: W tensorflow/core/framework/dataset.cc:768] Input of GeneratorDatasetOp::Dataset will not be optimized because the dataset does not implement the AsGraphDefInternal() method needed to apply optimizations.\n"
          ]
        },
        {
          "name": "stdout",
          "output_type": "stream",
          "text": [
            "15/15 [==============================] - 68s 5s/step - det_loss: 1.7874 - cls_loss: 0.8383 - box_loss: 0.0190 - reg_l2_loss: 0.0761 - loss: 1.8635 - learning_rate: 0.0125 - gradient_norm: 9.0091 - val_det_loss: 2.5390 - val_cls_loss: 1.1009 - val_box_loss: 0.0288 - val_reg_l2_loss: 0.0763 - val_loss: 2.6153\n",
            "Epoch 4/100\n",
            "15/15 [==============================] - ETA: 0s - det_loss: 1.5429 - cls_loss: 0.6848 - box_loss: 0.0172 - reg_l2_loss: 0.0764 - loss: 1.6193 - learning_rate: 0.0125 - gradient_norm: 7.4148"
          ]
        },
        {
          "name": "stderr",
          "output_type": "stream",
          "text": [
            "2023-09-05 08:19:11.177223: W tensorflow/core/framework/dataset.cc:768] Input of GeneratorDatasetOp::Dataset will not be optimized because the dataset does not implement the AsGraphDefInternal() method needed to apply optimizations.\n"
          ]
        },
        {
          "name": "stdout",
          "output_type": "stream",
          "text": [
            "15/15 [==============================] - 68s 5s/step - det_loss: 1.5587 - cls_loss: 0.6903 - box_loss: 0.0174 - reg_l2_loss: 0.0764 - loss: 1.6351 - learning_rate: 0.0125 - gradient_norm: 7.5764 - val_det_loss: 8.1753 - val_cls_loss: 4.5079 - val_box_loss: 0.0733 - val_reg_l2_loss: 0.0766 - val_loss: 8.2519\n",
            "Epoch 5/100\n",
            "15/15 [==============================] - ETA: 0s - det_loss: 1.4973 - cls_loss: 0.6364 - box_loss: 0.0172 - reg_l2_loss: 0.0767 - loss: 1.5740 - learning_rate: 0.0124 - gradient_norm: 8.8211"
          ]
        },
        {
          "name": "stderr",
          "output_type": "stream",
          "text": [
            "2023-09-05 08:20:19.907530: W tensorflow/core/framework/dataset.cc:768] Input of GeneratorDatasetOp::Dataset will not be optimized because the dataset does not implement the AsGraphDefInternal() method needed to apply optimizations.\n"
          ]
        },
        {
          "name": "stdout",
          "output_type": "stream",
          "text": [
            "15/15 [==============================] - 76s 5s/step - det_loss: 1.5171 - cls_loss: 0.6484 - box_loss: 0.0174 - reg_l2_loss: 0.0767 - loss: 1.5938 - learning_rate: 0.0124 - gradient_norm: 8.7956 - val_det_loss: 5.7691 - val_cls_loss: 2.4689 - val_box_loss: 0.0660 - val_reg_l2_loss: 0.0769 - val_loss: 5.8460\n",
            "Epoch 6/100\n",
            "15/15 [==============================] - ETA: 0s - det_loss: 1.4736 - cls_loss: 0.6795 - box_loss: 0.0159 - reg_l2_loss: 0.0770 - loss: 1.5506 - learning_rate: 0.0124 - gradient_norm: 6.5507"
          ]
        },
        {
          "name": "stderr",
          "output_type": "stream",
          "text": [
            "2023-09-05 08:21:36.281464: W tensorflow/core/framework/dataset.cc:768] Input of GeneratorDatasetOp::Dataset will not be optimized because the dataset does not implement the AsGraphDefInternal() method needed to apply optimizations.\n"
          ]
        },
        {
          "name": "stdout",
          "output_type": "stream",
          "text": [
            "15/15 [==============================] - 69s 5s/step - det_loss: 1.4516 - cls_loss: 0.6673 - box_loss: 0.0157 - reg_l2_loss: 0.0770 - loss: 1.5286 - learning_rate: 0.0124 - gradient_norm: 6.7662 - val_det_loss: 5.7057 - val_cls_loss: 2.8928 - val_box_loss: 0.0563 - val_reg_l2_loss: 0.0771 - val_loss: 5.7829\n",
            "Epoch 7/100\n",
            "15/15 [==============================] - ETA: 0s - det_loss: 1.3340 - cls_loss: 0.5687 - box_loss: 0.0153 - reg_l2_loss: 0.0773 - loss: 1.4112 - learning_rate: 0.0124 - gradient_norm: 6.3408"
          ]
        },
        {
          "name": "stderr",
          "output_type": "stream",
          "text": [
            "2023-09-05 08:22:44.636745: W tensorflow/core/framework/dataset.cc:768] Input of GeneratorDatasetOp::Dataset will not be optimized because the dataset does not implement the AsGraphDefInternal() method needed to apply optimizations.\n"
          ]
        },
        {
          "name": "stdout",
          "output_type": "stream",
          "text": [
            "15/15 [==============================] - 68s 5s/step - det_loss: 1.3526 - cls_loss: 0.5715 - box_loss: 0.0156 - reg_l2_loss: 0.0773 - loss: 1.4299 - learning_rate: 0.0124 - gradient_norm: 6.3737 - val_det_loss: 4.6895 - val_cls_loss: 1.5959 - val_box_loss: 0.0619 - val_reg_l2_loss: 0.0774 - val_loss: 4.7669\n",
            "Epoch 8/100\n",
            "15/15 [==============================] - ETA: 0s - det_loss: 1.2057 - cls_loss: 0.5040 - box_loss: 0.0140 - reg_l2_loss: 0.0774 - loss: 1.2831 - learning_rate: 0.0123 - gradient_norm: 5.6718"
          ]
        },
        {
          "name": "stderr",
          "output_type": "stream",
          "text": [
            "2023-09-05 08:23:52.514785: W tensorflow/core/framework/dataset.cc:768] Input of GeneratorDatasetOp::Dataset will not be optimized because the dataset does not implement the AsGraphDefInternal() method needed to apply optimizations.\n"
          ]
        },
        {
          "name": "stdout",
          "output_type": "stream",
          "text": [
            "15/15 [==============================] - 68s 5s/step - det_loss: 1.1868 - cls_loss: 0.4974 - box_loss: 0.0138 - reg_l2_loss: 0.0774 - loss: 1.2642 - learning_rate: 0.0123 - gradient_norm: 5.5365 - val_det_loss: 2.7680 - val_cls_loss: 1.2547 - val_box_loss: 0.0303 - val_reg_l2_loss: 0.0775 - val_loss: 2.8455\n",
            "Epoch 9/100\n",
            "15/15 [==============================] - ETA: 0s - det_loss: 1.1633 - cls_loss: 0.4242 - box_loss: 0.0148 - reg_l2_loss: 0.0776 - loss: 1.2409 - learning_rate: 0.0123 - gradient_norm: 5.2247"
          ]
        },
        {
          "name": "stderr",
          "output_type": "stream",
          "text": [
            "2023-09-05 08:25:00.315198: W tensorflow/core/framework/dataset.cc:768] Input of GeneratorDatasetOp::Dataset will not be optimized because the dataset does not implement the AsGraphDefInternal() method needed to apply optimizations.\n"
          ]
        },
        {
          "name": "stdout",
          "output_type": "stream",
          "text": [
            "15/15 [==============================] - 68s 5s/step - det_loss: 1.1632 - cls_loss: 0.4224 - box_loss: 0.0148 - reg_l2_loss: 0.0776 - loss: 1.2408 - learning_rate: 0.0123 - gradient_norm: 5.2468 - val_det_loss: 6.8306 - val_cls_loss: 4.4532 - val_box_loss: 0.0475 - val_reg_l2_loss: 0.0776 - val_loss: 6.9082\n",
            "Epoch 10/100\n",
            "15/15 [==============================] - ETA: 0s - det_loss: 1.1555 - cls_loss: 0.4759 - box_loss: 0.0136 - reg_l2_loss: 0.0777 - loss: 1.2332 - learning_rate: 0.0122 - gradient_norm: 5.9787"
          ]
        },
        {
          "name": "stderr",
          "output_type": "stream",
          "text": [
            "2023-09-05 08:26:07.804575: W tensorflow/core/framework/dataset.cc:768] Input of GeneratorDatasetOp::Dataset will not be optimized because the dataset does not implement the AsGraphDefInternal() method needed to apply optimizations.\n"
          ]
        },
        {
          "name": "stdout",
          "output_type": "stream",
          "text": [
            "15/15 [==============================] - 73s 5s/step - det_loss: 1.1592 - cls_loss: 0.4723 - box_loss: 0.0137 - reg_l2_loss: 0.0777 - loss: 1.2369 - learning_rate: 0.0122 - gradient_norm: 6.0137 - val_det_loss: 7.7867 - val_cls_loss: 3.9636 - val_box_loss: 0.0765 - val_reg_l2_loss: 0.0778 - val_loss: 7.8644\n",
            "Epoch 11/100\n",
            "15/15 [==============================] - ETA: 0s - det_loss: 1.1305 - cls_loss: 0.4529 - box_loss: 0.0136 - reg_l2_loss: 0.0778 - loss: 1.2083 - learning_rate: 0.0122 - gradient_norm: 5.4649"
          ]
        },
        {
          "name": "stderr",
          "output_type": "stream",
          "text": [
            "2023-09-05 08:27:21.052146: W tensorflow/core/framework/dataset.cc:768] Input of GeneratorDatasetOp::Dataset will not be optimized because the dataset does not implement the AsGraphDefInternal() method needed to apply optimizations.\n"
          ]
        },
        {
          "name": "stdout",
          "output_type": "stream",
          "text": [
            "15/15 [==============================] - 67s 5s/step - det_loss: 1.1531 - cls_loss: 0.4571 - box_loss: 0.0139 - reg_l2_loss: 0.0778 - loss: 1.2310 - learning_rate: 0.0122 - gradient_norm: 5.4793 - val_det_loss: 3.9697 - val_cls_loss: 2.2168 - val_box_loss: 0.0351 - val_reg_l2_loss: 0.0779 - val_loss: 4.0476\n",
            "Epoch 12/100\n",
            "15/15 [==============================] - ETA: 0s - det_loss: 1.1556 - cls_loss: 0.4168 - box_loss: 0.0148 - reg_l2_loss: 0.0779 - loss: 1.2336 - learning_rate: 0.0121 - gradient_norm: 4.5066"
          ]
        },
        {
          "name": "stderr",
          "output_type": "stream",
          "text": [
            "2023-09-05 08:28:28.337138: W tensorflow/core/framework/dataset.cc:768] Input of GeneratorDatasetOp::Dataset will not be optimized because the dataset does not implement the AsGraphDefInternal() method needed to apply optimizations.\n"
          ]
        },
        {
          "name": "stdout",
          "output_type": "stream",
          "text": [
            "15/15 [==============================] - 67s 5s/step - det_loss: 1.1962 - cls_loss: 0.4199 - box_loss: 0.0155 - reg_l2_loss: 0.0780 - loss: 1.2742 - learning_rate: 0.0121 - gradient_norm: 4.8500 - val_det_loss: 4.1933 - val_cls_loss: 1.9242 - val_box_loss: 0.0454 - val_reg_l2_loss: 0.0780 - val_loss: 4.2713\n",
            "Epoch 13/100\n",
            "15/15 [==============================] - ETA: 0s - det_loss: 1.1194 - cls_loss: 0.4413 - box_loss: 0.0136 - reg_l2_loss: 0.0780 - loss: 1.1974 - learning_rate: 0.0120 - gradient_norm: 5.8501"
          ]
        },
        {
          "name": "stderr",
          "output_type": "stream",
          "text": [
            "2023-09-05 08:29:35.915157: W tensorflow/core/framework/dataset.cc:768] Input of GeneratorDatasetOp::Dataset will not be optimized because the dataset does not implement the AsGraphDefInternal() method needed to apply optimizations.\n"
          ]
        },
        {
          "name": "stdout",
          "output_type": "stream",
          "text": [
            "15/15 [==============================] - 68s 5s/step - det_loss: 1.1243 - cls_loss: 0.4430 - box_loss: 0.0136 - reg_l2_loss: 0.0780 - loss: 1.2024 - learning_rate: 0.0120 - gradient_norm: 5.9047 - val_det_loss: 5.0783 - val_cls_loss: 2.2108 - val_box_loss: 0.0573 - val_reg_l2_loss: 0.0781 - val_loss: 5.1563\n",
            "Epoch 14/100\n",
            "15/15 [==============================] - ETA: 0s - det_loss: 1.0190 - cls_loss: 0.4371 - box_loss: 0.0116 - reg_l2_loss: 0.0781 - loss: 1.0972 - learning_rate: 0.0119 - gradient_norm: 4.7735"
          ]
        },
        {
          "name": "stderr",
          "output_type": "stream",
          "text": [
            "2023-09-05 08:30:43.565378: W tensorflow/core/framework/dataset.cc:768] Input of GeneratorDatasetOp::Dataset will not be optimized because the dataset does not implement the AsGraphDefInternal() method needed to apply optimizations.\n"
          ]
        },
        {
          "name": "stdout",
          "output_type": "stream",
          "text": [
            "15/15 [==============================] - 68s 5s/step - det_loss: 1.0069 - cls_loss: 0.4341 - box_loss: 0.0115 - reg_l2_loss: 0.0781 - loss: 1.0850 - learning_rate: 0.0119 - gradient_norm: 4.7378 - val_det_loss: 5.6092 - val_cls_loss: 3.4258 - val_box_loss: 0.0437 - val_reg_l2_loss: 0.0782 - val_loss: 5.6874\n",
            "Epoch 15/100\n",
            "15/15 [==============================] - ETA: 0s - det_loss: 0.9683 - cls_loss: 0.4074 - box_loss: 0.0112 - reg_l2_loss: 0.0782 - loss: 1.0466 - learning_rate: 0.0119 - gradient_norm: 4.9713"
          ]
        },
        {
          "name": "stderr",
          "output_type": "stream",
          "text": [
            "2023-09-05 08:31:51.929251: W tensorflow/core/framework/dataset.cc:768] Input of GeneratorDatasetOp::Dataset will not be optimized because the dataset does not implement the AsGraphDefInternal() method needed to apply optimizations.\n"
          ]
        },
        {
          "name": "stdout",
          "output_type": "stream",
          "text": [
            "15/15 [==============================] - 73s 5s/step - det_loss: 0.9769 - cls_loss: 0.4117 - box_loss: 0.0113 - reg_l2_loss: 0.0782 - loss: 1.0552 - learning_rate: 0.0119 - gradient_norm: 4.9341 - val_det_loss: 1.8252 - val_cls_loss: 0.8134 - val_box_loss: 0.0202 - val_reg_l2_loss: 0.0783 - val_loss: 1.9035\n",
            "Epoch 16/100\n",
            "15/15 [==============================] - ETA: 0s - det_loss: 0.9236 - cls_loss: 0.3879 - box_loss: 0.0107 - reg_l2_loss: 0.0783 - loss: 1.0019 - learning_rate: 0.0118 - gradient_norm: 4.4596"
          ]
        },
        {
          "name": "stderr",
          "output_type": "stream",
          "text": [
            "2023-09-05 08:33:04.614322: W tensorflow/core/framework/dataset.cc:768] Input of GeneratorDatasetOp::Dataset will not be optimized because the dataset does not implement the AsGraphDefInternal() method needed to apply optimizations.\n"
          ]
        },
        {
          "name": "stdout",
          "output_type": "stream",
          "text": [
            "15/15 [==============================] - 68s 5s/step - det_loss: 0.9271 - cls_loss: 0.3887 - box_loss: 0.0108 - reg_l2_loss: 0.0783 - loss: 1.0054 - learning_rate: 0.0118 - gradient_norm: 4.5203 - val_det_loss: 1.9961 - val_cls_loss: 0.8706 - val_box_loss: 0.0225 - val_reg_l2_loss: 0.0784 - val_loss: 2.0745\n",
            "Epoch 17/100\n",
            "15/15 [==============================] - ETA: 0s - det_loss: 1.0515 - cls_loss: 0.4275 - box_loss: 0.0125 - reg_l2_loss: 0.0784 - loss: 1.1299 - learning_rate: 0.0117 - gradient_norm: 5.3077"
          ]
        },
        {
          "name": "stderr",
          "output_type": "stream",
          "text": [
            "2023-09-05 08:34:13.341923: W tensorflow/core/framework/dataset.cc:768] Input of GeneratorDatasetOp::Dataset will not be optimized because the dataset does not implement the AsGraphDefInternal() method needed to apply optimizations.\n"
          ]
        },
        {
          "name": "stdout",
          "output_type": "stream",
          "text": [
            "15/15 [==============================] - 69s 5s/step - det_loss: 1.0739 - cls_loss: 0.4380 - box_loss: 0.0127 - reg_l2_loss: 0.0784 - loss: 1.1523 - learning_rate: 0.0117 - gradient_norm: 5.3985 - val_det_loss: 2.3866 - val_cls_loss: 0.9355 - val_box_loss: 0.0290 - val_reg_l2_loss: 0.0784 - val_loss: 2.4651\n",
            "Epoch 18/100\n",
            "15/15 [==============================] - ETA: 0s - det_loss: 0.8812 - cls_loss: 0.3781 - box_loss: 0.0101 - reg_l2_loss: 0.0785 - loss: 0.9597 - learning_rate: 0.0116 - gradient_norm: 4.1179"
          ]
        },
        {
          "name": "stderr",
          "output_type": "stream",
          "text": [
            "2023-09-05 08:35:22.340120: W tensorflow/core/framework/dataset.cc:768] Input of GeneratorDatasetOp::Dataset will not be optimized because the dataset does not implement the AsGraphDefInternal() method needed to apply optimizations.\n"
          ]
        },
        {
          "name": "stdout",
          "output_type": "stream",
          "text": [
            "15/15 [==============================] - 68s 5s/step - det_loss: 0.8999 - cls_loss: 0.3886 - box_loss: 0.0102 - reg_l2_loss: 0.0785 - loss: 0.9783 - learning_rate: 0.0116 - gradient_norm: 4.2188 - val_det_loss: 2.3058 - val_cls_loss: 0.9290 - val_box_loss: 0.0275 - val_reg_l2_loss: 0.0785 - val_loss: 2.3843\n",
            "Epoch 19/100\n",
            "15/15 [==============================] - ETA: 0s - det_loss: 0.8521 - cls_loss: 0.3735 - box_loss: 0.0096 - reg_l2_loss: 0.0785 - loss: 0.9306 - learning_rate: 0.0115 - gradient_norm: 3.9688"
          ]
        },
        {
          "name": "stderr",
          "output_type": "stream",
          "text": [
            "2023-09-05 08:36:30.471520: W tensorflow/core/framework/dataset.cc:768] Input of GeneratorDatasetOp::Dataset will not be optimized because the dataset does not implement the AsGraphDefInternal() method needed to apply optimizations.\n"
          ]
        },
        {
          "name": "stdout",
          "output_type": "stream",
          "text": [
            "15/15 [==============================] - 68s 5s/step - det_loss: 0.8614 - cls_loss: 0.3768 - box_loss: 0.0097 - reg_l2_loss: 0.0785 - loss: 0.9399 - learning_rate: 0.0115 - gradient_norm: 4.0154 - val_det_loss: 1.3761 - val_cls_loss: 0.6050 - val_box_loss: 0.0154 - val_reg_l2_loss: 0.0786 - val_loss: 1.4547\n",
            "Epoch 20/100\n",
            "15/15 [==============================] - ETA: 0s - det_loss: 0.8773 - cls_loss: 0.3780 - box_loss: 0.0100 - reg_l2_loss: 0.0786 - loss: 0.9559 - learning_rate: 0.0113 - gradient_norm: 4.3724"
          ]
        },
        {
          "name": "stderr",
          "output_type": "stream",
          "text": [
            "2023-09-05 08:37:38.848493: W tensorflow/core/framework/dataset.cc:768] Input of GeneratorDatasetOp::Dataset will not be optimized because the dataset does not implement the AsGraphDefInternal() method needed to apply optimizations.\n"
          ]
        },
        {
          "name": "stdout",
          "output_type": "stream",
          "text": [
            "15/15 [==============================] - 74s 5s/step - det_loss: 0.8774 - cls_loss: 0.3821 - box_loss: 0.0099 - reg_l2_loss: 0.0786 - loss: 0.9560 - learning_rate: 0.0113 - gradient_norm: 4.4871 - val_det_loss: 1.3360 - val_cls_loss: 0.5791 - val_box_loss: 0.0151 - val_reg_l2_loss: 0.0786 - val_loss: 1.4146\n",
            "Epoch 21/100\n",
            "15/15 [==============================] - ETA: 0s - det_loss: 0.9461 - cls_loss: 0.4077 - box_loss: 0.0108 - reg_l2_loss: 0.0786 - loss: 1.0247 - learning_rate: 0.0112 - gradient_norm: 3.9128"
          ]
        },
        {
          "name": "stderr",
          "output_type": "stream",
          "text": [
            "2023-09-05 08:38:51.652556: W tensorflow/core/framework/dataset.cc:768] Input of GeneratorDatasetOp::Dataset will not be optimized because the dataset does not implement the AsGraphDefInternal() method needed to apply optimizations.\n"
          ]
        },
        {
          "name": "stdout",
          "output_type": "stream",
          "text": [
            "15/15 [==============================] - 68s 5s/step - det_loss: 0.9625 - cls_loss: 0.4106 - box_loss: 0.0110 - reg_l2_loss: 0.0786 - loss: 1.0411 - learning_rate: 0.0112 - gradient_norm: 3.9259 - val_det_loss: 1.6191 - val_cls_loss: 0.6955 - val_box_loss: 0.0185 - val_reg_l2_loss: 0.0787 - val_loss: 1.6977\n",
            "Epoch 22/100\n",
            "15/15 [==============================] - ETA: 0s - det_loss: 0.8816 - cls_loss: 0.3546 - box_loss: 0.0105 - reg_l2_loss: 0.0787 - loss: 0.9603 - learning_rate: 0.0111 - gradient_norm: 3.5897"
          ]
        },
        {
          "name": "stderr",
          "output_type": "stream",
          "text": [
            "2023-09-05 08:39:59.703297: W tensorflow/core/framework/dataset.cc:768] Input of GeneratorDatasetOp::Dataset will not be optimized because the dataset does not implement the AsGraphDefInternal() method needed to apply optimizations.\n"
          ]
        },
        {
          "name": "stdout",
          "output_type": "stream",
          "text": [
            "15/15 [==============================] - 68s 5s/step - det_loss: 0.8707 - cls_loss: 0.3496 - box_loss: 0.0104 - reg_l2_loss: 0.0787 - loss: 0.9493 - learning_rate: 0.0111 - gradient_norm: 3.5736 - val_det_loss: 1.4261 - val_cls_loss: 0.6781 - val_box_loss: 0.0150 - val_reg_l2_loss: 0.0787 - val_loss: 1.5048\n",
            "Epoch 23/100\n",
            "15/15 [==============================] - ETA: 0s - det_loss: 0.9182 - cls_loss: 0.3783 - box_loss: 0.0108 - reg_l2_loss: 0.0787 - loss: 0.9969 - learning_rate: 0.0110 - gradient_norm: 4.2126"
          ]
        },
        {
          "name": "stderr",
          "output_type": "stream",
          "text": [
            "2023-09-05 08:41:07.092302: W tensorflow/core/framework/dataset.cc:768] Input of GeneratorDatasetOp::Dataset will not be optimized because the dataset does not implement the AsGraphDefInternal() method needed to apply optimizations.\n"
          ]
        },
        {
          "name": "stdout",
          "output_type": "stream",
          "text": [
            "15/15 [==============================] - 67s 5s/step - det_loss: 0.9285 - cls_loss: 0.3818 - box_loss: 0.0109 - reg_l2_loss: 0.0787 - loss: 1.0072 - learning_rate: 0.0110 - gradient_norm: 4.2934 - val_det_loss: 1.2988 - val_cls_loss: 0.6618 - val_box_loss: 0.0127 - val_reg_l2_loss: 0.0787 - val_loss: 1.3776\n",
            "Epoch 24/100\n",
            "15/15 [==============================] - ETA: 0s - det_loss: 0.8144 - cls_loss: 0.3542 - box_loss: 0.0092 - reg_l2_loss: 0.0788 - loss: 0.8931 - learning_rate: 0.0108 - gradient_norm: 4.1652"
          ]
        },
        {
          "name": "stderr",
          "output_type": "stream",
          "text": [
            "2023-09-05 08:42:14.376485: W tensorflow/core/framework/dataset.cc:768] Input of GeneratorDatasetOp::Dataset will not be optimized because the dataset does not implement the AsGraphDefInternal() method needed to apply optimizations.\n"
          ]
        },
        {
          "name": "stdout",
          "output_type": "stream",
          "text": [
            "15/15 [==============================] - 67s 5s/step - det_loss: 0.8068 - cls_loss: 0.3506 - box_loss: 0.0091 - reg_l2_loss: 0.0788 - loss: 0.8856 - learning_rate: 0.0108 - gradient_norm: 4.1755 - val_det_loss: 1.1225 - val_cls_loss: 0.4962 - val_box_loss: 0.0125 - val_reg_l2_loss: 0.0788 - val_loss: 1.2013\n",
            "Epoch 25/100\n",
            "15/15 [==============================] - ETA: 0s - det_loss: 0.9340 - cls_loss: 0.3644 - box_loss: 0.0114 - reg_l2_loss: 0.0788 - loss: 1.0128 - learning_rate: 0.0107 - gradient_norm: 3.8975"
          ]
        },
        {
          "name": "stderr",
          "output_type": "stream",
          "text": [
            "2023-09-05 08:43:21.803579: W tensorflow/core/framework/dataset.cc:768] Input of GeneratorDatasetOp::Dataset will not be optimized because the dataset does not implement the AsGraphDefInternal() method needed to apply optimizations.\n"
          ]
        },
        {
          "name": "stdout",
          "output_type": "stream",
          "text": [
            "15/15 [==============================] - 73s 5s/step - det_loss: 0.9366 - cls_loss: 0.3668 - box_loss: 0.0114 - reg_l2_loss: 0.0788 - loss: 1.0154 - learning_rate: 0.0107 - gradient_norm: 3.9056 - val_det_loss: 1.7087 - val_cls_loss: 0.8075 - val_box_loss: 0.0180 - val_reg_l2_loss: 0.0788 - val_loss: 1.7875\n",
            "Epoch 26/100\n",
            "15/15 [==============================] - ETA: 0s - det_loss: 0.7994 - cls_loss: 0.3219 - box_loss: 0.0096 - reg_l2_loss: 0.0788 - loss: 0.8782 - learning_rate: 0.0106 - gradient_norm: 3.6609"
          ]
        },
        {
          "name": "stderr",
          "output_type": "stream",
          "text": [
            "2023-09-05 08:44:35.176128: W tensorflow/core/framework/dataset.cc:768] Input of GeneratorDatasetOp::Dataset will not be optimized because the dataset does not implement the AsGraphDefInternal() method needed to apply optimizations.\n"
          ]
        },
        {
          "name": "stdout",
          "output_type": "stream",
          "text": [
            "15/15 [==============================] - 68s 5s/step - det_loss: 0.8111 - cls_loss: 0.3291 - box_loss: 0.0096 - reg_l2_loss: 0.0788 - loss: 0.8899 - learning_rate: 0.0106 - gradient_norm: 3.7091 - val_det_loss: 1.4051 - val_cls_loss: 0.6639 - val_box_loss: 0.0148 - val_reg_l2_loss: 0.0789 - val_loss: 1.4840\n",
            "Epoch 27/100\n",
            "15/15 [==============================] - ETA: 0s - det_loss: 0.7746 - cls_loss: 0.3185 - box_loss: 0.0091 - reg_l2_loss: 0.0789 - loss: 0.8535 - learning_rate: 0.0104 - gradient_norm: 3.5052"
          ]
        },
        {
          "name": "stderr",
          "output_type": "stream",
          "text": [
            "2023-09-05 08:45:43.234567: W tensorflow/core/framework/dataset.cc:768] Input of GeneratorDatasetOp::Dataset will not be optimized because the dataset does not implement the AsGraphDefInternal() method needed to apply optimizations.\n"
          ]
        },
        {
          "name": "stdout",
          "output_type": "stream",
          "text": [
            "15/15 [==============================] - 68s 5s/step - det_loss: 0.7756 - cls_loss: 0.3205 - box_loss: 0.0091 - reg_l2_loss: 0.0789 - loss: 0.8545 - learning_rate: 0.0104 - gradient_norm: 3.4663 - val_det_loss: 1.2834 - val_cls_loss: 0.5372 - val_box_loss: 0.0149 - val_reg_l2_loss: 0.0789 - val_loss: 1.3623\n",
            "Epoch 28/100\n",
            "15/15 [==============================] - ETA: 0s - det_loss: 0.7592 - cls_loss: 0.3148 - box_loss: 0.0089 - reg_l2_loss: 0.0789 - loss: 0.8381 - learning_rate: 0.0103 - gradient_norm: 3.6844"
          ]
        },
        {
          "name": "stderr",
          "output_type": "stream",
          "text": [
            "2023-09-05 08:46:51.042851: W tensorflow/core/framework/dataset.cc:768] Input of GeneratorDatasetOp::Dataset will not be optimized because the dataset does not implement the AsGraphDefInternal() method needed to apply optimizations.\n"
          ]
        },
        {
          "name": "stdout",
          "output_type": "stream",
          "text": [
            "15/15 [==============================] - 68s 5s/step - det_loss: 0.7463 - cls_loss: 0.3105 - box_loss: 0.0087 - reg_l2_loss: 0.0789 - loss: 0.8252 - learning_rate: 0.0103 - gradient_norm: 3.6887 - val_det_loss: 1.1039 - val_cls_loss: 0.4291 - val_box_loss: 0.0135 - val_reg_l2_loss: 0.0789 - val_loss: 1.1829\n",
            "Epoch 29/100\n",
            "15/15 [==============================] - ETA: 0s - det_loss: 0.7464 - cls_loss: 0.2961 - box_loss: 0.0090 - reg_l2_loss: 0.0789 - loss: 0.8254 - learning_rate: 0.0101 - gradient_norm: 3.1139"
          ]
        },
        {
          "name": "stderr",
          "output_type": "stream",
          "text": [
            "2023-09-05 08:47:59.613512: W tensorflow/core/framework/dataset.cc:768] Input of GeneratorDatasetOp::Dataset will not be optimized because the dataset does not implement the AsGraphDefInternal() method needed to apply optimizations.\n"
          ]
        },
        {
          "name": "stdout",
          "output_type": "stream",
          "text": [
            "15/15 [==============================] - 68s 5s/step - det_loss: 0.7302 - cls_loss: 0.2917 - box_loss: 0.0088 - reg_l2_loss: 0.0789 - loss: 0.8092 - learning_rate: 0.0101 - gradient_norm: 3.0652 - val_det_loss: 1.2630 - val_cls_loss: 0.4453 - val_box_loss: 0.0164 - val_reg_l2_loss: 0.0790 - val_loss: 1.3419\n",
            "Epoch 30/100\n",
            "15/15 [==============================] - ETA: 0s - det_loss: 0.6822 - cls_loss: 0.3013 - box_loss: 0.0076 - reg_l2_loss: 0.0790 - loss: 0.7612 - learning_rate: 0.0100 - gradient_norm: 3.6375"
          ]
        },
        {
          "name": "stderr",
          "output_type": "stream",
          "text": [
            "2023-09-05 08:49:07.234510: W tensorflow/core/framework/dataset.cc:768] Input of GeneratorDatasetOp::Dataset will not be optimized because the dataset does not implement the AsGraphDefInternal() method needed to apply optimizations.\n"
          ]
        },
        {
          "name": "stdout",
          "output_type": "stream",
          "text": [
            "15/15 [==============================] - 73s 5s/step - det_loss: 0.6766 - cls_loss: 0.3006 - box_loss: 0.0075 - reg_l2_loss: 0.0790 - loss: 0.7555 - learning_rate: 0.0100 - gradient_norm: 3.6066 - val_det_loss: 1.0640 - val_cls_loss: 0.4202 - val_box_loss: 0.0129 - val_reg_l2_loss: 0.0790 - val_loss: 1.1429\n",
            "Epoch 31/100\n",
            "15/15 [==============================] - ETA: 0s - det_loss: 0.7597 - cls_loss: 0.3282 - box_loss: 0.0086 - reg_l2_loss: 0.0790 - loss: 0.8386 - learning_rate: 0.0098 - gradient_norm: 3.6300"
          ]
        },
        {
          "name": "stderr",
          "output_type": "stream",
          "text": [
            "2023-09-05 08:50:20.169328: W tensorflow/core/framework/dataset.cc:768] Input of GeneratorDatasetOp::Dataset will not be optimized because the dataset does not implement the AsGraphDefInternal() method needed to apply optimizations.\n"
          ]
        },
        {
          "name": "stdout",
          "output_type": "stream",
          "text": [
            "15/15 [==============================] - 68s 5s/step - det_loss: 0.7528 - cls_loss: 0.3249 - box_loss: 0.0086 - reg_l2_loss: 0.0790 - loss: 0.8318 - learning_rate: 0.0098 - gradient_norm: 3.6486 - val_det_loss: 1.2983 - val_cls_loss: 0.5862 - val_box_loss: 0.0142 - val_reg_l2_loss: 0.0790 - val_loss: 1.3773\n",
            "Epoch 32/100\n",
            "15/15 [==============================] - ETA: 0s - det_loss: 0.7944 - cls_loss: 0.3364 - box_loss: 0.0092 - reg_l2_loss: 0.0790 - loss: 0.8734 - learning_rate: 0.0096 - gradient_norm: 3.9535"
          ]
        },
        {
          "name": "stderr",
          "output_type": "stream",
          "text": [
            "2023-09-05 08:51:27.869109: W tensorflow/core/framework/dataset.cc:768] Input of GeneratorDatasetOp::Dataset will not be optimized because the dataset does not implement the AsGraphDefInternal() method needed to apply optimizations.\n"
          ]
        },
        {
          "name": "stdout",
          "output_type": "stream",
          "text": [
            "15/15 [==============================] - 68s 5s/step - det_loss: 0.8067 - cls_loss: 0.3364 - box_loss: 0.0094 - reg_l2_loss: 0.0790 - loss: 0.8857 - learning_rate: 0.0096 - gradient_norm: 3.9677 - val_det_loss: 1.1428 - val_cls_loss: 0.4333 - val_box_loss: 0.0142 - val_reg_l2_loss: 0.0790 - val_loss: 1.2218\n",
            "Epoch 33/100\n",
            "15/15 [==============================] - ETA: 0s - det_loss: 0.7817 - cls_loss: 0.3338 - box_loss: 0.0090 - reg_l2_loss: 0.0790 - loss: 0.8608 - learning_rate: 0.0095 - gradient_norm: 3.7348"
          ]
        },
        {
          "name": "stderr",
          "output_type": "stream",
          "text": [
            "2023-09-05 08:52:36.328265: W tensorflow/core/framework/dataset.cc:768] Input of GeneratorDatasetOp::Dataset will not be optimized because the dataset does not implement the AsGraphDefInternal() method needed to apply optimizations.\n"
          ]
        },
        {
          "name": "stdout",
          "output_type": "stream",
          "text": [
            "15/15 [==============================] - 69s 5s/step - det_loss: 0.7806 - cls_loss: 0.3317 - box_loss: 0.0090 - reg_l2_loss: 0.0790 - loss: 0.8596 - learning_rate: 0.0095 - gradient_norm: 3.7915 - val_det_loss: 1.0729 - val_cls_loss: 0.4250 - val_box_loss: 0.0130 - val_reg_l2_loss: 0.0791 - val_loss: 1.1520\n",
            "Epoch 34/100\n",
            "15/15 [==============================] - ETA: 0s - det_loss: 0.6930 - cls_loss: 0.2994 - box_loss: 0.0079 - reg_l2_loss: 0.0791 - loss: 0.7721 - learning_rate: 0.0093 - gradient_norm: 3.4307"
          ]
        },
        {
          "name": "stderr",
          "output_type": "stream",
          "text": [
            "2023-09-05 08:53:45.321816: W tensorflow/core/framework/dataset.cc:768] Input of GeneratorDatasetOp::Dataset will not be optimized because the dataset does not implement the AsGraphDefInternal() method needed to apply optimizations.\n"
          ]
        },
        {
          "name": "stdout",
          "output_type": "stream",
          "text": [
            "15/15 [==============================] - 68s 5s/step - det_loss: 0.6826 - cls_loss: 0.2997 - box_loss: 0.0077 - reg_l2_loss: 0.0791 - loss: 0.7617 - learning_rate: 0.0093 - gradient_norm: 3.5009 - val_det_loss: 1.2121 - val_cls_loss: 0.5521 - val_box_loss: 0.0132 - val_reg_l2_loss: 0.0791 - val_loss: 1.2912\n",
            "Epoch 35/100\n",
            "15/15 [==============================] - ETA: 0s - det_loss: 0.7066 - cls_loss: 0.2912 - box_loss: 0.0083 - reg_l2_loss: 0.0791 - loss: 0.7857 - learning_rate: 0.0091 - gradient_norm: 3.4278"
          ]
        },
        {
          "name": "stderr",
          "output_type": "stream",
          "text": [
            "2023-09-05 08:54:53.429458: W tensorflow/core/framework/dataset.cc:768] Input of GeneratorDatasetOp::Dataset will not be optimized because the dataset does not implement the AsGraphDefInternal() method needed to apply optimizations.\n"
          ]
        },
        {
          "name": "stdout",
          "output_type": "stream",
          "text": [
            "15/15 [==============================] - 73s 5s/step - det_loss: 0.7024 - cls_loss: 0.2911 - box_loss: 0.0082 - reg_l2_loss: 0.0791 - loss: 0.7815 - learning_rate: 0.0091 - gradient_norm: 3.4406 - val_det_loss: 1.1708 - val_cls_loss: 0.4880 - val_box_loss: 0.0137 - val_reg_l2_loss: 0.0791 - val_loss: 1.2499\n",
            "Epoch 36/100\n",
            "15/15 [==============================] - ETA: 0s - det_loss: 0.6495 - cls_loss: 0.2791 - box_loss: 0.0074 - reg_l2_loss: 0.0791 - loss: 0.7286 - learning_rate: 0.0089 - gradient_norm: 2.9785"
          ]
        },
        {
          "name": "stderr",
          "output_type": "stream",
          "text": [
            "2023-09-05 08:56:06.336573: W tensorflow/core/framework/dataset.cc:768] Input of GeneratorDatasetOp::Dataset will not be optimized because the dataset does not implement the AsGraphDefInternal() method needed to apply optimizations.\n"
          ]
        },
        {
          "name": "stdout",
          "output_type": "stream",
          "text": [
            "15/15 [==============================] - 69s 5s/step - det_loss: 0.6668 - cls_loss: 0.2844 - box_loss: 0.0076 - reg_l2_loss: 0.0791 - loss: 0.7459 - learning_rate: 0.0089 - gradient_norm: 2.9898 - val_det_loss: 1.0133 - val_cls_loss: 0.4539 - val_box_loss: 0.0112 - val_reg_l2_loss: 0.0791 - val_loss: 1.0924\n",
            "Epoch 37/100\n",
            "15/15 [==============================] - ETA: 0s - det_loss: 0.6925 - cls_loss: 0.3007 - box_loss: 0.0078 - reg_l2_loss: 0.0791 - loss: 0.7716 - learning_rate: 0.0088 - gradient_norm: 3.3713"
          ]
        },
        {
          "name": "stderr",
          "output_type": "stream",
          "text": [
            "2023-09-05 08:57:15.286685: W tensorflow/core/framework/dataset.cc:768] Input of GeneratorDatasetOp::Dataset will not be optimized because the dataset does not implement the AsGraphDefInternal() method needed to apply optimizations.\n"
          ]
        },
        {
          "name": "stdout",
          "output_type": "stream",
          "text": [
            "15/15 [==============================] - 68s 5s/step - det_loss: 0.6926 - cls_loss: 0.2994 - box_loss: 0.0079 - reg_l2_loss: 0.0791 - loss: 0.7717 - learning_rate: 0.0088 - gradient_norm: 3.3944 - val_det_loss: 1.2061 - val_cls_loss: 0.5165 - val_box_loss: 0.0138 - val_reg_l2_loss: 0.0791 - val_loss: 1.2852\n",
            "Epoch 38/100\n",
            "15/15 [==============================] - ETA: 0s - det_loss: 0.8170 - cls_loss: 0.3412 - box_loss: 0.0095 - reg_l2_loss: 0.0791 - loss: 0.8962 - learning_rate: 0.0086 - gradient_norm: 4.0355"
          ]
        },
        {
          "name": "stderr",
          "output_type": "stream",
          "text": [
            "2023-09-05 08:58:22.896113: W tensorflow/core/framework/dataset.cc:768] Input of GeneratorDatasetOp::Dataset will not be optimized because the dataset does not implement the AsGraphDefInternal() method needed to apply optimizations.\n"
          ]
        },
        {
          "name": "stdout",
          "output_type": "stream",
          "text": [
            "15/15 [==============================] - 68s 5s/step - det_loss: 0.8107 - cls_loss: 0.3383 - box_loss: 0.0094 - reg_l2_loss: 0.0791 - loss: 0.8898 - learning_rate: 0.0086 - gradient_norm: 3.9961 - val_det_loss: 0.9858 - val_cls_loss: 0.4314 - val_box_loss: 0.0111 - val_reg_l2_loss: 0.0791 - val_loss: 1.0649\n",
            "Epoch 39/100\n",
            "15/15 [==============================] - ETA: 0s - det_loss: 0.6949 - cls_loss: 0.2933 - box_loss: 0.0080 - reg_l2_loss: 0.0791 - loss: 0.7741 - learning_rate: 0.0084 - gradient_norm: 3.3297"
          ]
        },
        {
          "name": "stderr",
          "output_type": "stream",
          "text": [
            "2023-09-05 08:59:30.679021: W tensorflow/core/framework/dataset.cc:768] Input of GeneratorDatasetOp::Dataset will not be optimized because the dataset does not implement the AsGraphDefInternal() method needed to apply optimizations.\n"
          ]
        },
        {
          "name": "stdout",
          "output_type": "stream",
          "text": [
            "15/15 [==============================] - 68s 5s/step - det_loss: 0.7122 - cls_loss: 0.2976 - box_loss: 0.0083 - reg_l2_loss: 0.0791 - loss: 0.7913 - learning_rate: 0.0084 - gradient_norm: 3.3338 - val_det_loss: 0.9768 - val_cls_loss: 0.4060 - val_box_loss: 0.0114 - val_reg_l2_loss: 0.0792 - val_loss: 1.0559\n",
            "Epoch 40/100\n",
            "15/15 [==============================] - ETA: 0s - det_loss: 0.7399 - cls_loss: 0.3089 - box_loss: 0.0086 - reg_l2_loss: 0.0792 - loss: 0.8191 - learning_rate: 0.0082 - gradient_norm: 3.4755"
          ]
        },
        {
          "name": "stderr",
          "output_type": "stream",
          "text": [
            "2023-09-05 09:00:38.945557: W tensorflow/core/framework/dataset.cc:768] Input of GeneratorDatasetOp::Dataset will not be optimized because the dataset does not implement the AsGraphDefInternal() method needed to apply optimizations.\n"
          ]
        },
        {
          "name": "stdout",
          "output_type": "stream",
          "text": [
            "15/15 [==============================] - 73s 5s/step - det_loss: 0.7416 - cls_loss: 0.3102 - box_loss: 0.0086 - reg_l2_loss: 0.0792 - loss: 0.8207 - learning_rate: 0.0082 - gradient_norm: 3.5369 - val_det_loss: 1.1708 - val_cls_loss: 0.4473 - val_box_loss: 0.0145 - val_reg_l2_loss: 0.0792 - val_loss: 1.2500\n",
            "Epoch 41/100\n",
            "15/15 [==============================] - ETA: 0s - det_loss: 0.6262 - cls_loss: 0.2871 - box_loss: 0.0068 - reg_l2_loss: 0.0792 - loss: 0.7054 - learning_rate: 0.0080 - gradient_norm: 3.4167"
          ]
        },
        {
          "name": "stderr",
          "output_type": "stream",
          "text": [
            "2023-09-05 09:01:52.736300: W tensorflow/core/framework/dataset.cc:768] Input of GeneratorDatasetOp::Dataset will not be optimized because the dataset does not implement the AsGraphDefInternal() method needed to apply optimizations.\n"
          ]
        },
        {
          "name": "stdout",
          "output_type": "stream",
          "text": [
            "15/15 [==============================] - 68s 5s/step - det_loss: 0.6308 - cls_loss: 0.2872 - box_loss: 0.0069 - reg_l2_loss: 0.0792 - loss: 0.7100 - learning_rate: 0.0080 - gradient_norm: 3.4766 - val_det_loss: 1.0011 - val_cls_loss: 0.3904 - val_box_loss: 0.0122 - val_reg_l2_loss: 0.0792 - val_loss: 1.0803\n",
            "Epoch 42/100\n",
            "15/15 [==============================] - ETA: 0s - det_loss: 0.7013 - cls_loss: 0.2838 - box_loss: 0.0084 - reg_l2_loss: 0.0792 - loss: 0.7805 - learning_rate: 0.0078 - gradient_norm: 3.1918"
          ]
        },
        {
          "name": "stderr",
          "output_type": "stream",
          "text": [
            "2023-09-05 09:02:59.951510: W tensorflow/core/framework/dataset.cc:768] Input of GeneratorDatasetOp::Dataset will not be optimized because the dataset does not implement the AsGraphDefInternal() method needed to apply optimizations.\n"
          ]
        },
        {
          "name": "stdout",
          "output_type": "stream",
          "text": [
            "15/15 [==============================] - 67s 5s/step - det_loss: 0.7009 - cls_loss: 0.2856 - box_loss: 0.0083 - reg_l2_loss: 0.0792 - loss: 0.7800 - learning_rate: 0.0078 - gradient_norm: 3.2184 - val_det_loss: 1.1072 - val_cls_loss: 0.4382 - val_box_loss: 0.0134 - val_reg_l2_loss: 0.0792 - val_loss: 1.1864\n",
            "Epoch 43/100\n",
            "15/15 [==============================] - ETA: 0s - det_loss: 0.6882 - cls_loss: 0.2814 - box_loss: 0.0081 - reg_l2_loss: 0.0792 - loss: 0.7674 - learning_rate: 0.0076 - gradient_norm: 3.2176"
          ]
        },
        {
          "name": "stderr",
          "output_type": "stream",
          "text": [
            "2023-09-05 09:04:07.684377: W tensorflow/core/framework/dataset.cc:768] Input of GeneratorDatasetOp::Dataset will not be optimized because the dataset does not implement the AsGraphDefInternal() method needed to apply optimizations.\n"
          ]
        },
        {
          "name": "stdout",
          "output_type": "stream",
          "text": [
            "15/15 [==============================] - 68s 5s/step - det_loss: 0.6897 - cls_loss: 0.2791 - box_loss: 0.0082 - reg_l2_loss: 0.0792 - loss: 0.7689 - learning_rate: 0.0076 - gradient_norm: 3.1735 - val_det_loss: 0.9015 - val_cls_loss: 0.3602 - val_box_loss: 0.0108 - val_reg_l2_loss: 0.0792 - val_loss: 0.9807\n",
            "Epoch 44/100\n",
            "15/15 [==============================] - ETA: 0s - det_loss: 0.6977 - cls_loss: 0.3098 - box_loss: 0.0078 - reg_l2_loss: 0.0792 - loss: 0.7769 - learning_rate: 0.0074 - gradient_norm: 3.4438"
          ]
        },
        {
          "name": "stderr",
          "output_type": "stream",
          "text": [
            "2023-09-05 09:05:16.008350: W tensorflow/core/framework/dataset.cc:768] Input of GeneratorDatasetOp::Dataset will not be optimized because the dataset does not implement the AsGraphDefInternal() method needed to apply optimizations.\n"
          ]
        },
        {
          "name": "stdout",
          "output_type": "stream",
          "text": [
            "15/15 [==============================] - 68s 5s/step - det_loss: 0.7193 - cls_loss: 0.3125 - box_loss: 0.0081 - reg_l2_loss: 0.0792 - loss: 0.7986 - learning_rate: 0.0074 - gradient_norm: 3.4915 - val_det_loss: 0.9496 - val_cls_loss: 0.3353 - val_box_loss: 0.0123 - val_reg_l2_loss: 0.0792 - val_loss: 1.0289\n",
            "Epoch 45/100\n",
            "15/15 [==============================] - ETA: 0s - det_loss: 0.5525 - cls_loss: 0.2564 - box_loss: 0.0059 - reg_l2_loss: 0.0792 - loss: 0.6317 - learning_rate: 0.0072 - gradient_norm: 3.2130"
          ]
        },
        {
          "name": "stderr",
          "output_type": "stream",
          "text": [
            "2023-09-05 09:06:24.000217: W tensorflow/core/framework/dataset.cc:768] Input of GeneratorDatasetOp::Dataset will not be optimized because the dataset does not implement the AsGraphDefInternal() method needed to apply optimizations.\n"
          ]
        },
        {
          "name": "stdout",
          "output_type": "stream",
          "text": [
            "15/15 [==============================] - 74s 5s/step - det_loss: 0.5473 - cls_loss: 0.2566 - box_loss: 0.0058 - reg_l2_loss: 0.0792 - loss: 0.6265 - learning_rate: 0.0072 - gradient_norm: 3.2237 - val_det_loss: 0.8950 - val_cls_loss: 0.4216 - val_box_loss: 0.0095 - val_reg_l2_loss: 0.0792 - val_loss: 0.9743\n",
            "Epoch 46/100\n",
            "15/15 [==============================] - ETA: 0s - det_loss: 0.7017 - cls_loss: 0.2876 - box_loss: 0.0083 - reg_l2_loss: 0.0792 - loss: 0.7809 - learning_rate: 0.0070 - gradient_norm: 4.1946"
          ]
        },
        {
          "name": "stderr",
          "output_type": "stream",
          "text": [
            "2023-09-05 09:07:37.331739: W tensorflow/core/framework/dataset.cc:768] Input of GeneratorDatasetOp::Dataset will not be optimized because the dataset does not implement the AsGraphDefInternal() method needed to apply optimizations.\n"
          ]
        },
        {
          "name": "stdout",
          "output_type": "stream",
          "text": [
            "15/15 [==============================] - 68s 5s/step - det_loss: 0.7111 - cls_loss: 0.2946 - box_loss: 0.0083 - reg_l2_loss: 0.0792 - loss: 0.7903 - learning_rate: 0.0070 - gradient_norm: 4.1372 - val_det_loss: 0.9684 - val_cls_loss: 0.3493 - val_box_loss: 0.0124 - val_reg_l2_loss: 0.0792 - val_loss: 1.0476\n",
            "Epoch 47/100\n",
            "15/15 [==============================] - ETA: 0s - det_loss: 0.7572 - cls_loss: 0.3249 - box_loss: 0.0086 - reg_l2_loss: 0.0792 - loss: 0.8365 - learning_rate: 0.0069 - gradient_norm: 3.7143"
          ]
        },
        {
          "name": "stderr",
          "output_type": "stream",
          "text": [
            "2023-09-05 09:08:44.963923: W tensorflow/core/framework/dataset.cc:768] Input of GeneratorDatasetOp::Dataset will not be optimized because the dataset does not implement the AsGraphDefInternal() method needed to apply optimizations.\n"
          ]
        },
        {
          "name": "stdout",
          "output_type": "stream",
          "text": [
            "15/15 [==============================] - 68s 5s/step - det_loss: 0.7438 - cls_loss: 0.3190 - box_loss: 0.0085 - reg_l2_loss: 0.0792 - loss: 0.8231 - learning_rate: 0.0068 - gradient_norm: 3.6207 - val_det_loss: 1.1164 - val_cls_loss: 0.3520 - val_box_loss: 0.0153 - val_reg_l2_loss: 0.0793 - val_loss: 1.1957\n",
            "Epoch 48/100\n",
            "15/15 [==============================] - ETA: 0s - det_loss: 0.6514 - cls_loss: 0.2801 - box_loss: 0.0074 - reg_l2_loss: 0.0793 - loss: 0.7306 - learning_rate: 0.0067 - gradient_norm: 3.4708"
          ]
        },
        {
          "name": "stderr",
          "output_type": "stream",
          "text": [
            "2023-09-05 09:09:53.027932: W tensorflow/core/framework/dataset.cc:768] Input of GeneratorDatasetOp::Dataset will not be optimized because the dataset does not implement the AsGraphDefInternal() method needed to apply optimizations.\n"
          ]
        },
        {
          "name": "stdout",
          "output_type": "stream",
          "text": [
            "15/15 [==============================] - 68s 5s/step - det_loss: 0.6614 - cls_loss: 0.2827 - box_loss: 0.0076 - reg_l2_loss: 0.0793 - loss: 0.7406 - learning_rate: 0.0066 - gradient_norm: 3.4927 - val_det_loss: 1.0203 - val_cls_loss: 0.3814 - val_box_loss: 0.0128 - val_reg_l2_loss: 0.0793 - val_loss: 1.0995\n",
            "Epoch 49/100\n",
            "15/15 [==============================] - ETA: 0s - det_loss: 0.6298 - cls_loss: 0.2731 - box_loss: 0.0071 - reg_l2_loss: 0.0793 - loss: 0.7091 - learning_rate: 0.0065 - gradient_norm: 3.0555"
          ]
        },
        {
          "name": "stderr",
          "output_type": "stream",
          "text": [
            "2023-09-05 09:11:01.505499: W tensorflow/core/framework/dataset.cc:768] Input of GeneratorDatasetOp::Dataset will not be optimized because the dataset does not implement the AsGraphDefInternal() method needed to apply optimizations.\n"
          ]
        },
        {
          "name": "stdout",
          "output_type": "stream",
          "text": [
            "15/15 [==============================] - 68s 5s/step - det_loss: 0.6259 - cls_loss: 0.2737 - box_loss: 0.0070 - reg_l2_loss: 0.0793 - loss: 0.7052 - learning_rate: 0.0064 - gradient_norm: 3.0365 - val_det_loss: 1.0765 - val_cls_loss: 0.4793 - val_box_loss: 0.0119 - val_reg_l2_loss: 0.0793 - val_loss: 1.1557\n",
            "Epoch 50/100\n",
            "15/15 [==============================] - ETA: 0s - det_loss: 0.6284 - cls_loss: 0.2715 - box_loss: 0.0071 - reg_l2_loss: 0.0793 - loss: 0.7077 - learning_rate: 0.0063 - gradient_norm: 3.5504"
          ]
        },
        {
          "name": "stderr",
          "output_type": "stream",
          "text": [
            "2023-09-05 09:12:09.047525: W tensorflow/core/framework/dataset.cc:768] Input of GeneratorDatasetOp::Dataset will not be optimized because the dataset does not implement the AsGraphDefInternal() method needed to apply optimizations.\n"
          ]
        },
        {
          "name": "stdout",
          "output_type": "stream",
          "text": [
            "15/15 [==============================] - 73s 5s/step - det_loss: 0.6234 - cls_loss: 0.2682 - box_loss: 0.0071 - reg_l2_loss: 0.0793 - loss: 0.7027 - learning_rate: 0.0063 - gradient_norm: 3.4600 - val_det_loss: 1.0187 - val_cls_loss: 0.4148 - val_box_loss: 0.0121 - val_reg_l2_loss: 0.0793 - val_loss: 1.0979\n",
            "Epoch 51/100\n",
            "15/15 [==============================] - ETA: 0s - det_loss: 0.6193 - cls_loss: 0.2593 - box_loss: 0.0072 - reg_l2_loss: 0.0793 - loss: 0.6986 - learning_rate: 0.0061 - gradient_norm: 3.2320"
          ]
        },
        {
          "name": "stderr",
          "output_type": "stream",
          "text": [
            "2023-09-05 09:13:22.035573: W tensorflow/core/framework/dataset.cc:768] Input of GeneratorDatasetOp::Dataset will not be optimized because the dataset does not implement the AsGraphDefInternal() method needed to apply optimizations.\n"
          ]
        },
        {
          "name": "stdout",
          "output_type": "stream",
          "text": [
            "15/15 [==============================] - 67s 5s/step - det_loss: 0.6115 - cls_loss: 0.2579 - box_loss: 0.0071 - reg_l2_loss: 0.0793 - loss: 0.6908 - learning_rate: 0.0061 - gradient_norm: 3.1835 - val_det_loss: 0.8847 - val_cls_loss: 0.3702 - val_box_loss: 0.0103 - val_reg_l2_loss: 0.0793 - val_loss: 0.9640\n",
            "Epoch 52/100\n",
            "15/15 [==============================] - ETA: 0s - det_loss: 0.5958 - cls_loss: 0.2592 - box_loss: 0.0067 - reg_l2_loss: 0.0793 - loss: 0.6750 - learning_rate: 0.0059 - gradient_norm: 3.0072"
          ]
        },
        {
          "name": "stderr",
          "output_type": "stream",
          "text": [
            "2023-09-05 09:14:29.631717: W tensorflow/core/framework/dataset.cc:768] Input of GeneratorDatasetOp::Dataset will not be optimized because the dataset does not implement the AsGraphDefInternal() method needed to apply optimizations.\n"
          ]
        },
        {
          "name": "stdout",
          "output_type": "stream",
          "text": [
            "15/15 [==============================] - 68s 5s/step - det_loss: 0.5853 - cls_loss: 0.2564 - box_loss: 0.0066 - reg_l2_loss: 0.0793 - loss: 0.6645 - learning_rate: 0.0059 - gradient_norm: 2.9865 - val_det_loss: 0.9519 - val_cls_loss: 0.4581 - val_box_loss: 0.0099 - val_reg_l2_loss: 0.0793 - val_loss: 1.0312\n",
            "Epoch 53/100\n",
            "15/15 [==============================] - ETA: 0s - det_loss: 0.6395 - cls_loss: 0.2703 - box_loss: 0.0074 - reg_l2_loss: 0.0793 - loss: 0.7188 - learning_rate: 0.0057 - gradient_norm: 3.2061"
          ]
        },
        {
          "name": "stderr",
          "output_type": "stream",
          "text": [
            "2023-09-05 09:15:37.096458: W tensorflow/core/framework/dataset.cc:768] Input of GeneratorDatasetOp::Dataset will not be optimized because the dataset does not implement the AsGraphDefInternal() method needed to apply optimizations.\n"
          ]
        },
        {
          "name": "stdout",
          "output_type": "stream",
          "text": [
            "15/15 [==============================] - 68s 5s/step - det_loss: 0.6359 - cls_loss: 0.2690 - box_loss: 0.0073 - reg_l2_loss: 0.0793 - loss: 0.7152 - learning_rate: 0.0057 - gradient_norm: 3.1581 - val_det_loss: 0.7697 - val_cls_loss: 0.3366 - val_box_loss: 0.0087 - val_reg_l2_loss: 0.0793 - val_loss: 0.8490\n",
            "Epoch 54/100\n",
            "15/15 [==============================] - ETA: 0s - det_loss: 0.5829 - cls_loss: 0.2640 - box_loss: 0.0064 - reg_l2_loss: 0.0793 - loss: 0.6622 - learning_rate: 0.0055 - gradient_norm: 3.2914"
          ]
        },
        {
          "name": "stderr",
          "output_type": "stream",
          "text": [
            "2023-09-05 09:16:44.257548: W tensorflow/core/framework/dataset.cc:768] Input of GeneratorDatasetOp::Dataset will not be optimized because the dataset does not implement the AsGraphDefInternal() method needed to apply optimizations.\n"
          ]
        },
        {
          "name": "stdout",
          "output_type": "stream",
          "text": [
            "15/15 [==============================] - 68s 5s/step - det_loss: 0.5718 - cls_loss: 0.2617 - box_loss: 0.0062 - reg_l2_loss: 0.0793 - loss: 0.6511 - learning_rate: 0.0055 - gradient_norm: 3.2100 - val_det_loss: 1.0865 - val_cls_loss: 0.4358 - val_box_loss: 0.0130 - val_reg_l2_loss: 0.0793 - val_loss: 1.1658\n",
            "Epoch 55/100\n",
            "15/15 [==============================] - ETA: 0s - det_loss: 0.5853 - cls_loss: 0.2649 - box_loss: 0.0064 - reg_l2_loss: 0.0793 - loss: 0.6646 - learning_rate: 0.0053 - gradient_norm: 3.4408"
          ]
        },
        {
          "name": "stderr",
          "output_type": "stream",
          "text": [
            "2023-09-05 09:17:52.324324: W tensorflow/core/framework/dataset.cc:768] Input of GeneratorDatasetOp::Dataset will not be optimized because the dataset does not implement the AsGraphDefInternal() method needed to apply optimizations.\n"
          ]
        },
        {
          "name": "stdout",
          "output_type": "stream",
          "text": [
            "15/15 [==============================] - 73s 5s/step - det_loss: 0.5931 - cls_loss: 0.2646 - box_loss: 0.0066 - reg_l2_loss: 0.0793 - loss: 0.6724 - learning_rate: 0.0053 - gradient_norm: 3.4658 - val_det_loss: 0.9188 - val_cls_loss: 0.3626 - val_box_loss: 0.0111 - val_reg_l2_loss: 0.0793 - val_loss: 0.9981\n",
            "Epoch 56/100\n",
            "15/15 [==============================] - ETA: 0s - det_loss: 0.6927 - cls_loss: 0.2950 - box_loss: 0.0080 - reg_l2_loss: 0.0793 - loss: 0.7720 - learning_rate: 0.0051 - gradient_norm: 3.9775"
          ]
        },
        {
          "name": "stderr",
          "output_type": "stream",
          "text": [
            "2023-09-05 09:19:05.250605: W tensorflow/core/framework/dataset.cc:768] Input of GeneratorDatasetOp::Dataset will not be optimized because the dataset does not implement the AsGraphDefInternal() method needed to apply optimizations.\n"
          ]
        },
        {
          "name": "stdout",
          "output_type": "stream",
          "text": [
            "15/15 [==============================] - 68s 5s/step - det_loss: 0.6756 - cls_loss: 0.2905 - box_loss: 0.0077 - reg_l2_loss: 0.0793 - loss: 0.7549 - learning_rate: 0.0051 - gradient_norm: 3.8756 - val_det_loss: 0.9068 - val_cls_loss: 0.3510 - val_box_loss: 0.0111 - val_reg_l2_loss: 0.0793 - val_loss: 0.9861\n",
            "Epoch 57/100\n",
            "15/15 [==============================] - ETA: 0s - det_loss: 0.6144 - cls_loss: 0.2646 - box_loss: 0.0070 - reg_l2_loss: 0.0793 - loss: 0.6937 - learning_rate: 0.0049 - gradient_norm: 3.3824"
          ]
        },
        {
          "name": "stderr",
          "output_type": "stream",
          "text": [
            "2023-09-05 09:20:12.585478: W tensorflow/core/framework/dataset.cc:768] Input of GeneratorDatasetOp::Dataset will not be optimized because the dataset does not implement the AsGraphDefInternal() method needed to apply optimizations.\n"
          ]
        },
        {
          "name": "stdout",
          "output_type": "stream",
          "text": [
            "15/15 [==============================] - 67s 5s/step - det_loss: 0.6250 - cls_loss: 0.2648 - box_loss: 0.0072 - reg_l2_loss: 0.0793 - loss: 0.7043 - learning_rate: 0.0049 - gradient_norm: 3.3627 - val_det_loss: 0.9593 - val_cls_loss: 0.3953 - val_box_loss: 0.0113 - val_reg_l2_loss: 0.0793 - val_loss: 1.0386\n",
            "Epoch 58/100\n",
            "15/15 [==============================] - ETA: 0s - det_loss: 0.5490 - cls_loss: 0.2427 - box_loss: 0.0061 - reg_l2_loss: 0.0793 - loss: 0.6283 - learning_rate: 0.0047 - gradient_norm: 3.0480"
          ]
        },
        {
          "name": "stderr",
          "output_type": "stream",
          "text": [
            "2023-09-05 09:21:20.303036: W tensorflow/core/framework/dataset.cc:768] Input of GeneratorDatasetOp::Dataset will not be optimized because the dataset does not implement the AsGraphDefInternal() method needed to apply optimizations.\n"
          ]
        },
        {
          "name": "stdout",
          "output_type": "stream",
          "text": [
            "15/15 [==============================] - 68s 5s/step - det_loss: 0.5602 - cls_loss: 0.2447 - box_loss: 0.0063 - reg_l2_loss: 0.0793 - loss: 0.6396 - learning_rate: 0.0047 - gradient_norm: 3.2204 - val_det_loss: 0.9146 - val_cls_loss: 0.4092 - val_box_loss: 0.0101 - val_reg_l2_loss: 0.0793 - val_loss: 0.9939\n",
            "Epoch 59/100\n",
            "15/15 [==============================] - ETA: 0s - det_loss: 0.5411 - cls_loss: 0.2521 - box_loss: 0.0058 - reg_l2_loss: 0.0793 - loss: 0.6204 - learning_rate: 0.0045 - gradient_norm: 2.9988"
          ]
        },
        {
          "name": "stderr",
          "output_type": "stream",
          "text": [
            "2023-09-05 09:22:28.404439: W tensorflow/core/framework/dataset.cc:768] Input of GeneratorDatasetOp::Dataset will not be optimized because the dataset does not implement the AsGraphDefInternal() method needed to apply optimizations.\n"
          ]
        },
        {
          "name": "stdout",
          "output_type": "stream",
          "text": [
            "15/15 [==============================] - 68s 5s/step - det_loss: 0.5466 - cls_loss: 0.2537 - box_loss: 0.0059 - reg_l2_loss: 0.0793 - loss: 0.6259 - learning_rate: 0.0045 - gradient_norm: 3.0150 - val_det_loss: 0.7691 - val_cls_loss: 0.3171 - val_box_loss: 0.0090 - val_reg_l2_loss: 0.0793 - val_loss: 0.8484\n",
            "Epoch 60/100\n",
            "15/15 [==============================] - ETA: 0s - det_loss: 0.5108 - cls_loss: 0.2250 - box_loss: 0.0057 - reg_l2_loss: 0.0793 - loss: 0.5901 - learning_rate: 0.0043 - gradient_norm: 2.8965"
          ]
        },
        {
          "name": "stderr",
          "output_type": "stream",
          "text": [
            "2023-09-05 09:23:36.777719: W tensorflow/core/framework/dataset.cc:768] Input of GeneratorDatasetOp::Dataset will not be optimized because the dataset does not implement the AsGraphDefInternal() method needed to apply optimizations.\n"
          ]
        },
        {
          "name": "stdout",
          "output_type": "stream",
          "text": [
            "15/15 [==============================] - 74s 5s/step - det_loss: 0.5158 - cls_loss: 0.2253 - box_loss: 0.0058 - reg_l2_loss: 0.0793 - loss: 0.5951 - learning_rate: 0.0043 - gradient_norm: 2.9273 - val_det_loss: 0.8266 - val_cls_loss: 0.3499 - val_box_loss: 0.0095 - val_reg_l2_loss: 0.0793 - val_loss: 0.9060\n",
            "Epoch 61/100\n",
            "15/15 [==============================] - ETA: 0s - det_loss: 0.6017 - cls_loss: 0.2594 - box_loss: 0.0068 - reg_l2_loss: 0.0793 - loss: 0.6810 - learning_rate: 0.0041 - gradient_norm: 3.1141"
          ]
        },
        {
          "name": "stderr",
          "output_type": "stream",
          "text": [
            "2023-09-05 09:24:50.599376: W tensorflow/core/framework/dataset.cc:768] Input of GeneratorDatasetOp::Dataset will not be optimized because the dataset does not implement the AsGraphDefInternal() method needed to apply optimizations.\n"
          ]
        },
        {
          "name": "stdout",
          "output_type": "stream",
          "text": [
            "15/15 [==============================] - 69s 5s/step - det_loss: 0.5895 - cls_loss: 0.2560 - box_loss: 0.0067 - reg_l2_loss: 0.0793 - loss: 0.6688 - learning_rate: 0.0041 - gradient_norm: 3.0932 - val_det_loss: 0.7283 - val_cls_loss: 0.3445 - val_box_loss: 0.0077 - val_reg_l2_loss: 0.0793 - val_loss: 0.8076\n",
            "Epoch 62/100\n",
            "15/15 [==============================] - ETA: 0s - det_loss: 0.4602 - cls_loss: 0.2301 - box_loss: 0.0046 - reg_l2_loss: 0.0793 - loss: 0.5396 - learning_rate: 0.0039 - gradient_norm: 2.5633"
          ]
        },
        {
          "name": "stderr",
          "output_type": "stream",
          "text": [
            "2023-09-05 09:25:59.795383: W tensorflow/core/framework/dataset.cc:768] Input of GeneratorDatasetOp::Dataset will not be optimized because the dataset does not implement the AsGraphDefInternal() method needed to apply optimizations.\n"
          ]
        },
        {
          "name": "stdout",
          "output_type": "stream",
          "text": [
            "15/15 [==============================] - 69s 5s/step - det_loss: 0.4545 - cls_loss: 0.2290 - box_loss: 0.0045 - reg_l2_loss: 0.0793 - loss: 0.5338 - learning_rate: 0.0039 - gradient_norm: 2.5416 - val_det_loss: 0.6414 - val_cls_loss: 0.2914 - val_box_loss: 0.0070 - val_reg_l2_loss: 0.0793 - val_loss: 0.7207\n",
            "Epoch 63/100\n",
            "15/15 [==============================] - ETA: 0s - det_loss: 0.5642 - cls_loss: 0.2458 - box_loss: 0.0064 - reg_l2_loss: 0.0793 - loss: 0.6435 - learning_rate: 0.0038 - gradient_norm: 3.0493"
          ]
        },
        {
          "name": "stderr",
          "output_type": "stream",
          "text": [
            "2023-09-05 09:27:08.206515: W tensorflow/core/framework/dataset.cc:768] Input of GeneratorDatasetOp::Dataset will not be optimized because the dataset does not implement the AsGraphDefInternal() method needed to apply optimizations.\n"
          ]
        },
        {
          "name": "stdout",
          "output_type": "stream",
          "text": [
            "15/15 [==============================] - 68s 5s/step - det_loss: 0.5643 - cls_loss: 0.2490 - box_loss: 0.0063 - reg_l2_loss: 0.0793 - loss: 0.6437 - learning_rate: 0.0037 - gradient_norm: 3.1401 - val_det_loss: 0.6660 - val_cls_loss: 0.2786 - val_box_loss: 0.0077 - val_reg_l2_loss: 0.0793 - val_loss: 0.7453\n",
            "Epoch 64/100\n",
            "15/15 [==============================] - ETA: 0s - det_loss: 0.4809 - cls_loss: 0.2167 - box_loss: 0.0053 - reg_l2_loss: 0.0793 - loss: 0.5602 - learning_rate: 0.0036 - gradient_norm: 2.8911"
          ]
        },
        {
          "name": "stderr",
          "output_type": "stream",
          "text": [
            "2023-09-05 09:28:15.686351: W tensorflow/core/framework/dataset.cc:768] Input of GeneratorDatasetOp::Dataset will not be optimized because the dataset does not implement the AsGraphDefInternal() method needed to apply optimizations.\n"
          ]
        },
        {
          "name": "stdout",
          "output_type": "stream",
          "text": [
            "15/15 [==============================] - 67s 5s/step - det_loss: 0.4767 - cls_loss: 0.2144 - box_loss: 0.0052 - reg_l2_loss: 0.0793 - loss: 0.5560 - learning_rate: 0.0036 - gradient_norm: 2.8619 - val_det_loss: 0.7004 - val_cls_loss: 0.2998 - val_box_loss: 0.0080 - val_reg_l2_loss: 0.0793 - val_loss: 0.7797\n",
            "Epoch 65/100\n",
            "15/15 [==============================] - ETA: 0s - det_loss: 0.5024 - cls_loss: 0.2324 - box_loss: 0.0054 - reg_l2_loss: 0.0793 - loss: 0.5817 - learning_rate: 0.0034 - gradient_norm: 2.8097"
          ]
        },
        {
          "name": "stderr",
          "output_type": "stream",
          "text": [
            "2023-09-05 09:29:23.606522: W tensorflow/core/framework/dataset.cc:768] Input of GeneratorDatasetOp::Dataset will not be optimized because the dataset does not implement the AsGraphDefInternal() method needed to apply optimizations.\n"
          ]
        },
        {
          "name": "stdout",
          "output_type": "stream",
          "text": [
            "15/15 [==============================] - 74s 5s/step - det_loss: 0.4927 - cls_loss: 0.2307 - box_loss: 0.0052 - reg_l2_loss: 0.0793 - loss: 0.5720 - learning_rate: 0.0034 - gradient_norm: 2.7542 - val_det_loss: 0.6171 - val_cls_loss: 0.2625 - val_box_loss: 0.0071 - val_reg_l2_loss: 0.0793 - val_loss: 0.6964\n",
            "Epoch 66/100\n",
            "15/15 [==============================] - ETA: 0s - det_loss: 0.5136 - cls_loss: 0.2241 - box_loss: 0.0058 - reg_l2_loss: 0.0793 - loss: 0.5930 - learning_rate: 0.0032 - gradient_norm: 2.8284"
          ]
        },
        {
          "name": "stderr",
          "output_type": "stream",
          "text": [
            "2023-09-05 09:30:37.068805: W tensorflow/core/framework/dataset.cc:768] Input of GeneratorDatasetOp::Dataset will not be optimized because the dataset does not implement the AsGraphDefInternal() method needed to apply optimizations.\n"
          ]
        },
        {
          "name": "stdout",
          "output_type": "stream",
          "text": [
            "15/15 [==============================] - 68s 5s/step - det_loss: 0.5099 - cls_loss: 0.2239 - box_loss: 0.0057 - reg_l2_loss: 0.0793 - loss: 0.5892 - learning_rate: 0.0032 - gradient_norm: 2.8575 - val_det_loss: 0.5745 - val_cls_loss: 0.2537 - val_box_loss: 0.0064 - val_reg_l2_loss: 0.0793 - val_loss: 0.6538\n",
            "Epoch 67/100\n",
            "15/15 [==============================] - ETA: 0s - det_loss: 0.5270 - cls_loss: 0.2487 - box_loss: 0.0056 - reg_l2_loss: 0.0793 - loss: 0.6063 - learning_rate: 0.0030 - gradient_norm: 3.2673"
          ]
        },
        {
          "name": "stderr",
          "output_type": "stream",
          "text": [
            "2023-09-05 09:31:44.622765: W tensorflow/core/framework/dataset.cc:768] Input of GeneratorDatasetOp::Dataset will not be optimized because the dataset does not implement the AsGraphDefInternal() method needed to apply optimizations.\n"
          ]
        },
        {
          "name": "stdout",
          "output_type": "stream",
          "text": [
            "15/15 [==============================] - 68s 5s/step - det_loss: 0.5220 - cls_loss: 0.2470 - box_loss: 0.0055 - reg_l2_loss: 0.0793 - loss: 0.6013 - learning_rate: 0.0030 - gradient_norm: 3.1862 - val_det_loss: 0.5959 - val_cls_loss: 0.2766 - val_box_loss: 0.0064 - val_reg_l2_loss: 0.0793 - val_loss: 0.6753\n",
            "Epoch 68/100\n",
            "15/15 [==============================] - ETA: 0s - det_loss: 0.4828 - cls_loss: 0.2237 - box_loss: 0.0052 - reg_l2_loss: 0.0793 - loss: 0.5622 - learning_rate: 0.0029 - gradient_norm: 2.6690"
          ]
        },
        {
          "name": "stderr",
          "output_type": "stream",
          "text": [
            "2023-09-05 09:32:52.073385: W tensorflow/core/framework/dataset.cc:768] Input of GeneratorDatasetOp::Dataset will not be optimized because the dataset does not implement the AsGraphDefInternal() method needed to apply optimizations.\n"
          ]
        },
        {
          "name": "stdout",
          "output_type": "stream",
          "text": [
            "15/15 [==============================] - 67s 5s/step - det_loss: 0.4862 - cls_loss: 0.2248 - box_loss: 0.0052 - reg_l2_loss: 0.0793 - loss: 0.5655 - learning_rate: 0.0029 - gradient_norm: 2.6495 - val_det_loss: 0.5894 - val_cls_loss: 0.2512 - val_box_loss: 0.0068 - val_reg_l2_loss: 0.0793 - val_loss: 0.6687\n",
            "Epoch 69/100\n",
            "15/15 [==============================] - ETA: 0s - det_loss: 0.4967 - cls_loss: 0.2249 - box_loss: 0.0054 - reg_l2_loss: 0.0793 - loss: 0.5760 - learning_rate: 0.0027 - gradient_norm: 2.9101"
          ]
        },
        {
          "name": "stderr",
          "output_type": "stream",
          "text": [
            "2023-09-05 09:33:59.430422: W tensorflow/core/framework/dataset.cc:768] Input of GeneratorDatasetOp::Dataset will not be optimized because the dataset does not implement the AsGraphDefInternal() method needed to apply optimizations.\n"
          ]
        },
        {
          "name": "stdout",
          "output_type": "stream",
          "text": [
            "15/15 [==============================] - 68s 5s/step - det_loss: 0.4900 - cls_loss: 0.2210 - box_loss: 0.0054 - reg_l2_loss: 0.0793 - loss: 0.5693 - learning_rate: 0.0027 - gradient_norm: 2.8457 - val_det_loss: 0.6102 - val_cls_loss: 0.2761 - val_box_loss: 0.0067 - val_reg_l2_loss: 0.0793 - val_loss: 0.6895\n",
            "Epoch 70/100\n",
            "15/15 [==============================] - ETA: 0s - det_loss: 0.4283 - cls_loss: 0.2131 - box_loss: 0.0043 - reg_l2_loss: 0.0793 - loss: 0.5076 - learning_rate: 0.0025 - gradient_norm: 2.5726"
          ]
        },
        {
          "name": "stderr",
          "output_type": "stream",
          "text": [
            "2023-09-05 09:35:07.335523: W tensorflow/core/framework/dataset.cc:768] Input of GeneratorDatasetOp::Dataset will not be optimized because the dataset does not implement the AsGraphDefInternal() method needed to apply optimizations.\n"
          ]
        },
        {
          "name": "stdout",
          "output_type": "stream",
          "text": [
            "15/15 [==============================] - 72s 5s/step - det_loss: 0.4211 - cls_loss: 0.2114 - box_loss: 0.0042 - reg_l2_loss: 0.0793 - loss: 0.5004 - learning_rate: 0.0025 - gradient_norm: 2.5713 - val_det_loss: 0.5805 - val_cls_loss: 0.2505 - val_box_loss: 0.0066 - val_reg_l2_loss: 0.0793 - val_loss: 0.6598\n",
            "Epoch 71/100\n",
            "15/15 [==============================] - ETA: 0s - det_loss: 0.5069 - cls_loss: 0.2473 - box_loss: 0.0052 - reg_l2_loss: 0.0793 - loss: 0.5862 - learning_rate: 0.0024 - gradient_norm: 2.9533"
          ]
        },
        {
          "name": "stderr",
          "output_type": "stream",
          "text": [
            "2023-09-05 09:36:19.967516: W tensorflow/core/framework/dataset.cc:768] Input of GeneratorDatasetOp::Dataset will not be optimized because the dataset does not implement the AsGraphDefInternal() method needed to apply optimizations.\n"
          ]
        },
        {
          "name": "stdout",
          "output_type": "stream",
          "text": [
            "15/15 [==============================] - 68s 5s/step - det_loss: 0.5090 - cls_loss: 0.2473 - box_loss: 0.0052 - reg_l2_loss: 0.0793 - loss: 0.5884 - learning_rate: 0.0024 - gradient_norm: 2.9580 - val_det_loss: 0.5467 - val_cls_loss: 0.2402 - val_box_loss: 0.0061 - val_reg_l2_loss: 0.0793 - val_loss: 0.6261\n",
            "Epoch 72/100\n",
            "15/15 [==============================] - ETA: 0s - det_loss: 0.4888 - cls_loss: 0.2334 - box_loss: 0.0051 - reg_l2_loss: 0.0793 - loss: 0.5681 - learning_rate: 0.0022 - gradient_norm: 3.1475"
          ]
        },
        {
          "name": "stderr",
          "output_type": "stream",
          "text": [
            "2023-09-05 09:37:27.324537: W tensorflow/core/framework/dataset.cc:768] Input of GeneratorDatasetOp::Dataset will not be optimized because the dataset does not implement the AsGraphDefInternal() method needed to apply optimizations.\n"
          ]
        },
        {
          "name": "stdout",
          "output_type": "stream",
          "text": [
            "15/15 [==============================] - 68s 5s/step - det_loss: 0.4827 - cls_loss: 0.2308 - box_loss: 0.0050 - reg_l2_loss: 0.0793 - loss: 0.5620 - learning_rate: 0.0022 - gradient_norm: 3.0851 - val_det_loss: 0.5361 - val_cls_loss: 0.2294 - val_box_loss: 0.0061 - val_reg_l2_loss: 0.0793 - val_loss: 0.6154\n",
            "Epoch 73/100\n",
            "15/15 [==============================] - ETA: 0s - det_loss: 0.5388 - cls_loss: 0.2376 - box_loss: 0.0060 - reg_l2_loss: 0.0793 - loss: 0.6182 - learning_rate: 0.0021 - gradient_norm: 3.2099"
          ]
        },
        {
          "name": "stderr",
          "output_type": "stream",
          "text": [
            "2023-09-05 09:38:35.776746: W tensorflow/core/framework/dataset.cc:768] Input of GeneratorDatasetOp::Dataset will not be optimized because the dataset does not implement the AsGraphDefInternal() method needed to apply optimizations.\n"
          ]
        },
        {
          "name": "stdout",
          "output_type": "stream",
          "text": [
            "15/15 [==============================] - 68s 5s/step - det_loss: 0.5359 - cls_loss: 0.2361 - box_loss: 0.0060 - reg_l2_loss: 0.0793 - loss: 0.6152 - learning_rate: 0.0021 - gradient_norm: 3.2050 - val_det_loss: 0.5262 - val_cls_loss: 0.2368 - val_box_loss: 0.0058 - val_reg_l2_loss: 0.0793 - val_loss: 0.6055\n",
            "Epoch 74/100\n",
            "15/15 [==============================] - ETA: 0s - det_loss: 0.5701 - cls_loss: 0.2579 - box_loss: 0.0062 - reg_l2_loss: 0.0793 - loss: 0.6495 - learning_rate: 0.0019 - gradient_norm: 3.0633"
          ]
        },
        {
          "name": "stderr",
          "output_type": "stream",
          "text": [
            "2023-09-05 09:39:43.880949: W tensorflow/core/framework/dataset.cc:768] Input of GeneratorDatasetOp::Dataset will not be optimized because the dataset does not implement the AsGraphDefInternal() method needed to apply optimizations.\n"
          ]
        },
        {
          "name": "stdout",
          "output_type": "stream",
          "text": [
            "15/15 [==============================] - 67s 5s/step - det_loss: 0.5663 - cls_loss: 0.2553 - box_loss: 0.0062 - reg_l2_loss: 0.0793 - loss: 0.6456 - learning_rate: 0.0019 - gradient_norm: 3.0448 - val_det_loss: 0.5550 - val_cls_loss: 0.2517 - val_box_loss: 0.0061 - val_reg_l2_loss: 0.0793 - val_loss: 0.6343\n",
            "Epoch 75/100\n",
            "15/15 [==============================] - ETA: 0s - det_loss: 0.5055 - cls_loss: 0.2370 - box_loss: 0.0054 - reg_l2_loss: 0.0793 - loss: 0.5849 - learning_rate: 0.0018 - gradient_norm: 3.0653"
          ]
        },
        {
          "name": "stderr",
          "output_type": "stream",
          "text": [
            "2023-09-05 09:40:51.529455: W tensorflow/core/framework/dataset.cc:768] Input of GeneratorDatasetOp::Dataset will not be optimized because the dataset does not implement the AsGraphDefInternal() method needed to apply optimizations.\n"
          ]
        },
        {
          "name": "stdout",
          "output_type": "stream",
          "text": [
            "15/15 [==============================] - 73s 5s/step - det_loss: 0.5009 - cls_loss: 0.2350 - box_loss: 0.0053 - reg_l2_loss: 0.0793 - loss: 0.5802 - learning_rate: 0.0018 - gradient_norm: 2.9648 - val_det_loss: 0.5585 - val_cls_loss: 0.2548 - val_box_loss: 0.0061 - val_reg_l2_loss: 0.0793 - val_loss: 0.6378\n",
            "Epoch 76/100\n",
            "15/15 [==============================] - ETA: 0s - det_loss: 0.4546 - cls_loss: 0.2106 - box_loss: 0.0049 - reg_l2_loss: 0.0793 - loss: 0.5339 - learning_rate: 0.0017 - gradient_norm: 2.6683"
          ]
        },
        {
          "name": "stderr",
          "output_type": "stream",
          "text": [
            "2023-09-05 09:42:04.710863: W tensorflow/core/framework/dataset.cc:768] Input of GeneratorDatasetOp::Dataset will not be optimized because the dataset does not implement the AsGraphDefInternal() method needed to apply optimizations.\n"
          ]
        },
        {
          "name": "stdout",
          "output_type": "stream",
          "text": [
            "15/15 [==============================] - 69s 5s/step - det_loss: 0.4501 - cls_loss: 0.2095 - box_loss: 0.0048 - reg_l2_loss: 0.0793 - loss: 0.5294 - learning_rate: 0.0017 - gradient_norm: 2.6365 - val_det_loss: 0.5470 - val_cls_loss: 0.2506 - val_box_loss: 0.0059 - val_reg_l2_loss: 0.0793 - val_loss: 0.6263\n",
            "Epoch 77/100\n",
            "15/15 [==============================] - ETA: 0s - det_loss: 0.4845 - cls_loss: 0.2264 - box_loss: 0.0052 - reg_l2_loss: 0.0793 - loss: 0.5638 - learning_rate: 0.0015 - gradient_norm: 2.9969"
          ]
        },
        {
          "name": "stderr",
          "output_type": "stream",
          "text": [
            "2023-09-05 09:43:13.446566: W tensorflow/core/framework/dataset.cc:768] Input of GeneratorDatasetOp::Dataset will not be optimized because the dataset does not implement the AsGraphDefInternal() method needed to apply optimizations.\n"
          ]
        },
        {
          "name": "stdout",
          "output_type": "stream",
          "text": [
            "15/15 [==============================] - 68s 5s/step - det_loss: 0.4934 - cls_loss: 0.2297 - box_loss: 0.0053 - reg_l2_loss: 0.0793 - loss: 0.5727 - learning_rate: 0.0015 - gradient_norm: 3.0884 - val_det_loss: 0.5746 - val_cls_loss: 0.2559 - val_box_loss: 0.0064 - val_reg_l2_loss: 0.0793 - val_loss: 0.6539\n",
            "Epoch 78/100\n",
            "15/15 [==============================] - ETA: 0s - det_loss: 0.4969 - cls_loss: 0.2381 - box_loss: 0.0052 - reg_l2_loss: 0.0793 - loss: 0.5762 - learning_rate: 0.0014 - gradient_norm: 2.8579"
          ]
        },
        {
          "name": "stderr",
          "output_type": "stream",
          "text": [
            "2023-09-05 09:44:21.806830: W tensorflow/core/framework/dataset.cc:768] Input of GeneratorDatasetOp::Dataset will not be optimized because the dataset does not implement the AsGraphDefInternal() method needed to apply optimizations.\n"
          ]
        },
        {
          "name": "stdout",
          "output_type": "stream",
          "text": [
            "15/15 [==============================] - 68s 5s/step - det_loss: 0.4901 - cls_loss: 0.2351 - box_loss: 0.0051 - reg_l2_loss: 0.0793 - loss: 0.5694 - learning_rate: 0.0014 - gradient_norm: 2.8530 - val_det_loss: 0.5515 - val_cls_loss: 0.2533 - val_box_loss: 0.0060 - val_reg_l2_loss: 0.0793 - val_loss: 0.6308\n",
            "Epoch 79/100\n",
            "15/15 [==============================] - ETA: 0s - det_loss: 0.4023 - cls_loss: 0.2087 - box_loss: 0.0039 - reg_l2_loss: 0.0793 - loss: 0.4816 - learning_rate: 0.0013 - gradient_norm: 2.4859"
          ]
        },
        {
          "name": "stderr",
          "output_type": "stream",
          "text": [
            "2023-09-05 09:45:29.247507: W tensorflow/core/framework/dataset.cc:768] Input of GeneratorDatasetOp::Dataset will not be optimized because the dataset does not implement the AsGraphDefInternal() method needed to apply optimizations.\n"
          ]
        },
        {
          "name": "stdout",
          "output_type": "stream",
          "text": [
            "15/15 [==============================] - 68s 5s/step - det_loss: 0.4032 - cls_loss: 0.2083 - box_loss: 0.0039 - reg_l2_loss: 0.0793 - loss: 0.4825 - learning_rate: 0.0013 - gradient_norm: 2.4883 - val_det_loss: 0.5341 - val_cls_loss: 0.2499 - val_box_loss: 0.0057 - val_reg_l2_loss: 0.0793 - val_loss: 0.6134\n",
            "Epoch 80/100\n",
            "15/15 [==============================] - ETA: 0s - det_loss: 0.4754 - cls_loss: 0.2291 - box_loss: 0.0049 - reg_l2_loss: 0.0793 - loss: 0.5547 - learning_rate: 0.0012 - gradient_norm: 2.8354"
          ]
        },
        {
          "name": "stderr",
          "output_type": "stream",
          "text": [
            "2023-09-05 09:46:37.287277: W tensorflow/core/framework/dataset.cc:768] Input of GeneratorDatasetOp::Dataset will not be optimized because the dataset does not implement the AsGraphDefInternal() method needed to apply optimizations.\n"
          ]
        },
        {
          "name": "stdout",
          "output_type": "stream",
          "text": [
            "15/15 [==============================] - 73s 5s/step - det_loss: 0.4691 - cls_loss: 0.2257 - box_loss: 0.0049 - reg_l2_loss: 0.0793 - loss: 0.5484 - learning_rate: 0.0012 - gradient_norm: 2.7986 - val_det_loss: 0.5136 - val_cls_loss: 0.2465 - val_box_loss: 0.0053 - val_reg_l2_loss: 0.0793 - val_loss: 0.5929\n",
            "Epoch 81/100\n",
            "15/15 [==============================] - ETA: 0s - det_loss: 0.4661 - cls_loss: 0.2173 - box_loss: 0.0050 - reg_l2_loss: 0.0793 - loss: 0.5454 - learning_rate: 0.0011 - gradient_norm: 2.9034"
          ]
        },
        {
          "name": "stderr",
          "output_type": "stream",
          "text": [
            "2023-09-05 09:47:50.295923: W tensorflow/core/framework/dataset.cc:768] Input of GeneratorDatasetOp::Dataset will not be optimized because the dataset does not implement the AsGraphDefInternal() method needed to apply optimizations.\n"
          ]
        },
        {
          "name": "stdout",
          "output_type": "stream",
          "text": [
            "15/15 [==============================] - 67s 5s/step - det_loss: 0.4779 - cls_loss: 0.2232 - box_loss: 0.0051 - reg_l2_loss: 0.0793 - loss: 0.5572 - learning_rate: 0.0010 - gradient_norm: 2.9589 - val_det_loss: 0.5138 - val_cls_loss: 0.2469 - val_box_loss: 0.0053 - val_reg_l2_loss: 0.0793 - val_loss: 0.5931\n",
            "Epoch 82/100\n",
            "15/15 [==============================] - ETA: 0s - det_loss: 0.4458 - cls_loss: 0.2211 - box_loss: 0.0045 - reg_l2_loss: 0.0793 - loss: 0.5251 - learning_rate: 9.4293e-04 - gradient_norm: 2.8717"
          ]
        },
        {
          "name": "stderr",
          "output_type": "stream",
          "text": [
            "2023-09-05 09:48:57.479205: W tensorflow/core/framework/dataset.cc:768] Input of GeneratorDatasetOp::Dataset will not be optimized because the dataset does not implement the AsGraphDefInternal() method needed to apply optimizations.\n"
          ]
        },
        {
          "name": "stdout",
          "output_type": "stream",
          "text": [
            "15/15 [==============================] - 67s 5s/step - det_loss: 0.4394 - cls_loss: 0.2197 - box_loss: 0.0044 - reg_l2_loss: 0.0793 - loss: 0.5187 - learning_rate: 9.3989e-04 - gradient_norm: 2.8143 - val_det_loss: 0.5181 - val_cls_loss: 0.2487 - val_box_loss: 0.0054 - val_reg_l2_loss: 0.0793 - val_loss: 0.5975\n",
            "Epoch 83/100\n",
            "15/15 [==============================] - ETA: 0s - det_loss: 0.5254 - cls_loss: 0.2393 - box_loss: 0.0057 - reg_l2_loss: 0.0793 - loss: 0.6047 - learning_rate: 8.4088e-04 - gradient_norm: 2.9871"
          ]
        },
        {
          "name": "stderr",
          "output_type": "stream",
          "text": [
            "2023-09-05 09:50:05.212033: W tensorflow/core/framework/dataset.cc:768] Input of GeneratorDatasetOp::Dataset will not be optimized because the dataset does not implement the AsGraphDefInternal() method needed to apply optimizations.\n"
          ]
        },
        {
          "name": "stdout",
          "output_type": "stream",
          "text": [
            "15/15 [==============================] - 68s 5s/step - det_loss: 0.5289 - cls_loss: 0.2416 - box_loss: 0.0057 - reg_l2_loss: 0.0793 - loss: 0.6082 - learning_rate: 8.3800e-04 - gradient_norm: 3.0168 - val_det_loss: 0.4957 - val_cls_loss: 0.2360 - val_box_loss: 0.0052 - val_reg_l2_loss: 0.0793 - val_loss: 0.5750\n",
            "Epoch 84/100\n",
            "15/15 [==============================] - ETA: 0s - det_loss: 0.4444 - cls_loss: 0.2098 - box_loss: 0.0047 - reg_l2_loss: 0.0793 - loss: 0.5237 - learning_rate: 7.4427e-04 - gradient_norm: 2.7429"
          ]
        },
        {
          "name": "stderr",
          "output_type": "stream",
          "text": [
            "2023-09-05 09:51:13.563971: W tensorflow/core/framework/dataset.cc:768] Input of GeneratorDatasetOp::Dataset will not be optimized because the dataset does not implement the AsGraphDefInternal() method needed to apply optimizations.\n"
          ]
        },
        {
          "name": "stdout",
          "output_type": "stream",
          "text": [
            "15/15 [==============================] - 68s 5s/step - det_loss: 0.4410 - cls_loss: 0.2108 - box_loss: 0.0046 - reg_l2_loss: 0.0793 - loss: 0.5203 - learning_rate: 7.4156e-04 - gradient_norm: 2.7088 - val_det_loss: 0.4996 - val_cls_loss: 0.2341 - val_box_loss: 0.0053 - val_reg_l2_loss: 0.0793 - val_loss: 0.5789\n",
            "Epoch 85/100\n",
            "15/15 [==============================] - ETA: 0s - det_loss: 0.4275 - cls_loss: 0.2130 - box_loss: 0.0043 - reg_l2_loss: 0.0793 - loss: 0.5068 - learning_rate: 6.5321e-04 - gradient_norm: 2.5224"
          ]
        },
        {
          "name": "stderr",
          "output_type": "stream",
          "text": [
            "2023-09-05 09:52:22.287270: W tensorflow/core/framework/dataset.cc:768] Input of GeneratorDatasetOp::Dataset will not be optimized because the dataset does not implement the AsGraphDefInternal() method needed to apply optimizations.\n"
          ]
        },
        {
          "name": "stdout",
          "output_type": "stream",
          "text": [
            "15/15 [==============================] - 74s 5s/step - det_loss: 0.4272 - cls_loss: 0.2120 - box_loss: 0.0043 - reg_l2_loss: 0.0793 - loss: 0.5065 - learning_rate: 6.5066e-04 - gradient_norm: 2.5286 - val_det_loss: 0.5056 - val_cls_loss: 0.2307 - val_box_loss: 0.0055 - val_reg_l2_loss: 0.0793 - val_loss: 0.5849\n",
            "Epoch 86/100\n",
            "15/15 [==============================] - ETA: 0s - det_loss: 0.4490 - cls_loss: 0.2159 - box_loss: 0.0047 - reg_l2_loss: 0.0793 - loss: 0.5283 - learning_rate: 5.6779e-04 - gradient_norm: 2.7166"
          ]
        },
        {
          "name": "stderr",
          "output_type": "stream",
          "text": [
            "2023-09-05 09:53:35.504118: W tensorflow/core/framework/dataset.cc:768] Input of GeneratorDatasetOp::Dataset will not be optimized because the dataset does not implement the AsGraphDefInternal() method needed to apply optimizations.\n"
          ]
        },
        {
          "name": "stdout",
          "output_type": "stream",
          "text": [
            "15/15 [==============================] - 68s 5s/step - det_loss: 0.4531 - cls_loss: 0.2204 - box_loss: 0.0047 - reg_l2_loss: 0.0793 - loss: 0.5324 - learning_rate: 5.6540e-04 - gradient_norm: 2.7992 - val_det_loss: 0.5007 - val_cls_loss: 0.2275 - val_box_loss: 0.0055 - val_reg_l2_loss: 0.0793 - val_loss: 0.5800\n",
            "Epoch 87/100\n",
            "15/15 [==============================] - ETA: 0s - det_loss: 0.4190 - cls_loss: 0.2042 - box_loss: 0.0043 - reg_l2_loss: 0.0793 - loss: 0.4983 - learning_rate: 4.8808e-04 - gradient_norm: 2.5065"
          ]
        },
        {
          "name": "stderr",
          "output_type": "stream",
          "text": [
            "2023-09-05 09:54:43.583598: W tensorflow/core/framework/dataset.cc:768] Input of GeneratorDatasetOp::Dataset will not be optimized because the dataset does not implement the AsGraphDefInternal() method needed to apply optimizations.\n"
          ]
        },
        {
          "name": "stdout",
          "output_type": "stream",
          "text": [
            "15/15 [==============================] - 68s 5s/step - det_loss: 0.4239 - cls_loss: 0.2043 - box_loss: 0.0044 - reg_l2_loss: 0.0793 - loss: 0.5033 - learning_rate: 4.8587e-04 - gradient_norm: 2.5131 - val_det_loss: 0.4812 - val_cls_loss: 0.2239 - val_box_loss: 0.0051 - val_reg_l2_loss: 0.0793 - val_loss: 0.5605\n",
            "Epoch 88/100\n",
            "15/15 [==============================] - ETA: 0s - det_loss: 0.4445 - cls_loss: 0.2161 - box_loss: 0.0046 - reg_l2_loss: 0.0793 - loss: 0.5238 - learning_rate: 4.1418e-04 - gradient_norm: 2.6746"
          ]
        },
        {
          "name": "stderr",
          "output_type": "stream",
          "text": [
            "2023-09-05 09:55:51.614772: W tensorflow/core/framework/dataset.cc:768] Input of GeneratorDatasetOp::Dataset will not be optimized because the dataset does not implement the AsGraphDefInternal() method needed to apply optimizations.\n"
          ]
        },
        {
          "name": "stdout",
          "output_type": "stream",
          "text": [
            "15/15 [==============================] - 68s 5s/step - det_loss: 0.4459 - cls_loss: 0.2174 - box_loss: 0.0046 - reg_l2_loss: 0.0793 - loss: 0.5252 - learning_rate: 4.1214e-04 - gradient_norm: 2.7036 - val_det_loss: 0.4703 - val_cls_loss: 0.2177 - val_box_loss: 0.0051 - val_reg_l2_loss: 0.0793 - val_loss: 0.5496\n",
            "Epoch 89/100\n",
            "15/15 [==============================] - ETA: 0s - det_loss: 0.4239 - cls_loss: 0.2041 - box_loss: 0.0044 - reg_l2_loss: 0.0793 - loss: 0.5032 - learning_rate: 3.4616e-04 - gradient_norm: 2.5272"
          ]
        },
        {
          "name": "stderr",
          "output_type": "stream",
          "text": [
            "2023-09-05 09:56:59.145941: W tensorflow/core/framework/dataset.cc:768] Input of GeneratorDatasetOp::Dataset will not be optimized because the dataset does not implement the AsGraphDefInternal() method needed to apply optimizations.\n"
          ]
        },
        {
          "name": "stdout",
          "output_type": "stream",
          "text": [
            "15/15 [==============================] - 68s 5s/step - det_loss: 0.4225 - cls_loss: 0.2032 - box_loss: 0.0044 - reg_l2_loss: 0.0793 - loss: 0.5018 - learning_rate: 3.4428e-04 - gradient_norm: 2.4933 - val_det_loss: 0.4684 - val_cls_loss: 0.2172 - val_box_loss: 0.0050 - val_reg_l2_loss: 0.0793 - val_loss: 0.5477\n",
            "Epoch 90/100\n",
            "15/15 [==============================] - ETA: 0s - det_loss: 0.3859 - cls_loss: 0.1996 - box_loss: 0.0037 - reg_l2_loss: 0.0793 - loss: 0.4652 - learning_rate: 2.8408e-04 - gradient_norm: 2.4856"
          ]
        },
        {
          "name": "stderr",
          "output_type": "stream",
          "text": [
            "2023-09-05 09:58:06.616077: W tensorflow/core/framework/dataset.cc:768] Input of GeneratorDatasetOp::Dataset will not be optimized because the dataset does not implement the AsGraphDefInternal() method needed to apply optimizations.\n"
          ]
        },
        {
          "name": "stdout",
          "output_type": "stream",
          "text": [
            "15/15 [==============================] - 73s 5s/step - det_loss: 0.3848 - cls_loss: 0.2006 - box_loss: 0.0037 - reg_l2_loss: 0.0793 - loss: 0.4641 - learning_rate: 2.8238e-04 - gradient_norm: 2.4558 - val_det_loss: 0.4706 - val_cls_loss: 0.2168 - val_box_loss: 0.0051 - val_reg_l2_loss: 0.0793 - val_loss: 0.5499\n",
            "Epoch 91/100\n",
            "15/15 [==============================] - ETA: 0s - det_loss: 0.4466 - cls_loss: 0.2225 - box_loss: 0.0045 - reg_l2_loss: 0.0793 - loss: 0.5259 - learning_rate: 2.2800e-04 - gradient_norm: 2.5534"
          ]
        },
        {
          "name": "stderr",
          "output_type": "stream",
          "text": [
            "2023-09-05 09:59:20.114090: W tensorflow/core/framework/dataset.cc:768] Input of GeneratorDatasetOp::Dataset will not be optimized because the dataset does not implement the AsGraphDefInternal() method needed to apply optimizations.\n"
          ]
        },
        {
          "name": "stdout",
          "output_type": "stream",
          "text": [
            "15/15 [==============================] - 68s 5s/step - det_loss: 0.4434 - cls_loss: 0.2211 - box_loss: 0.0044 - reg_l2_loss: 0.0793 - loss: 0.5227 - learning_rate: 2.2648e-04 - gradient_norm: 2.5380 - val_det_loss: 0.4742 - val_cls_loss: 0.2188 - val_box_loss: 0.0051 - val_reg_l2_loss: 0.0793 - val_loss: 0.5535\n",
            "Epoch 92/100\n",
            "15/15 [==============================] - ETA: 0s - det_loss: 0.4488 - cls_loss: 0.2165 - box_loss: 0.0046 - reg_l2_loss: 0.0793 - loss: 0.5281 - learning_rate: 1.7799e-04 - gradient_norm: 2.6788"
          ]
        },
        {
          "name": "stderr",
          "output_type": "stream",
          "text": [
            "2023-09-05 10:00:27.577665: W tensorflow/core/framework/dataset.cc:768] Input of GeneratorDatasetOp::Dataset will not be optimized because the dataset does not implement the AsGraphDefInternal() method needed to apply optimizations.\n"
          ]
        },
        {
          "name": "stdout",
          "output_type": "stream",
          "text": [
            "15/15 [==============================] - 67s 5s/step - det_loss: 0.4486 - cls_loss: 0.2144 - box_loss: 0.0047 - reg_l2_loss: 0.0793 - loss: 0.5279 - learning_rate: 1.7665e-04 - gradient_norm: 2.6918 - val_det_loss: 0.4718 - val_cls_loss: 0.2170 - val_box_loss: 0.0051 - val_reg_l2_loss: 0.0793 - val_loss: 0.5511\n",
            "Epoch 93/100\n",
            "15/15 [==============================] - ETA: 0s - det_loss: 0.4524 - cls_loss: 0.2253 - box_loss: 0.0045 - reg_l2_loss: 0.0793 - loss: 0.5317 - learning_rate: 1.3410e-04 - gradient_norm: 2.7883"
          ]
        },
        {
          "name": "stderr",
          "output_type": "stream",
          "text": [
            "2023-09-05 10:01:35.122160: W tensorflow/core/framework/dataset.cc:768] Input of GeneratorDatasetOp::Dataset will not be optimized because the dataset does not implement the AsGraphDefInternal() method needed to apply optimizations.\n"
          ]
        },
        {
          "name": "stdout",
          "output_type": "stream",
          "text": [
            "15/15 [==============================] - 68s 5s/step - det_loss: 0.4376 - cls_loss: 0.2201 - box_loss: 0.0044 - reg_l2_loss: 0.0793 - loss: 0.5169 - learning_rate: 1.3293e-04 - gradient_norm: 2.7205 - val_det_loss: 0.4687 - val_cls_loss: 0.2158 - val_box_loss: 0.0051 - val_reg_l2_loss: 0.0793 - val_loss: 0.5480\n",
            "Epoch 94/100\n",
            "15/15 [==============================] - ETA: 0s - det_loss: 0.4848 - cls_loss: 0.2214 - box_loss: 0.0053 - reg_l2_loss: 0.0793 - loss: 0.5641 - learning_rate: 9.6360e-05 - gradient_norm: 2.8488"
          ]
        },
        {
          "name": "stderr",
          "output_type": "stream",
          "text": [
            "2023-09-05 10:02:42.996549: W tensorflow/core/framework/dataset.cc:768] Input of GeneratorDatasetOp::Dataset will not be optimized because the dataset does not implement the AsGraphDefInternal() method needed to apply optimizations.\n"
          ]
        },
        {
          "name": "stdout",
          "output_type": "stream",
          "text": [
            "15/15 [==============================] - 68s 5s/step - det_loss: 0.4789 - cls_loss: 0.2184 - box_loss: 0.0052 - reg_l2_loss: 0.0793 - loss: 0.5582 - learning_rate: 9.5375e-05 - gradient_norm: 2.7688 - val_det_loss: 0.4663 - val_cls_loss: 0.2156 - val_box_loss: 0.0050 - val_reg_l2_loss: 0.0793 - val_loss: 0.5456\n",
            "Epoch 95/100\n",
            "15/15 [==============================] - ETA: 0s - det_loss: 0.4907 - cls_loss: 0.2230 - box_loss: 0.0054 - reg_l2_loss: 0.0793 - loss: 0.5700 - learning_rate: 6.4819e-05 - gradient_norm: 2.5645"
          ]
        },
        {
          "name": "stderr",
          "output_type": "stream",
          "text": [
            "2023-09-05 10:03:51.213558: W tensorflow/core/framework/dataset.cc:768] Input of GeneratorDatasetOp::Dataset will not be optimized because the dataset does not implement the AsGraphDefInternal() method needed to apply optimizations.\n"
          ]
        },
        {
          "name": "stdout",
          "output_type": "stream",
          "text": [
            "15/15 [==============================] - 73s 5s/step - det_loss: 0.4824 - cls_loss: 0.2210 - box_loss: 0.0052 - reg_l2_loss: 0.0793 - loss: 0.5617 - learning_rate: 6.4016e-05 - gradient_norm: 2.5103 - val_det_loss: 0.4663 - val_cls_loss: 0.2153 - val_box_loss: 0.0050 - val_reg_l2_loss: 0.0793 - val_loss: 0.5456\n",
            "Epoch 96/100\n",
            "15/15 [==============================] - ETA: 0s - det_loss: 0.4867 - cls_loss: 0.2234 - box_loss: 0.0053 - reg_l2_loss: 0.0793 - loss: 0.5660 - learning_rate: 3.9505e-05 - gradient_norm: 2.9913"
          ]
        },
        {
          "name": "stderr",
          "output_type": "stream",
          "text": [
            "2023-09-05 10:05:03.463955: W tensorflow/core/framework/dataset.cc:768] Input of GeneratorDatasetOp::Dataset will not be optimized because the dataset does not implement the AsGraphDefInternal() method needed to apply optimizations.\n"
          ]
        },
        {
          "name": "stdout",
          "output_type": "stream",
          "text": [
            "15/15 [==============================] - 67s 5s/step - det_loss: 0.4712 - cls_loss: 0.2174 - box_loss: 0.0051 - reg_l2_loss: 0.0793 - loss: 0.5505 - learning_rate: 3.8884e-05 - gradient_norm: 2.9040 - val_det_loss: 0.4646 - val_cls_loss: 0.2145 - val_box_loss: 0.0050 - val_reg_l2_loss: 0.0793 - val_loss: 0.5439\n",
            "Epoch 97/100\n",
            "15/15 [==============================] - ETA: 0s - det_loss: 0.4268 - cls_loss: 0.2163 - box_loss: 0.0042 - reg_l2_loss: 0.0793 - loss: 0.5061 - learning_rate: 2.0445e-05 - gradient_norm: 2.4108"
          ]
        },
        {
          "name": "stderr",
          "output_type": "stream",
          "text": [
            "2023-09-05 10:06:10.927812: W tensorflow/core/framework/dataset.cc:768] Input of GeneratorDatasetOp::Dataset will not be optimized because the dataset does not implement the AsGraphDefInternal() method needed to apply optimizations.\n"
          ]
        },
        {
          "name": "stdout",
          "output_type": "stream",
          "text": [
            "15/15 [==============================] - 67s 5s/step - det_loss: 0.4254 - cls_loss: 0.2150 - box_loss: 0.0042 - reg_l2_loss: 0.0793 - loss: 0.5047 - learning_rate: 2.0007e-05 - gradient_norm: 2.3876 - val_det_loss: 0.4639 - val_cls_loss: 0.2138 - val_box_loss: 0.0050 - val_reg_l2_loss: 0.0793 - val_loss: 0.5432\n",
            "Epoch 98/100\n",
            "15/15 [==============================] - ETA: 0s - det_loss: 0.4329 - cls_loss: 0.2066 - box_loss: 0.0045 - reg_l2_loss: 0.0793 - loss: 0.5122 - learning_rate: 7.6579e-06 - gradient_norm: 2.3779"
          ]
        },
        {
          "name": "stderr",
          "output_type": "stream",
          "text": [
            "2023-09-05 10:07:18.136043: W tensorflow/core/framework/dataset.cc:768] Input of GeneratorDatasetOp::Dataset will not be optimized because the dataset does not implement the AsGraphDefInternal() method needed to apply optimizations.\n"
          ]
        },
        {
          "name": "stdout",
          "output_type": "stream",
          "text": [
            "15/15 [==============================] - 68s 5s/step - det_loss: 0.4259 - cls_loss: 0.2047 - box_loss: 0.0044 - reg_l2_loss: 0.0793 - loss: 0.5052 - learning_rate: 7.4030e-06 - gradient_norm: 2.3495 - val_det_loss: 0.4637 - val_cls_loss: 0.2133 - val_box_loss: 0.0050 - val_reg_l2_loss: 0.0793 - val_loss: 0.5430\n",
            "Epoch 99/100\n",
            "15/15 [==============================] - ETA: 0s - det_loss: 0.5189 - cls_loss: 0.2265 - box_loss: 0.0058 - reg_l2_loss: 0.0793 - loss: 0.5982 - learning_rate: 1.1562e-06 - gradient_norm: 2.8804"
          ]
        },
        {
          "name": "stderr",
          "output_type": "stream",
          "text": [
            "2023-09-05 10:08:27.696407: W tensorflow/core/framework/dataset.cc:768] Input of GeneratorDatasetOp::Dataset will not be optimized because the dataset does not implement the AsGraphDefInternal() method needed to apply optimizations.\n"
          ]
        },
        {
          "name": "stdout",
          "output_type": "stream",
          "text": [
            "15/15 [==============================] - 69s 5s/step - det_loss: 0.5175 - cls_loss: 0.2258 - box_loss: 0.0058 - reg_l2_loss: 0.0793 - loss: 0.5968 - learning_rate: 1.0848e-06 - gradient_norm: 2.9367 - val_det_loss: 0.4628 - val_cls_loss: 0.2131 - val_box_loss: 0.0050 - val_reg_l2_loss: 0.0793 - val_loss: 0.5421\n",
            "Epoch 100/100\n",
            "15/15 [==============================] - ETA: 0s - det_loss: 0.5097 - cls_loss: 0.2249 - box_loss: 0.0057 - reg_l2_loss: 0.0793 - loss: 0.5890 - learning_rate: 9.4642e-07 - gradient_norm: 2.9260"
          ]
        },
        {
          "name": "stderr",
          "output_type": "stream",
          "text": [
            "2023-09-05 10:09:35.524458: W tensorflow/core/framework/dataset.cc:768] Input of GeneratorDatasetOp::Dataset will not be optimized because the dataset does not implement the AsGraphDefInternal() method needed to apply optimizations.\n"
          ]
        },
        {
          "name": "stdout",
          "output_type": "stream",
          "text": [
            "15/15 [==============================] - 72s 5s/step - det_loss: 0.5077 - cls_loss: 0.2229 - box_loss: 0.0057 - reg_l2_loss: 0.0793 - loss: 0.5870 - learning_rate: 1.0586e-06 - gradient_norm: 2.9195 - val_det_loss: 0.4634 - val_cls_loss: 0.2132 - val_box_loss: 0.0050 - val_reg_l2_loss: 0.0793 - val_loss: 0.5427\n"
          ]
        }
      ],
      "source": [
        "model = object_detector.create(train_data=train_data,\n",
        "                               model_spec=spec,\n",
        "                               validation_data=validation_data,\n",
        "                               epochs=100,\n",
        "                               batch_size=10,\n",
        "                               train_whole_model=True)"
      ]
    },
    {
      "cell_type": "code",
      "execution_count": null,
      "metadata": {},
      "outputs": [],
      "source": []
    },
    {
      "cell_type": "markdown",
      "metadata": {
        "id": "3n5-o3vvGfnJ"
      },
      "source": [
        "## Evaluate the model"
      ]
    },
    {
      "cell_type": "markdown",
      "metadata": {
        "id": "-BzCHLWJ6h7q"
      },
      "source": [
        "Now we'll use the test dataset to evaluate how well the model performs with data it has never seen before.\n",
        "\n",
        "The [`evaluate()`](https://www.tensorflow.org/lite/api_docs/python/tflite_model_maker/object_detector/ObjectDetector#evaluate) method provides output in the style of [COCO evaluation metrics](https://cocodataset.org/#detection-eval):"
      ]
    },
    {
      "cell_type": "code",
      "execution_count": 12,
      "metadata": {
        "id": "8xmnl6Yy7ARn"
      },
      "outputs": [
        {
          "name": "stderr",
          "output_type": "stream",
          "text": [
            "2023-09-05 10:09:50.988172: W tensorflow/core/framework/cpu_allocator_impl.cc:82] Allocation of 963379200 exceeds 10% of free system memory.\n"
          ]
        },
        {
          "name": "stdout",
          "output_type": "stream",
          "text": [
            "1/1 [==============================] - 9s 9s/step\n",
            "\n"
          ]
        },
        {
          "data": {
            "text/plain": [
              "{'AP': 0.17196332,\n",
              " 'AP50': 0.48118013,\n",
              " 'AP75': 0.12541772,\n",
              " 'APs': 0.13887681,\n",
              " 'APm': 0.5308576,\n",
              " 'APl': -1.0,\n",
              " 'ARmax1': 0.114074074,\n",
              " 'ARmax10': 0.32074073,\n",
              " 'ARmax100': 0.40888888,\n",
              " 'ARs': 0.3873016,\n",
              " 'ARm': 0.7111111,\n",
              " 'ARl': -1.0,\n",
              " 'AP_/ym': 0.17196332}"
            ]
          },
          "execution_count": 12,
          "metadata": {},
          "output_type": "execute_result"
        }
      ],
      "source": [
        "model.evaluate(test_data)"
      ]
    },
    {
      "cell_type": "markdown",
      "metadata": {
        "id": "PEon9xd2BDS_"
      },
      "source": [
        "Because the default batch size for [EfficientDetLite models](https://www.tensorflow.org/lite/api_docs/python/tflite_model_maker/object_detector/EfficientDetSpec) is 64, this needs only 1 step to go through all 25 images in the salad test set. You can also specify the `batch_size` argument when you call [`evaluate()`](https://www.tensorflow.org/lite/api_docs/python/tflite_model_maker/object_detector/ObjectDetector#evaluate)."
      ]
    },
    {
      "cell_type": "markdown",
      "metadata": {
        "id": "_yB_XMpqGlLs"
      },
      "source": [
        "## Export to TensorFlow Lite"
      ]
    },
    {
      "cell_type": "markdown",
      "metadata": {
        "id": "CgCDMe0e6jlT"
      },
      "source": [
        "Next, we'll export the model to the TensorFlow Lite format. By default, the [`export()`](https://www.tensorflow.org/lite/api_docs/python/tflite_model_maker/object_detector/ObjectDetector#export) method performs [full integer post-training quantization](https://www.tensorflow.org/lite/performance/post_training_quantization#full_integer_quantization), which is exactly what we need for compatibility with the Edge TPU. (Model Maker uses the same dataset we gave to our model spec as a representative dataset, which is required for full-int quantization.)\n",
        "\n",
        "We just need to specify the export directory and format. By default, it exports to TF Lite, but we also want a labels file, so we declare both:"
      ]
    },
    {
      "cell_type": "code",
      "execution_count": 13,
      "metadata": {
        "id": "2Cu9cxX5Qu-e"
      },
      "outputs": [],
      "source": [
        "TFLITE_FILENAME = 'efficientdet2.tflite'\n",
        "LABELS_FILENAME = 'labels.txt'"
      ]
    },
    {
      "cell_type": "code",
      "execution_count": 14,
      "metadata": {
        "id": "rKd6qk7TbxYO"
      },
      "outputs": [
        {
          "name": "stderr",
          "output_type": "stream",
          "text": [
            "2023-09-05 10:09:57.285050: W tensorflow/python/util/util.cc:368] Sets are not currently considered sequences, but this may change in the future, so consider avoiding using them.\n",
            "2023-09-05 10:10:21.449597: W tensorflow/core/common_runtime/graph_constructor.cc:803] Node 'resample_p7/PartitionedCall' has 1 outputs but the _output_shapes attribute specifies shapes for 3 outputs. Output shapes may be inaccurate.\n"
          ]
        },
        {
          "name": "stdout",
          "output_type": "stream",
          "text": [
            "Estimated count of arithmetic ops: 6.066 G  ops, equivalently 3.033 G  MACs\n"
          ]
        },
        {
          "name": "stderr",
          "output_type": "stream",
          "text": [
            "2023-09-05 10:10:28.264809: W tensorflow/compiler/mlir/lite/python/tf_tfl_flatbuffer_helpers.cc:357] Ignored output_format.\n",
            "2023-09-05 10:10:28.264851: W tensorflow/compiler/mlir/lite/python/tf_tfl_flatbuffer_helpers.cc:360] Ignored drop_control_dependency.\n",
            "2023-09-05 10:10:28.281633: I tensorflow/cc/saved_model/reader.cc:43] Reading SavedModel from: /tmp/tmpomf89wp7\n",
            "2023-09-05 10:10:28.391830: I tensorflow/cc/saved_model/reader.cc:78] Reading meta graph with tags { serve }\n",
            "2023-09-05 10:10:28.391878: I tensorflow/cc/saved_model/reader.cc:119] Reading SavedModel debug info (if present) from: /tmp/tmpomf89wp7\n",
            "2023-09-05 10:10:28.720003: I tensorflow/cc/saved_model/loader.cc:228] Restoring SavedModel bundle.\n",
            "2023-09-05 10:10:30.620698: I tensorflow/cc/saved_model/loader.cc:212] Running initialization op on SavedModel bundle at path: /tmp/tmpomf89wp7\n",
            "2023-09-05 10:10:31.416548: I tensorflow/cc/saved_model/loader.cc:301] SavedModel load for tags { serve }; Status: success: OK. Took 3134919 microseconds.\n",
            "2023-09-05 10:10:33.240387: I tensorflow/compiler/mlir/tensorflow/utils/dump_mlir_util.cc:237] disabling MLIR crash reproducer, set env var `MLIR_CRASH_REPRODUCER_DIRECTORY` to enable.\n",
            "2023-09-05 10:10:35.527490: I tensorflow/compiler/mlir/lite/flatbuffer_export.cc:1963] Estimated count of arithmetic ops: 6.066 G  ops, equivalently 3.033 G  MACs\n",
            "\n"
          ]
        },
        {
          "name": "stdout",
          "output_type": "stream",
          "text": [
            "Estimated count of arithmetic ops: 6.066 G  ops, equivalently 3.033 G  MACs\n"
          ]
        },
        {
          "name": "stderr",
          "output_type": "stream",
          "text": [
            "fully_quantize: 0, inference_type: 6, input_inference_type: 3, output_inference_type: 0\n",
            "2023-09-05 10:12:01.833649: I tensorflow/compiler/mlir/lite/flatbuffer_export.cc:1963] Estimated count of arithmetic ops: 6.066 G  ops, equivalently 3.033 G  MACs\n",
            "\n"
          ]
        }
      ],
      "source": [
        "model.export(export_dir='.', tflite_filename=TFLITE_FILENAME, label_filename=LABELS_FILENAME,\n",
        "             export_format=[ExportFormat.TFLITE, ExportFormat.LABEL])"
      ]
    },
    {
      "cell_type": "markdown",
      "metadata": {
        "id": "b94hZ-exOCRB"
      },
      "source": [
        "### Evaluate the TF Lite model"
      ]
    },
    {
      "cell_type": "markdown",
      "metadata": {
        "id": "ZQpahAIBqBPp"
      },
      "source": [
        "Exporting the model to TensorFlow Lite can affect the model accuracy, due to the reduced numerical precision from quantization and because the original TensorFlow model uses per-class [non-max supression (NMS)](https://www.coursera.org/lecture/convolutional-neural-networks/non-max-suppression-dvrjH) for post-processing, while the TF Lite model uses global NMS, which is faster but less accurate.\n",
        "\n",
        "Therefore you should always evaluate the exported TF Lite model and be sure it still meets your requirements:"
      ]
    },
    {
      "cell_type": "code",
      "execution_count": null,
      "metadata": {
        "id": "RS3Ell_lqH4e"
      },
      "outputs": [],
      "source": [
        "model.evaluate_tflite(TFLITE_FILENAME, test_data)"
      ]
    },
    {
      "cell_type": "markdown",
      "metadata": {
        "id": "Ph88z7PdOeX7"
      },
      "source": [
        "### Try the TFLite model"
      ]
    },
    {
      "cell_type": "markdown",
      "metadata": {
        "id": "me6_RwPZqNhX"
      },
      "source": [
        "Just to be sure of things, let's run the model ourselves with an image from the test set."
      ]
    },
    {
      "cell_type": "code",
      "execution_count": null,
      "metadata": {
        "id": "eag7jTOASGFW"
      },
      "outputs": [],
      "source": [
        "import random\n",
        "\n",
        "# If you're using a custom dataset, we take a random image from the test set:\n",
        "if use_custom_dataset:\n",
        "  images_path = test_images_dir if dataset_is_split else os.path.join(test_dir, \"images\")\n",
        "  filenames = os.listdir(os.path.join(images_path))\n",
        "  random_index = random.randint(0,len(filenames)-1)\n",
        "  INPUT_IMAGE = os.path.join(images_path, filenames[random_index])\n",
        "else:\n",
        "  # Download a test salad image\n",
        "  INPUT_IMAGE = 'salad-test.jpg'\n",
        "  DOWNLOAD_URL = \"https://storage.googleapis.com/cloud-ml-data/img/openimage/3/2520/3916261642_0a504acd60_o.jpg\"\n",
        "  !wget -q -O $INPUT_IMAGE $DOWNLOAD_URL"
      ]
    },
    {
      "cell_type": "markdown",
      "metadata": {
        "id": "ZBecI78ZaxsO"
      },
      "source": [
        "To simplify our code, we'll use the [PyCoral API](https://coral.ai/docs/reference/py/):"
      ]
    },
    {
      "cell_type": "code",
      "execution_count": null,
      "metadata": {
        "id": "TmgtGBqua1N3"
      },
      "outputs": [],
      "source": [
        "! python3 -m pip install --extra-index-url https://google-coral.github.io/py-repo/ pycoral"
      ]
    },
    {
      "cell_type": "code",
      "execution_count": null,
      "metadata": {
        "id": "GkXtipXKqXp4"
      },
      "outputs": [],
      "source": [
        "from PIL import Image\n",
        "from PIL import ImageDraw\n",
        "from PIL import ImageFont\n",
        "\n",
        "import tflite_runtime.interpreter as tflite\n",
        "from pycoral.adapters import common\n",
        "from pycoral.adapters import detect\n",
        "from pycoral.utils.dataset import read_label_file\n",
        "\n",
        "def draw_objects(draw, objs, scale_factor, labels):\n",
        "  \"\"\"Draws the bounding box and label for each object.\"\"\"\n",
        "  COLORS = np.random.randint(0, 255, size=(len(labels), 3), dtype=np.uint8)\n",
        "  for obj in objs:\n",
        "    bbox = obj.bbox\n",
        "    color = tuple(int(c) for c in COLORS[obj.id])\n",
        "    draw.rectangle([(bbox.xmin * scale_factor, bbox.ymin * scale_factor),\n",
        "                    (bbox.xmax * scale_factor, bbox.ymax * scale_factor)],\n",
        "                   outline=color, width=3)\n",
        "    font = ImageFont.truetype(\"LiberationSans-Regular.ttf\", size=15)\n",
        "    draw.text((bbox.xmin * scale_factor + 4, bbox.ymin * scale_factor + 4),\n",
        "              '%s\\n%.2f' % (labels.get(obj.id, obj.id), obj.score),\n",
        "              fill=color, font=font)\n",
        "\n",
        "# Load the TF Lite model\n",
        "labels = read_label_file(LABELS_FILENAME)\n",
        "interpreter = tflite.Interpreter(TFLITE_FILENAME)\n",
        "interpreter.allocate_tensors()\n",
        "\n",
        "# Resize the image for input\n",
        "image = Image.open(INPUT_IMAGE)\n",
        "_, scale = common.set_resized_input(\n",
        "    interpreter, image.size, lambda size: image.resize(size, Image.ANTIALIAS))\n",
        "\n",
        "# Run inference\n",
        "interpreter.invoke()\n",
        "objs = detect.get_objects(interpreter, score_threshold=0.4, image_scale=scale)\n",
        "\n",
        "# Resize again to a reasonable size for display\n",
        "display_width = 500\n",
        "scale_factor = display_width / image.width\n",
        "height_ratio = image.height / image.width\n",
        "image = image.resize((display_width, int(display_width * height_ratio)))\n",
        "draw_objects(ImageDraw.Draw(image), objs, scale_factor, labels)\n",
        "image"
      ]
    },
    {
      "cell_type": "markdown",
      "metadata": {
        "id": "oxgWQyYOqZha"
      },
      "source": [
        "## Compile for the Edge TPU\n"
      ]
    },
    {
      "cell_type": "markdown",
      "metadata": {
        "id": "A0QLiwCj9Pw6"
      },
      "source": [
        "First we need to download the Edge TPU Compiler:"
      ]
    },
    {
      "cell_type": "code",
      "execution_count": null,
      "metadata": {
        "id": "Oy3QIn_YqaRP"
      },
      "outputs": [],
      "source": [
        "! curl https://packages.cloud.google.com/apt/doc/apt-key.gpg | sudo apt-key add -\n",
        "\n",
        "! echo \"deb https://packages.cloud.google.com/apt coral-edgetpu-stable main\" | sudo tee /etc/apt/sources.list.d/coral-edgetpu.list\n",
        "\n",
        "! sudo apt-get update\n",
        "\n",
        "! sudo apt-get install edgetpu-compiler"
      ]
    },
    {
      "cell_type": "markdown",
      "metadata": {
        "id": "qRWewhqFqeL_"
      },
      "source": [
        "Before compiling the `.tflite` file for the Edge TPU, it's important to consider whether your model will fit into the Edge TPU memory.\n",
        "\n",
        "The Edge TPU has approximately 8 MB of SRAM for [caching model paramaters](https://coral.ai/docs/edgetpu/compiler/#parameter-data-caching), so any model close to or over 8 MB will not fit onto the Edge TPU memory. That means the inference times are longer, because some model parameters must be fetched from the host system memory.\n",
        "\n",
        "One way to elimiate the extra latency is to use [model pipelining](https://coral.ai/docs/edgetpu/pipeline/), which splits the model into segments that can run on separate Edge TPUs in series. This can significantly reduce the latency for big models.\n",
        "\n",
        "The following table provides recommendations for the number of Edge TPUs to use with each EfficientDet-Lite model.\n",
        "\n",
        "| Model architecture | Minimum TPUs | Recommended TPUs\n",
        "|--------------------|-------|-------|\n",
        "| EfficientDet-Lite0 | 1     | 1     |\n",
        "| EfficientDet-Lite1 | 1     | 1     |\n",
        "| EfficientDet-Lite2 | 1     | 2     |\n",
        "| EfficientDet-Lite3 | 2     | 2     |\n",
        "| EfficientDet-Lite4 | 2     | 3     |\n",
        "\n",
        "If you need extra Edge TPUs for your model, then update `NUMBER_OF_TPUS` here:"
      ]
    },
    {
      "cell_type": "code",
      "execution_count": null,
      "metadata": {
        "id": "LZdonJGCqieU"
      },
      "outputs": [],
      "source": [
        "NUMBER_OF_TPUS =  1\n",
        "\n",
        "!edgetpu_compiler $TFLITE_FILENAME -d --num_segments=$NUMBER_OF_TPUS"
      ]
    },
    {
      "cell_type": "markdown",
      "metadata": {
        "id": "O2CjkduY02DF"
      },
      "source": [
        "**Beware when using multiple segments:** The Edge TPU Comiler divides the model such that all segments have roughly equal amounts of parameter data, but that does not mean all segments have the same latency. Especially when dividing an SSD model such as EfficientDet, this results in a latency-imbalance between segments, because SSD models have a large post-processing op that actually executes on the CPU, not on the Edge TPU. So although segmenting your model this way is better than running the whole model on just one Edge TPU, we recommend that you segment the EfficientDet-Lite model using our [profiling-based partitioner tool](https://github.com/google-coral/libcoral/tree/master/coral/tools/partitioner#profiling-based-partitioner-for-the-edge-tpu-compiler), which measures each segment's latency on the Edge TPU and then iteratively adjusts the segmentation sizes to provide balanced latency between all segments."
      ]
    },
    {
      "cell_type": "markdown",
      "metadata": {
        "id": "KyBBvyqx0XRn"
      },
      "source": [
        "## Download the files"
      ]
    },
    {
      "cell_type": "code",
      "execution_count": null,
      "metadata": {
        "id": "M43URVgg0ZcB"
      },
      "outputs": [],
      "source": [
        "from google.colab import files\n",
        "\n",
        "files.download(TFLITE_FILENAME)\n",
        "files.download(TFLITE_FILENAME.replace('.tflite', '_edgetpu.tflite'))\n",
        "files.download(LABELS_FILENAME)"
      ]
    },
    {
      "cell_type": "markdown",
      "metadata": {
        "id": "8fYwl4Rt8myF"
      },
      "source": [
        "## Run the model on the Edge TPU"
      ]
    },
    {
      "cell_type": "markdown",
      "metadata": {
        "id": "Dv2Ingvx8pcI"
      },
      "source": [
        "You can now run the model with acceleration on the Edge TPU.\n",
        "\n",
        "First, download an image of a salad on your device with an Edge TPU. For example, you can use the same one we tested above:\n",
        "\n",
        "```\n",
        "wget https://storage.googleapis.com/cloud-ml-data/img/openimage/3/2520/3916261642_0a504acd60_o.jpg -O salad.jpg\n",
        "```\n",
        "\n",
        "And then make sure you have [installed the PyCoral API](https://coral.ai/software/#pycoral-api).\n",
        "\n",
        "Now run an inference using [this example code for the PyCoral API](https://github.com/google-coral/pycoral/blob/master/examples/detect_image.py). Just clone the GitHub repo and run the example, passing it the model files from this tutorial:\n",
        "\n",
        "```\n",
        "git clone https://github.com/google-coral/pycoral\n",
        "\n",
        "cd pycoral/examples/\n",
        "\n",
        "python3 detect_image.py \\\n",
        "  --model efficientdet-lite-salads_edgetpu.tflite \\\n",
        "  --labels salad-labels.txt \\\n",
        "  --input salad.jpg \\\n",
        "  --output salad_result.jpg\n",
        "```\n"
      ]
    },
    {
      "cell_type": "markdown",
      "metadata": {
        "id": "HS4u77W5gnzQ"
      },
      "source": [
        "## More resources\n",
        "\n",
        "* For more information about the Model Maker library used in this tutorial, see the [TensorFlow Lite Model Maker guide](https://www.tensorflow.org/lite/guide/model_maker) and [API reference](https://www.tensorflow.org/lite/api_docs/python/tflite_model_maker).\n",
        "\n",
        "* For other transfer learning tutorials that are compatible with the Edge TPU, see the [Colab tutorials for Coral](https://github.com/google-coral/tutorials#colab-tutorials-for-coral).\n",
        "\n",
        "* You can also find more examples that show how to run inference on the Edge TPU at [coral.ai/examples](https://coral.ai/examples/#code-examples/)."
      ]
    }
  ],
  "metadata": {
    "accelerator": "GPU",
    "colab": {
      "collapsed_sections": [
        "license"
      ],
      "name": "Retrain EfficientDet-Lite detector for the Edge TPU (TF2)",
      "private_outputs": true,
      "provenance": []
    },
    "kernelspec": {
      "display_name": "Python 3",
      "name": "python3"
    },
    "language_info": {
      "codemirror_mode": {
        "name": "ipython",
        "version": 3
      },
      "file_extension": ".py",
      "mimetype": "text/x-python",
      "name": "python",
      "nbconvert_exporter": "python",
      "pygments_lexer": "ipython3",
      "version": "3.9.17"
    }
  },
  "nbformat": 4,
  "nbformat_minor": 0
}
